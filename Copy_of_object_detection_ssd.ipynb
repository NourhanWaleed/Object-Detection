{
  "nbformat": 4,
  "nbformat_minor": 0,
  "metadata": {
    "colab": {
      "provenance": []
    },
    "kernelspec": {
      "name": "python3",
      "display_name": "Python 3"
    },
    "language_info": {
      "name": "python"
    },
    "accelerator": "GPU",
    "gpuClass": "standard",
    "widgets": {
      "application/vnd.jupyter.widget-state+json": {
        "6975b9359f664d0aab3a1fc2a39dddf6": {
          "model_module": "@jupyter-widgets/controls",
          "model_name": "HBoxModel",
          "model_module_version": "1.5.0",
          "state": {
            "_dom_classes": [],
            "_model_module": "@jupyter-widgets/controls",
            "_model_module_version": "1.5.0",
            "_model_name": "HBoxModel",
            "_view_count": null,
            "_view_module": "@jupyter-widgets/controls",
            "_view_module_version": "1.5.0",
            "_view_name": "HBoxView",
            "box_style": "",
            "children": [
              "IPY_MODEL_0608e9b0e8694253b5e7252b0f5fbdf6",
              "IPY_MODEL_8216cc1792624dd099b2d32838d6d4a7",
              "IPY_MODEL_7910de82c5574b0f9ebeb0d2659e77af"
            ],
            "layout": "IPY_MODEL_bae053080a5846dd87ea963a7043dbce"
          }
        },
        "0608e9b0e8694253b5e7252b0f5fbdf6": {
          "model_module": "@jupyter-widgets/controls",
          "model_name": "HTMLModel",
          "model_module_version": "1.5.0",
          "state": {
            "_dom_classes": [],
            "_model_module": "@jupyter-widgets/controls",
            "_model_module_version": "1.5.0",
            "_model_name": "HTMLModel",
            "_view_count": null,
            "_view_module": "@jupyter-widgets/controls",
            "_view_module_version": "1.5.0",
            "_view_name": "HTMLView",
            "description": "",
            "description_tooltip": null,
            "layout": "IPY_MODEL_20ba00b06f5c48d39d95892109131311",
            "placeholder": "​",
            "style": "IPY_MODEL_1bc89afacf3440c5bb622fff7df8064b",
            "value": "100%"
          }
        },
        "8216cc1792624dd099b2d32838d6d4a7": {
          "model_module": "@jupyter-widgets/controls",
          "model_name": "FloatProgressModel",
          "model_module_version": "1.5.0",
          "state": {
            "_dom_classes": [],
            "_model_module": "@jupyter-widgets/controls",
            "_model_module_version": "1.5.0",
            "_model_name": "FloatProgressModel",
            "_view_count": null,
            "_view_module": "@jupyter-widgets/controls",
            "_view_module_version": "1.5.0",
            "_view_name": "ProgressView",
            "bar_style": "success",
            "description": "",
            "description_tooltip": null,
            "layout": "IPY_MODEL_9072bbe748e44ce599ad7108ab399d03",
            "max": 14069355,
            "min": 0,
            "orientation": "horizontal",
            "style": "IPY_MODEL_e135eb1073844ba8af7b25f755c8cea0",
            "value": 14069355
          }
        },
        "7910de82c5574b0f9ebeb0d2659e77af": {
          "model_module": "@jupyter-widgets/controls",
          "model_name": "HTMLModel",
          "model_module_version": "1.5.0",
          "state": {
            "_dom_classes": [],
            "_model_module": "@jupyter-widgets/controls",
            "_model_module_version": "1.5.0",
            "_model_name": "HTMLModel",
            "_view_count": null,
            "_view_module": "@jupyter-widgets/controls",
            "_view_module_version": "1.5.0",
            "_view_name": "HTMLView",
            "description": "",
            "description_tooltip": null,
            "layout": "IPY_MODEL_325707ea2bc34a2492df06e60b475c31",
            "placeholder": "​",
            "style": "IPY_MODEL_1567133f6d4542729541c08fbb9c03e1",
            "value": " 13.4M/13.4M [00:00&lt;00:00, 71.6MB/s]"
          }
        },
        "bae053080a5846dd87ea963a7043dbce": {
          "model_module": "@jupyter-widgets/base",
          "model_name": "LayoutModel",
          "model_module_version": "1.2.0",
          "state": {
            "_model_module": "@jupyter-widgets/base",
            "_model_module_version": "1.2.0",
            "_model_name": "LayoutModel",
            "_view_count": null,
            "_view_module": "@jupyter-widgets/base",
            "_view_module_version": "1.2.0",
            "_view_name": "LayoutView",
            "align_content": null,
            "align_items": null,
            "align_self": null,
            "border": null,
            "bottom": null,
            "display": null,
            "flex": null,
            "flex_flow": null,
            "grid_area": null,
            "grid_auto_columns": null,
            "grid_auto_flow": null,
            "grid_auto_rows": null,
            "grid_column": null,
            "grid_gap": null,
            "grid_row": null,
            "grid_template_areas": null,
            "grid_template_columns": null,
            "grid_template_rows": null,
            "height": null,
            "justify_content": null,
            "justify_items": null,
            "left": null,
            "margin": null,
            "max_height": null,
            "max_width": null,
            "min_height": null,
            "min_width": null,
            "object_fit": null,
            "object_position": null,
            "order": null,
            "overflow": null,
            "overflow_x": null,
            "overflow_y": null,
            "padding": null,
            "right": null,
            "top": null,
            "visibility": null,
            "width": null
          }
        },
        "20ba00b06f5c48d39d95892109131311": {
          "model_module": "@jupyter-widgets/base",
          "model_name": "LayoutModel",
          "model_module_version": "1.2.0",
          "state": {
            "_model_module": "@jupyter-widgets/base",
            "_model_module_version": "1.2.0",
            "_model_name": "LayoutModel",
            "_view_count": null,
            "_view_module": "@jupyter-widgets/base",
            "_view_module_version": "1.2.0",
            "_view_name": "LayoutView",
            "align_content": null,
            "align_items": null,
            "align_self": null,
            "border": null,
            "bottom": null,
            "display": null,
            "flex": null,
            "flex_flow": null,
            "grid_area": null,
            "grid_auto_columns": null,
            "grid_auto_flow": null,
            "grid_auto_rows": null,
            "grid_column": null,
            "grid_gap": null,
            "grid_row": null,
            "grid_template_areas": null,
            "grid_template_columns": null,
            "grid_template_rows": null,
            "height": null,
            "justify_content": null,
            "justify_items": null,
            "left": null,
            "margin": null,
            "max_height": null,
            "max_width": null,
            "min_height": null,
            "min_width": null,
            "object_fit": null,
            "object_position": null,
            "order": null,
            "overflow": null,
            "overflow_x": null,
            "overflow_y": null,
            "padding": null,
            "right": null,
            "top": null,
            "visibility": null,
            "width": null
          }
        },
        "1bc89afacf3440c5bb622fff7df8064b": {
          "model_module": "@jupyter-widgets/controls",
          "model_name": "DescriptionStyleModel",
          "model_module_version": "1.5.0",
          "state": {
            "_model_module": "@jupyter-widgets/controls",
            "_model_module_version": "1.5.0",
            "_model_name": "DescriptionStyleModel",
            "_view_count": null,
            "_view_module": "@jupyter-widgets/base",
            "_view_module_version": "1.2.0",
            "_view_name": "StyleView",
            "description_width": ""
          }
        },
        "9072bbe748e44ce599ad7108ab399d03": {
          "model_module": "@jupyter-widgets/base",
          "model_name": "LayoutModel",
          "model_module_version": "1.2.0",
          "state": {
            "_model_module": "@jupyter-widgets/base",
            "_model_module_version": "1.2.0",
            "_model_name": "LayoutModel",
            "_view_count": null,
            "_view_module": "@jupyter-widgets/base",
            "_view_module_version": "1.2.0",
            "_view_name": "LayoutView",
            "align_content": null,
            "align_items": null,
            "align_self": null,
            "border": null,
            "bottom": null,
            "display": null,
            "flex": null,
            "flex_flow": null,
            "grid_area": null,
            "grid_auto_columns": null,
            "grid_auto_flow": null,
            "grid_auto_rows": null,
            "grid_column": null,
            "grid_gap": null,
            "grid_row": null,
            "grid_template_areas": null,
            "grid_template_columns": null,
            "grid_template_rows": null,
            "height": null,
            "justify_content": null,
            "justify_items": null,
            "left": null,
            "margin": null,
            "max_height": null,
            "max_width": null,
            "min_height": null,
            "min_width": null,
            "object_fit": null,
            "object_position": null,
            "order": null,
            "overflow": null,
            "overflow_x": null,
            "overflow_y": null,
            "padding": null,
            "right": null,
            "top": null,
            "visibility": null,
            "width": null
          }
        },
        "e135eb1073844ba8af7b25f755c8cea0": {
          "model_module": "@jupyter-widgets/controls",
          "model_name": "ProgressStyleModel",
          "model_module_version": "1.5.0",
          "state": {
            "_model_module": "@jupyter-widgets/controls",
            "_model_module_version": "1.5.0",
            "_model_name": "ProgressStyleModel",
            "_view_count": null,
            "_view_module": "@jupyter-widgets/base",
            "_view_module_version": "1.2.0",
            "_view_name": "StyleView",
            "bar_color": null,
            "description_width": ""
          }
        },
        "325707ea2bc34a2492df06e60b475c31": {
          "model_module": "@jupyter-widgets/base",
          "model_name": "LayoutModel",
          "model_module_version": "1.2.0",
          "state": {
            "_model_module": "@jupyter-widgets/base",
            "_model_module_version": "1.2.0",
            "_model_name": "LayoutModel",
            "_view_count": null,
            "_view_module": "@jupyter-widgets/base",
            "_view_module_version": "1.2.0",
            "_view_name": "LayoutView",
            "align_content": null,
            "align_items": null,
            "align_self": null,
            "border": null,
            "bottom": null,
            "display": null,
            "flex": null,
            "flex_flow": null,
            "grid_area": null,
            "grid_auto_columns": null,
            "grid_auto_flow": null,
            "grid_auto_rows": null,
            "grid_column": null,
            "grid_gap": null,
            "grid_row": null,
            "grid_template_areas": null,
            "grid_template_columns": null,
            "grid_template_rows": null,
            "height": null,
            "justify_content": null,
            "justify_items": null,
            "left": null,
            "margin": null,
            "max_height": null,
            "max_width": null,
            "min_height": null,
            "min_width": null,
            "object_fit": null,
            "object_position": null,
            "order": null,
            "overflow": null,
            "overflow_x": null,
            "overflow_y": null,
            "padding": null,
            "right": null,
            "top": null,
            "visibility": null,
            "width": null
          }
        },
        "1567133f6d4542729541c08fbb9c03e1": {
          "model_module": "@jupyter-widgets/controls",
          "model_name": "DescriptionStyleModel",
          "model_module_version": "1.5.0",
          "state": {
            "_model_module": "@jupyter-widgets/controls",
            "_model_module_version": "1.5.0",
            "_model_name": "DescriptionStyleModel",
            "_view_count": null,
            "_view_module": "@jupyter-widgets/base",
            "_view_module_version": "1.2.0",
            "_view_name": "StyleView",
            "description_width": ""
          }
        },
        "a33a832d29c54ffb997a280cbd3dc773": {
          "model_module": "@jupyter-widgets/controls",
          "model_name": "HBoxModel",
          "model_module_version": "1.5.0",
          "state": {
            "_dom_classes": [],
            "_model_module": "@jupyter-widgets/controls",
            "_model_module_version": "1.5.0",
            "_model_name": "HBoxModel",
            "_view_count": null,
            "_view_module": "@jupyter-widgets/controls",
            "_view_module_version": "1.5.0",
            "_view_name": "HBoxView",
            "box_style": "",
            "children": [
              "IPY_MODEL_a00b8fe0de7f44d0ad8a19f6e8be1fb4",
              "IPY_MODEL_951554bd0a6e4feebda0f240b52fad7d",
              "IPY_MODEL_db368cd349ca48118ec1275e0b277e4e"
            ],
            "layout": "IPY_MODEL_0b6aa448f8e7416592b7c4000dd6675e"
          }
        },
        "a00b8fe0de7f44d0ad8a19f6e8be1fb4": {
          "model_module": "@jupyter-widgets/controls",
          "model_name": "HTMLModel",
          "model_module_version": "1.5.0",
          "state": {
            "_dom_classes": [],
            "_model_module": "@jupyter-widgets/controls",
            "_model_module_version": "1.5.0",
            "_model_name": "HTMLModel",
            "_view_count": null,
            "_view_module": "@jupyter-widgets/controls",
            "_view_module_version": "1.5.0",
            "_view_name": "HTMLView",
            "description": "",
            "description_tooltip": null,
            "layout": "IPY_MODEL_26e11804e23c44e4adc7041abeaecefe",
            "placeholder": "​",
            "style": "IPY_MODEL_81fcb34871194e4881cfc4bc14b671dc",
            "value": "100%"
          }
        },
        "951554bd0a6e4feebda0f240b52fad7d": {
          "model_module": "@jupyter-widgets/controls",
          "model_name": "FloatProgressModel",
          "model_module_version": "1.5.0",
          "state": {
            "_dom_classes": [],
            "_model_module": "@jupyter-widgets/controls",
            "_model_module_version": "1.5.0",
            "_model_name": "FloatProgressModel",
            "_view_count": null,
            "_view_module": "@jupyter-widgets/controls",
            "_view_module_version": "1.5.0",
            "_view_name": "ProgressView",
            "bar_style": "success",
            "description": "",
            "description_tooltip": null,
            "layout": "IPY_MODEL_130de4c71b224e438f921dd30de48f35",
            "max": 1999639040,
            "min": 0,
            "orientation": "horizontal",
            "style": "IPY_MODEL_dd9ba32090224679861a641b9d5c76a9",
            "value": 1999639040
          }
        },
        "db368cd349ca48118ec1275e0b277e4e": {
          "model_module": "@jupyter-widgets/controls",
          "model_name": "HTMLModel",
          "model_module_version": "1.5.0",
          "state": {
            "_dom_classes": [],
            "_model_module": "@jupyter-widgets/controls",
            "_model_module_version": "1.5.0",
            "_model_name": "HTMLModel",
            "_view_count": null,
            "_view_module": "@jupyter-widgets/controls",
            "_view_module_version": "1.5.0",
            "_view_name": "HTMLView",
            "description": "",
            "description_tooltip": null,
            "layout": "IPY_MODEL_9a66451b5e7a48a4b1b2effb8a1dcd6a",
            "placeholder": "​",
            "style": "IPY_MODEL_9b679c51b6404cff8a0b624e32bec217",
            "value": " 1999639040/1999639040 [03:14&lt;00:00, 9049642.56it/s]"
          }
        },
        "0b6aa448f8e7416592b7c4000dd6675e": {
          "model_module": "@jupyter-widgets/base",
          "model_name": "LayoutModel",
          "model_module_version": "1.2.0",
          "state": {
            "_model_module": "@jupyter-widgets/base",
            "_model_module_version": "1.2.0",
            "_model_name": "LayoutModel",
            "_view_count": null,
            "_view_module": "@jupyter-widgets/base",
            "_view_module_version": "1.2.0",
            "_view_name": "LayoutView",
            "align_content": null,
            "align_items": null,
            "align_self": null,
            "border": null,
            "bottom": null,
            "display": null,
            "flex": null,
            "flex_flow": null,
            "grid_area": null,
            "grid_auto_columns": null,
            "grid_auto_flow": null,
            "grid_auto_rows": null,
            "grid_column": null,
            "grid_gap": null,
            "grid_row": null,
            "grid_template_areas": null,
            "grid_template_columns": null,
            "grid_template_rows": null,
            "height": null,
            "justify_content": null,
            "justify_items": null,
            "left": null,
            "margin": null,
            "max_height": null,
            "max_width": null,
            "min_height": null,
            "min_width": null,
            "object_fit": null,
            "object_position": null,
            "order": null,
            "overflow": null,
            "overflow_x": null,
            "overflow_y": null,
            "padding": null,
            "right": null,
            "top": null,
            "visibility": null,
            "width": null
          }
        },
        "26e11804e23c44e4adc7041abeaecefe": {
          "model_module": "@jupyter-widgets/base",
          "model_name": "LayoutModel",
          "model_module_version": "1.2.0",
          "state": {
            "_model_module": "@jupyter-widgets/base",
            "_model_module_version": "1.2.0",
            "_model_name": "LayoutModel",
            "_view_count": null,
            "_view_module": "@jupyter-widgets/base",
            "_view_module_version": "1.2.0",
            "_view_name": "LayoutView",
            "align_content": null,
            "align_items": null,
            "align_self": null,
            "border": null,
            "bottom": null,
            "display": null,
            "flex": null,
            "flex_flow": null,
            "grid_area": null,
            "grid_auto_columns": null,
            "grid_auto_flow": null,
            "grid_auto_rows": null,
            "grid_column": null,
            "grid_gap": null,
            "grid_row": null,
            "grid_template_areas": null,
            "grid_template_columns": null,
            "grid_template_rows": null,
            "height": null,
            "justify_content": null,
            "justify_items": null,
            "left": null,
            "margin": null,
            "max_height": null,
            "max_width": null,
            "min_height": null,
            "min_width": null,
            "object_fit": null,
            "object_position": null,
            "order": null,
            "overflow": null,
            "overflow_x": null,
            "overflow_y": null,
            "padding": null,
            "right": null,
            "top": null,
            "visibility": null,
            "width": null
          }
        },
        "81fcb34871194e4881cfc4bc14b671dc": {
          "model_module": "@jupyter-widgets/controls",
          "model_name": "DescriptionStyleModel",
          "model_module_version": "1.5.0",
          "state": {
            "_model_module": "@jupyter-widgets/controls",
            "_model_module_version": "1.5.0",
            "_model_name": "DescriptionStyleModel",
            "_view_count": null,
            "_view_module": "@jupyter-widgets/base",
            "_view_module_version": "1.2.0",
            "_view_name": "StyleView",
            "description_width": ""
          }
        },
        "130de4c71b224e438f921dd30de48f35": {
          "model_module": "@jupyter-widgets/base",
          "model_name": "LayoutModel",
          "model_module_version": "1.2.0",
          "state": {
            "_model_module": "@jupyter-widgets/base",
            "_model_module_version": "1.2.0",
            "_model_name": "LayoutModel",
            "_view_count": null,
            "_view_module": "@jupyter-widgets/base",
            "_view_module_version": "1.2.0",
            "_view_name": "LayoutView",
            "align_content": null,
            "align_items": null,
            "align_self": null,
            "border": null,
            "bottom": null,
            "display": null,
            "flex": null,
            "flex_flow": null,
            "grid_area": null,
            "grid_auto_columns": null,
            "grid_auto_flow": null,
            "grid_auto_rows": null,
            "grid_column": null,
            "grid_gap": null,
            "grid_row": null,
            "grid_template_areas": null,
            "grid_template_columns": null,
            "grid_template_rows": null,
            "height": null,
            "justify_content": null,
            "justify_items": null,
            "left": null,
            "margin": null,
            "max_height": null,
            "max_width": null,
            "min_height": null,
            "min_width": null,
            "object_fit": null,
            "object_position": null,
            "order": null,
            "overflow": null,
            "overflow_x": null,
            "overflow_y": null,
            "padding": null,
            "right": null,
            "top": null,
            "visibility": null,
            "width": null
          }
        },
        "dd9ba32090224679861a641b9d5c76a9": {
          "model_module": "@jupyter-widgets/controls",
          "model_name": "ProgressStyleModel",
          "model_module_version": "1.5.0",
          "state": {
            "_model_module": "@jupyter-widgets/controls",
            "_model_module_version": "1.5.0",
            "_model_name": "ProgressStyleModel",
            "_view_count": null,
            "_view_module": "@jupyter-widgets/base",
            "_view_module_version": "1.2.0",
            "_view_name": "StyleView",
            "bar_color": null,
            "description_width": ""
          }
        },
        "9a66451b5e7a48a4b1b2effb8a1dcd6a": {
          "model_module": "@jupyter-widgets/base",
          "model_name": "LayoutModel",
          "model_module_version": "1.2.0",
          "state": {
            "_model_module": "@jupyter-widgets/base",
            "_model_module_version": "1.2.0",
            "_model_name": "LayoutModel",
            "_view_count": null,
            "_view_module": "@jupyter-widgets/base",
            "_view_module_version": "1.2.0",
            "_view_name": "LayoutView",
            "align_content": null,
            "align_items": null,
            "align_self": null,
            "border": null,
            "bottom": null,
            "display": null,
            "flex": null,
            "flex_flow": null,
            "grid_area": null,
            "grid_auto_columns": null,
            "grid_auto_flow": null,
            "grid_auto_rows": null,
            "grid_column": null,
            "grid_gap": null,
            "grid_row": null,
            "grid_template_areas": null,
            "grid_template_columns": null,
            "grid_template_rows": null,
            "height": null,
            "justify_content": null,
            "justify_items": null,
            "left": null,
            "margin": null,
            "max_height": null,
            "max_width": null,
            "min_height": null,
            "min_width": null,
            "object_fit": null,
            "object_position": null,
            "order": null,
            "overflow": null,
            "overflow_x": null,
            "overflow_y": null,
            "padding": null,
            "right": null,
            "top": null,
            "visibility": null,
            "width": null
          }
        },
        "9b679c51b6404cff8a0b624e32bec217": {
          "model_module": "@jupyter-widgets/controls",
          "model_name": "DescriptionStyleModel",
          "model_module_version": "1.5.0",
          "state": {
            "_model_module": "@jupyter-widgets/controls",
            "_model_module_version": "1.5.0",
            "_model_name": "DescriptionStyleModel",
            "_view_count": null,
            "_view_module": "@jupyter-widgets/base",
            "_view_module_version": "1.2.0",
            "_view_name": "StyleView",
            "description_width": ""
          }
        }
      }
    }
  },
  "cells": [
    {
      "cell_type": "code",
      "execution_count": null,
      "metadata": {
        "id": "GGjf62WGueRm",
        "colab": {
          "base_uri": "https://localhost:8080/"
        },
        "outputId": "861abaf0-4997-4fc5-8686-49182fe62269"
      },
      "outputs": [
        {
          "output_type": "stream",
          "name": "stdout",
          "text": [
            "Looking in indexes: https://pypi.org/simple, https://us-python.pkg.dev/colab-wheels/public/simple/\n",
            "Collecting fiftyone\n",
            "  Downloading fiftyone-0.18.0-py3-none-any.whl (2.3 MB)\n",
            "\u001b[K     |████████████████████████████████| 2.3 MB 35.8 MB/s \n",
            "\u001b[?25hRequirement already satisfied: plotly>=4.14 in /usr/local/lib/python3.8/dist-packages (from fiftyone) (5.5.0)\n",
            "Collecting ndjson\n",
            "  Downloading ndjson-0.3.1-py2.py3-none-any.whl (5.3 kB)\n",
            "Requirement already satisfied: pymongo>=3.11 in /usr/local/lib/python3.8/dist-packages (from fiftyone) (4.3.3)\n",
            "Collecting sseclient-py<2,>=1.7.2\n",
            "  Downloading sseclient_py-1.7.2-py2.py3-none-any.whl (8.4 kB)\n",
            "Requirement already satisfied: tabulate in /usr/local/lib/python3.8/dist-packages (from fiftyone) (0.8.10)\n",
            "Requirement already satisfied: psutil in /usr/local/lib/python3.8/dist-packages (from fiftyone) (5.4.8)\n",
            "Collecting dacite>=1.6.0\n",
            "  Downloading dacite-1.7.0-py3-none-any.whl (12 kB)\n",
            "Requirement already satisfied: setuptools in /usr/local/lib/python3.8/dist-packages (from fiftyone) (57.4.0)\n",
            "Collecting starlette==0.20.4\n",
            "  Downloading starlette-0.20.4-py3-none-any.whl (63 kB)\n",
            "\u001b[K     |████████████████████████████████| 63 kB 2.5 MB/s \n",
            "\u001b[?25hRequirement already satisfied: packaging in /usr/local/lib/python3.8/dist-packages (from fiftyone) (21.3)\n",
            "Collecting Jinja2>=3\n",
            "  Downloading Jinja2-3.1.2-py3-none-any.whl (133 kB)\n",
            "\u001b[K     |████████████████████████████████| 133 kB 72.9 MB/s \n",
            "\u001b[?25hRequirement already satisfied: matplotlib in /usr/local/lib/python3.8/dist-packages (from fiftyone) (3.2.2)\n",
            "Requirement already satisfied: scikit-image in /usr/local/lib/python3.8/dist-packages (from fiftyone) (0.18.3)\n",
            "Collecting sse-starlette<1,>=0.10.3\n",
            "  Downloading sse_starlette-0.10.3-py3-none-any.whl (8.0 kB)\n",
            "Requirement already satisfied: pytz in /usr/local/lib/python3.8/dist-packages (from fiftyone) (2022.6)\n",
            "Collecting Deprecated\n",
            "  Downloading Deprecated-1.2.13-py2.py3-none-any.whl (9.6 kB)\n",
            "Requirement already satisfied: future in /usr/local/lib/python3.8/dist-packages (from fiftyone) (0.16.0)\n",
            "Collecting aiofiles\n",
            "  Downloading aiofiles-22.1.0-py3-none-any.whl (14 kB)\n",
            "Collecting mongoengine==0.24.2\n",
            "  Downloading mongoengine-0.24.2-py3-none-any.whl (108 kB)\n",
            "\u001b[K     |████████████████████████████████| 108 kB 84.3 MB/s \n",
            "\u001b[?25hCollecting xmltodict\n",
            "  Downloading xmltodict-0.13.0-py2.py3-none-any.whl (10.0 kB)\n",
            "Collecting eventlet\n",
            "  Downloading eventlet-0.33.2-py2.py3-none-any.whl (226 kB)\n",
            "\u001b[K     |████████████████████████████████| 226 kB 87.3 MB/s \n",
            "\u001b[?25hCollecting fiftyone-brain<0.10,>=0.9.2\n",
            "  Downloading fiftyone_brain-0.9.2-py3-none-any.whl (49 kB)\n",
            "\u001b[K     |████████████████████████████████| 49 kB 6.8 MB/s \n",
            "\u001b[?25hCollecting motor>=2.3\n",
            "  Downloading motor-3.1.1-py3-none-any.whl (56 kB)\n",
            "\u001b[K     |████████████████████████████████| 56 kB 5.5 MB/s \n",
            "\u001b[?25hCollecting strawberry-graphql==0.138.1\n",
            "  Downloading strawberry_graphql-0.138.1-py3-none-any.whl (192 kB)\n",
            "\u001b[K     |████████████████████████████████| 192 kB 79.8 MB/s \n",
            "\u001b[?25hRequirement already satisfied: scikit-learn in /usr/local/lib/python3.8/dist-packages (from fiftyone) (1.0.2)\n",
            "Collecting kaleido\n",
            "  Downloading kaleido-0.2.1-py2.py3-none-manylinux1_x86_64.whl (79.9 MB)\n",
            "\u001b[K     |████████████████████████████████| 79.9 MB 1.2 MB/s \n",
            "\u001b[?25hCollecting voxel51-eta<0.9,>=0.8.1\n",
            "  Downloading voxel51_eta-0.8.1-py2.py3-none-any.whl (564 kB)\n",
            "\u001b[K     |████████████████████████████████| 564 kB 83.0 MB/s \n",
            "\u001b[?25hCollecting hypercorn>=0.13.2\n",
            "  Downloading Hypercorn-0.14.3-py3-none-any.whl (57 kB)\n",
            "\u001b[K     |████████████████████████████████| 57 kB 6.8 MB/s \n",
            "\u001b[?25hRequirement already satisfied: numpy in /usr/local/lib/python3.8/dist-packages (from fiftyone) (1.21.6)\n",
            "Requirement already satisfied: PyYAML in /usr/local/lib/python3.8/dist-packages (from fiftyone) (6.0)\n",
            "Collecting universal-analytics-python3<2,>=1.0.1\n",
            "  Downloading universal_analytics_python3-1.1.1-py3-none-any.whl (10 kB)\n",
            "Collecting retrying\n",
            "  Downloading retrying-1.3.4-py3-none-any.whl (11 kB)\n",
            "Collecting boto3\n",
            "  Downloading boto3-1.26.36-py3-none-any.whl (132 kB)\n",
            "\u001b[K     |████████████████████████████████| 132 kB 81.9 MB/s \n",
            "\u001b[?25hCollecting pprintpp\n",
            "  Downloading pprintpp-0.4.0-py2.py3-none-any.whl (16 kB)\n",
            "Collecting argcomplete\n",
            "  Downloading argcomplete-2.0.0-py2.py3-none-any.whl (37 kB)\n",
            "Collecting fiftyone-db<0.5,>=0.4\n",
            "  Downloading fiftyone_db-0.4.0-py3-none-manylinux1_x86_64.whl (37.8 MB)\n",
            "\u001b[K     |████████████████████████████████| 37.8 MB 1.2 MB/s \n",
            "\u001b[?25hRequirement already satisfied: pandas in /usr/local/lib/python3.8/dist-packages (from fiftyone) (1.3.5)\n",
            "Requirement already satisfied: opencv-python-headless in /usr/local/lib/python3.8/dist-packages (from fiftyone) (4.6.0.66)\n",
            "Requirement already satisfied: Pillow>=6.2 in /usr/local/lib/python3.8/dist-packages (from fiftyone) (7.1.2)\n",
            "Requirement already satisfied: typing-extensions>=3.10.0 in /usr/local/lib/python3.8/dist-packages (from starlette==0.20.4->fiftyone) (4.4.0)\n",
            "Collecting anyio<5,>=3.4.0\n",
            "  Downloading anyio-3.6.2-py3-none-any.whl (80 kB)\n",
            "\u001b[K     |████████████████████████████████| 80 kB 10.6 MB/s \n",
            "\u001b[?25hCollecting graphql-core<3.3.0,>=3.2.0\n",
            "  Downloading graphql_core-3.2.3-py3-none-any.whl (202 kB)\n",
            "\u001b[K     |████████████████████████████████| 202 kB 84.6 MB/s \n",
            "\u001b[?25hRequirement already satisfied: python-dateutil<3.0.0,>=2.7.0 in /usr/local/lib/python3.8/dist-packages (from strawberry-graphql==0.138.1->fiftyone) (2.8.2)\n",
            "Requirement already satisfied: idna>=2.8 in /usr/local/lib/python3.8/dist-packages (from anyio<5,>=3.4.0->starlette==0.20.4->fiftyone) (2.10)\n",
            "Collecting sniffio>=1.1\n",
            "  Downloading sniffio-1.3.0-py3-none-any.whl (10 kB)\n",
            "Requirement already satisfied: scipy>=1.2.0 in /usr/local/lib/python3.8/dist-packages (from fiftyone-brain<0.10,>=0.9.2->fiftyone) (1.7.3)\n",
            "Collecting wsproto>=0.14.0\n",
            "  Downloading wsproto-1.2.0-py3-none-any.whl (24 kB)\n",
            "Collecting h2>=3.1.0\n",
            "  Downloading h2-4.1.0-py3-none-any.whl (57 kB)\n",
            "\u001b[K     |████████████████████████████████| 57 kB 6.3 MB/s \n",
            "\u001b[?25hCollecting priority\n",
            "  Downloading priority-2.0.0-py3-none-any.whl (8.9 kB)\n",
            "Collecting h11\n",
            "  Downloading h11-0.14.0-py3-none-any.whl (58 kB)\n",
            "\u001b[K     |████████████████████████████████| 58 kB 2.2 MB/s \n",
            "\u001b[?25hRequirement already satisfied: toml in /usr/local/lib/python3.8/dist-packages (from hypercorn>=0.13.2->fiftyone) (0.10.2)\n",
            "Collecting hpack<5,>=4.0\n",
            "  Downloading hpack-4.0.0-py3-none-any.whl (32 kB)\n",
            "Collecting hyperframe<7,>=6.0\n",
            "  Downloading hyperframe-6.0.1-py3-none-any.whl (12 kB)\n",
            "Requirement already satisfied: MarkupSafe>=2.0 in /usr/local/lib/python3.8/dist-packages (from Jinja2>=3->fiftyone) (2.0.1)\n",
            "Requirement already satisfied: six in /usr/local/lib/python3.8/dist-packages (from plotly>=4.14->fiftyone) (1.15.0)\n",
            "Requirement already satisfied: tenacity>=6.2.0 in /usr/local/lib/python3.8/dist-packages (from plotly>=4.14->fiftyone) (8.1.0)\n",
            "Requirement already satisfied: dnspython<3.0.0,>=1.16.0 in /usr/local/lib/python3.8/dist-packages (from pymongo>=3.11->fiftyone) (2.2.1)\n",
            "Collecting httpx>=0.10.0\n",
            "  Downloading httpx-0.23.1-py3-none-any.whl (84 kB)\n",
            "\u001b[K     |████████████████████████████████| 84 kB 4.4 MB/s \n",
            "\u001b[?25hCollecting rfc3986[idna2008]<2,>=1.3\n",
            "  Downloading rfc3986-1.5.0-py2.py3-none-any.whl (31 kB)\n",
            "Requirement already satisfied: certifi in /usr/local/lib/python3.8/dist-packages (from httpx>=0.10.0->universal-analytics-python3<2,>=1.0.1->fiftyone) (2022.12.7)\n",
            "Collecting httpcore<0.17.0,>=0.15.0\n",
            "  Downloading httpcore-0.16.3-py3-none-any.whl (69 kB)\n",
            "\u001b[K     |████████████████████████████████| 69 kB 9.4 MB/s \n",
            "\u001b[?25hRequirement already satisfied: dill in /usr/local/lib/python3.8/dist-packages (from voxel51-eta<0.9,>=0.8.1->fiftyone) (0.3.6)\n",
            "Requirement already satisfied: urllib3 in /usr/local/lib/python3.8/dist-packages (from voxel51-eta<0.9,>=0.8.1->fiftyone) (1.24.3)\n",
            "Requirement already satisfied: sortedcontainers in /usr/local/lib/python3.8/dist-packages (from voxel51-eta<0.9,>=0.8.1->fiftyone) (2.4.0)\n",
            "Requirement already satisfied: requests in /usr/local/lib/python3.8/dist-packages (from voxel51-eta<0.9,>=0.8.1->fiftyone) (2.23.0)\n",
            "Collecting patool\n",
            "  Downloading patool-1.12-py2.py3-none-any.whl (77 kB)\n",
            "\u001b[K     |████████████████████████████████| 77 kB 5.8 MB/s \n",
            "\u001b[?25hRequirement already satisfied: glob2 in /usr/local/lib/python3.8/dist-packages (from voxel51-eta<0.9,>=0.8.1->fiftyone) (0.7)\n",
            "Requirement already satisfied: tzlocal in /usr/local/lib/python3.8/dist-packages (from voxel51-eta<0.9,>=0.8.1->fiftyone) (1.5.1)\n",
            "Collecting botocore<1.30.0,>=1.29.36\n",
            "  Downloading botocore-1.29.36-py3-none-any.whl (10.3 MB)\n",
            "\u001b[K     |████████████████████████████████| 10.3 MB 67.7 MB/s \n",
            "\u001b[?25hCollecting s3transfer<0.7.0,>=0.6.0\n",
            "  Downloading s3transfer-0.6.0-py3-none-any.whl (79 kB)\n",
            "\u001b[K     |████████████████████████████████| 79 kB 10.2 MB/s \n",
            "\u001b[?25hCollecting jmespath<2.0.0,>=0.7.1\n",
            "  Downloading jmespath-1.0.1-py3-none-any.whl (20 kB)\n",
            "Collecting urllib3\n",
            "  Downloading urllib3-1.26.13-py2.py3-none-any.whl (140 kB)\n",
            "\u001b[K     |████████████████████████████████| 140 kB 81.9 MB/s \n",
            "\u001b[?25hRequirement already satisfied: wrapt<2,>=1.10 in /usr/local/lib/python3.8/dist-packages (from Deprecated->fiftyone) (1.14.1)\n",
            "Requirement already satisfied: greenlet>=0.3 in /usr/local/lib/python3.8/dist-packages (from eventlet->fiftyone) (2.0.1)\n",
            "Requirement already satisfied: cycler>=0.10 in /usr/local/lib/python3.8/dist-packages (from matplotlib->fiftyone) (0.11.0)\n",
            "Requirement already satisfied: kiwisolver>=1.0.1 in /usr/local/lib/python3.8/dist-packages (from matplotlib->fiftyone) (1.4.4)\n",
            "Requirement already satisfied: pyparsing!=2.0.4,!=2.1.2,!=2.1.6,>=2.0.1 in /usr/local/lib/python3.8/dist-packages (from matplotlib->fiftyone) (3.0.9)\n",
            "Requirement already satisfied: chardet<4,>=3.0.2 in /usr/local/lib/python3.8/dist-packages (from requests->voxel51-eta<0.9,>=0.8.1->fiftyone) (3.0.4)\n",
            "  Downloading urllib3-1.25.11-py2.py3-none-any.whl (127 kB)\n",
            "\u001b[K     |████████████████████████████████| 127 kB 87.9 MB/s \n",
            "\u001b[?25hRequirement already satisfied: imageio>=2.3.0 in /usr/local/lib/python3.8/dist-packages (from scikit-image->fiftyone) (2.9.0)\n",
            "Requirement already satisfied: tifffile>=2019.7.26 in /usr/local/lib/python3.8/dist-packages (from scikit-image->fiftyone) (2022.10.10)\n",
            "Requirement already satisfied: PyWavelets>=1.1.1 in /usr/local/lib/python3.8/dist-packages (from scikit-image->fiftyone) (1.4.1)\n",
            "Requirement already satisfied: networkx>=2.0 in /usr/local/lib/python3.8/dist-packages (from scikit-image->fiftyone) (2.8.8)\n",
            "Requirement already satisfied: joblib>=0.11 in /usr/local/lib/python3.8/dist-packages (from scikit-learn->fiftyone) (1.2.0)\n",
            "Requirement already satisfied: threadpoolctl>=2.0.0 in /usr/local/lib/python3.8/dist-packages (from scikit-learn->fiftyone) (3.1.0)\n",
            "Installing collected packages: sniffio, urllib3, rfc3986, jmespath, h11, anyio, hyperframe, httpcore, hpack, botocore, wsproto, starlette, s3transfer, retrying, priority, patool, ndjson, httpx, h2, graphql-core, argcomplete, xmltodict, voxel51-eta, universal-analytics-python3, strawberry-graphql, sseclient-py, sse-starlette, pprintpp, motor, mongoengine, kaleido, Jinja2, hypercorn, fiftyone-db, fiftyone-brain, eventlet, Deprecated, dacite, boto3, aiofiles, fiftyone\n",
            "  Attempting uninstall: urllib3\n",
            "    Found existing installation: urllib3 1.24.3\n",
            "    Uninstalling urllib3-1.24.3:\n",
            "      Successfully uninstalled urllib3-1.24.3\n",
            "  Attempting uninstall: Jinja2\n",
            "    Found existing installation: Jinja2 2.11.3\n",
            "    Uninstalling Jinja2-2.11.3:\n",
            "      Successfully uninstalled Jinja2-2.11.3\n",
            "\u001b[31mERROR: pip's dependency resolver does not currently take into account all the packages that are installed. This behaviour is the source of the following dependency conflicts.\n",
            "notebook 5.7.16 requires jinja2<=3.0.0, but you have jinja2 3.1.2 which is incompatible.\n",
            "flask 1.1.4 requires Jinja2<3.0,>=2.10.1, but you have jinja2 3.1.2 which is incompatible.\u001b[0m\n",
            "Successfully installed Deprecated-1.2.13 Jinja2-3.1.2 aiofiles-22.1.0 anyio-3.6.2 argcomplete-2.0.0 boto3-1.26.36 botocore-1.29.36 dacite-1.7.0 eventlet-0.33.2 fiftyone-0.18.0 fiftyone-brain-0.9.2 fiftyone-db-0.4.0 graphql-core-3.2.3 h11-0.14.0 h2-4.1.0 hpack-4.0.0 httpcore-0.16.3 httpx-0.23.1 hypercorn-0.14.3 hyperframe-6.0.1 jmespath-1.0.1 kaleido-0.2.1 mongoengine-0.24.2 motor-3.1.1 ndjson-0.3.1 patool-1.12 pprintpp-0.4.0 priority-2.0.0 retrying-1.3.4 rfc3986-1.5.0 s3transfer-0.6.0 sniffio-1.3.0 sse-starlette-0.10.3 sseclient-py-1.7.2 starlette-0.20.4 strawberry-graphql-0.138.1 universal-analytics-python3-1.1.1 urllib3-1.25.11 voxel51-eta-0.8.1 wsproto-1.2.0 xmltodict-0.13.0\n"
          ]
        }
      ],
      "source": [
        "!pip install fiftyone"
      ]
    },
    {
      "cell_type": "code",
      "source": [
        "!pip install torch torchvision"
      ],
      "metadata": {
        "id": "nmM14ICvu7YA",
        "colab": {
          "base_uri": "https://localhost:8080/"
        },
        "outputId": "25fa13b7-ac64-4fae-ba03-374d80416537"
      },
      "execution_count": null,
      "outputs": [
        {
          "output_type": "stream",
          "name": "stdout",
          "text": [
            "Looking in indexes: https://pypi.org/simple, https://us-python.pkg.dev/colab-wheels/public/simple/\n",
            "Requirement already satisfied: torch in /usr/local/lib/python3.8/dist-packages (1.13.0+cu116)\n",
            "Requirement already satisfied: torchvision in /usr/local/lib/python3.8/dist-packages (0.14.0+cu116)\n",
            "Requirement already satisfied: typing-extensions in /usr/local/lib/python3.8/dist-packages (from torch) (4.4.0)\n",
            "Requirement already satisfied: requests in /usr/local/lib/python3.8/dist-packages (from torchvision) (2.23.0)\n",
            "Requirement already satisfied: pillow!=8.3.*,>=5.3.0 in /usr/local/lib/python3.8/dist-packages (from torchvision) (7.1.2)\n",
            "Requirement already satisfied: numpy in /usr/local/lib/python3.8/dist-packages (from torchvision) (1.21.6)\n",
            "Requirement already satisfied: idna<3,>=2.5 in /usr/local/lib/python3.8/dist-packages (from requests->torchvision) (2.10)\n",
            "Requirement already satisfied: certifi>=2017.4.17 in /usr/local/lib/python3.8/dist-packages (from requests->torchvision) (2022.12.7)\n",
            "Requirement already satisfied: chardet<4,>=3.0.2 in /usr/local/lib/python3.8/dist-packages (from requests->torchvision) (3.0.4)\n",
            "Requirement already satisfied: urllib3!=1.25.0,!=1.25.1,<1.26,>=1.21.1 in /usr/local/lib/python3.8/dist-packages (from requests->torchvision) (1.25.11)\n"
          ]
        }
      ]
    },
    {
      "cell_type": "markdown",
      "source": [
        "# Imports"
      ],
      "metadata": {
        "id": "KQewo3pH5hOi"
      }
    },
    {
      "cell_type": "code",
      "source": [
        "import fiftyone as fo\n",
        "import fiftyone.zoo as foz\n",
        "import torch\n",
        "import torchvision\n",
        "from fiftyone.core.dataset import Dataset\n",
        "from PIL import Image\n",
        "from torchvision.transforms import functional as func\n",
        "from fiftyone import ViewField as F"
      ],
      "metadata": {
        "colab": {
          "base_uri": "https://localhost:8080/"
        },
        "id": "aX9TOyv6u9TX",
        "outputId": "e7e8426e-5e5f-4a47-9278-4f2c5c062882"
      },
      "execution_count": null,
      "outputs": [
        {
          "output_type": "stream",
          "name": "stdout",
          "text": [
            "Migrating database to v0.18.0\n"
          ]
        },
        {
          "output_type": "stream",
          "name": "stderr",
          "text": [
            "INFO:fiftyone.migrations.runner:Migrating database to v0.18.0\n"
          ]
        }
      ]
    },
    {
      "cell_type": "markdown",
      "source": [
        "# Loading Coco dataset 2017, validation split"
      ],
      "metadata": {
        "id": "R8IZeEVS5lyT"
      }
    },
    {
      "cell_type": "code",
      "source": [
        "dataset = foz.load_zoo_dataset(\"coco-2017\", split=\"validation\")"
      ],
      "metadata": {
        "colab": {
          "base_uri": "https://localhost:8080/"
        },
        "id": "QBZImipBu-1h",
        "outputId": "a300ecae-5b11-491c-97e6-520f40c806d6"
      },
      "execution_count": null,
      "outputs": [
        {
          "output_type": "stream",
          "name": "stdout",
          "text": [
            "Downloading split 'validation' to '/root/fiftyone/coco-2017/validation' if necessary\n"
          ]
        },
        {
          "output_type": "stream",
          "name": "stderr",
          "text": [
            "INFO:fiftyone.zoo.datasets:Downloading split 'validation' to '/root/fiftyone/coco-2017/validation' if necessary\n"
          ]
        },
        {
          "output_type": "stream",
          "name": "stdout",
          "text": [
            "Downloading annotations to '/root/fiftyone/coco-2017/tmp-download/annotations_trainval2017.zip'\n"
          ]
        },
        {
          "output_type": "stream",
          "name": "stderr",
          "text": [
            "INFO:fiftyone.utils.coco:Downloading annotations to '/root/fiftyone/coco-2017/tmp-download/annotations_trainval2017.zip'\n"
          ]
        },
        {
          "output_type": "stream",
          "name": "stdout",
          "text": [
            " 100% |██████|    1.9Gb/1.9Gb [20.6s elapsed, 0s remaining, 105.2Mb/s]      \n"
          ]
        },
        {
          "output_type": "stream",
          "name": "stderr",
          "text": [
            "INFO:eta.core.utils: 100% |██████|    1.9Gb/1.9Gb [20.6s elapsed, 0s remaining, 105.2Mb/s]      \n"
          ]
        },
        {
          "output_type": "stream",
          "name": "stdout",
          "text": [
            "Extracting annotations to '/root/fiftyone/coco-2017/raw/instances_val2017.json'\n"
          ]
        },
        {
          "output_type": "stream",
          "name": "stderr",
          "text": [
            "INFO:fiftyone.utils.coco:Extracting annotations to '/root/fiftyone/coco-2017/raw/instances_val2017.json'\n"
          ]
        },
        {
          "output_type": "stream",
          "name": "stdout",
          "text": [
            "Downloading images to '/root/fiftyone/coco-2017/tmp-download/val2017.zip'\n"
          ]
        },
        {
          "output_type": "stream",
          "name": "stderr",
          "text": [
            "INFO:fiftyone.utils.coco:Downloading images to '/root/fiftyone/coco-2017/tmp-download/val2017.zip'\n"
          ]
        },
        {
          "output_type": "stream",
          "name": "stdout",
          "text": [
            " 100% |██████|    6.1Gb/6.1Gb [1.4m elapsed, 0s remaining, 72.1Mb/s]      \n"
          ]
        },
        {
          "output_type": "stream",
          "name": "stderr",
          "text": [
            "INFO:eta.core.utils: 100% |██████|    6.1Gb/6.1Gb [1.4m elapsed, 0s remaining, 72.1Mb/s]      \n"
          ]
        },
        {
          "output_type": "stream",
          "name": "stdout",
          "text": [
            "Extracting images to '/root/fiftyone/coco-2017/validation/data'\n"
          ]
        },
        {
          "output_type": "stream",
          "name": "stderr",
          "text": [
            "INFO:fiftyone.utils.coco:Extracting images to '/root/fiftyone/coco-2017/validation/data'\n"
          ]
        },
        {
          "output_type": "stream",
          "name": "stdout",
          "text": [
            "Writing annotations to '/root/fiftyone/coco-2017/validation/labels.json'\n"
          ]
        },
        {
          "output_type": "stream",
          "name": "stderr",
          "text": [
            "INFO:fiftyone.utils.coco:Writing annotations to '/root/fiftyone/coco-2017/validation/labels.json'\n"
          ]
        },
        {
          "output_type": "stream",
          "name": "stdout",
          "text": [
            "Dataset info written to '/root/fiftyone/coco-2017/info.json'\n"
          ]
        },
        {
          "output_type": "stream",
          "name": "stderr",
          "text": [
            "INFO:fiftyone.zoo.datasets:Dataset info written to '/root/fiftyone/coco-2017/info.json'\n"
          ]
        },
        {
          "output_type": "stream",
          "name": "stdout",
          "text": [
            "Loading 'coco-2017' split 'validation'\n"
          ]
        },
        {
          "output_type": "stream",
          "name": "stderr",
          "text": [
            "INFO:fiftyone.zoo.datasets:Loading 'coco-2017' split 'validation'\n"
          ]
        },
        {
          "output_type": "stream",
          "name": "stdout",
          "text": [
            " 100% |███████████████| 5000/5000 [28.4s elapsed, 0s remaining, 169.7 samples/s]      \n"
          ]
        },
        {
          "output_type": "stream",
          "name": "stderr",
          "text": [
            "INFO:eta.core.utils: 100% |███████████████| 5000/5000 [28.4s elapsed, 0s remaining, 169.7 samples/s]      \n"
          ]
        },
        {
          "output_type": "stream",
          "name": "stdout",
          "text": [
            "Dataset 'coco-2017-validation' created\n"
          ]
        },
        {
          "output_type": "stream",
          "name": "stderr",
          "text": [
            "INFO:fiftyone.zoo.datasets:Dataset 'coco-2017-validation' created\n"
          ]
        }
      ]
    },
    {
      "cell_type": "markdown",
      "source": [
        "# Launching fiftyone app"
      ],
      "metadata": {
        "id": "3azOMgc15oHA"
      }
    },
    {
      "cell_type": "code",
      "source": [
        "session = fo.launch_app(dataset)"
      ],
      "metadata": {
        "colab": {
          "base_uri": "https://localhost:8080/",
          "height": 822
        },
        "id": "ugdgvGOKvAX4",
        "outputId": "3da60e70-8bb6-4023-9f3f-33264f145496"
      },
      "execution_count": null,
      "outputs": [
        {
          "output_type": "display_data",
          "data": {
            "text/plain": [
              "<IPython.core.display.HTML object>"
            ],
            "text/html": [
              "\n",
              "<style>\n",
              "\n",
              "@import url(\"https://fonts.googleapis.com/css2?family=Palanquin&display=swap\");\n",
              "\n",
              "#focontainer-f7caad31-f87c-4c12-b072-d68ed6263917 {\n",
              "  position: relative;\n",
              "  height: px;\n",
              "  display: block !important;\n",
              "}\n",
              "#foactivate-f7caad31-f87c-4c12-b072-d68ed6263917 {\n",
              "  font-weight: bold;\n",
              "  cursor: pointer;\n",
              "  font-size: 24px;\n",
              "  border-radius: 3px;\n",
              "  text-align: center;\n",
              "  padding: 0.5em;\n",
              "  color: rgb(255, 255, 255);\n",
              "  font-family: \"Palanquin\", sans-serif;\n",
              "  position: absolute;\n",
              "  left: 50%;\n",
              "  top: 50%;\n",
              "  width: 160px;\n",
              "  margin-left: -80px;\n",
              "  margin-top: -23px;\n",
              "  background: hsla(210,11%,15%, 0.8);\n",
              "  border: none;\n",
              "}\n",
              "#foactivate-f7caad31-f87c-4c12-b072-d68ed6263917:focus {\n",
              "  outline: none;\n",
              "}\n",
              "#fooverlay-f7caad31-f87c-4c12-b072-d68ed6263917 {\n",
              "  width: 100%;\n",
              "  height: 100%;\n",
              "  background: hsla(208, 7%, 46%, 0.7);\n",
              "  position: absolute;\n",
              "  top: 0;\n",
              "  left: 0;\n",
              "  display: none;\n",
              "  cursor: pointer;\n",
              "}\n",
              "</style>\n",
              "<div id=\"focontainer-f7caad31-f87c-4c12-b072-d68ed6263917\" style=\"display: none;\">\n",
              "   <div id=\"fooverlay-f7caad31-f87c-4c12-b072-d68ed6263917\">\n",
              "      <button id=\"foactivate-f7caad31-f87c-4c12-b072-d68ed6263917\" >Activate</button>\n",
              "   </div>\n",
              "</div>"
            ]
          },
          "metadata": {}
        },
        {
          "output_type": "display_data",
          "data": {
            "text/plain": [
              "<IPython.core.display.Javascript object>"
            ],
            "application/javascript": [
              "window[\"093cc59c-82be-11ed-8f03-0242ac1c000c\"] = google.colab.output.getActiveOutputArea();\n",
              "//# sourceURL=js_30d2ee4dc2"
            ]
          },
          "metadata": {}
        },
        {
          "output_type": "display_data",
          "data": {
            "text/plain": [
              "<IPython.core.display.Javascript object>"
            ],
            "application/javascript": [
              "window[\"093d2b2c-82be-11ed-8f03-0242ac1c000c\"] = document.querySelector(\"#focontainer-f7caad31-f87c-4c12-b072-d68ed6263917\");\n",
              "//# sourceURL=js_568f2cdd90"
            ]
          },
          "metadata": {}
        },
        {
          "output_type": "display_data",
          "data": {
            "text/plain": [
              "<IPython.core.display.Javascript object>"
            ],
            "application/javascript": [
              "window[\"093dc85c-82be-11ed-8f03-0242ac1c000c\"] = google.colab.output.setActiveOutputArea(window[\"093d2b2c-82be-11ed-8f03-0242ac1c000c\"]);\n",
              "//# sourceURL=js_9bcae6f16b"
            ]
          },
          "metadata": {}
        },
        {
          "output_type": "display_data",
          "data": {
            "text/plain": [
              "<IPython.core.display.HTML object>"
            ],
            "text/html": [
              "<img src='data:image/png;base64,iVBORw0KGgoAAAANSUhEUgAABucAAAPoCAYAAADN/yMrAAAAAXNSR0IArs4c6QAAIABJREFUeF7s3fmPnmXZx+ELEJBFkbJayuqCIIpF2QXKUlMjKlIFgqxKsIa/x6QsUlSWIjRiRQNhFdBqUYoISkFqUShQylZkEUXenFfeZzKtM51BO9/ameNOzPu2nZnzfo45+emT6763mD59+jvNRYAAAQIECBAgQIAAAQIECBAgQIAAAQIECBAgQIDAhAtsIc5NuLEBBAgQIECAAAECBAgQIECAAAECBAgQIECAAAECBLqAOGcRCBAgQIAAAQIECBAgQIAAAQIECBAgQIAAAQIECIQExLkQtDEECBAgQIAAAQIECBAgQIAAAQIECBAgQIAAAQIExDk7QIAAAQIECBAgQIAAAQIECBAgQIAAAQIECBAgQCAkIM6FoI0hQIAAAQIECBAgQIAAAQIECBAgQIAAAQIECBAgIM7ZAQIECBAgQIAAAQIECBAgQIAAAQIECBAgQIAAAQIhAXEuBG0MAQIECBAgQIAAAQIECBAgQIAAAQIECBAgQIAAAXHODhAgQIAAAQIECBAgQIAAAQIECBAgQIAAAQIECBAICYhzIWhjCBAgQIAAAQIECBAgQIAAAQIECBAgQIAAAQIECIhzdoAAAQIECBAgQIAAAQIECBAgQIAAAQIECBAgQIBASECcC0EbQ4AAAQIECBAgQIAAAQIECBAgQIAAAQIECBAgQECcswMECBAgQIAAAQIECBAgQIAAAQIECBAgQIAAAQIEQgLiXAjaGAIECBAgQIAAAQIECBAgQIAAAQIECBAgQIAAAQLinB0gQIAAAQIECBAgQIAAAQIECBAgQIAAAQIECBAgEBIQ50LQxhAgQIAAAQIECBAgQIAAAQIECBAgQIAAAQIECBAQ5+wAAQIECBAgQIAAAQIECBAgQIAAAQIECBAgQIAAgZCAOBeCNoYAAQIECBAgQIAAAQIECBAgQIAAAQIECBAgQICAOGcHCBAgQIAAAQIECBAgQIAAAQIECBAgQIAAAQIECIQExLkQtDEECBAgQIAAAQIECBAgQIAAAQIECBAgQIAAAQIExDk7QIAAAQIECBAgQIAAAQIECBAgQIAAAQIECBAgQCAkIM6FoI0hQIAAAQIECBAgQIAAAQIECBAgQIAAAQIECBAgIM7ZAQIECBAgQIAAAQIECBAgQIAAAQIECBAgQIAAAQIhAXEuBG0MAQIECBAgQIAAAQIECBAgQIAAAQIECBAgQIAAAXHODhAgQIAAAQIECBAgQIAAAQIECBAgQIAAAQIECBAICYhzIWhjCBAgQIAAAQIECBAgQIAAAQIECBAgQIAAAQIECIhzdoAAAQIECBAgQIAAAQIECBAgQIAAAQIECBAgQIBASECcC0EbQ4AAAQIECBAgQIAAAQIECBAgQIAAAQIECBAgQECcswMECBAgQIAAAQIECBAgQIAAAQIECBAgQIAAAQIEQgLiXAjaGAIECBAgQIAAAQIECBAgQIAAAQIECBAgQIAAAQLinB0gQIAAAQIECBAgQIAAAQIECBAgQIAAAQIECBAgEBIQ50LQxhAgQIAAAQIECBAgQIAAAQIECBAgQIAAAQIECBAQ5+wAAQIECBAgQIAAAQIECBAgQIAAAQIECBAgQIAAgZCAOBeCNoYAAQIECBAgQIAAAQIECBAgQIAAAQIECBAgQICAOGcHCBAgQIAAAQIECBAgQIAAAQIECBAgQIAAAQIECIQExLkQtDEECBAgQIAAAQIECBAgQIAAAQIECBAgQIAAAQIExDk7QIAAAQIECBAgQIAAAQIECBAgQIAAAQIECBAgQCAkIM6FoI0hQIAAAQIECBAgQIAAAQIECBAgQIAAAQIECBAgIM7ZAQIECBAgQIAAAQIECBAgQIAAAQIECBAgQIAAAQIhAXEuBG0MAQIECBAgQIAAAQIECBAgQIAAAQIECBAgQIAAAXHODhAgQIAAAQIECBAgQIAAAQIECBAgQIAAAQIECBAICYhzIWhjCBAgQIAAAQIECBAgQIAAAQIECBAgQIAAAQIECIhzdoAAAQIECBAgQIAAAQIECBAgQIAAAQIECBAgQIBASECcC0EbQ4AAAQIECBAgQIAAAQIECBAgQIAAAQIECBAgQECcswMECBAgQIAAAQIECBAgQIAAAQIECBAgQIAAAQIEQgLiXAjaGAIECBAgQIAAAQIECBAgQIAAAQIECBAgQIAAAQLinB0gQIAAAQIECBAgQIAAAQIECBAgQIAAAQIECBAgEBIQ50LQxhAgQIAAAQIECBAgQIAAAQIECBAgQIAAAQIECBAQ5+wAAQIECBAgQIAAAQIECBAgQIAAAQIECBAgQIAAgZCAOBeCNoYAAQIECBAgQIAAAQIECBAgQIAAAQIECBAgQICAOGcHCBAgQIAAAQIECBAgQIAAAQIECBAgQIAAAQIECIQExLkQtDEECBAgQIAAAQIECBAgQIAAAQIECBAgQIAAAQIExDk7QIAAAQIECBAgQIAAAQIECBAgQIAAAQIECBAgQCAkIM6FoI0hQIAAAQIECBAgQIAAAQIECBAgQIAAAQIECBAgIM7ZAQIECBAgQIAAAQIECBAgQIAAAQIECBAgQIAAAQIhAXEuBG0MAQIECBAgQIAAAQIECBAgQIAAAQIECBAgQIAAAXHODhAgQIAAAQIECBAgQIAAAQIECBAgQIAAAQIECBAICYhzIWhjCBAgQIAAAQIECBAgQIAAAQIECBAgQIAAAQIECIhzdoAAAQIECBAgQIAAAQIECBAgQIAAAQIECBAgQIBASECcC0EbQ4AAAQIECBAgQIAAAQIECBAgQIAAAQIECBAgQECcswMECBAgQIAAAQIECBAgQIAAAQIECBAgQIAAAQIEQgLiXAjaGAIECBAgQIAAAQIECBAgQIAAAQIECBAgQIAAAQLinB0gQIAAAQIECBAgQIAAAQIECBAgQIAAAQIECBAgEBIQ50LQxhAgQIAAAQIECBAgQIAAAQIECBAgQIAAAQIECBAQ5+wAAQIECBAgQIAAAQIECBAgQIAAAQIECBAgQIAAgZCAOBeCNoYAAQIECBAgQIAAAQIECBAgQIAAAQIECBAgQICAOGcHCBAgQIAAAQIECBAgQIAAAQIECBAgQIAAAQIECIQExLkQtDEECBAgQIAAAQIECBAgQIAAAQIECBAgQIAAAQIExDk7QIAAAQIECBAgQIAAAQIECBAgQIAAAQIECBAgQCAkIM6FoI0hQIAAAQIECBAgQIAAAQIECBAgQIAAAQIECBAgIM7ZAQIECBAgQIAAAQIECBAgQIAAAQIECBAgQIAAAQIhAXEuBG0MAQIECBAgQIAAAQIECBAgQIAAAQIECBAgQIAAAXHODhAgQIAAAQIECBAgQIAAAQIECBAgQIAAAQIECBAICYhzIWhjCBAgQIAAAQIECBAgQIAAAQIECBAgQIAAAQIECIhzdoAAAQIECBAgQIAAAQIECBAgQIAAAQIECBAgQIBASECcC0EbQ4AAAQIECBAgQIAAAQIECBAgQIAAAQIECBAgQECcswMECBAgQIAAAQIECBAgQIAAAQIECBAgQIAAAQIEQgLiXAjaGAIECBAgQIAAAQIECBAgQIAAAQIECBAgQIAAAQLinB0gQIAAAQIECBAgQIAAAQIECBAgQIAAAQIECBAgEBIQ50LQxhAgQIAAAQIECBAgQIAAAQIECBAgQIAAAQIECBAQ5+wAAQIECBAgQIAAAQIECBAgQIAAAQIECBAgQIAAgZCAOBeCNoYAAQIECBAgQIAAAQIECBAgQIAAAQIECBAgQICAOGcHCBAgQIAAAQIECBAgQIAAAQIECBAgQIAAAQIECIQExLkQtDEECBAgQIAAAQIECBAgQIAAAQIECBAgQIAAAQIExDk7QIAAAQIECBAgQIAAAQIECBAgQIAAAQIECBAgQCAkIM6FoI0hQIAAAQIECBAgQIAAAQIECBAgQIAAAQIECBAgIM7ZAQIECBAgQIAAAQIECBAgQIAAAQIECBAgQIAAAQIhAXEuBG0MAQIECBAgQIAAAQIECBAgQIAAAQIECBAgQIAAAXHODhAgQIAAAQIECBAgQIAAAQIECBAgQIAAAQIECBAICYhzIWhjCBAgQIAAAQIECBAgQIAAAQIECBAgQIAAAQIECIhzdoAAAQIECBAgQIAAAQIECBAgQIAAAQIECBAgQIBASECcC0EbQ4AAAQIECBAgQIAAAQIECBAgQIAAAQIECBAgQECcswMECBAgQIAAAQIECBAgQIAAAQIECBAgQIAAAQIEQgLiXAjaGAIECBAgQIAAAQIECBAgQIAAAQIECBAgQIAAAQLinB0gQIAAAQIECBAgQIAAAQIECBAgQIAAAQIECBAgEBIQ50LQxhAgQIAAAQIECBAgQIAAAQIECBAgQIAAAQIECBAQ5+wAAQIECBAgQIAAAQIECBAgQIAAAQIECBAgQIAAgZCAOBeCNoYAAQIECBAgQIAAAQIECBAgQIAAAQIECBAgQICAOGcHCBAgQIAAAQIECBAgQIAAAQIECBAgQIAAAQIECIQExLkQtDEECBAgQIAAAQIECBAgQIAAAQIECBAgQIAAAQIExDk7QIAAAQIECBAgQIAAAQIECBAgQIAAAQIECBAgQCAkIM6FoI0hQIAAAQIECBAgQIAAAQIECBAgQIAAAQIECBAgIM7ZAQIECBAgQIAAAQIECBAgQIAAAQIECBAgQIAAAQIhAXEuBG0MAQIECBAgQIAAAQIECBAgQIAAAQIECBAgQIAAAXHODhAgQIAAAQIECBAgQIAAAQIECBAgQIAAAQIECBAICYhzIWhjCBAgQIAAAQIECBAgQIAAAQIECBAgQIAAAQIECIhzdoAAAQIECBAgQIAAAQIECBAgQIAAAQIECBAgQIBASECcC0EbQ4AAAQIECBAgQIAAAQIECBAgQIAAAQIECBAgQECcswMECBAgQIAAAQIECBAgQIAAAQIECBAgQIAAAQIEQgLiXAjaGAIECBAgQIAAAQIECBAgQIAAAQIECBAgQIAAAQLinB0gQIAAAQIECBAgQIAAAQIECBAgQIAAAQIECBAgEBIQ50LQxhAgQIAAAQIECBAgQIAAAQIECBAgQIAAAQIECBAQ5+wAAQIECBAgQIAAAQIECBAgQIAAAQIECBAgQIAAgZCAOBeCNoYAAQIECBAgQIAAAQIECBAgQIAAAQIECBAgQICAOGcHCBAgQIAAAQIECBAgQIAAAQIECBAgQIAAAQIECIQExLkQtDEECBAgQIAAAQIECBAgQIAAAQIECBAgQIAAAQIExDk7QIAAAQIECBAgQIAAAQIECBAgQIAAAQIECBAgQCAkIM6FoI0hQIAAAQIECBAgQIAAAQIECBAgQIAAAQIECBAgIM7ZAQIECBAgQIAAAQIECBAgQIAAAQIECBAgQIAAAQIhAXEuBG0MAQIECBAgQIAAAQIECBAgQIAAAQIECBAgQIAAAXHODhAgQIAAAQIECBAgQIAAAQIECBAgQIAAAQIECBAICYhzIWhjCBAgQIAAAQIECBAgQIAAAQIECBAgQIAAAQIECIhzdoAAAQIECBAgQIAAAQIECBAgQIAAAQIECBAgQIBASECcC0EbQ4AAAQIECBAgQIAAAQIECBAgQIAAAQIECBAgQECcswMECBAgQIAAAQIECBAgQIAAAQIECBAgQIAAAQIEQgLiXAjaGAIECBAgQIAAAQIECBAgQIAAAQIECBAgQIAAAQLinB0gQIAAAQIECBAgQIAAAQIECBAgQIAAAQIECBAgEBIQ50LQxhAgQIAAAQIECBAgQIAAAQIECBAgQIAAAQIECBAQ5+wAAQIECBAgQIAAAQIECBAgQIAAAQIECBAgQIAAgZCAOBeCNoYAAQIECBAgQIAAAQIECBAgQIAAAQIECBAgQICAOGcHCBAgQIAAAQIECBAgQIAAAQIECBAgQIAAAQIECIQExLkQtDEECBAgQIAAAQIECBAgQIAAAQIECBAgQIAAAQIExDk7QIAAAQIECBAgQIAAAQIECBAgQIAAAQIECBAgQCAkIM6FoI0hQIAAAQIECBAgQIAAAQIECBAgQIAAAQIECBAgIM7ZAQIECBAgQIAAAQIECBAgQIAAAQIECBAgQIAAAQIhAXEuBG0MAQIECBAgQIAAAQIECBAgQIAAAQIECBAgQIAAAXHODhAgQIAAAQIECBAgQIAAAQIECBAgQIAAAQIECBAICYhzIWhjCBAgQIAAAQIECBAgQIAAAQIECBAgQIAAAQIECIhzdoAAAQIECBAgQIAAAQIECBAgQIAAAQIECBAgQIBASECcC0EbQ4AAAQIECBAgQIAAAQIECBAgQIAAAQIECBAgQECcswMECBAgQIAAAQIECBAgQIAAAQIECBAgQIAAAQIEQgLiXAjaGAIECBAgQIAAAQIECBAgQIAAAQIECBAgQIAAAQLinB0gQIAAAQIECBAgQIAAAQIECBAgQIAAAQIECBAgEBIQ50LQxhAgQIAAAQIECBAgQIAAAQIECBAgQIAAAQIECBAQ5+wAAQIECBAgQIAAAQIECBAgQIAAAQIECBAgQIAAgZCAOBeCNoYAAQIECBAgQIAAAQIECBAgQIAAAQIECBAgQICAOGcHCBAgQIAAAQIECBAgQIAAAQIECBAgQIAAAQIECIQExLkQtDEECBAgQIAAAQIECBAgQIAAAQIECBAgQIAAAQIExDk7QIAAAQIECBAgQIAAAQIECBAgQIAAAQIECBAgQCAkIM6FoI0hQIAAAQIECBAgQIAAAQIECBAgQIAAAQIECBAgIM7ZAQIECBAgQIAAAQIECBAgQIAAAQIECBAgQIAAAQIhAXEuBG0MAQIECBAgQIAAAQIECBAgQIAAAQIECBAgQIAAAXHODhAgQIAAAQIECBAgQIAAAQIECBAgQIAAAQIECBAICYhzIWhjCBAgQIAAAQIECBAgQIAAAQIECBAgQIAAAQIECIhzdoAAAQIECBAgQIAAAQIECBAgQIAAAQIECBAgQIBASECcC0EbQ4AAAQIECBAgQIAAAQIECBAgQIAAAQIECBAgQECcswMECBAgQIAAAQIECBAgQIAAAQIECBAgQIAAAQIEQgLiXAjaGAIECBAgQIAAAQIECBAgQIAAAQIECBAgQIAAAQLinB0gQIAAAQIECBAgQIAAAQIECBAgQIAAAQIECBAgEBIQ50LQxhAgQIAAAQIECBAgQIAAAQIECBAgQIAAAQIECBAQ5+wAAQIECBAgQIAAAQIECBAgQIAAAQIECBAgQIAAgZCAOBeCNoYAAQIECBAgQIAAAQIECBAgQIAAAQIECBAgQICAOGcHCBAgQIAAAQIECBAgQIAAAQIECBAgQIAAAQIECIQExLkQtDEECBAgQIAAAQIECBAgQIAAAQIECBAgQIAAAQIExDk7QIAAAQIECBAgQIAAAQIECBAgQIAAAQIECBAgQCAkIM6FoI0hQIAAAQIECBAgQIAAAQIECBAgQIAAAQIECBAgIM7ZAQIECBAgQIAAAQIECBAgQIAAAQIECBAgQIAAAQIhAXEuBG0MAQIECBAgQIAAAQIECBAgQIAAAQIECBAgQIAAAXHODhAgQIAAAQIECBAgQIAAAQIECBAgQIAAAQIECBAICYhzIWhjCBAgQIAAAQIECBAgQIAAAQIECBAgQIAAAQIECIhzdoAAAQIECBAgQIAAAQIECBAgQIAAAQIECBAgQIBASECcC0EbQ4AAAQIECBAgQIAAAQIECBAgQIAAAQIECBAgQECcswMECBAgQIAAAQIECBAgQIAAAQIECBAgQIAAAQIEQgLiXAjaGAIECBAgQIAAAQIECBAgQIAAAQIECBAgQIAAAQLinB0gQIAAAQIECBAgQIAAAQIECBAgQIAAAQIECBAgEBIQ50LQxhAgQIAAAQIECBAgQIAAAQIECBAgQIAAAQIECBAQ5+wAAQIECBAgQIAAAQIECBAgQIAAAQIECBAgQIAAgZCAOBeCNoYAAQIECBAgQIAAAQIECBAgQIAAAQIECBAgQICAOGcHCBAgQIAAAQIECBAgQIAAAQIECBAgQIAAAQIECIQExLkQtDEECBAgQIAAAQIECBAgQIAAAQIECBAgQIAAAQIExDk7QIAAAQIECBAgQIAAAQIECBAgQIAAAQIECBAgQCAkIM6FoI0hQIAAAQIECBAgQIAAAQIECBAgQIAAAQIECBAgIM7ZAQIECBAgQIAAAQIECBAgQIAAAQIECBAgQIAAAQIhAXEuBG0MAQIECBAgQIAAAQIECBAgQIAAAQIECBAgQIAAAXHODhAgQIAAAQIECBAgQIAAAQIECBAgQIAAAQIECBAICYhzIWhjCBAgQIAAAQIECBAgQIAAAQIECBAgQIAAAQIECIhzdoAAAQIECBAgQIAAAQIECBAgQIAAAQIECBAgQIBASECcC0EbQ4AAAQIECBAgQIAAAQIECBAgQIAAAQIECBAgQECcswMECBAgQIAAAQIECBAgQIAAAQIECBAgQIAAAQIEQgLiXAjaGAIECBAgQIAAAQIECBAgQIAAAQIECBAgQIAAAQLinB0gQIAAAQIECBAgQIAAAQIECBAgQIAAAQIECBAgEBIQ50LQxhAgQIAAAQIECBAgQIAAAQIECBAgQIAAAQIECBAQ5+wAAQIECBAgQIAAAQIECBAgQIAAAQIECBAgQIAAgZCAOBeCNoYAAQIECBAgQIAAAQIECBAgQIAAAQIECBAgQICAOGcHCBAgQIAAAQIECBAgQIAAAQIECBAgQIAAAQIECIQExLkQtDEECBAgQIAAAQIECBAgQIAAAQIECBAgQIAAAQIExDk7QIAAAQIECBAgQIAAAQIECBAgQIAAAQIECBAgQCAkIM6FoI0hQIAAAQIECBAgQIAAAQIECBAgQIAAAQIECBAgIM7ZAQIECBAgQIAAAQIECBAgQIAAAQIECBAgQIAAAQIhAXEuBG0MAQIECBAgQIAAAQIECBAgQIAAAQIECBAgQIAAAXHODhAgQIAAAQIECBAgQIAAAQIECBAgQIAAAQIECBAICYhzIWhjCBAgQIAAAQIECBAgQIAAAQIECBAgQIAAAQIECIhzdoAAAQIECBAgQIAAAQIECBAgQIAAAQIECBAgQIBASECcC0EbQ4AAAQIECBAgQIAAAQIECBAgQIAAAQIECBAgQECcswMECBAgQIAAAQIECBAgQIAAAQIECBAgQIAAAQIEQgLiXAjaGAIECBAgQIAAAQIECBAgQIAAAQIECBAgQIAAAQLinB0gQIAAAQIECBAgQIAAAQIECBAgQIAAAQIECBAgEBIQ50LQxhAgQIAAAQIECBAgQIAAAQIECBAgQIAAAQIECBAQ5+wAAQIECBAgQIAAAQIECBAgQIAAAQIECBAgQIAAgZCAOBeCNoYAAQIECBAgQIAAAQIECBAgQIAAAQIECBAgQICAOGcHCBAgQIAAAQIECBAgQIAAAQIECBAgQIAAAQIECIQExLkQtDEECBAgQIAAAQIECBAgQIAAAQIECBAgQIAAAQIExDk7QIAAAQIECBAgQIAAAQIECBAgQIAAAQIECBAgQCAkIM6FoI0hQIAAAQIECBAgQIAAAQIECBAgQIAAAQIECBAgIM7ZAQIECBAgQIAAAQIECBAgQIAAAQIECBAgQIAAAQIhAXEuBG0MAQIECBAgQIAAAQIECBAgQIAAAQIECBAgQIAAAXHODhAgQIAAAQIECBAgQIAAAQIECBAgQIAAAQIECBAICYhzIWhjCBAgQIAAAQIECBAgQIAAAQIECBAgQIAAAQIECIhzdoAAAQIECBAgQIAAAQIECBAgQIAAAQIECBAgQIBASECcC0EbQ4AAAQIECBAgQIAAAQIECBAgQIAAAQIECBAgQECcswMECBAgQIAAAQIECBAgQIAAAQIECBAgQIAAAQIEQgLiXAjaGAIECBAgQIAAAQIECBAgQIAAAQIECBAgQIAAAQLinB0gQIAAAQIECBAgQIAAAQIECBAgQIAAAQIECBAgEBIQ50LQxhAgQIAAAQIECBAgQIAAAQIECBAgQIAAAQIECBAQ5+wAAQIECBAgQIAAAQIECBAgQIAAAQIECBAgQIAAgZCAOBeCNoYAAQIECBAgQIAAAQIECBAgQIAAAQIECBAgQICAOGcHCBAgQIAAAQIECBAgQIAAAQIECBAgQIAAAQIECIQExLkQtDEECBAgQIAAAQIECBAgQIAAAQIECBAgQIAAAQIExDk7QIAAAQIECBAgQIAAAQIECBAgQIAAAQIECBAgQCAkIM6FoI0hQIAAAQIECBAgQIAAAQIECBAgQIAAAQIECBAgIM7ZAQIECBAgQIAAAQIECBAgQIAAAQIECBAgQIAAAQIhAXEuBG0MAQIECBAgQIAAAQIECBAgQIAAAQIECBAgQIAAAXHODhAgQIAAAQIECBAgQIAAAQIECBAgQIAAAQIECBAICYhzIWhjCBAgQIAAAQIECBAgQIAAAQIECBAgQIAAAQIECIhzdoAAAQIECBAgQIAAAQIECBAgQIAAAQIECBAgQIBASECcC0EbQ4AAAQIECBAgQIAAAQIECBAgQIAAAQIECBAgQECcswMECBAgQIAAAQIECBAgQIAAAQIECBAgQIAAAQIEQgLiXAjaGAIECBAgQIAAAQIECBAgQIAAAQIECBAgQIAAAQLinB0gQIAAAQIECBAgQIAAAQIECBAgQIAAAQIECBAgEBIQ50LQxhAgQIAAAQIECBAgQIAAAQIECBAgQIAAAQIECBAQ5+wAAQIECBAgQIAAAQIECBAgQIAAAQIECBAgQIAAgZCAOBeCNoYAAQIECBAgQIAAAQIECBAgQIAAAQIECBAgQICAOGcHCBAgQIAAAQIECBAgQIAAAQIECBAgQIAAAQIECIQExLkQtDEECBAgQIAAAQIECBAgQIDWVgBSAAAgAElEQVQAAQIECBAgQIAAAQIExDk7QIAAAQIECBAgQIAAAQIECBAgQIAAAQIECBAgQCAkIM6FoI0hQIAAAQIECBAgQIAAAQIECBAgQIAAAQIECBAgIM7ZAQIECBAgQIAAAQIECBAgQIAAAQIECBAgQIAAAQIhAXEuBG0MAQIECBAgQIAAAQIECBAgQIAAAQIECBAgQIAAAXHODhAgQIAAAQIECBAgQIAAAQIECBAgQIAAAQIECBAICYhzIWhjCBAgQIAAAQIECBAgQIAAAQIECBAgQIAAAQIECIhzdoAAAQIECBAgQIAAAQIECBAgQIAAAQIECBAgQIBASECcC0EbQ4AAAQIECBAgQIAAAQIECBAgQIAAAQIECBAgQECcswMECBAgQIAAAQIECBAgQIAAAQIECBAgQIAAAQIEQgLiXAjaGAIECBAgQIAAAQIECBAgQIAAAQIECBAgQIAAAQLinB0gQIAAAQIECBAgQIAAAQIECBAgQIAAAQIECBAgEBIQ50LQxhAgQIAAAQIECBAgQIAAAQIECBAgQIAAAQIECBAQ5+wAAQIECBAgQIAAAQIECBAgQIAAAQIECBAgQIAAgZCAOBeCNoYAAQIECBAgQIAAAQIECBAgQIAAAQIECBAgQICAOGcHCBAgQIAAAQIECBAgQIAAAQIECBAgQIAAAQIECIQExLkQtDEECBAgQIAAAQIECBAgQIAAAQIECBAgQIAAAQIExDk7QIAAAQIECBAgQIAAAQIECBAgQIAAAQIECBAgQCAkIM6FoI0hQIAAAQIECBAgQIAAAQIECBAgQIAAAQIECBAgIM7ZAQIECBAgQIAAAQIECBAgQIAAAQIECBAgQIAAAQIhAXEuBG0MAQIECBAgQIAAAQIECBAgQIAAAQIECBAgQIAAAXHODhAgQIAAAQIECBAgQIAAAQIECBAgQIAAAQIECBAICYhzIWhjCBAgQIAAAQIECBAgQIAAAQIECBAgQIAAAQIECIhzdoAAAQIECBAgQIAAAQIECBAgQIAAAQIECBAgQIBASECcC0EbQ4AAAQIECBAgQIAAAQIECBAgQIAAAQIECBAgQECcswMECBAgQIAAAQIECBAgQIAAAQIECBAgQIAAAQIEQgLiXAjaGAIECBAgQIAAAQIECBAgQIAAAQIECBAgQIAAAQLinB0gQIAAAQIECBAgQIAAAQIECBAgQIAAAQIECBAgEBIQ50LQxhAgQIAAAQIECBAgQIAAAQIECBAgQIAAAQIECBAQ5+wAAQIECBAgQIAAAQIECBAgQIAAAQIECBAgQIAAgZCAOBeCNoYAAQIECBAgQIAAAQIECBAgQIAAAQIECBAgQICAOGcHCBAgQIAAAQIECBAgQIAAAQIECBAgQIAAAQIECIQExLkQtDEECBAgQIAAAQIECBAgQIAAAQIECBAgQIAAAQIExDk7QIAAAQIECBAgQIAAAQIECBAgQIAAAQIECBAgQCAkIM6FoI0hQIAAAQIECBAgQIAAAQIECBAgQIAAAQIECBAgIM7ZAQIECBAgQIAAAQIECBAgQIAAAQIECBAgQIAAAQIhAXEuBG0MAQIECBAgQIAAAQIECBAgQIAAAQIECBAgQIAAAXHODhAgQIAAAQIECBAgQIAAAQIECBAgQIAAAQIECBAICYhzIWhjCBAgQIAAAQIECBAgQIAAAQIECBAgQIAAAQIECIhzdoAAAQIECBAgQIAAAQIECBAgQIAAAQIECBAgQIBASECcC0EbQ4AAAQIECBAgQIAAAQIECBAgQIAAAQIECBAgQECcswMECBAgQIAAAQIECBAgQIAAAQIECBAgQIAAAQIEQgLiXAjaGAIECBAgQIAAAQIECBAgQIAAAQIECBAgQIAAAQLinB0gQIAAAQIECBAgQIAAAQIECBAgQIAAAQIECBAgEBIQ50LQxhAgQIAAAQIECBAgQIAAAQIECBAgQIAAAQIECBAQ5+wAAQIECBAgQIAAAQIECBAgQIAAAQIECBAgQIAAgZCAOBeCNoYAAQIECBAgQIAAAQIECBAgQIAAAQIECBAgQICAOGcHCBAgQIAAAQIECBAgQIAAAQIECBAgQIAAAQIECIQExLkQtDEECBAgQIAAAQIECBAgQIAAAQIECBAgQIAAAQIExDk7QIAAAQIECBAgQIAAAQIECBAgQIAAAQIECBAgQCAkIM6FoI0hQIAAAQIECBAgQIAAAQIECBAgQIAAAQIECBAgIM7ZAQIECBAgQIAAAQIECBAgQIAAAQIECBAgQIAAAQIhAXEuBG0MAQIECBAgQIAAAQIECBAgQIAAAQIECBAgQIAAAXHODhAgQIAAAQIECBAgQIAAAQIECBAgQIAAAQIECBAICYhzIWhjCBAgQIAAAQIECBAgQIAAAQIECBAgQIAAAQIECIhzdoAAAQIECBAgQIAAAQIECBAgQIAAAQIECBAgQIBASECcC0EbQ4AAAQIECBAgQIAAAQIECBAgQIAAAQIECBAgQECcswMECBAgQIAAAQIECBAgQIAAAQIECBAgQIAAAQIEQgLiXAjaGAIECBAgQIAAAQIECBAgQIAAAQIECBAgQIAAAQLinB0gQIAAAQIECBAgQIAAAQIECBAgQIAAAQIECBAgEBIQ50LQxhAgQIAAAQIECBAgQIAAAQIECBAgQIAAAQIECBAQ5+wAAQIECBAgQIAAAQIECBAgQIAAAQIECBAgQIAAgZCAOBeCNoYAAQIECBAgQIAAAQIECBAgQIAAAQIECBAgQICAOGcHCBAgQIAAAQIECBAgQIAAAQIECBAgQIAAAQIECIQExLkQtDEECBAgQIAAAQIECBAgQIAAAQIECBAgQIAAAQIExDk7QIAAAQIECBAgQIAAAQIECBAgQIAAAQIECBAgQCAkIM6FoI0hQIAAAQIECBAgQIAAAQIECBAgQIAAAQIECBAgIM7ZAQIECBAgQIAAAQIECBAgQIAAAQIECBAgQIAAAQIhAXEuBG0MAQIECBAgQIAAAQIECBAgQIAAAQIECBAgQIAAAXHODhAgQIAAAQIECBAgQIAAAQIECBAgQIAAAQIECBAICYhzIWhjCBAgQIAAAQIECBAgQIAAAQIECBAgQIAAAQIECIhzdoAAAQIECBAgQIAAAQIECBAgQIAAAQIECBAgQIBASECcC0EbQ4AAAQIECBAgQIAAAQIECBAgQIAAAQIECBAgQECcswMECBAgQIAAAQIECBAgQIAAAQIECBAgQIAAAQIEQgLiXAjaGAIECBAgQIAAAQIECBAgQIAAAQIECBAgQIAAAQLinB0gQIAAAQIECBAgQIAAAQIECBAgQIAAAQIECBAgEBIQ50LQxhAgQIAAAQIECBAgQIAAAQIECBAgQIAAAQIECBAQ5+wAAQIECBAgQIAAAQIECBAgQIAAAQIECBAgQIAAgZCAOBeCNoYAAQIECBAgQIAAAQIECBAgQIAAAQIECBAgQICAOGcHCBAgQIAAAQIECBAgQIAAAQIECBAgQIAAAQIECIQExLkQtDEECBAgQIAAAQIECBAgQIAAAQIECBAgQIAAAQIExDk7QIAAAQIECBAgQIAAAQIECBAgQIAAAQIECBAgQCAkIM6FoI0hQIAAAQIECBAgQIAAAQIECBAgQIAAAQIECBAgIM7ZAQIECBAgQIAAAQIECBAgQIAAAQIECBAgQIAAAQIhAXEuBG0MAQIECBAgQIAAAQIECBAgQIAAAQIECBAgQIAAAXHODhAgQIAAAQIECBAgQIAAAQIECBAgQIAAAQIECBAICYhzIWhjCBAgQIAAAQIECBAgQIAAAQIECBAgQIAAAQIECIhzdoAAAQIECBAgQIAAAQIECBAgQIAAAQIECBAgQIBASECcC0EbQ4AAAQIECBAgQIAAAQIECBAgQIAAAQIECBAgQECcswMECBAgQIAAAQIECBAgQIAAAQIECBAgQIAAAQIEQgLiXAjaGAIECBAgQIAAAQIECBAgQIAAAQIECBAgQIAAAQLinB0gQIAAAQIECBAgQIAAAQIECBAgQIAAAQIECBAgEBIQ50LQxhAgQIAAAQIECBAgQIAAAQIECBAgQIAAAQIECBAQ5+wAAQIECBAgQIAAAQIECBAgQIAAAQIECBAgQIAAgZCAOBeCNoYAAQIECBAgQIAAAQIECBAgQIAAAQIECBAgQICAOGcHCBAgQIAAAQIECBAgQIAAAQIECBAgQIAAAQIECIQExLkQtDEECBAgQIAAAQIECBAgQIAAAQIECBAgQIAAAQIExDk7QIAAAQIECBAgQIAAAQIECBAgQIAAAQIECBAgQCAkIM6FoI0hQIAAAQIECBAgQIAAAQIECBAgQIAAAQIECBAgIM7ZAQIECBAgQIAAAQIECBAgQIAAAQIECBAgQIAAAQIhAXEuBG0MAQIECBAgQIAAAQIECBAgQIAAAQIECBAgQIAAAXHODhAgQIAAAQIECBAgQIAAAQIECBAgQIAAAQIECBAICYhzIWhjCBAgQIAAAQIECBAgQIAAAQIECBAgQIAAAQIECIhzdoAAAQIECBAgQIAAAQIECBAgQIAAAQIECBAgQIBASECcC0EbQ4AAAQIECBAgQIAAAQIECBAgQIAAAQIECBAgQECcswMECBAgQIAAAQIECBAgQIAAAQIECBAgQIAAAQIEQgLiXAjaGAIECBAgQIAAAQIECBAgQIAAAQIECBAgQIAAAQLinB0gQIAAAQIECBAgQIAAAQIECBAgQIAAAQIECBAgEBIQ50LQxhAgQIAAAQIECBAgQIAAAQIECBAgQIAAAQIECBAQ5+wAAQIECBAgQIAAAQIECBAgQIAAAQIECBAgQIAAgZCAOBeCNoYAAQIECBAgQIAAAQIECBAgQIAAAQIECBAgQICAOGcHCBAgQIAAAQIECBAgQIAAAQIECBAgQIAAAQIECIQExLkQtDEECBAgQIAAAQIECBAgQIAAAQIECBAgQIAAAQIExDk7QIAAAQIECBAgQIAAAQIECBAgQIAAAQIECBAgQCAkIM6FoI0hQIAAAQIECBAgQIAAAQIECBAgQIAAAQIECBAgIM7ZAQIECBAgQIAAAQIECBAgQIAAAQIECBAgQIAAAQIhAXEuBG0MAQIECBAgQIAAAQIECBAgQIAAAQIECBAgQIAAAXHODhAgQIAAAQIECBAgQIAAAQIECBAgQIAAAQIECBAICYhzIWhjCBAgQIAAAQIECBAgQIAAAQIECBAgQIAAAQIECIhzdoAAAQIECBAgQIAAAQIECBAgQIAAAQIECBAgQIBASECcC0EbQ4AAAQIECBAgQIAAAQIECBAgQIAAAQIECBAgQECcswMECBAgQIAAAQIECBAgQIAAAQIECBAgQIAAAQIEQgLiXAjaGAIECBAgQIAAAQIECBAgQIAAAQIECBAgQIAAAQLinB0gQIAAAQIECBAgQIAAAQIECBAgQIAAAQIECBAgEBIQ50LQxhAgQIAAAQIECBAgQIAAAQIECBAgQIAAAQIECBAQ5+wAAQIECBAgQIAAAQIECBAgQIAAAQIECBAgQIAAgZCAOBeCNoYAAQIECBAgQIAAAQIECBAgQIAAAQIECBAgQICAOGcHCBAgQIAAAQIECBAgQIAAAQIECBAgQIAAAQIECIQExLkQtDEECBAgQIAAAQIECBAgQIAAAQIECBAgQIAAAQIExDk7QIAAAQIECBAgQIAAAQIECBAgQIAAAQIECBAgQCAkIM6FoI0hQIAAAQIECBAgQIAAAQIECBAgQIAAAQIECBAgIM7ZAQIECBAgQIAAAQIECBAgQIAAAQIECBAgQIAAAQIhAXEuBG0MAQIECBAgQIAAAQIECBAgQIAAAQIECBAgQIAAAXHODhAgQIAAAQIECBAgQIAAAQIECBAgQIAAAQIECBAICYhzIWhjCBAgQIAAAQIECBAgQIAAAQIECBAgQIAAAQIECIhzdoAAAQIECBAgQIAAAQIECBAgQIAAAQIECBAgQIBASECcC0EbQ4AAAQIECBAgQIAAAQIECBAgQIAAAQIECBAgQECcswMECBAgQIAAAQIECBAgQIAAAQIECBAgQIAAAQIEQgLiXAjaGAIECBAgQIAAAQIECBAgQIAAAQIECBAgQIAAAQLinB0gQIAAAQIECBAgQIAAAQIECBAgQIAAAQIECBAgEBIQ50LQxhAgQIAAAQIECBAgQIAAAQIECBAgQIAAAQIECBAQ5+wAAQIECBAgQIAAAQIECBAgQIAAAQIECBAgQIAAgZCAOBeCNoYAAQIECBAgQIAAAQIECBAgQIAAAQIECBAgQICAOGcHCBAgQIAAAQIECBAgQIAAAQIECBAgQIAAAQIECIQExLkQtDEECBAgQIAAAQIECBAgQIAAAQIECBAgQIAAAQIExDk7QIAAAQIECBAgQIAAAQIECBAgQIAAAQIECBAgQCAkIM6FoI0hQIAAAQIECBAgQIAAAQIECBAgQIAAAQIECBAgIM7ZAQIECBAgQIAAAQIECBAgQIAAAQIECBAgQIAAAQIhAXEuBG0MAQIECBAgQIAAAQIECBAgQIAAAQIECBAgQIAAAXHODhAgQIAAAQIECBAgQIAAAQIECBAgQIAAAQIECBAICYhzIWhjCBAgQIAAAQIECBAgQIAAAQIECBAgQIAAAQIECIhzdoAAAQIECBAgQIAAAQIECBAgQIAAAQIECBAgQIBASECcC0EbQ4AAAQIECBAgQIAAAQIECBAgQIAAAQIECBAgQECcswMECBAgQIAAAQIECBAgQIAAAQIECBAgQIAAAQIEQgLiXAjaGAIECBAgQIAAAQIECBAgQIAAAQIECBAgQIAAAQLinB0gQIAAAQIECBAgQIAAAQIECBAgQIAAAQIECBAgEBIQ50LQxhAgQIAAAQIECBAgQIAAAQIECBAgQIAAAQIECBAQ5+wAAQIECBAgQIAAAQIECBAgQIAAAQIECBAgQIAAgZCAOBeCNoYAAQIECBAgQIAAAQIECBAgQIAAAQIECBAgQICAOGcHCBAgQIAAAQIECBAgQIAAAQIECBAgQIAAAQIECIQExLkQtDEECBAgQIAAAQIECBAgQIAAAQIECBAgQIAAAQIExDk7QIAAAQIECBAgQIAAAQIECBAgQIAAAQIECBAgQCAkIM6FoI0hQIAAAQIECBAgQIAAAQIECBAgQIAAAQIECBAgIM7ZAQIECBAgQIAAAQIECBAgQIAAAQIECBAgQIAAAQIhAXEuBG0MAQIECBAgQIAAAQIECBAgQIAAAQIECBAgQIAAAXHODhAgQIAAAQIECBAgQIAAAQIECBAgQIAAAQIECBAICYhzIWhjCBAgQIAAAQIECBAgQIAAAQIECBAgQIAAAQIECIhzdoAAAQIECBAgQIAAAQIECBAgQIAAAQIECBAgQIBASECcC0EbQ4AAAQIECBAgQIAAAQIECBAgQIAAAQIECBAgQECcswMECBAgQIAAAQIECBAgQIAAAQIECBAgQIAAAQIEQgLiXAjaGAIECBAgQIAAAQIECBAgQIAAAQIECBAgQIAAAQLinB0gQIAAAQIECBAgQIAAAQIECBAgQIAAAQIECBAgEBIQ50LQxhAgQIAAAQIECBAgQIAAAQIECBAgQIAAAQIECBAQ5+wAAQIECBAgQIAAAQIECBAgQIAAAQIECBAgQIAAgZCAOBeCNoYAAQIECBAgQIAAAQIECBAgQIAAAQIECBAgQICAOGcHCBAgQIAAAQIECBAgQIAAAQIECBAgQIAAAQIECIQExLkQtDEECBAgQIAAAQIECBAgQIAAAQIECBAgQIAAAQIExDk7QIAAAQIECBAgQIAAAQIECBAgQIAAAQIECBAgQCAkIM6FoI0hQIAAAQIECBAgQIAAAQIECBAgQIAAAQIECBAgIM7ZAQIECBAgQIAAAQIECBAgQIAAAQIECBAgQIAAAQIhAXEuBG0MAQIECBAgQIAAAQIECBAgQIAAAQIECBAgQIAAAXHODhAgQIAAAQIECBAgQIAAAQIECBAgQIAAAQIECBAICYhzIWhjCBAgQIAAAQIECBAgQIAAAQIECBAgQIAAAQIECIhzdoAAAQIECBAgQIAAAQIECBAgQIAAAQIECBAgQIBASECcC0EbQ4AAAQIECBAgQIAAAQIECBAgQIAAAQIECBAgQECcswMECBAgQIAAAQIECBAgQIAAAQIECBAgQIAAAQIEQgLiXAjaGAIECBAgQIAAAQIECBAgQIAAAQIECBAgQIAAAQLinB0gQIAAAQIECBAgQIAAAQIECBAgQIAAAQIECBAgEBIQ50LQxhAgQIAAAQIECBAgQIAAAQIECBAgQIAAAQIECBAQ5+wAAQIECBAgQIAAAQIECBAgQIAAAQIECBAgQIAAgZCAOBeCNoYAAQIECBAgQIAAAQIECBAgQIAAAQIECBAgQICAOGcHCBAgQIAAAQIECBAgQIAAAQIECBAgQIAAAQIECIQExLkQtDEECBAgQIAAAQIECBAgQIAAAQIECBAgQIAAAQIExDk7QIAAAQIECBAgQIAAAQIECBAgQIAAAQIECBAgQCAkIM6FoI0hQIAAAQIECBAgQIAAAQIECBAgQIAAAQIECBAgIM7ZAQIECBAgQIAAAQIECBAgQIAAAQIECBAgQIAAAQIhAXEuBG0MAQIECBAgQIAAAQIECBAgQIAAAQIECBAgQIAAAXHODhAgQIAAAQIECBAgQIAAAQIECBAgQIAAAQIECBAICYhzIWhjCBAgQIAAAQIECBAgQIAAAQIECBAgQIAAAQIECIhzdoAAAQIECBAgQIAAAQIECBAgQIAAAQIECBAgQIBASECcC0EbQ4AAAQIECBAgQIAAAQIECBAgQIAAAQIECBAgQECcswMECBAgQIAAAQIECBAgQIAAAQIECBAgQIAAAQIEQgLiXAjaGAIECBAgQIAAAQIECBAgQIAAAQIECBAgQIAAAQLinB0gQIAAAQIECBAgQIAAAQIECBAgQIAAAQIECBAgEBIQ50LQxhAgQIAAAQIECBAgQIAAAQIECBAgQIAAAQIECBAQ5+wAAQIECBAgQIAAAQIECBAgQIAAAQIECBAgQIAAgZCAOBeCNoYAAQIECBAgQIAAAQIECBAgQIAAAQIECBAgQICAOGcHCBAgQIAAAQIECBAgQIAAAQIECBAgQIAAAQIECIQExLkQtDEECBAgQIAAAQIECBAgQIAAAQIECBAgQIAAAQIExDk7QIAAAQIECBAgQIAAAQIECBAgQIAAAQIECBAgQCAkIM6FoI0hQIAAAQIECBAgQIAAAQIECBAgQIAAAQIECBAgIM7ZAQIECBAgQIAAAQIECBAgQIAAAQIECBAgQIAAAQIhAXEuBG0MAQIECBAgQIAAAQIECBAgQIAAAQIECBAgQIAAAXHODhAgQIAAAQIECBAgQIAAAQIECBAgQIAAAQIECBAICYhzIWhjCBAgQIAAAQIECBAgQIAAAQIECBAgQIAAAQIECIhzdoAAAQIECBAgQIAAAQIECBAgQIAAAQIECBAgQIBASECcC0EbQ4AAAQIECBAgQIAAAQIECBAgQIAAAQIECBAgQECcswMECBAgQIAAAQIECBAgQIAAAQIECBAgQIAAAQIEQgLiXAjaGAIECBAgQIAAAQIECBAgQIAAAQIECBAgQIAAAQLinB0gQIAAAQIECBAgQIAAAQIECBAgQIAAAQIECBAgEBIQ50LQxhAgQIAAAQIECBAgQIAAAQIECBAgQIAAAQIECBAQ5+wAAQIECBAgQIAAAQIECBAgQIAAAQIECBAgQIAAgZCAOBeCNoYAAQIECBAgQIAAAQIECBAgQIAAAQIECBAgQICAOGcHCBAgQIAAAQIECBAgQIAAAQIECBAgQIAAAQIECIQExLkQtDEECBAgQIAAAQIECBAgQIAAAQIECBAgQIAAAQIExDk7QIAAAQIECBAgQIAAAQIECBAgQIAAAQIECBAgQCAkIM6FoI0hQIAAAQIECBAgQIAAAQIECBAgQIAAAQIECBAgIM7ZAQIECBAgQIAAAQIECBAgQIAAAQIECBAgQIAAAQIhAXEuBG0MAQIECBAgQIAAAQIECBAgQIAAAQIECBAgQIAAAXHODhAgQIAAAQIECBAgQIAAAQIECBAgQIAAAQIECBAICYhzIWhjCBAgQIAAAQIECBAgQIAAAQIECBAgQIAAAQIECIhzdoAAAQIECBAgQIAAAQIECBAgQIAAAQIECBAgQIBASECcC0EbQ4AAAQIECBAgQIAAAQIECBAgQIAAAQIECBAgQECcswMECBAgQIAAAQIECBAgQIAAAQIECBAgQIAAAQIEQgLiXAjaGAIECBAgQIAAAQIECBAgQIAAAQIECBAgQIAAAQLinB0gQIAAAQIECBAgQIAAAQIECBAgQIAAAQIECBAgEBIQ50LQxhAgQIAAAQIECBAgQIAAAQIECBAgQIAAAQIECBAQ5+wAAQIECBAgQIAAAQIECBAgQIAAAQIECBAgQIAAgZCAOBeCNoYAAQIECBAgQIAAAQIECBAgQIAAAQIECBAgQICAOGcHCBAgQIAAAQIECBAgQIAAAQIECBAgQIAAAQIECIQExLkQtDEECBAgQIAAAQIECBAgQIAAAQIECBAgQIAAAQIExDk7QIAAAQIECBAgQIAAAQIECBAgQIAAAQIECBAgQCAkIM6FoI0hQIAAAQIECBAgQIAAAQIECBAgQIAAAQIECBAgIM7ZAQIECBAgQIAAAQIECBAgQIAAAQIECBAgQIAAAQIhAXEuBG0MAQIECBAgQIAAAQIECBAgQIAAAQIECBAgQIAAAXHODhAgQIAAAQIECBAgQIAAAQIECBAgQIAAAQIECBAICYhzIWhjCBAgQIAAAQIECBAgQIAAAQIECBAgQIAAAQIECIhzdoAAAQIECBAgQIAAAXKeO1oAACAASURBVAIECBAgQIAAAQIECBAgQIBASECcC0EbQ4AAAQIECBAgQIAAAQIECBAgQIAAAQIECBAgQECcswMECBAgQIAAAQIECBAgQIAAAQIECBAgQIAAAQIEQgLiXAjaGAIECBAgQIAAAQIEJl5gxowZbZ999mlbbLHFvw1766232vLly9vatWtHvJFp06a1WbNmtW233bYtWbKkrVy5cuJveNiELbfcsp1yyintuOOOa7vuumufP3/+/PbKK69M2H3UZ61506dPb7///e/bgw8+2N55550Jm+cHEyBAgAABAgQIECBAgEBr4pwtIECAAAECBAgQIEBgUgi85z3vaXPnzm0nnnjiiHGuPmSFp2effbbde++97Z577mn/+Mc/+mfffvvt23nnnddmzpzZ/7xq1ap2+eWX9/+buta//xUrVkxonKuAeeqpp7Y5c+a0mv3aa6+1q6++uj3wwAOpj2wOAQIECBAgQIAAAQIEpqSAODclf+0+NAECBAgQIECAAIHJJzCeODf41BXpli1b1hYuXNhPpu28887t29/+dtt33337l7z66qttwYIF7ZFHHolBbew4Vz/v4IMP7sFxv/326yfjFi9e3P75z3/2z7T11lu3c889tx1xxBE9Ztbf/+QnP2m33nqr03Ox37pBBAgQIECAAAECBAhMRQFxbir+1n1mAgQIECBAgAABApNQYP24VYHtT3/6U3v77bf7p91hhx3a/vvv39773vf2P1eMuu2229rNN9/c/1ynyGbPnt222mqrHrJ+8IMfjPoIzIng29hxbqeddmrz5s1rBxxwQI9td911V1u0aNFQnKvPcPjhh7ezzjqr7bjjjv2U4FVXXdWefPLJifh4fiYBAgQIECBAgAABAgQI/L+AOGcVCBAgQIAAAQIECBCYFALjiVt77rlnu+CCC3qkq+svf/lLu/TSS9uaNWv6n+vkXD3i8vHHH18nYiWAxnP/7+Y+xhPn6ufV++3qnXNPPPFEf7SliwABAgQIECBAgAABAgQmVkCcm1hfP50AAQIECBAgQIAAgZDAeOJWPb7x5JNPbqeddlp/rGM90vKKK65ojz32WJsxY0bbZ599+iMeX3zxxaFAV38ePO6yTpXVKbTh15Zbbtk+8pGP9MhVV53Ye/TRR9tbb73V/1wn9urRkfVoyTqVVyf2at5vfvOboa+prxvP/dc916MqP/axj7X3ve99/V5Wr17dli5d2p577rl17ms8ca4e5/nRj360z37jjTf6fb/++us9UNaMmlenD1944YVWP+/oo49ue+21Vzeqv1uyZEl/h99IV31N/YxPfepT3aBOMK5cubLfa51e/PCHP9zf+TeYGVoTYwgQIECAAAECBAgQILDJBcS5Tf4rcAMECBAgQIAAAQIECGwMgfHErZrzmc98pp1zzjltu+226yfF6lGOf/jDH9rcuXPbiSee2MPTihUr+t/Xoy7r0Y/1dy+99FK78sore1gbflWwOuOMM3rQqgBVj4/80Y9+1L9k1qxZbc6cOT2krX9VTLvxxhvbQw891P9pQ/df318/55hjjulz1r8qcv3yl79sP/7xj/s9fPOb32yf/OQnR2St04KXXXZZe/755/vPq8dabrvttu3ll1/uobJODVZsvOiii3qQ+9WvftWD3bHHHjv0SNDBD66gV48FvfPOO9u//vWvoXl1QvHMM89sBx10ULcbfpX52rVrW33NII7WTBcBAgQIECBAgAABAgSmioA4N1V+0z4nAQIECBAgQIAAgUkuMN44d8IJJ7SvfvWrbZtttumR6Lvf/W4/HbZ+nJs/f37bY489+mMwd9lll65XEakCXZ2sq6tOw33jG9/oX1fX8uXL+79XdPrc5z7X417NGe2qQLZgwYL+SMkN3X+dcLv44ov7++NGuyqO3Xfffe2mm25qZ599do+QI111oq+i4M9//vMx49wHPvCBMbemDOv9fIPIOG3atHb++ef3U3NjXcOD4Fhf698JECBAgAABAgQIECAwWQTEucnym/Q5CBAgQIAAAQIECExxgfHEuXq84nnnndcOPfTQfqLrqaee6u+cq9g2Upyr8FQx7ytf+Uo/NTYIYDfccEP/c0WoQw45pMvXYx7rtF2drKuTZ3V6raJaXRWh6mRbnb6rR2fWYy7rtFo9lrL+fuHChf1nj3QPFfrq0Zlf+tKX+iM5n3nmmf4oyAp7dYruqKOO6u+Mq6vut+6hAlk9/rLuY3Bqb9WqVf1762Rd3WM9krLuY0Mn54bHubqPZcuWtaeffro/2rJODA4+Q/2sa6+9tj+y8wtf+EL7/Oc/32Njfb4KlhXuam49yrJO9NX3DVwGp/Wm+Pr6+AQIECBAgAABAgQITCEBcW4K/bJ9VAIECBAgQIAAAQKTWWCsk2eHHXZYO/LII4feK1cx7O67726LFi3qLKOFsYpwdRKtQlYFvXrEY508qyBWj8Gs98i9+eab/VGWdRqt/lwn8+qRlvX1FeYqmP3xj3/scyq0ffGLX+wn6+qeK+pVIKzoNdo91PdVWKx3wNXPG37VfX3961/vsbDiWN3H7bff3h9JOW/evH7ariJZPW6zPmt9zeAa67GWFefqex955JF23XXXtTVr1vRvHYTJmTNn9s9YJw/rUZn1/3/rW98aOuFXJw0rvg3uuf69zCp21olCJ+cm83+RPhsBAgQIECBAgAABAqMJiHN2gwABAgQIECBAgACBSSGwfpwb60NVOPre977XT6CNdepu99137yfh6jGWdVWMq++p/w0/TVePjFw/iv36179u11xzTat/G1wzZszoEat+7t///vd2/fXXt/q6DcW50T7P3nvv3X/Wbrvt1u/llltuaYsXL27vf//7N0qcq/urk311wm9wVWA87bTT2uzZs3tsrBOI3/nOd/rjPesxnzW73oNX78CrUFiBb3CNFgTH+n35dwIECBAgQIAAAQIECEwWAXFusvwmfQ4CBAgQIECAAAECU1xgvHGuItn999/fA9bgRNdYca5o6/GV9UjMim/Dr5UrV/b31q1evbr/9fBYNp5fySCo/exnP2unn356P1lWJ8xWrFjR6r139TjJuupRkMcff3w//ffBD36wh8H1r1Scq/urx2zOmTNnnThX75kbPCbztdde6ycGB++iG9yrODeerfA1BAgQIECAAAECBAhMZgFxbjL/dn02AgQIECBAgAABAlNIYP3AVie36h1sFazq5FadkKvgVSfA6h1zw6/xxLmR4l+Fs+9///vt4YcfHvpx9Z63iy66qA1/X9uGfg11b/U4zHoc5Ze//OUR41ydRKtHVw7elTfaz9vUca7eJ1eP9KzHb9b79S6//PL2xBNPrHO74twU+o/SRyVAgAABAgQIECBAYEQBcc5iECBAgAABAgQIECAwKQTGE9hG+6Dj+d6KbhdeeGHbZZddhn5MvX/uhz/8YVuyZMnQ39WjLy+++OL+dRXe6pGPzz333KjGFdTqnW6//e1vRzw5V4Gx3k9X76mr6FXvjKt3vNX/6uRfvf+tTtvVvE0d5w466KB25pln9lN+r776aj9ROHjX3gBAnJsU/7n5EAQIECBAgAABAgQI/BcC4tx/gedbCRAgQIAAAQIECBD43xEYT2D7T+PctGnT+rvUKtCtf1V4u/LKK1s93rKu+tp58+a1fffdt8e5CnfXXnttfwfbhq7R7r/e+Vbvu6tTafXzli5d2q6++uqhd9jVvEsuuaTVe+w2dZyrR3qef/75bYcddhh6l94vfvGLdT62OPe/89+MOyFAgAABAgQIECBAYNMIiHObxt1UAgQIECBAgAABAgQ2ssBExbltttmmfe1rX2uf/exn+/vV6p11y5Yta3VKrB43WcHsd7/7XX+8Zb1nrU6NnXPOOe3www/v745bs2ZNu+KKK9qf//zn/yjO1Um5OolX73Or+Fbvprv55pv73LoqytW/77HHHhuMc/XozBtuuKGfvBtco4Wy4Y/mrDi4cOHC/jjQwTXaO+fKqsJkvROv7q9OA5ZL/YwNzaxTgPvvv38Pm4899lh744032oEHHti9H3300f6I0DqR+Ne//rU988wzG3lz/DgCBAgQIECAAAECBAhkBcS5rLdpBAgQIECAAAECBAhMkMBExbmjjz66nXHGGW377bfv8asiVUWuE044oZ166qmtglQFr1tuuaX99Kc/7V8zc+bMdu655/YTZHVVfFq0aFF/511dFaGOO+64Hpwqtj3++ONttPt/88032wUXXNAOO+ywoZ911VVX9ej3iU98or+nrgJdXcNPztX9DqJe/VtFrwULFvRg+Pbbb/dHYm7sOFePsqzHWlbIrDl173feeWe79dZb+8yjjjqqP6Jz99137/db91CPviyHsqywuWrVqqHPVl9TZrvuumvbaaed+qMyr7vuuh79XAQIECBAgAABAgQIENhcBcS5zfU3574JECBAgAABAgQIEFhHYCLi3M4779wfZ1mn0uqqiFaPsHzxxRf7u97OPvvsdsQRR/QQVeGoHl/5wAMP9HfDzZ07twe8Ov01uAan1upe66rTZXfffXe78cYb+5/re+r9cfXzKkrNnz+/vfLKK+3YY4/tgbBmDr6vflbNGX4Nj3NbbbVVP/FX91A/b3DVzHvuuae/K6/u/ayzzupRrEJZnfCrz/ifnpwrl3qcZz2Gc2C2oTWtmXWybtasWf2xnXXVycSKenUqsa46RVf3V4517yOdAPSfAgECBAgQIECAAAECBDYnAXFuc/ptuVcCBAgQIECAAAECBEYV2Nhxrt7rdvrpp7dDDjmkz3zhhRdanVirE2iDq06AVYiqk191PfXUUz3ePf300z2k1am2OiG3fkQbfH/Fpop511xzTX/042hxruJUhbaKdMNj3+DnVBgcnNKrE3yLFy/uIatCWb0Dbq+99lrHrd6Pd+mll/ZHZW7sOFeD6uRgnaCruLmhq+JceX384x9vs2fP7p/tpZde6v874IAD+rc+++yz/dTcdttt140qZFZcdBEgQIAAAQIECBAgQGBzFRDnNtffnPsmQIAAAQIECBAgQGAdgTodVo9+PPTQQ3vkqUB211139VNYY10jfW8FrHpvXIWxeiRjvWfuwQcfHHrX2+BnfuhDH+rRbLSv23vvvftjHuvrBiff/va3v/X3p1WYW758eX8c5Vj3X/Hx05/+dD/tNngsZJ1UW7p0aQ+Gxx9/fD9tVo98fOihh4Y+cj1Cc86cOT3E1c+ok2j177fffnvbbbfdejys+6oTevUIynpcZj1G8qSTTupRrPzuvffeVh7DrzrpVvdTP7MC2h133NFef/31oS+p98TVqb2KmxXW6qRfxcu1a9d2j+Gn9epn1+NDp0+f3u6///72/PPP9++tn33ffff1d9jVIzzLqszKy0WAAAECBAgQIECAAIHNVUCc21x/c+6bAAECBAgQIECAAAECm5lABcg6IVcnCiu81WnEyy677N/C32b2sdwuAQIECBAgQIAAAQIE3pWAOPeuuHwxAQIECBAgQIAAAQIECIwlUI/TPPjgg/spvtWrVw99eZ3iq3f41Tvt6nryySf7e/XqBKCLAAECBAgQIECAAAECU0VAnJsqv2mfkwABAgQIECBAgMD/tXfHNnEEUBRFpwRCUjIk+qAVGqMDMmiAEqiEhABrCCw5cHBfsML4EL+vZc+GV5ohQOACAuf79c73zZ2PrjwfP3k+XvR8TOX5GMubm5vf78Y7H3P5/Px8PD09eUzlBX4XH0GAAAECBAgQIECAwPcREOe+z2/hPyFAgAABAgQIECBAgMA/L3C+x+7h4eE437X3t7/Pz8+v9949Pj5+vYPOHwECBAgQIECAAAECBP4nAXHuf/q1fVcCBAgQIECAAAECBAhcQOD6+vq4v78/7u7ujqurqz8+8XyE5evr6/Hy8nK8v79f4L/xEQQIECBAgAABAgQIEPheAuLc9/o9/DcECBAgQIAAAQIECBD4UQLnYy5vb2+/vtPb29vx8fHxo76fL0OAAAECBAgQIECAAIEqIM5VMXsCBAgQIECAAAECBAgQIECAAAECBAgQIECAAAECo4A4N8I5I0CAAAECBAgQIECAAAECBAgQIECAAAECBAgQIFAFxLkqZk+AAAECBAgQIECAAAECBAgQIECAAAECBAgQIEBgFBDnRjhnBAgQIECAAAECBAgQIECAAAECBAgQIECAAAECBKqAOFfF7AkQIECAAAECBAgQIECAAAECBAgQIECAAAECBAiMAuLcCOeMAAECBAgQIECAAAECBAgQIECAAAECBAgQIECAQBUQ56qYPQECBAgQIECAAAECBAgQIECAAAECBAgQIECAAIFRQJwb4ZwRIECAAAECBAgQIECAAAECBAgQIECAAAECBAgQqALiXBWzJ0CAAAECBAgQIECAAAECBAgQIECAAAECBAgQIDAKiHMjnDMCBAgQIECAAAECBAgQIECAAAECBAgQIECAAAECVUCcq2L2BAgQIECAAAECBAgQIECAAAECBAgQIECAAAECBEYBcW6Ec0aAAAECBAgQIECAAAECBAgQIECAAAECBAgQIECgCohzVcyeAAECBAgQIECAAAECBAgQIECAAAECBAgQIECAwCggzo1wzggQIECAAAECBAgQIECAAAECBAgQIECAAAECBAhUAXGuitkTIECAAAECBAgQIECAAAECBAgQIECAAAECBAgQGAXEuRHOGQECBAgQIECAAAECBAgQIECAAAECBAgQIECAAIEqIM5VMXsCBAgQIECAAAECBAgQIECAAAECBAgQIECAAAECo4A4N8I5I0CAAAECBAgQIECAAAECBAgQIECAAAECBAgQIFAFxLkqZk+AAAECBAgQIECAAAECBAgQIECAAAECBAgQIEBgFBDnRjhnBAgQIECAAAECBAgQIECAAAECBAgQIECAAAECBKqAOFfF7AkQIECAAAECBAgQIECAAAECBAgQIECAAAECBAiMAuLcCOeMAAECBAgQIECAAAECBAgQIECAAAECBAgQIECAQBUQ56qYPQECBAgQIECAAAECBAgQIECAAAECBAgQIECAAIFRQJwb4ZwRIECAAAECBAgQIECAAAECBAgQIECAAAECBAgQqALiXBWzJ0CAAAECBAgQIECAAAECBAgQIECAAAECBAgQIDAKiHMjnDMCBAgQIECAAAECBAgQIECAAAECBAgQIECAAAECVUCcq2L2BAgQIECAAAECBAgQIECAAAECBAgQIECAAAECBEYBcW6Ec0aAAAECBAgQIECAAAECBAgQIECAAAECBAgQIECgCohzVcyeAAECBAgQIECAAAECBAgQIECAAAECBAgQIECAwCggzo1wzggQIECAAAECBAgQIECAAAECBAgQIECAAAECBAhUAXGuitkTIECAAAECBAgQIECAAAECBAgQIECAAAECBAgQGAXEuRHOGQECBAgQIECAAAECBAgQIECAAAECBAgQIECAAIEqIM5VMXsCBAgQIECAAAECBAgQIECAAAECBAgQIECAAAECo4A4N8I5I0CAAAECBAgQIECAAAECBAgQIECAAAECBAgQIFAFxLkqZk+AAAECBAgQIECAAAECBAgQIECAAAECBAgQIEBgFBDnRjhnBAgQIECAAAECBAgQIECAAAECBAgQIECAAAECBKqAOFfF7AkQIECAAAECBAgQIECAAAECBAgQIECAAAECBAiMAuLcCOeMAAECBAgQIECAAAECBAgQIECAAAECBAgQIECAQBUQ56qYPQECBAgQIECAAAECBAgQIECAAAECBAgQIECAAIFRQJwb4ZwRIECAAAECBAgQIECAAAECBAgQIECAAAECBAgQqALiXBWzJ0CAAAECBAgQIECAAAECBAgQIECAAAECBAgQIDAKiHMjnDMCBAgQIECAAAECBAgQIECAAAECBAgQIECAAAECVUCcq2L2BAgQIECAAAECBAgQIECAAAECBAgQIECAAAECBEYBcW6Ec0aAAAECBAgQIECAAAECBAgQIECAAAECBAgQIECgCohzVcyeAAECBAgQIECAAAECBAgQIECAAAECBAgQIECAwCggzo1wzggQIECAAAECBAgQIECAAAECBAgQIECAAAECBAhUAXGuitkTIECAAAECBAgQIECAAAECBAgQIECAAAECBAgQGAXEuRHOGQECBAgQIECAAAECBAgQIECAAAECBAgQIECAAIEqIM5VMXsCBAgQIECAAAECBAgQIECAAAECBAgQIECAAAECo4A4N8I5I0CAAAECBAgQIECAAAECBAgQIECAAAECBAgQIFAFxLkqZk+AAAECBAgQIECAAAECBAgQIECAAAECBAgQIEBgFBDnRjhnBAgQIECAAAECBAgQIECAAAECBAgQIECAAAECBKqAOFfF7AkQIECAAAECBAgQIECAAAECBAgQIECAAAECBAiMAuLcCOeMAAECBAgQIECAAAECBAgQIECAAAECBAgQIECAQBUQ56qYPQECBAgQIECAAAECBAgQIECAAAECBAgQIECAAIFRQJwb4ZwRIECAAAECBAgQIECAAAECBAgQIECAAAECBAgQqALiXBWzJ0CAAAECBAgQIECAAAECBAgQIECAAAECBAgQIDAKiHMjnDMCBAgQIECAAAECBAgQIECAAAECBAgQIECAAAECVUCcq2L2BAgQIECAAAECBAgQIECAAAECBAgQIECAAAECBEYBcW6Ec0aAAAECBAgQIECAAAECBAgQIECAAAECBAgQIECgCohzVcyeAAECBAgQIECAAAECBAgQIECAAAECBAgQIECAwCggzo1wzggQIECAAAECBAgQIECAAAECBAgQIECAAAECBAhUAXGuitkTIECAAAECBAgQIECAAAECBAgQIECAAAECBAgQGAXEuRHOGQECBAgQIECAAAECBAgQIECAAAECBAgQIECAAIEqIM5VMXsCBAgQIECAAAECBAgQIECAAAECBAgQIECAAAECo4A4N8I5I0CAAAECBAgQIECAAAECBAgQIECAAAECBAgQIFAFxLkqZk+AAAECBAgQIECAAAECBAgQIECAAAECBAgQIEBgFBDnRjhnBAgQIECAAAECBAgQIECAAAECBAgQIECAAAECBKqAOFfF7AkQIECAAAECBAgQIECAAAECBAgQIECAAAECBAiMAuLcCOeMAAECBAgQIECAAAECBAgQIECAAAECBAgQIECAQBUQ56qYPQECBAgQIECAAAECBAgQIECAAAECBAgQIECAAIFRQJwb4ZwRIECAAAECBAgQIECAAAECBAgQIECAAAECBAgQqALiXBWzJ0CAAAECBAgQIECAAAECBAgQIECAAAECBAgQIDAKiHMjnDMCBAgQIECAAAECBAgQIECAAAECBAgQIECAAAECVUCcq2L2BAgQIECAAAECBAgQIECAAAECBAgQIECAAAECBEYBcW6Ec0aAAAECBAgQIECAAAECBAgQIECAAAECBAgQIECgCohzVcyeAAECBAgQIECAAAECBAgQIECAAAECBAgQIECAwCggzo1wzggQIECAAAECBAgQIECAAAECBAgQIECAAAECBAhUAXGuitkTIECAAAECBAgQIECAAAECBAgQIECAAAECBAgQGAXEuRHOGQECBAgQIECAAAECBAgQIECAAAECBAgQIECAAIEqIM5VMXsCBAgQIECAAAECBAgQIECAAAECBAgQIECAAAECo4A4N8I5I0CAAAECBAgQIECAAAECBAgQIECAAAECBAgQIFAFxLkqZk+AAAECBAgQIECAAAECBAgQIECAAAECBAgQIEBgFBDnRjhnBAgQIECAAAECBAgQIECAAAECBAgQIECAAAECBKqAOFfF7AkQIECAAAECBAgQIECAAAECBAgQIECAAAECBAiMAuLcCOeMAAECBAgQIECAAAECBAgQIECAAAECBAgQIECAQBUQ56qYPQECBAgQIECAAAECBAgQIECAAAECBAgQIECAAIFRQJwb4ZwRIECAAAECBAgQIECAAAECBAgQIECAAAECBAgQqALiXBWzJ0CAAAECBAgQIECAAAECBAgQIECAAAECBAgQIDAKiHMjnDMCBAgQIECAAAECBAgQIECAAAECBAgQIECAAAECVUCcq2L2BAgQIECAAAECBAgQIECAAAECBAgQIECAAAECBEYBcW6Ec0aAAAECBAgQIECAAAECBAgQIECAAAECBAgQIECgCohzVcyeAAECBAgQIECAAAECBAgQIECAAAECBAgQIECAwCggzo1wzggQIECAAAECBAgQIECAAAECBAgQIECAAAECBAhUAXGuitkTIECAAAECBAgQIECAAAECBAgQIECAAAECBAgQGAXEuRHOGQECBAgQIECAAAECBAgQIECAAAECBAgQIECAAIEqIM5VMXsCBAgQIECAAAECBAgQIECAAAECBAgQIECAAAECo4A4N8I5I0CAAAECBAgQIECAAAECBAgQIECAAAECBAgQIFAFxLkqZk+AAAECBAgQIECAAAECBAgQIECAAAECBAgQIEBgFBDnRjhnBAgQIECAAAECBAgQIECAAAECBAgQIECAAAECBKqAOFfF7AkQIECAAAECBAgQIECAAAECBAgQIECAAAECBAiMAuLcCOeMAAECBAgQIECAAAECBAgQIECAAAECBAgQIECAQBUQ56qYPQECBAgQIECAAAECBAgQIECAAAECBAgQIECAAIFRQJwb4ZwRIECAAAECBAgQIECAAAECBAgQIECAAAECBAgQqALiXBWzJ0CAAAECBAgQIECAAAECBAgQIECAAAECBAgQIDAKiHMjnDMCBAgQIECAAAECBAgQIECAAAECBAgQIECAAAECVUCcq2L2BAgQIECAAAECBAgQIECAAAECBAgQIECAAAECBEYBcW6Ec0aAAAECBAgQAtUUnQAAIABJREFUIECAAAECBAgQIECAAAECBAgQIECgCohzVcyeAAECBAgQIECAAAECBAgQIECAAAECBAgQIECAwCggzo1wzggQIECAAAECBAgQIECAAAECBAgQIECAAAECBAhUAXGuitkTIECAAAECBAgQIECAAAECBAgQIECAAAECBAgQGAXEuRHOGQECBAgQIECAAAECBAgQIECAAAECBAgQIECAAIEqIM5VMXsCBAgQIECAAAECBAgQIECAAAECBAgQIECAAAECo4A4N8I5I0CAAAECBAgQIECAAAECBAgQIECAAAECBAgQIFAFxLkqZk+AAAECBAgQIECAAAECBAgQIECAAAECBAgQIEBgFBDnRjhnBAgQIECAAAECBAgQIECAAAECBAgQIECAAAECBKqAOFfF7AkQIECAAAECBAgQIECAAAECBAgQIECAAAECBAiMAuLcCOeMAAECBAgQIECAAAECBAgQIECAAAECBAgQIECAQBUQ56qYPQECBAgQIECAAAECBAgQIECAAAECBAgQIECAAIFRQJwb4ZwRIECAAAECBAgQIECAAAECBAgQIECAAAECBAgQqALiXBWzJ0CAAAECBAgQIECAAAECBAgQIECAAAECBAgQIDAKiHMjnDMCBAgQIECAAAECBAgQIECAAAECBAgQIECAAAECVUCcq2L2BAgQIECAAAECBAgQIECAAAECBAgQIECAAAECBEYBcW6Ec0aAAAECBAgQIECAAAECBAgQIECAAAECBAgQIECgCohzVcyeAAECBAgQIECAAAECBAgQIECAAAECBAgQIECAwCggzo1wzggQIECAAAECBAgQIECAAAECBAgQIECAAAECBAhUAXGuitkTIECAAAECBAgQIECAAAECBAgQIECAAAECBAgQGAXEuRHOGQECBAgQIECAAAECBAgQIECAAAECBAgQIECAAIEqIM5VMXsCBAgQIECAAAECBAgQIECAAAECBAgQIECAAAECo4A4N8I5I0CAAAECBAgQIECAAAECBAgQIECAAAECBAgQIFAFxLkqZk+AAAECBAgQIECAAAECBAgQIECAAAECBAgQIEBgFBDnRjhnBAgQIECAAAECBAgQIECAAAECBAgQIECAAAECBKqAOFfF7AkQIECAAAECBAgQIECAAAECBAgQIECAAAECBAiMAuLcCOeMAAECBAgQIECAAAECBAgQIECAAAECBAgQIECAQBUQ56qYPQECBAgQIECAAAECBAgQIECAAAECBAgQIECAAIFRQJwb4ZwRIECAAAECBAgQIECAAAECBAgQIECAAAECBAgQqALiXBWzJ0CAAAECBAgQIECAAAECBAgQIECAAAECBAgQIDAKiHMjnDMCBAgQIECAAAECBAgQIECAAAECBAgQIECAAAECVUCcq2L2BAgQIECAAAECBAgQIECAAAECBAgQIECAAAECBEYBcW6Ec0aAAAECBAgQIECAAAECBAgQIECAAAECBAgQIECgCohzVcyeAAECBAgQIECAAAECBAgQIECAAAECBAgQIECAwCggzo1wzggQIECAAAECBAgQIECAAAECBAgQIECAAAECBAhUAXGuitkTIECAAAECBAgQIECAAAECBAgQIECAAAECBAgQGAXEuRHOGQECBAgQIECAAAECBAgQIECAAAECBAgQIECAAIEqIM5VMXsCBAgQIECAAAECBAgQIECAAAECBAgQIECAAAECo4A4N8I5I0CAAAECBAgQIECAAAECBAgQIECAAAECBAgQIFAFxLkqZk+AAAECBAgQIECAAAECBAgQIECAAAECBAgQIEBgFBDnRjhnBAgQIECAAAECBAgQIECAAAECBAgQIECAAAECBKqAOFfF7AkQIECAAAECBAgQIECAAAECBAgQIECAAAECBAiMAuLcCOeMAAECBAgQIECAAAECBAgQIECAAAECBAgQIECAQBUQ56qYPQECBAgQIECAAAECBAgQIECAAAECBAgQIECAAIFRQJwb4ZwRIECAAAECBAgQIECAAAECBAgQIECAAAECBAgQqALiXBWzJ0CAAAECBAgQIECAAAECBAgQIECAAAECBAgQIDAKiHMjnDMCBAgQIECAAAECBAgQIECAAAECBAgQIECAAAECVUCcq2L2BAgQIECAAAECBAgQIECAAAECBAgQIECAAAECBEYBcW6Ec0aAAAECBAgQIECAAAECBAgQIECAAAECBAgQIECgCohzVcyeAAECBAgQIECAAAECBAgQIECAAAECBAgQIECAwCggzo1wzggQIECAAAECBAgQIECAAAECBAgQIECAAAECBAhUAXGuitkTIECAAAECBAgQIECAAAECBAgQIECAAAECBAgQGAXEuRHOGQECBAgQIECAAAECBAgQIECAAAECBAgQIECAAIEqIM5VMXsCBAgQIECAAAECBAgQIECAAAECBAgQIECAAAECo4A4N8I5I0CAAAECBAgQIECAAAECBAgQIECAAAECBAgQIFAFxLkqZk+AAAECBAgQIECAAAECBAgQIECAAAECBAgQIEBgFBDnRjhnBAgQIECAAAECBAgQIECAAAECBAgQIECAAAECBKqAOFfF7AkQIECAAAECBAgQIECAAAECBAgQIECAAAECBAiMAuLcCOeMAAECBAgQIECAAAECBAgQIECAAAECBAgQIECAQBUQ56qYPQECBAgQIECAAAECBAgQIECAAAECBAgQIECAAIFRQJwb4ZwRIECAAAECBAgQIECAAAECBAgQIECAAAECBAgQqALiXBWzJ0CAAAECBAgQIECAAAECBAgQIECAAAECBAgQIDAKiHMjnDMCBAgQIECAAAECBAgQIECAAAECBAgQIECAAAECVUCcq2L2BAgQIECAAAECBAgQIECAAAECBAgQIECAAAECBEYBcW6Ec0aAAAECBAgQIECAAAECBAgQIECAAAECBAgQIECgCohzVcyeAAECBAgQIECAAAECBAgQIECAAAECBAgQIECAwCggzo1wzggQIECAAAECBAgQIECAAAECBAgQIECAAAECBAhUAXGuitkTIECAAAECBAgQIECAAAECBAgQIECAAAECBAgQGAXEuRHOGQECBAgQIECAAAECBAgQIECAAAECBAgQIECAAIEqIM5VMXsCBAgQIECAAAECBAgQIECAAAECBAgQIECAAAECo4A4N8I5I0CAAAECBAgQIECAAAECBAgQIECAAAECBAgQIFAFxLkqZk+AAAECBAgQIECAAAECBAgQIECAAAECBAgQIEBgFBDnRjhnBAgQIECAAAECBAgQIECAAAECBAgQIECAAAECBKqAOFfF7AkQIECAAAECBAgQIECAAAECBAgQIECAAAECBAiMAuLcCOeMAAECBAgQIECAAAECBAgQIECAAAECBAgQIECAQBUQ56qYPQECBAgQIECAAAECBAgQIECAAAECBAgQIECAAIFRQJwb4ZwRIECAAAECBAgQIECAAAECBAgQIECAAAECBAgQqALiXBWzJ0CAAAECBAgQIECAAAECBAgQIECAAAECBAgQIDAKiHMjnDMCBAgQIECAAAECBAgQIECAAAECBAgQIECAAAECVUCcq2L2BAgQIECAAAECBAgQIECAAAECBAgQIECAAAECBEYBcW6Ec0aAAAECBAgQIECAAAECBAgQIECAAAECBAgQIECgCohzVcyeAAECBAgQIECAAAECBAgQIECAAAECBAgQIECAwCggzo1wzggQIECAAAECBAgQIECAAAECBAgQIECAAAECBAhUAXGuitkTIECAAAECBAgQIECAAAECBAgQIECAAAECBAgQGAXEuRHOGQECBAgQIECAAAECBAgQIECAAAECBAgQIECAAIEqIM5VMXsCBAgQIECAAAECBAgQIECAAAECBAgQIECAAAECo4A4N8I5I0CAAAECBAgQIECAAAECBAgQIECAAAECBAgQIFAFxLkqZk+AAAECBAgQIECAAAECBAgQIECAAAECBAgQIEBgFBDnRjhnBAgQIECAAAECBAgQIECAAAECBAgQIECAAAECBKqAOFfF7AkQIECAAAECBAgQIECAAAECBAgQIECAAAECBAiMAuLcCOeMAAECBAgQIECAAAECBAgQIECAAAECBAgQIECAQBUQ56qYPQECBAgQIECAAAECBAgQIECAAAECBAgQIECAAIFRQJwb4ZwRIECAAAECBAgQIECAAAECBAgQIECAAAECBAgQqALiXBWzJ0CAAAECBAgQIECAAAECBAgQIECAAAECBAgQIDAKiHMjnDMCBAgQIECAAAECBAgQIECAAAECBAgQIECAAAECVUCcq2L2BAgQIECAAAECBAgQIECAAAECBAgQIECAAAECBEYBcW6Ec0aAAAECBAgQIECAAAECBAgQIECAAAECBAgQIECgCohzVcyeAAECBAgQIECAAAECBAgQIECAAAECBAgQIECAwCggzo1wzggQIECAAAECBAgQIECAAAECBAgQIECAAAECBAhUAXGuitkTIECAAAECBAgQIECAAAECBAgQIECAAAECBAgQGAXEuRHOGQECBAgQIECAAAECBAgQIECAAAECBAgQIECAAIEqIM5VMXsCBAgQIECAAAECBAgQIECAAAECBAgQIECAAAECo4A4N8I5I0CAAAECBAgQIECAAAECBAgQIECAAAECBAgQIFAFxLkqZk+AAAECBAgQIECAAAECBAgQIECAAAECBAgQIEBgFBDnRjhnBAgQIECAAAECBAgQIECAAAECBAgQIECAAAECBKqAOFfF7AkQIECAAAECBAgQIECAAAECBAgQIECAAAECBAiMAuLcCOeMAAECBAgQIECAAAECBAgQIECAAAECBAgQIECAQBUQ56qYPQECBAgQIECAAAECBAgQIECAAAECBAgQIECAAIFRQJwb4ZwRIECAAAECBAgQIECAAAECBAgQIECAAAECBAgQqALiXBWzJ0CAAAECBAgQIECAAAECBAgQIECAAAECBAgQIDAKiHMjnDMCBAgQIECAAAECBAgQIECAAAECBAgQIECAAAECVUCcq2L2BAgQIECAAAECBAgQIECAAAECBAgQIECAAAECBEYBcW6Ec0aAAAECBAgQIECAAAECBAgQIECAAAECBAgQIECgCohzVcyeAAECBAgQIECAAAECBAgQIECAAAECBAgQIECAwCggzo1wzggQIECAAAECBAgQIECAAAECBAgQIECAAAECBAhUAXGuitkTIECAAAECBAgQIECAAAECBAgQIECAAAECBAgQGAXEuRHOGQECBAgQIECAAAECBAgQIECAAAECBAgQIECAAIEqIM5VMXsCBAgQIECAAAECBAgQIECAAAECBAgQIECAAAECo4A4N8I5I0CAAAECBAgQIECAAAECBAgQIECAAAECBAgQIFAFxLkqZk+AAAECBAgQIECAAAECBAgQIECAAAECBAgQIEBgFBDnRjhnBAgQIECAAAECBAgQIECAAAECBAgQIECAAAECBKqAOFfF7AkQIECAAAECBAgQIECAAAECBAgQIECAAAECBAiMAuLcCOeMAAECBAgQIECAAAECBAgQIECAAAECBAgQIECAQBUQ56qYPQECBAgQIECAAAECBAgQIECAAAECBAgQIECAAIFRQJwb4ZwRIECAAAECBAgQIECAAAECBAgQIECAAAECBAgQqALiXBWzJ0CAAAECBAgQIECAAAECBAgQIECAAAECBAgQIDAKiHMjnDMCBAgQIECAAAECBAgQIECAAAECBAgQIECAAAECVUCcq2L2BAgQIECAAAECBAgQIECAAAECBAgQIECAAAECBEYBcW6Ec0aAAAECBAgQIECAAAECBAgQIECAAAECBAgQIECgCohzVcyeAAECBAgQIECAAAECBAgQIECAAAECBAgQIECAwCggzo1wzggQIECAAAECBAgQIECAAAECBAgQIECAAAECBAhUAXGuitkTIECAAAECBAgQIECAAAECBAgQIECAAAECBAgQGAXEuRHOGQECBAgQIECAAAECBAgQIECAAAECBAgQIECAAIEqIM5VMXsCBAgQIECAAAECBAgQIECAAAECBAgQIECAAAECo4A4N8I5I0CAAAECBAgQIECAAAECBAgQIECAAAECBAgQIFAFxLkqZk+AAAECBAgQIECAAAECBAgQIECAAAECBAgQIEBgFBDnRjhnBAgQIECAAAECBAgQIECAAAECBAgQIECAAAECBKqAOFfF7AkQIECAAAECBAgQIECAAAECBAgQIECAAAECBAiMAuLcCOeMAAECBAgQIECAAAECBAgQIECAAAECBAgQIECAQBUQ56qYPQECBAgQIECAAAECBAgQIECAAAECBAgQIECAAIFRQJwb4ZwRIECAAAECBAgQIECAAAECBAgQIECAAAECBAgQqALiXBWzJ0CAAAECBAgQIECAAAECBAgQIECAAAECBAgQIDAKiHMjnDMCBAgQIECAAAECBAgQIECAAAECBAgQIECAAAECVUCcq2L2BAgQIECAAAECBAgQIECAAAECBAgQIECAAAECBEYBcW6Ec0aAAAECBAgQIECAAAECBAgQIECAAAECBAgQIECgCohzVcyeAAECBAgQIECAAAECBAgQIECAAAECBAgQIECAwCggzo1wzggQIECAAAECBAgQIECAAAECBAgQIECAAAECBAhUAXGuitkTIECAAAECBAgQIECAAAECBAgQIECAAAECBAgQGAXEuRHOGQECBAgQIECAAAECBAgQIECAAAECBAgQIECAAIEqIM5VMXsCBAgQIECAAAECBAgQIECAAAECBAgQIECAAAECo4A4N8I5I0CAAAECBAgQIECAAAECBAgQIECAAAECBAgQIFAFxLkqZk+AAAECBAgQIECAAAECBAgQIECAAAECBAgQIEBgFBDnRjhnBAgQIECAAAECBAgQIECAAAECBAgQIECAAAECBKqAOFfF7AkQIECAAAECBAgQIECAAAECBAgQIECAAAECBAiMAuLcCOeMAAECBAgQIECAAAECBAgQIECAAAECBAgQIECAQBUQ56qYPQECBAgQIECAAAECBAgQIECAAAECBAgQIECAAIFRQJwb4ZwRIECAAAECBAgQIECAAAECBAgQIECAAAECBAgQqALiXBWzJ0CAAAECBAgQIECAAAECBAgQIECAAAECBAgQIDAKiHMjnDMCBAgQIECAAAECBAgQIECAAAECBAgQIECAAAECVUCcq2L2BAgQIECAAAECBAgQIECAAAECBAgQIECAAAECBEYBcW6Ec0aAAAECBAgQIECAAAECBAgQIECAAAECBAgQIECgCohzVcyeAAECBAgQIECAAAECBAgQIECAAAECBAgQIECAwCggzo1wzggQIECAAAECBAgQIECAAAECBAgQIECAAAECBAhUAXGuitkTIECAAAECBAgQIECAAAECBAgQIECAAAECBAgQGAXEuRHOGQECBAgQIECAAAECBAgQIECAAAECBAgQIECAAIEqIM5VMXsCBAgQIECAAAECBAgQIECAAAECBAgQIECAAAECo4A4N8I5I0CAAAECBAgQIECAAAECBAgQIECAAAECBAgQIFAFxLkqZk+AAAECBAgQIECAAAECBAgQIECAAAECBAgQIEBgFBDnRjhnBAgQIECAAAECBAgQIECAAAECBAgQIECAAAECBKqAOFfF7AkQIECAAAECBAgQIECAAAECBAgQIECAAAECBAiMAuLcCOeMAAECBAgQIECAAAECBAgQIECAAAECBAgQIECAQBUQ56qYPQECBAgQIECAAAECBAgQIECAAAECBAgQIECAAIFRQJwb4ZwRIECAAAECBAgQIECAAAECBAgQIECAAAECBAgQqALiXBWzJ0CAAAECBAgQIECAAAECBAgQIECAAAECBAgQIDAKiHMjnDMCBAgQIECAAAECBAgQIECAAAECBAgQIECAAAECVUCcq2L2BAgQIECAAAECBAgQIECAAAECBAgQIECAAAECBEYBcW6Ec0aAAAECBAgQIECAAAECBAgQIECAAAECBAgQIECgCohzVcyeAAECBAgQIECAAAECBAgQIECAAAECBAgQIECAwCggzo1wzggQIECAAAECBAgQIECAAAECBAgQIECAAAECBAhUAXGuitkTIECAAAECBAgQIECAAAECBAgQIECAAAECBAgQGAXEuRHOGQECBAgQIECAAAECBAgQIECAAAECBAgQIECAAIEqIM5VMXsCBAgQIECAAAECBAgQIECAAAECBAgQIECAAAECo4A4N8I5I0CAAAECBAgQIECAAAECBAgQIECAAAECBAgQIFAFxLkqZk+AAAECBAgQIECAAAECBAgQIECAAAECBAgQIEBgFBDnRjhnBAgQIECAAAECBAgQIECAAAECBAgQIECAAAECBKqAOFfF7AkQIECAAAECBAgQIECAAAECBAgQIECAAAECBAiMAuLcCOeMAAECBAgQIECAAAECBAgQIECAAAECBAgQIECAQBUQ56qYPQECBAgQIECAAAECBAgQIECAAAECBAgQIECAAIFRQJwb4ZwRIECAAAECBAgQIECAAAECBAgQIECAAAECBAgQqALiXBWzJ0CAAAECBAgQIECAAAECBAgQIECAAAECBAgQIDAKiHMjnDMCBAgQIECAAAECBAgQIECAAAECBAgQIECAAAECVUCcq2L2BAgQIECAAAECBAgQIECAAAECBAgQIECAAAECBEYBcW6Ec0aAAAECBAgQIECAAAECBAgQIECAAAECBAgQIECgCohzVcyeAAECBAgQIECAAAECBAgQIECAAAECBAgQIECAwCggzo1wzggQIECAAAECBAgQIECAAAECBAgQIECAAAECBAhUAXGuitkTIECAAAECBAgQIECAAAECBAgQIECAAAECBAgQGAXEuRHOGQECBAgQIECAAAECBAgQIECAAAECBAgQIECAAIEqIM5VMXsCBAgQIECAAAECBAgQIECAAAECBAgQIECAAAECo4A4N8I5I0CAAAECBAgQIECAAAECBAgQIECAAAECBAgQIFAFxLkqZk+AAAECBAgQIECAAAECBAgQIECAAAECBAgQIEBgFBDnRjhnBAgQIECAAAECBAgQIECAAAECBAgQIECAAAECBKqAOFfF7AkQIECAAAECBAgQIECAAAECBAgQIECAAAECBAiMAuLcCOeMAAECBAgQIECAAAECBAgQIECAAAECBAgQIECAQBUQ56qYPQECBAgQIECAAAECBAgQIECAAAECBAgQIECAAIFRQJwb4ZwRIECAAAECBAgQIECAAAECBAgQIECAAAECBAgQqALiXBWzJ0CAAAECBAgQIECAAAECBAgQIECAAAECBAgQIDAKiHMjnDMCBAgQIECAAAECBAgQIECAAAECBAgQIECAAAECVUCcq2L2BAgQIECAAAECBAgQIECAAAECBAgQIECAAAECBEYBcW6Ec0aAAAECBAgQIECAAAECBAgQIECAAAECBAgQIECgCohzVcyeAAECBAgQIECAAAECBAgQIECAAAECBAgQIECAwCggzo1wzggQIECAAAECBAgQIECAAAECBAgQIECAAAECBAhUAXGuitkTIECAAAECBAgQIECAAAECBAgQIECAAAECBAgQGAXEuRHOGQECBAgQIECAAAECBAgQIECAAAECBAgQIECAAIEqIM5VMXsCBAgQIECAAAECBAgQIECAAAECBAgQIECAAAECo4A4N8I5I0CAAAECBAgQIECAAAECBAgQIECAAAECBAgQIFAFxLkqZk+AAAECBAgQIECAAAECBAgQIECAAAECBAgQIEBgFBDnRjhnBAgQIECAAAECBAgQIECAAAECBAgQIECAAAECBKqAOFfF7AkQIECAAAECBAgQIECAAAECBAgQIECAAAECBAiMAuLcCOeMAAECBAgQIECAAAECBAgQIECAAAECBAgQIECAQBUQ56qYPQECBAgQIECAAAECBAgQIECAAAECBAgQIECAAIFRQJwb4ZwRIECAAAECBAgQIECAAAECBAgQIECAAAECBAgQqALiXBWzJ0CAAAECBAgQIECAAAECBAgQIECAAAECBAgQIDAKiHMjnDMCBAgQIECAAAECBAgQIECAAAECBAgQIECAAAECVUCcq2L2BAgQIECAAAECBAgQIECAAAECBAgQIECAAAECBEYBcW6Ec0aAAAECBAgQIECAAAECBAgQIECAAAECBAgQIECgCohzVcyeAAECBAgQIECAAAECBAgQIECAAAECBAgQIECAwCggzo1wzggQIECAAAECBAgQIECAAAECBAgQIECAAAECBAhUAXGuitkTIECAAAECBAgQIECAAAECBAgQIECAAAECBAgQGAXEuRHOGQECBAgQIECAAAECBAgQIECAAAECBAgQIECAAIEqIM5VMXsCBAgQIECAAAECBAgQIECAAAECBAgQIECAAAECo4A4N8I5I0CAAAECBAgQIECAAAECBAgQIECAAAECBAgQIFAFxLkqZk+AAAECBAgQIECAAAECBAgQIECAAAECBAgQIEBgFBDnRjhnBAgQIECAAAECBAgQIECAAAECBAgQIECAAAECBKqAOFfF7AkQIECAAAECBAgQIECAAAECBAgQIECAAAECBAiMAuLcCOeMAAECBAgQIECAAAECBAgQIECAAAECBAgQIECAQBUQ56qYPQECBAgQIECAAAECBAgQIECAAAECBAgQIECAAIFRQJwb4ZwRIECAAAECBAgQIECAAAECBAgQIECAAAECBAgQqALiXBWzJ0CAAAECBAgQIECAAAECBAgQIECAAAECBAgQIDAKiHMjnDMCBAgQIECAAAECBAgQIECAAAECBAgQIECAAAECVUCcq2JD/B8YAAASGklEQVT2BAgQIECAAAECBAgQIECAAAECBAgQIECAAAECBEYBcW6Ec0aAAAECBAgQIECAAAECBAgQIECAAAECBAgQIECgCohzVcyeAAECBAgQIECAAAECBAgQIECAAAECBAgQIECAwCggzo1wzggQIECAAAECBAgQIECAAAECBAgQIECAAAECBAhUAXGuitkTIECAAAECBAgQIECAAAECBAgQIECAAAECBAgQGAXEuRHOGQECBAgQIECAAAECBAgQIECAAAECBAgQIECAAIEqIM5VMXsCBAgQIECAAAECBAgQIECAAAECBAgQIECAAAECo4A4N8I5I0CAAAECBAgQIECAAAECBAgQIECAAAECBAgQIFAFxLkqZk+AAAECBAgQIECAAAECBAgQIECAAAECBAgQIEBgFBDnRjhnBAgQIECAAAECBAgQIECAAAECBAgQIECAAAECBKqAOFfF7AkQIECAAAECBAgQIECAAAECBAgQIECAAAECBAiMAuLcCOeMAAECBAgQIECAAAECBAgQIECAAAECBAgQIECAQBUQ56qYPQECBAgQIECAAAECBAgQIECAAAECBAgQIECAAIFRQJwb4ZwRIECAAAECBAgQIECAAAECBAgQIECAAAECBAgQqALiXBWzJ0CAAAECBAgQIECAAAECBAgQIECAAAECBAgQIDAKiHMjnDMCBAgQIECAAAECBAgQIECAAAECBAgQIECAAAECVUCcq2L2BAgQIECAAAECBAgQIECAAAECBAgQIECAAAECBEYBcW6Ec0aAAAECBAgQIECAAAECBAgQIECAAAECBAgQIECgCohzVcyeAAECBAgQIECAAAECBAgQIECAAAECBAgQIECAwCggzo1wzggQIECAAAECBAgQIECAAAECBAgQIECAAAECBAhUAXGuitkTIECAAAECBAgQIECAAAECBAgQIECAAAECBAgQGAXEuRHOGQECBAgQIECAAAECBAgQIECAAAECBAgQIECAAIEqIM5VMXsCBAgQIECAAAECBAgQIECAAAECBAgQIECAAAECo4A4N8I5I0CAAAECBAgQIECAAAECBAgQIECAAAECBAgQIFAFxLkqZk+AAAECBAgQIECAAAECBAgQIECAAAECBAgQIEBgFBDnRjhnBAgQIECAAAECBAgQIECAAAECBAgQIECAAAECBKqAOFfF7AkQIECAAAECBAgQIECAAAECBAgQIECAAAECBAiMAuLcCOeMAAECBAgQIECAAAECBAgQIECAAAECBAgQIECAQBUQ56qYPQECBAgQIECAAAECBAgQIECAAAECBAgQIECAAIFRQJwb4ZwRIECAAAECBAgQIECAAAECBAgQIECAAAECBAgQqALiXBWzJ0CAAAECBAgQIECAAAECBAgQIECAAAECBAgQIDAKiHMjnDMCBAgQIECAAAECBAgQIECAAAECBAgQIECAAAECVUCcq2L2BAgQIECAAAECBAgQIECAAAECBAgQIECAAAECBEYBcW6Ec0aAAAECBAgQIECAAAECBAgQIECAAAECBAgQIECgCohzVcyeAAECBAgQIECAAAECBAgQIECAAAECBAgQIECAwCggzo1wzggQIECAAAECBAgQIECAAAECBAgQIECAAAECBAhUAXGuitkTIECAAAECBAgQIECAAAECBAgQIECAAAECBAgQGAXEuRHOGQECBAgQIECAAAECBAgQIECAAAECBAgQIECAAIEqIM5VMXsCBAgQIECAAAECBAgQIECAAAECBAgQIECAAAECo4A4N8I5I0CAAAECBAgQIECAAAECBAgQIECAAAECBAgQIFAFxLkqZk+AAAECBAgQIECAAAECBAgQIECAAAECBAgQIEBgFBDnRjhnBAgQIECAAAECBAgQIECAAAECBAgQIECAAAECBKqAOFfF7AkQIECAAAECBAgQIECAAAECBAgQIECAAAECBAiMAuLcCOeMAAECBAgQIECAAAECBAgQIECAAAECBAgQIECAQBUQ56qYPQECBAgQIECAAAECBAgQIECAAAECBAgQIECAAIFRQJwb4ZwRIECAAAECBAgQIECAAAECBAgQIECAAAECBAgQqALiXBWzJ0CAAAECBAgQIECAAAECBAgQIECAAAECBAgQIDAKiHMjnDMCBAgQIECAAAECBAgQIECAAAECBAgQIECAAAECVUCcq2L2BAgQIECAAAECBAgQIECAAAECBAgQIECAAAECBEYBcW6Ec0aAAAECBAgQIECAAAECBAgQIECAAAECBAgQIECgCohzVcyeAAECBAgQIECAAAECBAgQIECAAAECBAgQIECAwCggzo1wzggQIECAAAECBAgQIECAAAECBAgQIECAAAECBAhUAXGuitkTIECAAAECBAgQIECAAAECBAgQIECAAAECBAgQGAXEuRHOGQECBAgQIECAAAECBAgQIECAAAECBAgQIECAAIEqIM5VMXsCBAgQIECAAAECBAgQIECAAAECBAgQIECAAAECo4A4N8I5I0CAAAECBAgQIECAAAECBAgQIECAAAECBAgQIFAFxLkqZk+AAAECBAgQIECAAAECBAgQIECAAAECBAgQIEBgFBDnRjhnBAgQIECAAAECBAgQIECAAAECBAgQIECAAAECBKqAOFfF7AkQIECAAAECBAgQIECAAAECBAgQIECAAAECBAiMAuLcCOeMAAECBAgQIECAAAECBAgQIECAAAECBAgQIECAQBUQ56qYPQECBAgQIECAAAECBAgQIECAAAECBAgQIECAAIFRQJwb4ZwRIECAAAECBAgQIECAAAECBAgQIECAAAECBAgQqALiXBWzJ0CAAAECBAgQIECAAAECBAgQIECAAAECBAgQIDAKiHMjnDMCBAgQIECAAAECBAgQIECAAAECBAgQIECAAAECVUCcq2L2BAgQIECAAAECBAgQIECAAAECBAgQIECAAAECBEYBcW6Ec0aAAAECBAgQIECAAAECBAgQIECAAAECBAgQIECgCohzVcyeAAECBAgQIECAAAECBAgQIECAAAECBAgQIECAwCggzo1wzggQIECAAAECBAgQIECAAAECBAgQIECAAAECBAhUAXGuitkTIECAAAECBAgQIECAAAECBAgQIECAAAECBAgQGAXEuRHOGQECBAgQIECAAAECBAgQIECAAAECBAgQIECAAIEqIM5VMXsCBAgQIECAAAECBAgQIECAAAECBAgQIECAAAECo4A4N8I5I0CAAAECBAgQIECAAAECBAgQIECAAAECBAgQIFAFxLkqZk+AAAECBAgQIECAAAECBAgQIECAAAECBAgQIEBgFBDnRjhnBAgQIECAAAECBAgQIECAAAECBAgQIECAAAECBKqAOFfF7AkQIECAAAECBAgQIECAAAECBAgQIECAAAECBAiMAuLcCOeMAAECBAgQIECAAAECBAgQIECAAAECBAgQIECAQBUQ56qYPQECBAgQIECAAAECBAgQIECAAAECBAgQIECAAIFRQJwb4ZwRIECAAAECBAgQIECAAAECBAgQIECAAAECBAgQqALiXBWzJ0CAAAECBAgQIECAAAECBAgQIECAAAECBAgQIDAKiHMjnDMCBAgQIECAAAECBAgQIECAAAECBAgQIECAAAECVUCcq2L2BAgQIECAAAECBAgQIECAAAECBAgQIECAAAECBEYBcW6Ec0aAAAECBAgQIECAAAECBAgQIECAAAECBAgQIECgCohzVcyeAAECBAgQIECAAAECBAgQIECAAAECBAgQIECAwCggzo1wzggQIECAAAECBAgQIECAAAECBAgQIECAAAECBAhUAXGuitkTIECAAAECBAgQIECAAAECBAgQIECAAAECBAgQGAXEuRHOGQECBAgQIECAAAECBAgQIECAAAECBAgQIECAAIEqIM5VMXsCBAgQIECAAAECBAgQIECAAAECBAgQIECAAAECo4A4N8I5I0CAAAECBAgQIECAAAECBAgQIECAAAECBAgQIFAFxLkqZk+AAAECBAgQIECAAAECBAgQIECAAAECBAgQIEBgFBDnRjhnBAgQIECAAAECBAgQIECAAAECBAgQIECAAAECBKqAOFfF7AkQIECAAAECBAgQIECAAAECBAgQIECAAAECBAiMAuLcCOeMAAECBAgQIECAAAECBAgQIECAAAECBAgQIECAQBUQ56qYPQECBAgQIECAAAECBAgQIECAAAECBAgQIECAAIFRQJwb4ZwRIECAAAECBAgQIECAAAECBAgQIECAAAECBAgQqALiXBWzJ0CAAAECBAgQIECAAAECBAgQIECAAAECBAgQIDAKiHMjnDMCBAgQIECAAAECBAgQIECAAAECBAgQIECAAAECVUCcq2L2BAgQIECAAAECBAgQIECAAAECBAgQIECAAAECBEYBcW6Ec0aAAAECBAgQIECAAAECBAgQIECAAAECBAgQIECgCohzVcyeAAECBAgQIECAAAECBAgQIECAAAECBAgQIECAwCggzo1wzggQIECAAAECBAgQIECAAAECBAgQIECAAAECBAhUAXGuitkTIECAAAECBAgQIECAAAECBAgQIECAAAECBAgQGAXEuRHOGQECBAgQIECAAAECBAgQIECAAAECBAgQIECAAIEqIM5VMXsCBAgQIECAAAECBAgQIECAAAECBAgQIECAAAECo4A4N8I5I0CAAAECBAgQIECAAAECBAgQIECAAAECBAgQIFAFxLkqZk+AAAECBAgQIECAAAECBAgQIECAAAECBAgQIEBgFBDnRjhnBAgQIECAAAECBAgQIECAAAECBAgQIECAAAECBKqAOFfF7AkQIECAAAECBAgQIECAAAECBAgQIECAAAECBAiMAuLcCOeMAAECBAgQIECAAAECBAgQIECAAAECBAgQIECAQBUQ56qYPQECBAgQIECAAAECBAgQIECAAAECBAgQIECAAIFRQJwb4ZwRIECAAAECBAgQIECAAAECBAgQIECAAAECBAgQqALiXBWzJ0CAAAECBAgQIECAAAECBAgQIECAAAECBAgQIDAKiHMjnDMCBAgQIECAAAECBAgQIECAAAECBAgQIECAAAECVUCcq2L2BAgQIECAAAECBAgQIECAAAECBAgQIECAAAECBEYBcW6Ec0aAAAECBAgQIECAAAECBAgQIECAAAECBAgQIECgCohzVcyeAAECBAgQIECAAAECBAgQIECAAAECBAgQIECAwCggzo1wzggQIECAAAECBAgQIECAAAECBAgQIECAAAECBAhUAXGuitkTIECAAAECBAgQIECAAAECBAgQIECAAAECBAgQGAXEuRHOGQECBAgQIECAAAECBAgQIECAAAECBAgQIECAAIEqIM5VMXsCBAgQIECAAAECBAgQIECAAAECBAgQIECAAAECo4A4N8I5I0CAAAECBAgQIECAAAECBAgQIECAAAECBAgQIFAFxLkqZk+AAAECBAgQIECAAAECBAgQIECAAAECBAgQIEBgFBDnRjhnBAgQIECAAAECBAgQIECAAAECBAgQIECAAAECBKqAOFfF7AkQIECAAAECBAgQIECAAAECBAgQIECAAAECBAiMAuLcCOeMAAECBAgQIECAAAECBAgQIECAAAECBAgQIECAQBUQ56qYPQECBAgQIECAAAECBAgQIECAAAECBAgQIECAAIFRQJwb4ZwRIECAAAECBAgQIECAAAECBAgQIECAAAECBAgQqALiXBWzJ0CAAAECBAgQIECAAAECBAgQIECAAAECBAgQIDAKiHMjnDMCBAgQIECAAAECBAgQIECAAAECBAgQIECAAAECVUCcq2L2BAgQIECAAAECBAgQIECAAAECBAgQIECAAAECBEYBcW6Ec0aAAAECBAgQIECAAAECBAgQIECAAAECBAgQIECgCohzVcyeAAECBAgQIECAAAECBAgQIECAAAECBAgQIECAwCggzo1wzggQIECAAAECBAgQIECAAAECBAgQIECAAAECBAhUAXGuitkTIECAAAECBAgQIECAAAECBAgQIECAAAECBAgQGAXEuRHOGQECBAgQIECAAAECBAgQIECAAAECBAgQIECAAIEqIM5VMXsCBAgQIECAAAECBAgQIECAAAECBAgQIECAAAECo8AvzB0Eg1Q0Oh8AAAAASUVORK5CYII=' style='width: 100%%; max-width: 1414.4000244140625px;'/>"
            ]
          },
          "metadata": {}
        },
        {
          "output_type": "display_data",
          "data": {
            "text/plain": [
              "<IPython.core.display.Javascript object>"
            ],
            "application/javascript": [
              "window[\"093ee50c-82be-11ed-8f03-0242ac1c000c\"] = google.colab.output.setActiveOutputArea(window[\"093cc59c-82be-11ed-8f03-0242ac1c000c\"]);\n",
              "//# sourceURL=js_88dc41c943"
            ]
          },
          "metadata": {}
        }
      ]
    },
    {
      "cell_type": "code",
      "source": [
        "session.freeze()  # screenshot the active App for sharing"
      ],
      "metadata": {
        "id": "9Q3DnA1IvByp"
      },
      "execution_count": null,
      "outputs": []
    },
    {
      "cell_type": "markdown",
      "source": [
        "# Information about the dataset"
      ],
      "metadata": {
        "id": "fiP3tCvO5qZI"
      }
    },
    {
      "cell_type": "code",
      "source": [
        "print(dataset)"
      ],
      "metadata": {
        "colab": {
          "base_uri": "https://localhost:8080/"
        },
        "id": "jBK911e7vGMO",
        "outputId": "777982af-a188-4bb1-c2d8-bbf4c29da86c"
      },
      "execution_count": null,
      "outputs": [
        {
          "output_type": "stream",
          "name": "stdout",
          "text": [
            "Name:        coco-2017-validation\n",
            "Media type:  image\n",
            "Num samples: 5000\n",
            "Persistent:  False\n",
            "Tags:        []\n",
            "Sample fields:\n",
            "    id:           fiftyone.core.fields.ObjectIdField\n",
            "    filepath:     fiftyone.core.fields.StringField\n",
            "    tags:         fiftyone.core.fields.ListField(fiftyone.core.fields.StringField)\n",
            "    metadata:     fiftyone.core.fields.EmbeddedDocumentField(fiftyone.core.metadata.ImageMetadata)\n",
            "    ground_truth: fiftyone.core.fields.EmbeddedDocumentField(fiftyone.core.labels.Detections)\n"
          ]
        }
      ]
    },
    {
      "cell_type": "code",
      "source": [
        "sample = dataset.first()\n",
        "print(sample.ground_truth.detections[0])"
      ],
      "metadata": {
        "colab": {
          "base_uri": "https://localhost:8080/"
        },
        "id": "GPF7wUhWvHhg",
        "outputId": "31133613-60c2-481b-80cc-a08c1a4c0322"
      },
      "execution_count": null,
      "outputs": [
        {
          "output_type": "stream",
          "name": "stdout",
          "text": [
            "<Detection: {\n",
            "    'id': '63a4c6010df913afd212283c',\n",
            "    'attributes': {},\n",
            "    'tags': [],\n",
            "    'label': 'potted plant',\n",
            "    'bounding_box': [\n",
            "        0.37028125,\n",
            "        0.3345305164319249,\n",
            "        0.038593749999999996,\n",
            "        0.16314553990610328,\n",
            "    ],\n",
            "    'mask': None,\n",
            "    'confidence': None,\n",
            "    'index': None,\n",
            "    'supercategory': 'furniture',\n",
            "    'iscrowd': 0,\n",
            "}>\n"
          ]
        }
      ]
    },
    {
      "cell_type": "markdown",
      "source": [
        "# Model 3"
      ],
      "metadata": {
        "id": "8nq8UFJ25r51"
      }
    },
    {
      "cell_type": "markdown",
      "source": [
        "# SSDLite_Mobilenet"
      ],
      "metadata": {
        "id": "80FJ3XbZ5tP_"
      }
    },
    {
      "cell_type": "code",
      "source": [
        "model = torchvision.models.detection.ssdlite320_mobilenet_v3_large(pretrained=True)\n",
        "model.eval()\n",
        "\n",
        "print(\"Model ready\")"
      ],
      "metadata": {
        "colab": {
          "base_uri": "https://localhost:8080/",
          "height": 173,
          "referenced_widgets": [
            "6975b9359f664d0aab3a1fc2a39dddf6",
            "0608e9b0e8694253b5e7252b0f5fbdf6",
            "8216cc1792624dd099b2d32838d6d4a7",
            "7910de82c5574b0f9ebeb0d2659e77af",
            "bae053080a5846dd87ea963a7043dbce",
            "20ba00b06f5c48d39d95892109131311",
            "1bc89afacf3440c5bb622fff7df8064b",
            "9072bbe748e44ce599ad7108ab399d03",
            "e135eb1073844ba8af7b25f755c8cea0",
            "325707ea2bc34a2492df06e60b475c31",
            "1567133f6d4542729541c08fbb9c03e1"
          ]
        },
        "id": "s6ozClBovI74",
        "outputId": "d5654364-77b3-423b-c0b7-90fbb7249d95"
      },
      "execution_count": null,
      "outputs": [
        {
          "output_type": "stream",
          "name": "stderr",
          "text": [
            "/usr/local/lib/python3.8/dist-packages/torchvision/models/_utils.py:208: UserWarning: The parameter 'pretrained' is deprecated since 0.13 and may be removed in the future, please use 'weights' instead.\n",
            "  warnings.warn(\n",
            "/usr/local/lib/python3.8/dist-packages/torchvision/models/_utils.py:223: UserWarning: Arguments other than a weight enum or `None` for 'weights' are deprecated since 0.13 and may be removed in the future. The current behavior is equivalent to passing `weights=SSDLite320_MobileNet_V3_Large_Weights.COCO_V1`. You can also use `weights=SSDLite320_MobileNet_V3_Large_Weights.DEFAULT` to get the most up-to-date weights.\n",
            "  warnings.warn(msg)\n",
            "Downloading: \"https://download.pytorch.org/models/ssdlite320_mobilenet_v3_large_coco-a79551df.pth\" to /root/.cache/torch/hub/checkpoints/ssdlite320_mobilenet_v3_large_coco-a79551df.pth\n"
          ]
        },
        {
          "output_type": "display_data",
          "data": {
            "text/plain": [
              "  0%|          | 0.00/13.4M [00:00<?, ?B/s]"
            ],
            "application/vnd.jupyter.widget-view+json": {
              "version_major": 2,
              "version_minor": 0,
              "model_id": "6975b9359f664d0aab3a1fc2a39dddf6"
            }
          },
          "metadata": {}
        },
        {
          "output_type": "stream",
          "name": "stdout",
          "text": [
            "Model ready\n"
          ]
        }
      ]
    },
    {
      "cell_type": "code",
      "source": [
        "predictions_view = dataset.take(2500, seed=51)"
      ],
      "metadata": {
        "id": "SHKl-JSnvOgb"
      },
      "execution_count": null,
      "outputs": []
    },
    {
      "cell_type": "code",
      "source": [
        "# Get class list\n",
        "classes = dataset.default_classes\n",
        "\n",
        "# Add predictions to samples\n",
        "with fo.ProgressBar() as pb:\n",
        "    for sample in pb(predictions_view):\n",
        "        # Load image\n",
        "        image = Image.open(sample.filepath)\n",
        "        image = func.to_tensor(image)\n",
        "        c, h, w = image.shape\n",
        "\n",
        "        # Perform inference\n",
        "        preds = model([image])[0]\n",
        "        labels = preds[\"labels\"].cpu().detach().numpy()\n",
        "        scores = preds[\"scores\"].cpu().detach().numpy()\n",
        "        boxes = preds[\"boxes\"].cpu().detach().numpy()\n",
        "\n",
        "        # Convert detections to FiftyOne format\n",
        "        detections = []\n",
        "        for label, score, box in zip(labels, scores, boxes):\n",
        "            # Convert to [top-left-x, top-left-y, width, height]\n",
        "            # in relative coordinates in [0, 1] x [0, 1]\n",
        "            x1, y1, x2, y2 = box\n",
        "            rel_box = [x1 / w, y1 / h, (x2 - x1) / w, (y2 - y1) / h]\n",
        "\n",
        "            detections.append(\n",
        "                fo.Detection(\n",
        "                    label=classes[label],\n",
        "                    bounding_box=rel_box,\n",
        "                    confidence=score\n",
        "                )\n",
        "            )\n",
        "\n",
        "        # Save predictions to dataset\n",
        "        sample[\"ssd\"] = fo.Detections(detections=detections)\n",
        "        sample.save()\n",
        "\n",
        "print(\"Finished adding predictions\")"
      ],
      "metadata": {
        "colab": {
          "base_uri": "https://localhost:8080/"
        },
        "id": "l3BeaC-XvTnS",
        "outputId": "9ef5c7e3-c990-4c1f-da8b-04a904707cb4"
      },
      "execution_count": null,
      "outputs": [
        {
          "output_type": "stream",
          "name": "stdout",
          "text": [
            " 100% |███████████████| 2500/2500 [14.5m elapsed, 0s remaining, 2.8 samples/s]      \n"
          ]
        },
        {
          "output_type": "stream",
          "name": "stderr",
          "text": [
            "INFO:eta.core.utils: 100% |███████████████| 2500/2500 [14.5m elapsed, 0s remaining, 2.8 samples/s]      \n"
          ]
        },
        {
          "output_type": "stream",
          "name": "stdout",
          "text": [
            "Finished adding predictions\n"
          ]
        }
      ]
    },
    {
      "cell_type": "code",
      "source": [
        "results = predictions_view.evaluate_detections(\n",
        "    \"ssd\",\n",
        "    gt_field=\"ground_truth\",\n",
        "    eval_key=\"eval\",\n",
        "    compute_mAP=True,\n",
        ")"
      ],
      "metadata": {
        "colab": {
          "base_uri": "https://localhost:8080/"
        },
        "id": "Kxoc09zpvawz",
        "outputId": "24aaf265-8202-4ffe-fda0-c384e49a6261"
      },
      "execution_count": null,
      "outputs": [
        {
          "output_type": "stream",
          "name": "stdout",
          "text": [
            "Evaluating detections...\n"
          ]
        },
        {
          "output_type": "stream",
          "name": "stderr",
          "text": [
            "INFO:fiftyone.utils.eval.detection:Evaluating detections...\n"
          ]
        },
        {
          "output_type": "stream",
          "name": "stdout",
          "text": [
            " 100% |███████████████| 2500/2500 [3.9h elapsed, 0s remaining, 0.2 samples/s]    \n"
          ]
        },
        {
          "output_type": "stream",
          "name": "stderr",
          "text": [
            "INFO:eta.core.utils: 100% |███████████████| 2500/2500 [3.9h elapsed, 0s remaining, 0.2 samples/s]    \n"
          ]
        },
        {
          "output_type": "stream",
          "name": "stdout",
          "text": [
            "Performing IoU sweep...\n"
          ]
        },
        {
          "output_type": "stream",
          "name": "stderr",
          "text": [
            "INFO:fiftyone.utils.eval.coco:Performing IoU sweep...\n"
          ]
        },
        {
          "output_type": "stream",
          "name": "stdout",
          "text": [
            " 100% |███████████████| 2500/2500 [13.5m elapsed, 0s remaining, 3.5 samples/s]      \n"
          ]
        },
        {
          "output_type": "stream",
          "name": "stderr",
          "text": [
            "INFO:eta.core.utils: 100% |███████████████| 2500/2500 [13.5m elapsed, 0s remaining, 3.5 samples/s]      \n"
          ]
        }
      ]
    },
    {
      "cell_type": "markdown",
      "source": [
        "# IoU visible on images"
      ],
      "metadata": {
        "id": "Bbyuq5kF50tm"
      }
    },
    {
      "cell_type": "code",
      "source": [
        "eval_patches = predictions_view.to_evaluation_patches(\"eval\")\n",
        "print(eval_patches)\n",
        "\n",
        "print(eval_patches.count_values(\"type\"))\n",
        "\n",
        "session.view = eval_patches"
      ],
      "metadata": {
        "id": "On5_TDb5vspt",
        "colab": {
          "base_uri": "https://localhost:8080/",
          "height": 329
        },
        "outputId": "71922773-983e-40b3-db77-d9f080fa110e"
      },
      "execution_count": null,
      "outputs": [
        {
          "output_type": "stream",
          "name": "stdout",
          "text": [
            "Dataset:     coco-2017-validation\n",
            "Media type:  image\n",
            "Num patches: 742418\n",
            "Patch fields:\n",
            "    id:           fiftyone.core.fields.ObjectIdField\n",
            "    sample_id:    fiftyone.core.fields.ObjectIdField\n",
            "    filepath:     fiftyone.core.fields.StringField\n",
            "    tags:         fiftyone.core.fields.ListField(fiftyone.core.fields.StringField)\n",
            "    metadata:     fiftyone.core.fields.EmbeddedDocumentField(fiftyone.core.metadata.ImageMetadata)\n",
            "    ground_truth: fiftyone.core.fields.EmbeddedDocumentField(fiftyone.core.labels.Detections)\n",
            "    ssd:          fiftyone.core.fields.EmbeddedDocumentField(fiftyone.core.labels.Detections)\n",
            "    crowd:        fiftyone.core.fields.BooleanField\n",
            "    type:         fiftyone.core.fields.StringField\n",
            "    iou:          fiftyone.core.fields.FloatField\n",
            "View stages:\n",
            "    1. Take(size=2500, seed=51)\n",
            "    2. ToEvaluationPatches(eval_key='eval', config=None)\n",
            "{'fn': 7849, 'fp': 723966, 'tp': 10603}\n"
          ]
        },
        {
          "output_type": "display_data",
          "data": {
            "text/plain": [
              "<IPython.core.display.HTML object>"
            ],
            "text/html": [
              "\n",
              "<style>\n",
              "\n",
              "@import url(\"https://fonts.googleapis.com/css2?family=Palanquin&display=swap\");\n",
              "\n",
              "#focontainer-d1c4888b-561c-4bf4-a670-53c8ab326235 {\n",
              "  position: relative;\n",
              "  height: px;\n",
              "  display: block !important;\n",
              "}\n",
              "#foactivate-d1c4888b-561c-4bf4-a670-53c8ab326235 {\n",
              "  font-weight: bold;\n",
              "  cursor: pointer;\n",
              "  font-size: 24px;\n",
              "  border-radius: 3px;\n",
              "  text-align: center;\n",
              "  padding: 0.5em;\n",
              "  color: rgb(255, 255, 255);\n",
              "  font-family: \"Palanquin\", sans-serif;\n",
              "  position: absolute;\n",
              "  left: 50%;\n",
              "  top: 50%;\n",
              "  width: 160px;\n",
              "  margin-left: -80px;\n",
              "  margin-top: -23px;\n",
              "  background: hsla(210,11%,15%, 0.8);\n",
              "  border: none;\n",
              "}\n",
              "#foactivate-d1c4888b-561c-4bf4-a670-53c8ab326235:focus {\n",
              "  outline: none;\n",
              "}\n",
              "#fooverlay-d1c4888b-561c-4bf4-a670-53c8ab326235 {\n",
              "  width: 100%;\n",
              "  height: 100%;\n",
              "  background: hsla(208, 7%, 46%, 0.7);\n",
              "  position: absolute;\n",
              "  top: 0;\n",
              "  left: 0;\n",
              "  display: none;\n",
              "  cursor: pointer;\n",
              "}\n",
              "</style>\n",
              "<div id=\"focontainer-d1c4888b-561c-4bf4-a670-53c8ab326235\" style=\"display: none;\">\n",
              "   <div id=\"fooverlay-d1c4888b-561c-4bf4-a670-53c8ab326235\">\n",
              "      <button id=\"foactivate-d1c4888b-561c-4bf4-a670-53c8ab326235\" >Activate</button>\n",
              "   </div>\n",
              "</div>"
            ]
          },
          "metadata": {}
        }
      ]
    },
    {
      "cell_type": "code",
      "source": [
        "session.freeze()  # screenshot the active App for sharing"
      ],
      "metadata": {
        "id": "lk0z-Ao1vw1u"
      },
      "execution_count": null,
      "outputs": []
    },
    {
      "cell_type": "markdown",
      "source": [
        "# mAP of this model"
      ],
      "metadata": {
        "id": "44w9g0jF535C"
      }
    },
    {
      "cell_type": "code",
      "source": [
        "print(results.mAP())"
      ],
      "metadata": {
        "id": "2VhRRyXbvzVa",
        "colab": {
          "base_uri": "https://localhost:8080/"
        },
        "outputId": "8341bbae-a13f-45a9-f12c-3706ab3c30a5"
      },
      "execution_count": null,
      "outputs": [
        {
          "output_type": "stream",
          "name": "stdout",
          "text": [
            "0.21451017794591154\n"
          ]
        }
      ]
    },
    {
      "cell_type": "markdown",
      "source": [
        "# Getting the 10 most common classes"
      ],
      "metadata": {
        "id": "3Qnd8vd95554"
      }
    },
    {
      "cell_type": "code",
      "source": [
        "# Get the 10 most common classes in the dataset\n",
        "counts = dataset.count_values(\"ground_truth.detections.label\")\n",
        "classes_top10 = sorted(counts, key=counts.get, reverse=True)[:10]\n",
        "\n",
        "# Print a classification report for the top-10 classes\n",
        "results.print_report(classes=classes_top10)"
      ],
      "metadata": {
        "id": "7LwDkSAPv1Oy",
        "colab": {
          "base_uri": "https://localhost:8080/"
        },
        "outputId": "0c98e7d9-af26-4980-d1dd-6d47afcdf086"
      },
      "execution_count": null,
      "outputs": [
        {
          "output_type": "stream",
          "name": "stdout",
          "text": [
            "               precision    recall  f1-score   support\n",
            "\n",
            "       person       0.07      0.88      0.12     13902\n",
            "          car       0.03      0.63      0.06      1438\n",
            "        chair       0.02      0.67      0.03      1214\n",
            "         book       0.07      0.86      0.14      2513\n",
            "       bottle       0.02      0.50      0.04       650\n",
            "          cup       0.03      0.50      0.06       593\n",
            " dining table       0.01      0.77      0.03       329\n",
            "traffic light       0.01      0.48      0.01       429\n",
            "         bowl       0.02      0.47      0.05       312\n",
            "      handbag       0.01      0.29      0.01       255\n",
            "\n",
            "    micro avg       0.04      0.80      0.08     21635\n",
            "    macro avg       0.03      0.61      0.05     21635\n",
            " weighted avg       0.06      0.80      0.11     21635\n",
            "\n"
          ]
        }
      ]
    },
    {
      "cell_type": "markdown",
      "source": [
        "# Precision vs. recall of th 10 most common classes"
      ],
      "metadata": {
        "id": "k2miycjA577j"
      }
    },
    {
      "cell_type": "code",
      "source": [
        "plot = results.plot_pr_curves(classes=classes_top10)\n",
        "plot.show()"
      ],
      "metadata": {
        "id": "VtT_MO0Jv4EU",
        "colab": {
          "base_uri": "https://localhost:8080/",
          "height": 542
        },
        "outputId": "4d1c23cc-1306-4fc5-a305-33003237bd3e"
      },
      "execution_count": null,
      "outputs": [
        {
          "output_type": "display_data",
          "data": {
            "text/html": [
              "<html>\n",
              "<head><meta charset=\"utf-8\" /></head>\n",
              "<body>\n",
              "    <div>            <script src=\"https://cdnjs.cloudflare.com/ajax/libs/mathjax/2.7.5/MathJax.js?config=TeX-AMS-MML_SVG\"></script><script type=\"text/javascript\">if (window.MathJax) {MathJax.Hub.Config({SVG: {font: \"STIX-Web\"}});}</script>                <script type=\"text/javascript\">window.PlotlyConfig = {MathJaxConfig: 'local'};</script>\n",
              "        <script src=\"https://cdn.plot.ly/plotly-2.8.3.min.js\"></script>                <div id=\"be3283d5-bafd-4a49-9985-852e8484c010\" class=\"plotly-graph-div\" style=\"height:525px; width:100%;\"></div>            <script type=\"text/javascript\">                                    window.PLOTLYENV=window.PLOTLYENV || {};                                    if (document.getElementById(\"be3283d5-bafd-4a49-9985-852e8484c010\")) {                    Plotly.newPlot(                        \"be3283d5-bafd-4a49-9985-852e8484c010\",                        [{\"customdata\":[0.9998176693916321,0.9978570938110352,0.9942002713680267,0.895832759141922,0.8942353904247284,0.892477947473526,0.8902892827987671,0.8868149578571319,0.880275821685791,0.8684105396270752,0.8379622995853424,0.7801690995693207,0.7748366892337799,0.7688538908958436,0.7597484946250915,0.7489543437957764,0.7325053215026855,0.6976066261529923,0.6611413851380348,0.6331561163067818,0.6087279260158539,0.5890672922134399,0.5668492794036866,0.5347433507442474,0.502822682261467,0.474861653149128,0.44430000633001326,0.4063863342627883,0.37533821165561676,0.34521029591560365,0.31793341785669327,0.28748666048049926,0.2579271674156189,0.23047539889812468,0.20424506664276124,0.17544982135295867,0.15652583837509154,0.1403598740696907,0.1253616362810135,0.1126355618238449,0.10175783708691596,0.09295221492648124,0.08299812786281109,0.07243035435676574,0.06751508489251137,0.06282298862934113,0.05855467244982719,0.054322106391191484,0.05046529322862625,0.04554306752979755,0.03860762491822243,0.0365491546690464,0.03457911387085914,0.03238503411412239,0.029907120019197465,0.026676344126462935,0.021063487231731414,0.01974010542035103,0.018197431415319442,0.016732924431562424,0.014706078544259071,0.012670044228434563,0.008068027347326279,0.007278992235660553,0.006397552043199539,0.005262485519051552,0.004157836362719536,0.0,0.0,0.0,0.0,0.0,0.0,0.0,0.0,0.0,0.0,0.0,0.0,0.0,0.0,0.0,0.0,0.0,0.0,0.0,0.0,0.0,0.0,0.0,0.0,0.0,0.0,0.0,0.0,0.0,0.0,0.0,0.0,0.0,0.0],\"hovertemplate\":\"<b>class: %{text}</b><br>recall: %{x:.3f}<br>precision: %{y:.3f}<br>threshold: %{customdata:.3f}<extra></extra>\",\"line\":{\"color\":\"#3366CC\"},\"mode\":\"lines\",\"name\":\"person (AP = 0.278)\",\"text\":[\"person\",\"person\",\"person\",\"person\",\"person\",\"person\",\"person\",\"person\",\"person\",\"person\",\"person\",\"person\",\"person\",\"person\",\"person\",\"person\",\"person\",\"person\",\"person\",\"person\",\"person\",\"person\",\"person\",\"person\",\"person\",\"person\",\"person\",\"person\",\"person\",\"person\",\"person\",\"person\",\"person\",\"person\",\"person\",\"person\",\"person\",\"person\",\"person\",\"person\",\"person\",\"person\",\"person\",\"person\",\"person\",\"person\",\"person\",\"person\",\"person\",\"person\",\"person\",\"person\",\"person\",\"person\",\"person\",\"person\",\"person\",\"person\",\"person\",\"person\",\"person\",\"person\",\"person\",\"person\",\"person\",\"person\",\"person\",\"person\",\"person\",\"person\",\"person\",\"person\",\"person\",\"person\",\"person\",\"person\",\"person\",\"person\",\"person\",\"person\",\"person\",\"person\",\"person\",\"person\",\"person\",\"person\",\"person\",\"person\",\"person\",\"person\",\"person\",\"person\",\"person\",\"person\",\"person\",\"person\",\"person\",\"person\",\"person\",\"person\",\"person\"],\"x\":[0.0,0.01,0.02,0.03,0.04,0.05,0.06,0.07,0.08,0.09,0.1,0.11,0.12,0.13,0.14,0.15,0.16,0.17,0.18,0.19,0.2,0.21,0.22,0.23,0.24,0.25,0.26,0.27,0.28,0.29,0.3,0.31,0.32,0.33,0.34,0.35000000000000003,0.36,0.37,0.38,0.39,0.4,0.41000000000000003,0.42,0.43,0.44,0.45,0.46,0.47000000000000003,0.48,0.49,0.5,0.51,0.52,0.53,0.54,0.55,0.56,0.5700000000000001,0.58,0.59,0.6,0.61,0.62,0.63,0.64,0.65,0.66,0.67,0.68,0.6900000000000001,0.7000000000000001,0.71,0.72,0.73,0.74,0.75,0.76,0.77,0.78,0.79,0.8,0.81,0.8200000000000001,0.8300000000000001,0.84,0.85,0.86,0.87,0.88,0.89,0.9,0.91,0.92,0.93,0.9400000000000001,0.9500000000000001,0.96,0.97,0.98,0.99,1.0],\"y\":[0.95,0.8713540109143876,0.8600184388490797,0.8397154704789193,0.83437348331566,0.8279929816014354,0.8172660867312468,0.8098356922348838,0.8011107114676601,0.7936482316024324,0.7801163622446181,0.7497347215627795,0.7417743571547184,0.7368189219512313,0.7289793194861068,0.7220684315112804,0.7139804052070069,0.6997196559651496,0.6795203968138336,0.6465586671642947,0.6368697105353103,0.6307538548801521,0.6244454482289121,0.6130485774581182,0.5982744092791796,0.5813475794734358,0.5517186942418941,0.5322629577129185,0.5213202631648177,0.5106870742358214,0.49753511410729623,0.477431600156814,0.45131827997138246,0.42964438169107144,0.40814242659174493,0.3852869680454563,0.3633153724579815,0.34377421513805073,0.32331075854070024,0.3032541568912962,0.2808383366472962,0.2610498113145108,0.23874995094246154,0.21807669969088633,0.20259905273467402,0.18484296490733107,0.16731217152958702,0.1501177749861509,0.13503766458645872,0.11836035386677171,0.10228444514940274,0.09263270983440217,0.08300555938641352,0.07363569852359915,0.06474448185251881,0.056108024898599826,0.04650535928562735,0.04068722774756988,0.03481624971642358,0.030224160469864602,0.025065904080630214,0.02073513006955339,0.013593342036553524,0.011206011851557587,0.00901819898253527,0.006854395604395605,0.0052572292460241,0.0,0.0,0.0,0.0,0.0,0.0,0.0,0.0,0.0,0.0,0.0,0.0,0.0,0.0,0.0,0.0,0.0,0.0,0.0,0.0,0.0,0.0,0.0,0.0,0.0,0.0,0.0,0.0,0.0,0.0,0.0,0.0,0.0,0.0],\"type\":\"scatter\"},{\"customdata\":[0.9930670261383057,0.9793644189834595,0.9634729743003845,0.9493047297000885,0.9379477143287659,0.924712860584259,0.9079280436038971,0.8891429603099823,0.8697723627090455,0.8403429478406906,0.8046920984983444,0.7711766123771667,0.7558430254459381,0.7352177739143372,0.7192571580410003,0.6983395338058471,0.6851140320301056,0.6625950694084167,0.6352892756462097,0.5899808973073959,0.5696346841752529,0.5445206761360168,0.5248946726322175,0.510446834564209,0.49833105504512787,0.4760954678058624,0.448509418964386,0.42622258365154264,0.40859808772802353,0.37972396053373814,0.3538463370874524,0.3325279265642166,0.31848039031028746,0.29935500025749207,0.27844428867101667,0.26255587488412857,0.24100253507494926,0.22746091037988664,0.21206194646656512,0.19592294860631226,0.16778132915496827,0.15403070747852327,0.13962408304214477,0.1250260926783085,0.11718367934226989,0.10833316892385483,0.09993186444044114,0.09064580909907818,0.0841449435800314,0.07653950154781342,0.06873916685581208,0.06185083910822868,0.058608048409223554,0.056034830212593076,0.05142957605421543,0.04856330491602421,0.04484938643872738,0.042093537747859955,0.03777888678014278,0.03482676409184933,0.03294960744678974,0.030228466913104057,0.0276858851313591,0.02615467719733715,0.02535477839410305,0.02265540063381195,0.02103484459221363,0.018451120425015687,0.016279338300228118,0.015187551081180573,0.013391813449561595,0.010628737974911928,0.00833984799683094,0.007942534238100051,0.0067257387563586235,0.0036900535225868223,0.0024520084261894226,0.0,0.0,0.0,0.0,0.0,0.0,0.0,0.0,0.0,0.0,0.0,0.0,0.0,0.0,0.0,0.0,0.0,0.0,0.0,0.0,0.0,0.0,0.0,0.0],\"hovertemplate\":\"<b>class: %{text}</b><br>recall: %{x:.3f}<br>precision: %{y:.3f}<br>threshold: %{customdata:.3f}<extra></extra>\",\"line\":{\"color\":\"#DC3912\"},\"mode\":\"lines\",\"name\":\"dining table (AP = 0.255)\",\"text\":[\"dining table\",\"dining table\",\"dining table\",\"dining table\",\"dining table\",\"dining table\",\"dining table\",\"dining table\",\"dining table\",\"dining table\",\"dining table\",\"dining table\",\"dining table\",\"dining table\",\"dining table\",\"dining table\",\"dining table\",\"dining table\",\"dining table\",\"dining table\",\"dining table\",\"dining table\",\"dining table\",\"dining table\",\"dining table\",\"dining table\",\"dining table\",\"dining table\",\"dining table\",\"dining table\",\"dining table\",\"dining table\",\"dining table\",\"dining table\",\"dining table\",\"dining table\",\"dining table\",\"dining table\",\"dining table\",\"dining table\",\"dining table\",\"dining table\",\"dining table\",\"dining table\",\"dining table\",\"dining table\",\"dining table\",\"dining table\",\"dining table\",\"dining table\",\"dining table\",\"dining table\",\"dining table\",\"dining table\",\"dining table\",\"dining table\",\"dining table\",\"dining table\",\"dining table\",\"dining table\",\"dining table\",\"dining table\",\"dining table\",\"dining table\",\"dining table\",\"dining table\",\"dining table\",\"dining table\",\"dining table\",\"dining table\",\"dining table\",\"dining table\",\"dining table\",\"dining table\",\"dining table\",\"dining table\",\"dining table\",\"dining table\",\"dining table\",\"dining table\",\"dining table\",\"dining table\",\"dining table\",\"dining table\",\"dining table\",\"dining table\",\"dining table\",\"dining table\",\"dining table\",\"dining table\",\"dining table\",\"dining table\",\"dining table\",\"dining table\",\"dining table\",\"dining table\",\"dining table\",\"dining table\",\"dining table\",\"dining table\",\"dining table\"],\"x\":[0.0,0.01,0.02,0.03,0.04,0.05,0.06,0.07,0.08,0.09,0.1,0.11,0.12,0.13,0.14,0.15,0.16,0.17,0.18,0.19,0.2,0.21,0.22,0.23,0.24,0.25,0.26,0.27,0.28,0.29,0.3,0.31,0.32,0.33,0.34,0.35000000000000003,0.36,0.37,0.38,0.39,0.4,0.41000000000000003,0.42,0.43,0.44,0.45,0.46,0.47000000000000003,0.48,0.49,0.5,0.51,0.52,0.53,0.54,0.55,0.56,0.5700000000000001,0.58,0.59,0.6,0.61,0.62,0.63,0.64,0.65,0.66,0.67,0.68,0.6900000000000001,0.7000000000000001,0.71,0.72,0.73,0.74,0.75,0.76,0.77,0.78,0.79,0.8,0.81,0.8200000000000001,0.8300000000000001,0.84,0.85,0.86,0.87,0.88,0.89,0.9,0.91,0.92,0.93,0.9400000000000001,0.9500000000000001,0.96,0.97,0.98,0.99,1.0],\"y\":[1.0,0.9571428571428571,0.8454545454545453,0.791042780748663,0.7394994840041278,0.7097552447552447,0.6781260976466457,0.6584291677314933,0.6562304362304363,0.6439136728682915,0.63338014067587,0.6166615075065779,0.6123656096060288,0.6063439621068968,0.603268665314331,0.5979297384663333,0.5975064580430528,0.5943023998655066,0.5862843996757623,0.5679441951537897,0.5560118192420104,0.5457833909085182,0.5391067653276955,0.5334947887586079,0.5295996552188149,0.5197053952239751,0.501694980205001,0.49070823061591656,0.48030118129412774,0.455810932954053,0.4389581386631317,0.4256426601436297,0.4179897208041462,0.4024421866104107,0.3825889757187568,0.36639337352064205,0.3456205960906641,0.3352765097203398,0.32502863562996975,0.3137466283188154,0.28648944488628203,0.27208499774637335,0.25369769240245804,0.23167120902773583,0.22056562684901312,0.20574067650172992,0.189133079290832,0.17248207058223083,0.1568393435836853,0.14122319599752464,0.12880217353473955,0.11040936190619122,0.09996815410568342,0.09285060242593593,0.07859006607962538,0.07112722193820756,0.06156817639717621,0.05667395946170697,0.05120284895815441,0.044630083081316885,0.03960559748697416,0.03243359641573886,0.026900512692532064,0.02393153656541161,0.022686474297094125,0.018256885747697495,0.017007799273255526,0.015022253882688732,0.012355919643741184,0.011228050044737339,0.0098987520459819,0.008179544605426458,0.005635970782351861,0.0053880185647231455,0.004771739177644295,0.002477091934346994,0.0018305630812037784,0.0,0.0,0.0,0.0,0.0,0.0,0.0,0.0,0.0,0.0,0.0,0.0,0.0,0.0,0.0,0.0,0.0,0.0,0.0,0.0,0.0,0.0,0.0,0.0],\"type\":\"scatter\"},{\"customdata\":[0.9918069243431091,0.981122636795044,0.9153495401144027,0.8630914010107518,0.8450122594833374,0.8135319828987122,0.7881771802902222,0.7653421819210052,0.723151084780693,0.6813096642494202,0.6185381084680557,0.5789063014090061,0.549278450012207,0.4974821001291275,0.47179834842681884,0.43637372851371764,0.3866075277328491,0.3353054106235504,0.299643487483263,0.2576473716646433,0.23462055176496505,0.21079785674810408,0.19017592966556549,0.16882783100008963,0.15298720076680183,0.1365776415914297,0.12212932407855988,0.10966166034340859,0.09730053171515465,0.08685380332171917,0.07867771722376346,0.06847567409276963,0.06099822521209717,0.05293843001127243,0.04713864363729954,0.042729887366294864,0.037041673064231874,0.030174452252686022,0.025697076320648195,0.022529300674796103,0.021090275421738625,0.01769846137613058,0.014484600350260734,0.01260125208646059,0.008719384297728538,0.007822289317846298,0.005504048056900501,0.0026859905570745467,0.0,0.0,0.0,0.0,0.0,0.0,0.0,0.0,0.0,0.0,0.0,0.0,0.0,0.0,0.0,0.0,0.0,0.0,0.0,0.0,0.0,0.0,0.0,0.0,0.0,0.0,0.0,0.0,0.0,0.0,0.0,0.0,0.0,0.0,0.0,0.0,0.0,0.0,0.0,0.0,0.0,0.0,0.0,0.0,0.0,0.0,0.0,0.0,0.0,0.0,0.0,0.0,0.0],\"hovertemplate\":\"<b>class: %{text}</b><br>recall: %{x:.3f}<br>precision: %{y:.3f}<br>threshold: %{customdata:.3f}<extra></extra>\",\"line\":{\"color\":\"#FF9900\"},\"mode\":\"lines\",\"name\":\"bowl (AP = 0.163)\",\"text\":[\"bowl\",\"bowl\",\"bowl\",\"bowl\",\"bowl\",\"bowl\",\"bowl\",\"bowl\",\"bowl\",\"bowl\",\"bowl\",\"bowl\",\"bowl\",\"bowl\",\"bowl\",\"bowl\",\"bowl\",\"bowl\",\"bowl\",\"bowl\",\"bowl\",\"bowl\",\"bowl\",\"bowl\",\"bowl\",\"bowl\",\"bowl\",\"bowl\",\"bowl\",\"bowl\",\"bowl\",\"bowl\",\"bowl\",\"bowl\",\"bowl\",\"bowl\",\"bowl\",\"bowl\",\"bowl\",\"bowl\",\"bowl\",\"bowl\",\"bowl\",\"bowl\",\"bowl\",\"bowl\",\"bowl\",\"bowl\",\"bowl\",\"bowl\",\"bowl\",\"bowl\",\"bowl\",\"bowl\",\"bowl\",\"bowl\",\"bowl\",\"bowl\",\"bowl\",\"bowl\",\"bowl\",\"bowl\",\"bowl\",\"bowl\",\"bowl\",\"bowl\",\"bowl\",\"bowl\",\"bowl\",\"bowl\",\"bowl\",\"bowl\",\"bowl\",\"bowl\",\"bowl\",\"bowl\",\"bowl\",\"bowl\",\"bowl\",\"bowl\",\"bowl\",\"bowl\",\"bowl\",\"bowl\",\"bowl\",\"bowl\",\"bowl\",\"bowl\",\"bowl\",\"bowl\",\"bowl\",\"bowl\",\"bowl\",\"bowl\",\"bowl\",\"bowl\",\"bowl\",\"bowl\",\"bowl\",\"bowl\",\"bowl\"],\"x\":[0.0,0.01,0.02,0.03,0.04,0.05,0.06,0.07,0.08,0.09,0.1,0.11,0.12,0.13,0.14,0.15,0.16,0.17,0.18,0.19,0.2,0.21,0.22,0.23,0.24,0.25,0.26,0.27,0.28,0.29,0.3,0.31,0.32,0.33,0.34,0.35000000000000003,0.36,0.37,0.38,0.39,0.4,0.41000000000000003,0.42,0.43,0.44,0.45,0.46,0.47000000000000003,0.48,0.49,0.5,0.51,0.52,0.53,0.54,0.55,0.56,0.5700000000000001,0.58,0.59,0.6,0.61,0.62,0.63,0.64,0.65,0.66,0.67,0.68,0.6900000000000001,0.7000000000000001,0.71,0.72,0.73,0.74,0.75,0.76,0.77,0.78,0.79,0.8,0.81,0.8200000000000001,0.8300000000000001,0.84,0.85,0.86,0.87,0.88,0.89,0.9,0.91,0.92,0.93,0.9400000000000001,0.9500000000000001,0.96,0.97,0.98,0.99,1.0],\"y\":[0.84491341991342,0.8353896103896105,0.7558965228320067,0.6966717529717953,0.6898104838709677,0.680133064516129,0.680133064516129,0.6785416666666666,0.6569624425677862,0.6309340736084923,0.5965725208058791,0.5819068995935684,0.5744761904761905,0.5540674603174603,0.5462676233963906,0.5262333608469512,0.47092323819641946,0.43909952290856885,0.40735656888056687,0.37883125132122053,0.36630173811228955,0.3483992125760419,0.3370624708978478,0.31510446906806455,0.29813882317919227,0.2845268648502181,0.2685151485488294,0.2484355625843059,0.22780207199695712,0.21065033767603153,0.19728987382165458,0.176947480176195,0.1617696637125043,0.1374546559753917,0.12057279085261112,0.1054885982816686,0.08717770127740797,0.0643887184774268,0.053232161494662276,0.040684114673985305,0.03594992277304619,0.028370724945292636,0.02268648547083956,0.01808692601635816,0.012606802400847359,0.010408991031538977,0.0077277876157025634,0.003683287396642446,0.0,0.0,0.0,0.0,0.0,0.0,0.0,0.0,0.0,0.0,0.0,0.0,0.0,0.0,0.0,0.0,0.0,0.0,0.0,0.0,0.0,0.0,0.0,0.0,0.0,0.0,0.0,0.0,0.0,0.0,0.0,0.0,0.0,0.0,0.0,0.0,0.0,0.0,0.0,0.0,0.0,0.0,0.0,0.0,0.0,0.0,0.0,0.0,0.0,0.0,0.0,0.0,0.0],\"type\":\"scatter\"},{\"customdata\":[0.9959009289741516,0.8895394384860993,0.8726612091064453,0.8409070253372193,0.7942566573619843,0.7626062273979187,0.6690464317798615,0.6296336770057678,0.5303244352340698,0.44265098720788953,0.3878848932683468,0.318820408731699,0.26987618654966355,0.2270976908504963,0.19302244931459428,0.1540756305679679,0.1219999723136425,0.10681283846497536,0.08550207056105137,0.07222802527248859,0.06068226397037506,0.049189471453428266,0.042748504877090455,0.03745058234781027,0.030372854322195053,0.02801348678767681,0.025159322284162046,0.020280425995588304,0.018942421302199364,0.01668442226946354,0.015242333710193633,0.011444656550884247,0.010527603700757027,0.009359436109662056,0.008669184520840645,0.0072327181696891785,0.003898366913199425,0.0036020420491695406,0.0029378730803728105,0.0,0.0,0.0,0.0,0.0,0.0,0.0,0.0,0.0,0.0,0.0,0.0,0.0,0.0,0.0,0.0,0.0,0.0,0.0,0.0,0.0,0.0,0.0,0.0,0.0,0.0,0.0,0.0,0.0,0.0,0.0,0.0,0.0,0.0,0.0,0.0,0.0,0.0,0.0,0.0,0.0,0.0,0.0,0.0,0.0,0.0,0.0,0.0,0.0,0.0,0.0,0.0,0.0,0.0,0.0,0.0,0.0,0.0,0.0,0.0,0.0,0.0],\"hovertemplate\":\"<b>class: %{text}</b><br>recall: %{x:.3f}<br>precision: %{y:.3f}<br>threshold: %{customdata:.3f}<extra></extra>\",\"line\":{\"color\":\"#109618\"},\"mode\":\"lines\",\"name\":\"cup (AP = 0.114)\",\"text\":[\"cup\",\"cup\",\"cup\",\"cup\",\"cup\",\"cup\",\"cup\",\"cup\",\"cup\",\"cup\",\"cup\",\"cup\",\"cup\",\"cup\",\"cup\",\"cup\",\"cup\",\"cup\",\"cup\",\"cup\",\"cup\",\"cup\",\"cup\",\"cup\",\"cup\",\"cup\",\"cup\",\"cup\",\"cup\",\"cup\",\"cup\",\"cup\",\"cup\",\"cup\",\"cup\",\"cup\",\"cup\",\"cup\",\"cup\",\"cup\",\"cup\",\"cup\",\"cup\",\"cup\",\"cup\",\"cup\",\"cup\",\"cup\",\"cup\",\"cup\",\"cup\",\"cup\",\"cup\",\"cup\",\"cup\",\"cup\",\"cup\",\"cup\",\"cup\",\"cup\",\"cup\",\"cup\",\"cup\",\"cup\",\"cup\",\"cup\",\"cup\",\"cup\",\"cup\",\"cup\",\"cup\",\"cup\",\"cup\",\"cup\",\"cup\",\"cup\",\"cup\",\"cup\",\"cup\",\"cup\",\"cup\",\"cup\",\"cup\",\"cup\",\"cup\",\"cup\",\"cup\",\"cup\",\"cup\",\"cup\",\"cup\",\"cup\",\"cup\",\"cup\",\"cup\",\"cup\",\"cup\",\"cup\",\"cup\",\"cup\",\"cup\"],\"x\":[0.0,0.01,0.02,0.03,0.04,0.05,0.06,0.07,0.08,0.09,0.1,0.11,0.12,0.13,0.14,0.15,0.16,0.17,0.18,0.19,0.2,0.21,0.22,0.23,0.24,0.25,0.26,0.27,0.28,0.29,0.3,0.31,0.32,0.33,0.34,0.35000000000000003,0.36,0.37,0.38,0.39,0.4,0.41000000000000003,0.42,0.43,0.44,0.45,0.46,0.47000000000000003,0.48,0.49,0.5,0.51,0.52,0.53,0.54,0.55,0.56,0.5700000000000001,0.58,0.59,0.6,0.61,0.62,0.63,0.64,0.65,0.66,0.67,0.68,0.6900000000000001,0.7000000000000001,0.71,0.72,0.73,0.74,0.75,0.76,0.77,0.78,0.79,0.8,0.81,0.8200000000000001,0.8300000000000001,0.84,0.85,0.86,0.87,0.88,0.89,0.9,0.91,0.92,0.93,0.9400000000000001,0.9500000000000001,0.96,0.97,0.98,0.99,1.0],\"y\":[0.925,0.9,0.8702564102564103,0.8394805194805194,0.8164646464646464,0.7523670827554323,0.6755868544600939,0.640042261974226,0.5526893267188299,0.4770703123334702,0.43910310330051205,0.40861224136924407,0.38651196696091056,0.3521399188841414,0.3334692110666496,0.29056467143783554,0.259324460916442,0.2406070979236287,0.2098126569100293,0.18985454965151777,0.1713852405975757,0.132929833947689,0.10863213458369066,0.09101567175487027,0.0730505040250187,0.06580844203113259,0.0577887077526318,0.04696662858102495,0.04222159358600728,0.03315335033393399,0.029114918962815928,0.022257201608647387,0.018656577196835895,0.014793442635944629,0.013127759034045849,0.009760273072205033,0.005455672659640422,0.004888647474198805,0.003731343283582089,0.0,0.0,0.0,0.0,0.0,0.0,0.0,0.0,0.0,0.0,0.0,0.0,0.0,0.0,0.0,0.0,0.0,0.0,0.0,0.0,0.0,0.0,0.0,0.0,0.0,0.0,0.0,0.0,0.0,0.0,0.0,0.0,0.0,0.0,0.0,0.0,0.0,0.0,0.0,0.0,0.0,0.0,0.0,0.0,0.0,0.0,0.0,0.0,0.0,0.0,0.0,0.0,0.0,0.0,0.0,0.0,0.0,0.0,0.0,0.0,0.0,0.0],\"type\":\"scatter\"},{\"customdata\":[0.997406542301178,0.8900900304317474,0.878197193145752,0.8623791813850403,0.7884509652853012,0.7293436527252197,0.6874514997005463,0.625113508105278,0.5175167724490166,0.4019706383347511,0.3119375824928284,0.24089618027210236,0.1966320089995861,0.16056780964136125,0.1409094139933586,0.12431283593177796,0.1120540514588356,0.10011009983718396,0.08689436092972755,0.07988921329379081,0.07420107200741768,0.06798850446939468,0.06183288879692554,0.0538568489253521,0.0507293589413166,0.04782444387674332,0.04387982115149498,0.04075616970658302,0.038543432205915454,0.035636326670646666,0.030226157605648042,0.027738085389137267,0.026310525462031366,0.024372493103146552,0.023043570667505266,0.02160709388554096,0.01971021145582199,0.015265046060085297,0.0146422877907753,0.013695986196398734,0.012580272927880286,0.011549833416938781,0.010081136971712113,0.006141137704253197,0.005523049458861351,0.005057875439524651,0.004773130640387535,0.004316480830311775,0.0035154648125171662,0.0019248537719249725,0.0,0.0,0.0,0.0,0.0,0.0,0.0,0.0,0.0,0.0,0.0,0.0,0.0,0.0,0.0,0.0,0.0,0.0,0.0,0.0,0.0,0.0,0.0,0.0,0.0,0.0,0.0,0.0,0.0,0.0,0.0,0.0,0.0,0.0,0.0,0.0,0.0,0.0,0.0,0.0,0.0,0.0,0.0,0.0,0.0,0.0,0.0,0.0,0.0,0.0,0.0],\"hovertemplate\":\"<b>class: %{text}</b><br>recall: %{x:.3f}<br>precision: %{y:.3f}<br>threshold: %{customdata:.3f}<extra></extra>\",\"line\":{\"color\":\"#990099\"},\"mode\":\"lines\",\"name\":\"car (AP = 0.108)\",\"text\":[\"car\",\"car\",\"car\",\"car\",\"car\",\"car\",\"car\",\"car\",\"car\",\"car\",\"car\",\"car\",\"car\",\"car\",\"car\",\"car\",\"car\",\"car\",\"car\",\"car\",\"car\",\"car\",\"car\",\"car\",\"car\",\"car\",\"car\",\"car\",\"car\",\"car\",\"car\",\"car\",\"car\",\"car\",\"car\",\"car\",\"car\",\"car\",\"car\",\"car\",\"car\",\"car\",\"car\",\"car\",\"car\",\"car\",\"car\",\"car\",\"car\",\"car\",\"car\",\"car\",\"car\",\"car\",\"car\",\"car\",\"car\",\"car\",\"car\",\"car\",\"car\",\"car\",\"car\",\"car\",\"car\",\"car\",\"car\",\"car\",\"car\",\"car\",\"car\",\"car\",\"car\",\"car\",\"car\",\"car\",\"car\",\"car\",\"car\",\"car\",\"car\",\"car\",\"car\",\"car\",\"car\",\"car\",\"car\",\"car\",\"car\",\"car\",\"car\",\"car\",\"car\",\"car\",\"car\",\"car\",\"car\",\"car\",\"car\",\"car\",\"car\"],\"x\":[0.0,0.01,0.02,0.03,0.04,0.05,0.06,0.07,0.08,0.09,0.1,0.11,0.12,0.13,0.14,0.15,0.16,0.17,0.18,0.19,0.2,0.21,0.22,0.23,0.24,0.25,0.26,0.27,0.28,0.29,0.3,0.31,0.32,0.33,0.34,0.35000000000000003,0.36,0.37,0.38,0.39,0.4,0.41000000000000003,0.42,0.43,0.44,0.45,0.46,0.47000000000000003,0.48,0.49,0.5,0.51,0.52,0.53,0.54,0.55,0.56,0.5700000000000001,0.58,0.59,0.6,0.61,0.62,0.63,0.64,0.65,0.66,0.67,0.68,0.6900000000000001,0.7000000000000001,0.71,0.72,0.73,0.74,0.75,0.76,0.77,0.78,0.79,0.8,0.81,0.8200000000000001,0.8300000000000001,0.84,0.85,0.86,0.87,0.88,0.89,0.9,0.91,0.92,0.93,0.9400000000000001,0.9500000000000001,0.96,0.97,0.98,0.99,1.0],\"y\":[0.8642857142857142,0.8105784313725491,0.807262641898865,0.8051084137358646,0.7830570577198985,0.7505419994893678,0.7195321494182486,0.6865474978653272,0.595671332114246,0.5091686451326551,0.44727250468295565,0.3732594520100847,0.3216963178963592,0.28006763670323076,0.24957284166832414,0.22239679849971297,0.20051298884172217,0.18032724749162657,0.15892157472135307,0.1395844573494613,0.12411996698074712,0.10903162992571405,0.09248695784893407,0.08161407047944062,0.07346276262992421,0.06663926216731743,0.05749624385230606,0.051636443643586626,0.04794346216336589,0.04303663294789985,0.037180285484982964,0.03255583910653117,0.0298230959306632,0.026936913609856762,0.02448982986960016,0.022594076674755388,0.020467861090250575,0.01630952768509254,0.015566564683147526,0.014364890241312383,0.012894552530844603,0.011484005960050916,0.00973826417526486,0.006146987300729533,0.005335628227194493,0.004840506329113924,0.004550987920217249,0.004123112659698025,0.0034159816736288907,0.002324224884461794,0.0,0.0,0.0,0.0,0.0,0.0,0.0,0.0,0.0,0.0,0.0,0.0,0.0,0.0,0.0,0.0,0.0,0.0,0.0,0.0,0.0,0.0,0.0,0.0,0.0,0.0,0.0,0.0,0.0,0.0,0.0,0.0,0.0,0.0,0.0,0.0,0.0,0.0,0.0,0.0,0.0,0.0,0.0,0.0,0.0,0.0,0.0,0.0,0.0,0.0,0.0],\"type\":\"scatter\"},{\"customdata\":[0.9972831010818481,0.8928288415074348,0.8213900864124298,0.76237323731184,0.7176838397979737,0.667066678404808,0.5898602768778801,0.5363792791962624,0.4637679234147072,0.393048956990242,0.3292370945215225,0.2827279165387154,0.24228436648845672,0.2016989417374134,0.1768396094441414,0.15365108251571655,0.13198828920722008,0.11925194784998894,0.10749128386378289,0.09695558249950409,0.08713263608515262,0.07796266227960587,0.07323005422949791,0.06772339716553688,0.06236395761370659,0.05844075903296471,0.05357741601765156,0.04690551683306694,0.04455975070595741,0.04243132695555687,0.03951753079891205,0.037104008719325066,0.03517896756529808,0.03155185841023922,0.029221216961741448,0.025157447159290313,0.02392803579568863,0.022147605568170546,0.020225225016474724,0.017804081551730633,0.014116879180073738,0.012912511453032493,0.011803836748003959,0.010519354045391083,0.00911316480487585,0.0057261504232883455,0.005100780352950096,0.004114704951643944,0.003534579649567604,0.002433827519416809,0.0,0.0,0.0,0.0,0.0,0.0,0.0,0.0,0.0,0.0,0.0,0.0,0.0,0.0,0.0,0.0,0.0,0.0,0.0,0.0,0.0,0.0,0.0,0.0,0.0,0.0,0.0,0.0,0.0,0.0,0.0,0.0,0.0,0.0,0.0,0.0,0.0,0.0,0.0,0.0,0.0,0.0,0.0,0.0,0.0,0.0,0.0,0.0,0.0,0.0,0.0],\"hovertemplate\":\"<b>class: %{text}</b><br>recall: %{x:.3f}<br>precision: %{y:.3f}<br>threshold: %{customdata:.3f}<extra></extra>\",\"line\":{\"color\":\"#0099C6\"},\"mode\":\"lines\",\"name\":\"chair (AP = 0.100)\",\"text\":[\"chair\",\"chair\",\"chair\",\"chair\",\"chair\",\"chair\",\"chair\",\"chair\",\"chair\",\"chair\",\"chair\",\"chair\",\"chair\",\"chair\",\"chair\",\"chair\",\"chair\",\"chair\",\"chair\",\"chair\",\"chair\",\"chair\",\"chair\",\"chair\",\"chair\",\"chair\",\"chair\",\"chair\",\"chair\",\"chair\",\"chair\",\"chair\",\"chair\",\"chair\",\"chair\",\"chair\",\"chair\",\"chair\",\"chair\",\"chair\",\"chair\",\"chair\",\"chair\",\"chair\",\"chair\",\"chair\",\"chair\",\"chair\",\"chair\",\"chair\",\"chair\",\"chair\",\"chair\",\"chair\",\"chair\",\"chair\",\"chair\",\"chair\",\"chair\",\"chair\",\"chair\",\"chair\",\"chair\",\"chair\",\"chair\",\"chair\",\"chair\",\"chair\",\"chair\",\"chair\",\"chair\",\"chair\",\"chair\",\"chair\",\"chair\",\"chair\",\"chair\",\"chair\",\"chair\",\"chair\",\"chair\",\"chair\",\"chair\",\"chair\",\"chair\",\"chair\",\"chair\",\"chair\",\"chair\",\"chair\",\"chair\",\"chair\",\"chair\",\"chair\",\"chair\",\"chair\",\"chair\",\"chair\",\"chair\",\"chair\",\"chair\"],\"x\":[0.0,0.01,0.02,0.03,0.04,0.05,0.06,0.07,0.08,0.09,0.1,0.11,0.12,0.13,0.14,0.15,0.16,0.17,0.18,0.19,0.2,0.21,0.22,0.23,0.24,0.25,0.26,0.27,0.28,0.29,0.3,0.31,0.32,0.33,0.34,0.35000000000000003,0.36,0.37,0.38,0.39,0.4,0.41000000000000003,0.42,0.43,0.44,0.45,0.46,0.47000000000000003,0.48,0.49,0.5,0.51,0.52,0.53,0.54,0.55,0.56,0.5700000000000001,0.58,0.59,0.6,0.61,0.62,0.63,0.64,0.65,0.66,0.67,0.68,0.6900000000000001,0.7000000000000001,0.71,0.72,0.73,0.74,0.75,0.76,0.77,0.78,0.79,0.8,0.81,0.8200000000000001,0.8300000000000001,0.84,0.85,0.86,0.87,0.88,0.89,0.9,0.91,0.92,0.93,0.9400000000000001,0.9500000000000001,0.96,0.97,0.98,0.99,1.0],\"y\":[0.8761904761904763,0.7328845974701048,0.6960953419560829,0.6732918688883454,0.6561069962730576,0.6402186630183517,0.5942388327838087,0.5698748801151226,0.5179166234416576,0.4568246909799865,0.4036610402080202,0.369210868417188,0.33176245870897114,0.28809732903174956,0.25818343855841985,0.23097137688344205,0.20420615204115516,0.18643036904681998,0.16814762738828046,0.14964659577799608,0.13611259070041887,0.12324350343476795,0.11368465131169196,0.0992680824583729,0.08699686696322174,0.07733460034279666,0.06874455514875706,0.05730314076423475,0.05027651839067641,0.04465746937972693,0.036971857858025606,0.031767337727791625,0.02831533339026881,0.023036491100881365,0.01978862778684947,0.01682204330393967,0.01445344922828835,0.01239548694239786,0.010830955191753432,0.009213933192558789,0.007450793102000116,0.006489921739989382,0.005821828439104062,0.005153981449076167,0.004387996762316144,0.002515371716042482,0.002120548576697015,0.001626508630012545,0.0014104165136266803,0.0011060011850012696,0.0,0.0,0.0,0.0,0.0,0.0,0.0,0.0,0.0,0.0,0.0,0.0,0.0,0.0,0.0,0.0,0.0,0.0,0.0,0.0,0.0,0.0,0.0,0.0,0.0,0.0,0.0,0.0,0.0,0.0,0.0,0.0,0.0,0.0,0.0,0.0,0.0,0.0,0.0,0.0,0.0,0.0,0.0,0.0,0.0,0.0,0.0,0.0,0.0,0.0,0.0],\"type\":\"scatter\"},{\"customdata\":[0.9973620772361755,0.8079581618309021,0.6954517588019371,0.6126040548086167,0.5233678102493287,0.39479986727237704,0.3237226396799088,0.26102751195430757,0.21678639203310013,0.18175468295812608,0.16095971167087555,0.13787559121847154,0.10947476141154766,0.08898365125060081,0.08010440543293953,0.07123280391097069,0.061852720007300376,0.053030808456242085,0.044540835171937944,0.039506923779845236,0.036311784759163857,0.03240970559418201,0.027412690222263336,0.024438247829675675,0.022718258202075958,0.021603719517588615,0.01937786340713501,0.016733218729496003,0.012556534260511398,0.011564952880144119,0.009915709868073464,0.008787325397133828,0.007377142272889614,0.00424610823392868,0.0037027459591627123,0.003347938135266304,0.0024608807638287545,0.0,0.0,0.0,0.0,0.0,0.0,0.0,0.0,0.0,0.0,0.0,0.0,0.0,0.0,0.0,0.0,0.0,0.0,0.0,0.0,0.0,0.0,0.0,0.0,0.0,0.0,0.0,0.0,0.0,0.0,0.0,0.0,0.0,0.0,0.0,0.0,0.0,0.0,0.0,0.0,0.0,0.0,0.0,0.0,0.0,0.0,0.0,0.0,0.0,0.0,0.0,0.0,0.0,0.0,0.0,0.0,0.0,0.0,0.0,0.0,0.0,0.0,0.0,0.0],\"hovertemplate\":\"<b>class: %{text}</b><br>recall: %{x:.3f}<br>precision: %{y:.3f}<br>threshold: %{customdata:.3f}<extra></extra>\",\"line\":{\"color\":\"#DD4477\"},\"mode\":\"lines\",\"name\":\"bottle (AP = 0.072)\",\"text\":[\"bottle\",\"bottle\",\"bottle\",\"bottle\",\"bottle\",\"bottle\",\"bottle\",\"bottle\",\"bottle\",\"bottle\",\"bottle\",\"bottle\",\"bottle\",\"bottle\",\"bottle\",\"bottle\",\"bottle\",\"bottle\",\"bottle\",\"bottle\",\"bottle\",\"bottle\",\"bottle\",\"bottle\",\"bottle\",\"bottle\",\"bottle\",\"bottle\",\"bottle\",\"bottle\",\"bottle\",\"bottle\",\"bottle\",\"bottle\",\"bottle\",\"bottle\",\"bottle\",\"bottle\",\"bottle\",\"bottle\",\"bottle\",\"bottle\",\"bottle\",\"bottle\",\"bottle\",\"bottle\",\"bottle\",\"bottle\",\"bottle\",\"bottle\",\"bottle\",\"bottle\",\"bottle\",\"bottle\",\"bottle\",\"bottle\",\"bottle\",\"bottle\",\"bottle\",\"bottle\",\"bottle\",\"bottle\",\"bottle\",\"bottle\",\"bottle\",\"bottle\",\"bottle\",\"bottle\",\"bottle\",\"bottle\",\"bottle\",\"bottle\",\"bottle\",\"bottle\",\"bottle\",\"bottle\",\"bottle\",\"bottle\",\"bottle\",\"bottle\",\"bottle\",\"bottle\",\"bottle\",\"bottle\",\"bottle\",\"bottle\",\"bottle\",\"bottle\",\"bottle\",\"bottle\",\"bottle\",\"bottle\",\"bottle\",\"bottle\",\"bottle\",\"bottle\",\"bottle\",\"bottle\",\"bottle\",\"bottle\",\"bottle\"],\"x\":[0.0,0.01,0.02,0.03,0.04,0.05,0.06,0.07,0.08,0.09,0.1,0.11,0.12,0.13,0.14,0.15,0.16,0.17,0.18,0.19,0.2,0.21,0.22,0.23,0.24,0.25,0.26,0.27,0.28,0.29,0.3,0.31,0.32,0.33,0.34,0.35000000000000003,0.36,0.37,0.38,0.39,0.4,0.41000000000000003,0.42,0.43,0.44,0.45,0.46,0.47000000000000003,0.48,0.49,0.5,0.51,0.52,0.53,0.54,0.55,0.56,0.5700000000000001,0.58,0.59,0.6,0.61,0.62,0.63,0.64,0.65,0.66,0.67,0.68,0.6900000000000001,0.7000000000000001,0.71,0.72,0.73,0.74,0.75,0.76,0.77,0.78,0.79,0.8,0.81,0.8200000000000001,0.8300000000000001,0.84,0.85,0.86,0.87,0.88,0.89,0.9,0.91,0.92,0.93,0.9400000000000001,0.9500000000000001,0.96,0.97,0.98,0.99,1.0],\"y\":[0.7405050505050506,0.6987773664244253,0.6756430586269595,0.63663271681067,0.6037759430389336,0.5179517809922084,0.4728419276261017,0.41123217491941466,0.3675800053785129,0.3323267035283166,0.3098859507073803,0.27093071034560395,0.2221210476349281,0.18658245983716143,0.16670513229771958,0.13944553588569655,0.11136361516158928,0.07842258033628532,0.05605345053045996,0.04240062819966526,0.03475786945600492,0.029458579740704587,0.0261993062496298,0.02061358743138577,0.017985373802287496,0.016912379715744826,0.013629071363946917,0.011030495954637317,0.008582540481595947,0.007372711821911733,0.0061113882051462435,0.005412697596214126,0.004736655548193171,0.0024828391996494815,0.002195334913309218,0.0020632737276478678,0.0017156635444681445,0.0,0.0,0.0,0.0,0.0,0.0,0.0,0.0,0.0,0.0,0.0,0.0,0.0,0.0,0.0,0.0,0.0,0.0,0.0,0.0,0.0,0.0,0.0,0.0,0.0,0.0,0.0,0.0,0.0,0.0,0.0,0.0,0.0,0.0,0.0,0.0,0.0,0.0,0.0,0.0,0.0,0.0,0.0,0.0,0.0,0.0,0.0,0.0,0.0,0.0,0.0,0.0,0.0,0.0,0.0,0.0,0.0,0.0,0.0,0.0,0.0,0.0,0.0,0.0],\"type\":\"scatter\"},{\"customdata\":[0.9756655097007751,0.6504705861210823,0.4995228826999664,0.3173315733671188,0.1673241525888443,0.13522601872682571,0.11930225417017937,0.10375957898795604,0.09135036990046501,0.0850893147289753,0.07609508484601975,0.07211909927427769,0.0611770436167717,0.055174652487039566,0.05278640761971474,0.0494370773434639,0.044388169422745705,0.03839028626680374,0.035744284838438035,0.034783060848712924,0.032690804451704025,0.029455969110131264,0.02790858969092369,0.025479621812701227,0.023014088720083238,0.020698007941246033,0.015637501329183578,0.014521550014615059,0.013917765021324158,0.012780172377824783,0.011465008184313775,0.009425842761993408,0.008119549043476582,0.005359276384115219,0.005027827247977257,0.0037218846380710604,0.0027013495564460754,0.0,0.0,0.0,0.0,0.0,0.0,0.0,0.0,0.0,0.0,0.0,0.0,0.0,0.0,0.0,0.0,0.0,0.0,0.0,0.0,0.0,0.0,0.0,0.0,0.0,0.0,0.0,0.0,0.0,0.0,0.0,0.0,0.0,0.0,0.0,0.0,0.0,0.0,0.0,0.0,0.0,0.0,0.0,0.0,0.0,0.0,0.0,0.0,0.0,0.0,0.0,0.0,0.0,0.0,0.0,0.0,0.0,0.0,0.0,0.0,0.0,0.0,0.0,0.0],\"hovertemplate\":\"<b>class: %{text}</b><br>recall: %{x:.3f}<br>precision: %{y:.3f}<br>threshold: %{customdata:.3f}<extra></extra>\",\"line\":{\"color\":\"#66AA00\"},\"mode\":\"lines\",\"name\":\"traffic light (AP = 0.035)\",\"text\":[\"traffic light\",\"traffic light\",\"traffic light\",\"traffic light\",\"traffic light\",\"traffic light\",\"traffic light\",\"traffic light\",\"traffic light\",\"traffic light\",\"traffic light\",\"traffic light\",\"traffic light\",\"traffic light\",\"traffic light\",\"traffic light\",\"traffic light\",\"traffic light\",\"traffic light\",\"traffic light\",\"traffic light\",\"traffic light\",\"traffic light\",\"traffic light\",\"traffic light\",\"traffic light\",\"traffic light\",\"traffic light\",\"traffic light\",\"traffic light\",\"traffic light\",\"traffic light\",\"traffic light\",\"traffic light\",\"traffic light\",\"traffic light\",\"traffic light\",\"traffic light\",\"traffic light\",\"traffic light\",\"traffic light\",\"traffic light\",\"traffic light\",\"traffic light\",\"traffic light\",\"traffic light\",\"traffic light\",\"traffic light\",\"traffic light\",\"traffic light\",\"traffic light\",\"traffic light\",\"traffic light\",\"traffic light\",\"traffic light\",\"traffic light\",\"traffic light\",\"traffic light\",\"traffic light\",\"traffic light\",\"traffic light\",\"traffic light\",\"traffic light\",\"traffic light\",\"traffic light\",\"traffic light\",\"traffic light\",\"traffic light\",\"traffic light\",\"traffic light\",\"traffic light\",\"traffic light\",\"traffic light\",\"traffic light\",\"traffic light\",\"traffic light\",\"traffic light\",\"traffic light\",\"traffic light\",\"traffic light\",\"traffic light\",\"traffic light\",\"traffic light\",\"traffic light\",\"traffic light\",\"traffic light\",\"traffic light\",\"traffic light\",\"traffic light\",\"traffic light\",\"traffic light\",\"traffic light\",\"traffic light\",\"traffic light\",\"traffic light\",\"traffic light\",\"traffic light\",\"traffic light\",\"traffic light\",\"traffic light\",\"traffic light\"],\"x\":[0.0,0.01,0.02,0.03,0.04,0.05,0.06,0.07,0.08,0.09,0.1,0.11,0.12,0.13,0.14,0.15,0.16,0.17,0.18,0.19,0.2,0.21,0.22,0.23,0.24,0.25,0.26,0.27,0.28,0.29,0.3,0.31,0.32,0.33,0.34,0.35000000000000003,0.36,0.37,0.38,0.39,0.4,0.41000000000000003,0.42,0.43,0.44,0.45,0.46,0.47000000000000003,0.48,0.49,0.5,0.51,0.52,0.53,0.54,0.55,0.56,0.5700000000000001,0.58,0.59,0.6,0.61,0.62,0.63,0.64,0.65,0.66,0.67,0.68,0.6900000000000001,0.7000000000000001,0.71,0.72,0.73,0.74,0.75,0.76,0.77,0.78,0.79,0.8,0.81,0.8200000000000001,0.8300000000000001,0.84,0.85,0.86,0.87,0.88,0.89,0.9,0.91,0.92,0.93,0.9400000000000001,0.9500000000000001,0.96,0.97,0.98,0.99,1.0],\"y\":[0.9000450856627593,0.6072384653343202,0.4849170437405732,0.42479261748216757,0.26619315503315627,0.19525424789186815,0.141247905837422,0.10738630700633653,0.08182343075852204,0.07376868858611857,0.05305380759010007,0.04493300125671284,0.03067323580002295,0.018149098484154774,0.01663521674091973,0.01321362514582505,0.010047561905696136,0.00825724404813989,0.0074736224757481875,0.0072009406053251054,0.0063841366892998675,0.005508160078168498,0.005164435513073979,0.00450901606644734,0.004112943879341034,0.0036749167232307347,0.002753178744262565,0.002567111094685268,0.0024856070322243663,0.0022894939661036264,0.0020449653264298703,0.0017448333780495466,0.0016264706062196778,0.001025728694760236,0.0009852216748768472,0.0007723871590634806,0.0006663614629431813,0.0,0.0,0.0,0.0,0.0,0.0,0.0,0.0,0.0,0.0,0.0,0.0,0.0,0.0,0.0,0.0,0.0,0.0,0.0,0.0,0.0,0.0,0.0,0.0,0.0,0.0,0.0,0.0,0.0,0.0,0.0,0.0,0.0,0.0,0.0,0.0,0.0,0.0,0.0,0.0,0.0,0.0,0.0,0.0,0.0,0.0,0.0,0.0,0.0,0.0,0.0,0.0,0.0,0.0,0.0,0.0,0.0,0.0,0.0,0.0,0.0,0.0,0.0,0.0],\"type\":\"scatter\"},{\"customdata\":[0.9491764903068542,0.3452225118875504,0.21981797814369203,0.151724873483181,0.13271601647138595,0.1140423834323883,0.09963748082518578,0.09013267904520035,0.08348200470209122,0.0741995856165886,0.06611767560243606,0.06084806695580482,0.053731567412614825,0.04905615523457527,0.042182405665516856,0.0388141930103302,0.03451544363051653,0.02988240197300911,0.027067773416638373,0.02451004460453987,0.022850066423416138,0.019086476322263478,0.01613674536347389,0.01486382596194744,0.01398022323846817,0.01255907341837883,0.01047224048525095,0.007894935179501772,0.0060744605958461765,0.0057065654546022415,0.0049544420093297955,0.003841188549995422,0.0029719250276684763,0.0014651653356850148,0.0,0.0,0.0,0.0,0.0,0.0,0.0,0.0,0.0,0.0,0.0,0.0,0.0,0.0,0.0,0.0,0.0,0.0,0.0,0.0,0.0,0.0,0.0,0.0,0.0,0.0,0.0,0.0,0.0,0.0,0.0,0.0,0.0,0.0,0.0,0.0,0.0,0.0,0.0,0.0,0.0,0.0,0.0,0.0,0.0,0.0,0.0,0.0,0.0,0.0,0.0,0.0,0.0,0.0,0.0,0.0,0.0,0.0,0.0,0.0,0.0,0.0,0.0,0.0,0.0,0.0,0.0],\"hovertemplate\":\"<b>class: %{text}</b><br>recall: %{x:.3f}<br>precision: %{y:.3f}<br>threshold: %{customdata:.3f}<extra></extra>\",\"line\":{\"color\":\"#B82E2E\"},\"mode\":\"lines\",\"name\":\"book (AP = 0.025)\",\"text\":[\"book\",\"book\",\"book\",\"book\",\"book\",\"book\",\"book\",\"book\",\"book\",\"book\",\"book\",\"book\",\"book\",\"book\",\"book\",\"book\",\"book\",\"book\",\"book\",\"book\",\"book\",\"book\",\"book\",\"book\",\"book\",\"book\",\"book\",\"book\",\"book\",\"book\",\"book\",\"book\",\"book\",\"book\",\"book\",\"book\",\"book\",\"book\",\"book\",\"book\",\"book\",\"book\",\"book\",\"book\",\"book\",\"book\",\"book\",\"book\",\"book\",\"book\",\"book\",\"book\",\"book\",\"book\",\"book\",\"book\",\"book\",\"book\",\"book\",\"book\",\"book\",\"book\",\"book\",\"book\",\"book\",\"book\",\"book\",\"book\",\"book\",\"book\",\"book\",\"book\",\"book\",\"book\",\"book\",\"book\",\"book\",\"book\",\"book\",\"book\",\"book\",\"book\",\"book\",\"book\",\"book\",\"book\",\"book\",\"book\",\"book\",\"book\",\"book\",\"book\",\"book\",\"book\",\"book\",\"book\",\"book\",\"book\",\"book\",\"book\",\"book\"],\"x\":[0.0,0.01,0.02,0.03,0.04,0.05,0.06,0.07,0.08,0.09,0.1,0.11,0.12,0.13,0.14,0.15,0.16,0.17,0.18,0.19,0.2,0.21,0.22,0.23,0.24,0.25,0.26,0.27,0.28,0.29,0.3,0.31,0.32,0.33,0.34,0.35000000000000003,0.36,0.37,0.38,0.39,0.4,0.41000000000000003,0.42,0.43,0.44,0.45,0.46,0.47000000000000003,0.48,0.49,0.5,0.51,0.52,0.53,0.54,0.55,0.56,0.5700000000000001,0.58,0.59,0.6,0.61,0.62,0.63,0.64,0.65,0.66,0.67,0.68,0.6900000000000001,0.7000000000000001,0.71,0.72,0.73,0.74,0.75,0.76,0.77,0.78,0.79,0.8,0.81,0.8200000000000001,0.8300000000000001,0.84,0.85,0.86,0.87,0.88,0.89,0.9,0.91,0.92,0.93,0.9400000000000001,0.9500000000000001,0.96,0.97,0.98,0.99,1.0],\"y\":[0.605,0.3344223119993212,0.22006663955310102,0.1800215023724248,0.1628086429826213,0.14754835979649633,0.1220028513856966,0.10610202031473562,0.09699608456180328,0.08154604492297308,0.07301279371212835,0.06125694920183452,0.04951826335486091,0.044175339209651804,0.03712048021031635,0.03207144195621456,0.027811612692609726,0.02422274235472398,0.01923178236222046,0.017089011383553905,0.015790395462273638,0.013492621984293723,0.010492707137984504,0.008709267879813796,0.008224941065406235,0.007078578027045525,0.005700725724127514,0.004314550083183727,0.0033457249070631967,0.003087143415396639,0.0024931590148981452,0.0017582188930503537,0.0013726566789552122,0.0009161237785016287,0.0,0.0,0.0,0.0,0.0,0.0,0.0,0.0,0.0,0.0,0.0,0.0,0.0,0.0,0.0,0.0,0.0,0.0,0.0,0.0,0.0,0.0,0.0,0.0,0.0,0.0,0.0,0.0,0.0,0.0,0.0,0.0,0.0,0.0,0.0,0.0,0.0,0.0,0.0,0.0,0.0,0.0,0.0,0.0,0.0,0.0,0.0,0.0,0.0,0.0,0.0,0.0,0.0,0.0,0.0,0.0,0.0,0.0,0.0,0.0,0.0,0.0,0.0,0.0,0.0,0.0,0.0],\"type\":\"scatter\"},{\"customdata\":[0.8850322961807251,0.35384497344493865,0.2537400797009468,0.19567764475941657,0.11407246366143227,0.09104448445141315,0.07894265428185462,0.06855442561209202,0.05692439526319504,0.04769379571080208,0.0393692534416914,0.03411032035946846,0.031153015047311782,0.028025534562766553,0.025575068034231662,0.02244865857064724,0.020358485355973243,0.01813337206840515,0.01686561182141304,0.012639515474438668,0.01163010448217392,0.008843255043029786,0.008081139624118805,0.0071075689047575,0.005686985515058041,0.003806718438863754,0.003409342095255852,0.002942436188459396,0.0021600579842925073,0.0019016383215785027,0.0,0.0,0.0,0.0,0.0,0.0,0.0,0.0,0.0,0.0,0.0,0.0,0.0,0.0,0.0,0.0,0.0,0.0,0.0,0.0,0.0,0.0,0.0,0.0,0.0,0.0,0.0,0.0,0.0,0.0,0.0,0.0,0.0,0.0,0.0,0.0,0.0,0.0,0.0,0.0,0.0,0.0,0.0,0.0,0.0,0.0,0.0,0.0,0.0,0.0,0.0,0.0,0.0,0.0,0.0,0.0,0.0,0.0,0.0,0.0,0.0,0.0,0.0,0.0,0.0,0.0,0.0,0.0,0.0,0.0,0.0],\"hovertemplate\":\"<b>class: %{text}</b><br>recall: %{x:.3f}<br>precision: %{y:.3f}<br>threshold: %{customdata:.3f}<extra></extra>\",\"line\":{\"color\":\"#316395\"},\"mode\":\"lines\",\"name\":\"handbag (AP = 0.025)\",\"text\":[\"handbag\",\"handbag\",\"handbag\",\"handbag\",\"handbag\",\"handbag\",\"handbag\",\"handbag\",\"handbag\",\"handbag\",\"handbag\",\"handbag\",\"handbag\",\"handbag\",\"handbag\",\"handbag\",\"handbag\",\"handbag\",\"handbag\",\"handbag\",\"handbag\",\"handbag\",\"handbag\",\"handbag\",\"handbag\",\"handbag\",\"handbag\",\"handbag\",\"handbag\",\"handbag\",\"handbag\",\"handbag\",\"handbag\",\"handbag\",\"handbag\",\"handbag\",\"handbag\",\"handbag\",\"handbag\",\"handbag\",\"handbag\",\"handbag\",\"handbag\",\"handbag\",\"handbag\",\"handbag\",\"handbag\",\"handbag\",\"handbag\",\"handbag\",\"handbag\",\"handbag\",\"handbag\",\"handbag\",\"handbag\",\"handbag\",\"handbag\",\"handbag\",\"handbag\",\"handbag\",\"handbag\",\"handbag\",\"handbag\",\"handbag\",\"handbag\",\"handbag\",\"handbag\",\"handbag\",\"handbag\",\"handbag\",\"handbag\",\"handbag\",\"handbag\",\"handbag\",\"handbag\",\"handbag\",\"handbag\",\"handbag\",\"handbag\",\"handbag\",\"handbag\",\"handbag\",\"handbag\",\"handbag\",\"handbag\",\"handbag\",\"handbag\",\"handbag\",\"handbag\",\"handbag\",\"handbag\",\"handbag\",\"handbag\",\"handbag\",\"handbag\",\"handbag\",\"handbag\",\"handbag\",\"handbag\",\"handbag\",\"handbag\"],\"x\":[0.0,0.01,0.02,0.03,0.04,0.05,0.06,0.07,0.08,0.09,0.1,0.11,0.12,0.13,0.14,0.15,0.16,0.17,0.18,0.19,0.2,0.21,0.22,0.23,0.24,0.25,0.26,0.27,0.28,0.29,0.3,0.31,0.32,0.33,0.34,0.35000000000000003,0.36,0.37,0.38,0.39,0.4,0.41000000000000003,0.42,0.43,0.44,0.45,0.46,0.47000000000000003,0.48,0.49,0.5,0.51,0.52,0.53,0.54,0.55,0.56,0.5700000000000001,0.58,0.59,0.6,0.61,0.62,0.63,0.64,0.65,0.66,0.67,0.68,0.6900000000000001,0.7000000000000001,0.71,0.72,0.73,0.74,0.75,0.76,0.77,0.78,0.79,0.8,0.81,0.8200000000000001,0.8300000000000001,0.84,0.85,0.86,0.87,0.88,0.89,0.9,0.91,0.92,0.93,0.9400000000000001,0.9500000000000001,0.96,0.97,0.98,0.99,1.0],\"y\":[0.9010309278350516,0.4105555555555555,0.34040650406504064,0.2879553864481109,0.12526237403372026,0.08371505225991406,0.07643268140928047,0.06765190099872709,0.04821959140551421,0.034121289233547444,0.01901621838304425,0.016161212800425925,0.012264451708031043,0.010003037119874113,0.009041309018420592,0.007874573805235185,0.0067101123931820605,0.005926128355038899,0.005488209858213369,0.0039538898654202185,0.0036551743814437756,0.002928817767706927,0.002601436466787365,0.0022092473058863116,0.0019422521026206314,0.0012749003984063745,0.0011241610738255035,0.0009681492914269679,0.0007815043959622273,0.0007467204843592331,0.0,0.0,0.0,0.0,0.0,0.0,0.0,0.0,0.0,0.0,0.0,0.0,0.0,0.0,0.0,0.0,0.0,0.0,0.0,0.0,0.0,0.0,0.0,0.0,0.0,0.0,0.0,0.0,0.0,0.0,0.0,0.0,0.0,0.0,0.0,0.0,0.0,0.0,0.0,0.0,0.0,0.0,0.0,0.0,0.0,0.0,0.0,0.0,0.0,0.0,0.0,0.0,0.0,0.0,0.0,0.0,0.0,0.0,0.0,0.0,0.0,0.0,0.0,0.0,0.0,0.0,0.0,0.0,0.0,0.0,0.0],\"type\":\"scatter\"}],                        {\"template\":{\"data\":{\"barpolar\":[{\"marker\":{\"line\":{\"color\":\"rgb(237,237,237)\",\"width\":0.5},\"pattern\":{\"fillmode\":\"overlay\",\"size\":10,\"solidity\":0.2}},\"type\":\"barpolar\"}],\"bar\":[{\"error_x\":{\"color\":\"rgb(51,51,51)\"},\"error_y\":{\"color\":\"rgb(51,51,51)\"},\"marker\":{\"line\":{\"color\":\"rgb(237,237,237)\",\"width\":0.5},\"pattern\":{\"fillmode\":\"overlay\",\"size\":10,\"solidity\":0.2}},\"type\":\"bar\"}],\"carpet\":[{\"aaxis\":{\"endlinecolor\":\"rgb(51,51,51)\",\"gridcolor\":\"white\",\"linecolor\":\"white\",\"minorgridcolor\":\"white\",\"startlinecolor\":\"rgb(51,51,51)\"},\"baxis\":{\"endlinecolor\":\"rgb(51,51,51)\",\"gridcolor\":\"white\",\"linecolor\":\"white\",\"minorgridcolor\":\"white\",\"startlinecolor\":\"rgb(51,51,51)\"},\"type\":\"carpet\"}],\"choropleth\":[{\"colorbar\":{\"outlinewidth\":0,\"tickcolor\":\"rgb(237,237,237)\",\"ticklen\":6,\"ticks\":\"inside\"},\"type\":\"choropleth\"}],\"contourcarpet\":[{\"colorbar\":{\"outlinewidth\":0,\"tickcolor\":\"rgb(237,237,237)\",\"ticklen\":6,\"ticks\":\"inside\"},\"type\":\"contourcarpet\"}],\"contour\":[{\"colorbar\":{\"outlinewidth\":0,\"tickcolor\":\"rgb(237,237,237)\",\"ticklen\":6,\"ticks\":\"inside\"},\"colorscale\":[[0,\"rgb(20,44,66)\"],[1,\"rgb(90,179,244)\"]],\"type\":\"contour\"}],\"heatmapgl\":[{\"colorbar\":{\"outlinewidth\":0,\"tickcolor\":\"rgb(237,237,237)\",\"ticklen\":6,\"ticks\":\"inside\"},\"colorscale\":[[0,\"rgb(20,44,66)\"],[1,\"rgb(90,179,244)\"]],\"type\":\"heatmapgl\"}],\"heatmap\":[{\"colorbar\":{\"outlinewidth\":0,\"tickcolor\":\"rgb(237,237,237)\",\"ticklen\":6,\"ticks\":\"inside\"},\"colorscale\":[[0,\"rgb(20,44,66)\"],[1,\"rgb(90,179,244)\"]],\"type\":\"heatmap\"}],\"histogram2dcontour\":[{\"colorbar\":{\"outlinewidth\":0,\"tickcolor\":\"rgb(237,237,237)\",\"ticklen\":6,\"ticks\":\"inside\"},\"colorscale\":[[0,\"rgb(20,44,66)\"],[1,\"rgb(90,179,244)\"]],\"type\":\"histogram2dcontour\"}],\"histogram2d\":[{\"colorbar\":{\"outlinewidth\":0,\"tickcolor\":\"rgb(237,237,237)\",\"ticklen\":6,\"ticks\":\"inside\"},\"colorscale\":[[0,\"rgb(20,44,66)\"],[1,\"rgb(90,179,244)\"]],\"type\":\"histogram2d\"}],\"histogram\":[{\"marker\":{\"pattern\":{\"fillmode\":\"overlay\",\"size\":10,\"solidity\":0.2}},\"type\":\"histogram\"}],\"mesh3d\":[{\"colorbar\":{\"outlinewidth\":0,\"tickcolor\":\"rgb(237,237,237)\",\"ticklen\":6,\"ticks\":\"inside\"},\"type\":\"mesh3d\"}],\"parcoords\":[{\"line\":{\"colorbar\":{\"outlinewidth\":0,\"tickcolor\":\"rgb(237,237,237)\",\"ticklen\":6,\"ticks\":\"inside\"}},\"type\":\"parcoords\"}],\"pie\":[{\"automargin\":true,\"type\":\"pie\"}],\"scatter3d\":[{\"line\":{\"colorbar\":{\"outlinewidth\":0,\"tickcolor\":\"rgb(237,237,237)\",\"ticklen\":6,\"ticks\":\"inside\"}},\"marker\":{\"colorbar\":{\"outlinewidth\":0,\"tickcolor\":\"rgb(237,237,237)\",\"ticklen\":6,\"ticks\":\"inside\"}},\"type\":\"scatter3d\"}],\"scattercarpet\":[{\"marker\":{\"colorbar\":{\"outlinewidth\":0,\"tickcolor\":\"rgb(237,237,237)\",\"ticklen\":6,\"ticks\":\"inside\"}},\"type\":\"scattercarpet\"}],\"scattergeo\":[{\"marker\":{\"colorbar\":{\"outlinewidth\":0,\"tickcolor\":\"rgb(237,237,237)\",\"ticklen\":6,\"ticks\":\"inside\"}},\"type\":\"scattergeo\"}],\"scattergl\":[{\"marker\":{\"colorbar\":{\"outlinewidth\":0,\"tickcolor\":\"rgb(237,237,237)\",\"ticklen\":6,\"ticks\":\"inside\"}},\"type\":\"scattergl\"}],\"scattermapbox\":[{\"marker\":{\"colorbar\":{\"outlinewidth\":0,\"tickcolor\":\"rgb(237,237,237)\",\"ticklen\":6,\"ticks\":\"inside\"}},\"type\":\"scattermapbox\"}],\"scatterpolargl\":[{\"marker\":{\"colorbar\":{\"outlinewidth\":0,\"tickcolor\":\"rgb(237,237,237)\",\"ticklen\":6,\"ticks\":\"inside\"}},\"type\":\"scatterpolargl\"}],\"scatterpolar\":[{\"marker\":{\"colorbar\":{\"outlinewidth\":0,\"tickcolor\":\"rgb(237,237,237)\",\"ticklen\":6,\"ticks\":\"inside\"}},\"type\":\"scatterpolar\"}],\"scatter\":[{\"marker\":{\"colorbar\":{\"outlinewidth\":0,\"tickcolor\":\"rgb(237,237,237)\",\"ticklen\":6,\"ticks\":\"inside\"}},\"type\":\"scatter\"}],\"scatterternary\":[{\"marker\":{\"colorbar\":{\"outlinewidth\":0,\"tickcolor\":\"rgb(237,237,237)\",\"ticklen\":6,\"ticks\":\"inside\"}},\"type\":\"scatterternary\"}],\"surface\":[{\"colorbar\":{\"outlinewidth\":0,\"tickcolor\":\"rgb(237,237,237)\",\"ticklen\":6,\"ticks\":\"inside\"},\"colorscale\":[[0,\"rgb(20,44,66)\"],[1,\"rgb(90,179,244)\"]],\"type\":\"surface\"}],\"table\":[{\"cells\":{\"fill\":{\"color\":\"rgb(237,237,237)\"},\"line\":{\"color\":\"white\"}},\"header\":{\"fill\":{\"color\":\"rgb(217,217,217)\"},\"line\":{\"color\":\"white\"}},\"type\":\"table\"}]},\"layout\":{\"annotationdefaults\":{\"arrowhead\":0,\"arrowwidth\":1},\"autotypenumbers\":\"strict\",\"coloraxis\":{\"colorbar\":{\"outlinewidth\":0,\"tickcolor\":\"rgb(237,237,237)\",\"ticklen\":6,\"ticks\":\"inside\"}},\"colorscale\":{\"sequential\":[[0,\"rgb(20,44,66)\"],[1,\"rgb(90,179,244)\"]],\"sequentialminus\":[[0,\"rgb(20,44,66)\"],[1,\"rgb(90,179,244)\"]]},\"colorway\":[\"#F8766D\",\"#A3A500\",\"#00BF7D\",\"#00B0F6\",\"#E76BF3\"],\"font\":{\"color\":\"rgb(51,51,51)\"},\"geo\":{\"bgcolor\":\"white\",\"lakecolor\":\"white\",\"landcolor\":\"rgb(237,237,237)\",\"showlakes\":true,\"showland\":true,\"subunitcolor\":\"white\"},\"hoverlabel\":{\"align\":\"left\"},\"hovermode\":\"closest\",\"paper_bgcolor\":\"white\",\"plot_bgcolor\":\"rgb(237,237,237)\",\"polar\":{\"angularaxis\":{\"gridcolor\":\"white\",\"linecolor\":\"white\",\"showgrid\":true,\"tickcolor\":\"rgb(51,51,51)\",\"ticks\":\"outside\"},\"bgcolor\":\"rgb(237,237,237)\",\"radialaxis\":{\"gridcolor\":\"white\",\"linecolor\":\"white\",\"showgrid\":true,\"tickcolor\":\"rgb(51,51,51)\",\"ticks\":\"outside\"}},\"scene\":{\"xaxis\":{\"backgroundcolor\":\"rgb(237,237,237)\",\"gridcolor\":\"white\",\"gridwidth\":2,\"linecolor\":\"white\",\"showbackground\":true,\"showgrid\":true,\"tickcolor\":\"rgb(51,51,51)\",\"ticks\":\"outside\",\"zerolinecolor\":\"white\"},\"yaxis\":{\"backgroundcolor\":\"rgb(237,237,237)\",\"gridcolor\":\"white\",\"gridwidth\":2,\"linecolor\":\"white\",\"showbackground\":true,\"showgrid\":true,\"tickcolor\":\"rgb(51,51,51)\",\"ticks\":\"outside\",\"zerolinecolor\":\"white\"},\"zaxis\":{\"backgroundcolor\":\"rgb(237,237,237)\",\"gridcolor\":\"white\",\"gridwidth\":2,\"linecolor\":\"white\",\"showbackground\":true,\"showgrid\":true,\"tickcolor\":\"rgb(51,51,51)\",\"ticks\":\"outside\",\"zerolinecolor\":\"white\"}},\"shapedefaults\":{\"fillcolor\":\"black\",\"line\":{\"width\":0},\"opacity\":0.3},\"ternary\":{\"aaxis\":{\"gridcolor\":\"white\",\"linecolor\":\"white\",\"showgrid\":true,\"tickcolor\":\"rgb(51,51,51)\",\"ticks\":\"outside\"},\"baxis\":{\"gridcolor\":\"white\",\"linecolor\":\"white\",\"showgrid\":true,\"tickcolor\":\"rgb(51,51,51)\",\"ticks\":\"outside\"},\"bgcolor\":\"rgb(237,237,237)\",\"caxis\":{\"gridcolor\":\"white\",\"linecolor\":\"white\",\"showgrid\":true,\"tickcolor\":\"rgb(51,51,51)\",\"ticks\":\"outside\"}},\"xaxis\":{\"automargin\":true,\"gridcolor\":\"white\",\"linecolor\":\"white\",\"showgrid\":true,\"tickcolor\":\"rgb(51,51,51)\",\"ticks\":\"outside\",\"title\":{\"standoff\":15},\"zerolinecolor\":\"white\"},\"yaxis\":{\"automargin\":true,\"gridcolor\":\"white\",\"linecolor\":\"white\",\"showgrid\":true,\"tickcolor\":\"rgb(51,51,51)\",\"ticks\":\"outside\",\"title\":{\"standoff\":15},\"zerolinecolor\":\"white\"}}},\"shapes\":[{\"line\":{\"dash\":\"dash\"},\"type\":\"line\",\"x0\":0,\"x1\":1,\"y0\":1,\"y1\":0}],\"xaxis\":{\"range\":[0,1],\"constrain\":\"domain\",\"title\":{\"text\":\"Recall\"}},\"yaxis\":{\"range\":[0,1],\"constrain\":\"domain\",\"scaleanchor\":\"x\",\"scaleratio\":1,\"title\":{\"text\":\"Precision\"}},\"title\":{},\"margin\":{\"r\":0,\"t\":30,\"l\":0,\"b\":0}},                        {\"responsive\": true}                    ).then(function(){\n",
              "                            \n",
              "var gd = document.getElementById('be3283d5-bafd-4a49-9985-852e8484c010');\n",
              "var x = new MutationObserver(function (mutations, observer) {{\n",
              "        var display = window.getComputedStyle(gd).display;\n",
              "        if (!display || display === 'none') {{\n",
              "            console.log([gd, 'removed!']);\n",
              "            Plotly.purge(gd);\n",
              "            observer.disconnect();\n",
              "        }}\n",
              "}});\n",
              "\n",
              "// Listen for the removal of the full notebook cells\n",
              "var notebookContainer = gd.closest('#notebook-container');\n",
              "if (notebookContainer) {{\n",
              "    x.observe(notebookContainer, {childList: true});\n",
              "}}\n",
              "\n",
              "// Listen for the clearing of the current output cell\n",
              "var outputEl = gd.closest('.output');\n",
              "if (outputEl) {{\n",
              "    x.observe(outputEl, {childList: true});\n",
              "}}\n",
              "\n",
              "                        })                };                            </script>        </div>\n",
              "</body>\n",
              "</html>"
            ]
          },
          "metadata": {}
        }
      ]
    },
    {
      "cell_type": "markdown",
      "source": [
        "# Confusion matrix for the 10 most common classes"
      ],
      "metadata": {
        "id": "Yk3V8aKm5-JG"
      }
    },
    {
      "cell_type": "code",
      "source": [
        "plot = results.plot_confusion_matrix(classes=classes_top10)\n",
        "plot.show()\n",
        "\n",
        "# Connect to session\n",
        "session.plots.attach(plot)"
      ],
      "metadata": {
        "id": "0Mxe0fuWv5qp",
        "colab": {
          "base_uri": "https://localhost:8080/",
          "height": 666
        },
        "outputId": "d931d2a3-90c2-4365-b53b-b8eedafdbeb0"
      },
      "execution_count": null,
      "outputs": [
        {
          "output_type": "stream",
          "name": "stderr",
          "text": [
            "/usr/local/lib/python3.8/dist-packages/fiftyone/core/plots/plotly.py:1782: UserWarning:\n",
            "\n",
            "Interactive plots are currently only supported in Jupyter notebooks. Support outside of notebooks and in Google Colab will be included in an upcoming release. In the meantime, you can still use this plot, but note that (i) selecting data will not trigger callbacks, and (ii) you must manually call `plot.show()` to launch a new plot that reflects the current state of an attached session.\n",
            "\n",
            "See https://voxel51.com/docs/fiftyone/user_guide/plots.html#working-in-notebooks for more information.\n",
            "\n"
          ]
        },
        {
          "output_type": "display_data",
          "data": {
            "text/html": [
              "<html>\n",
              "<head><meta charset=\"utf-8\" /></head>\n",
              "<body>\n",
              "    <div>            <script src=\"https://cdnjs.cloudflare.com/ajax/libs/mathjax/2.7.5/MathJax.js?config=TeX-AMS-MML_SVG\"></script><script type=\"text/javascript\">if (window.MathJax) {MathJax.Hub.Config({SVG: {font: \"STIX-Web\"}});}</script>                <script type=\"text/javascript\">window.PlotlyConfig = {MathJaxConfig: 'local'};</script>\n",
              "        <script src=\"https://cdn.plot.ly/plotly-2.8.3.min.js\"></script>                <div id=\"a24a17a5-7de6-4c68-9d29-56741523fcaf\" class=\"plotly-graph-div\" style=\"height:525px; width:100%;\"></div>            <script type=\"text/javascript\">                                    window.PLOTLYENV=window.PLOTLYENV || {};                                    if (document.getElementById(\"a24a17a5-7de6-4c68-9d29-56741523fcaf\")) {                    Plotly.newPlot(                        \"a24a17a5-7de6-4c68-9d29-56741523fcaf\",                        [{\"mode\":\"markers\",\"opacity\":0.1,\"x\":[0,1,2,3,4,5,6,7,8,9,10,0,1,2,3,4,5,6,7,8,9,10,0,1,2,3,4,5,6,7,8,9,10,0,1,2,3,4,5,6,7,8,9,10,0,1,2,3,4,5,6,7,8,9,10,0,1,2,3,4,5,6,7,8,9,10,0,1,2,3,4,5,6,7,8,9,10,0,1,2,3,4,5,6,7,8,9,10,0,1,2,3,4,5,6,7,8,9,10,0,1,2,3,4,5,6,7,8,9,10,0,1,2,3,4,5,6,7,8,9,10],\"y\":[0,0,0,0,0,0,0,0,0,0,0,1,1,1,1,1,1,1,1,1,1,1,2,2,2,2,2,2,2,2,2,2,2,3,3,3,3,3,3,3,3,3,3,3,4,4,4,4,4,4,4,4,4,4,4,5,5,5,5,5,5,5,5,5,5,5,6,6,6,6,6,6,6,6,6,6,6,7,7,7,7,7,7,7,7,7,7,7,8,8,8,8,8,8,8,8,8,8,8,9,9,9,9,9,9,9,9,9,9,9,10,10,10,10,10,10,10,10,10,10,10],\"type\":\"scatter\",\"uid\":\"6b34d62b-aea1-4dec-890c-fab1eb61c5d3\"},{\"colorscale\":[[0.0,\"rgb(255,245,235)\"],[0.125,\"rgb(254,230,206)\"],[0.25,\"rgb(253,208,162)\"],[0.375,\"rgb(253,174,107)\"],[0.5,\"rgb(253,141,60)\"],[0.625,\"rgb(241,105,19)\"],[0.75,\"rgb(217,72,1)\"],[0.875,\"rgb(166,54,3)\"],[1.0,\"rgb(127,39,4)\"]],\"hoverinfo\":\"skip\",\"showscale\":false,\"z\":[[169982,30043,50161,26785,15554,9661,18935,31984,5964,12623,0],[0,0,0,0,0,0,0,0,0,75,180],[0,0,0,0,0,0,0,0,148,0,164],[0,0,0,0,0,0,0,206,0,0,223],[0,0,0,0,0,0,253,0,0,0,76],[0,0,0,0,0,297,0,0,0,0,296],[0,0,0,0,328,0,0,0,0,0,322],[0,0,0,2161,0,0,0,0,0,0,352],[0,0,811,0,0,0,0,0,0,0,403],[0,904,0,0,0,0,0,0,0,0,534],[12177,0,0,0,0,0,0,0,0,0,1725]],\"zmax\":169982,\"zmin\":0,\"type\":\"heatmap\",\"uid\":\"1d8a3cd8-a1b7-4c41-b609-7fd0e57f89f3\"},{\"colorbar\":{\"len\":1,\"lenmode\":\"fraction\"},\"colorscale\":[[0.0,\"rgb(255,245,235)\"],[0.125,\"rgb(254,230,206)\"],[0.25,\"rgb(253,208,162)\"],[0.375,\"rgb(253,174,107)\"],[0.5,\"rgb(253,141,60)\"],[0.625,\"rgb(241,105,19)\"],[0.75,\"rgb(217,72,1)\"],[0.875,\"rgb(166,54,3)\"],[1.0,\"rgb(127,39,4)\"]],\"hovertemplate\":\"<b>count: %{z}</b><br>truth: %{y}<br>predicted: %{x}<extra></extra>\",\"opacity\":0.25,\"z\":[[169982,30043,50161,26785,15554,9661,18935,31984,5964,12623,0],[0,0,0,0,0,0,0,0,0,75,180],[0,0,0,0,0,0,0,0,148,0,164],[0,0,0,0,0,0,0,206,0,0,223],[0,0,0,0,0,0,253,0,0,0,76],[0,0,0,0,0,297,0,0,0,0,296],[0,0,0,0,328,0,0,0,0,0,322],[0,0,0,2161,0,0,0,0,0,0,352],[0,0,811,0,0,0,0,0,0,0,403],[0,904,0,0,0,0,0,0,0,0,534],[12177,0,0,0,0,0,0,0,0,0,1725]],\"zmax\":169982,\"zmin\":0,\"type\":\"heatmap\",\"uid\":\"9dbb76e4-b187-4cb7-b5f2-17256216dbb9\"}],                        {\"clickmode\":\"event\",\"template\":{\"data\":{\"barpolar\":[{\"marker\":{\"line\":{\"color\":\"rgb(237,237,237)\",\"width\":0.5},\"pattern\":{\"fillmode\":\"overlay\",\"size\":10,\"solidity\":0.2}},\"type\":\"barpolar\"}],\"bar\":[{\"error_x\":{\"color\":\"rgb(51,51,51)\"},\"error_y\":{\"color\":\"rgb(51,51,51)\"},\"marker\":{\"line\":{\"color\":\"rgb(237,237,237)\",\"width\":0.5},\"pattern\":{\"fillmode\":\"overlay\",\"size\":10,\"solidity\":0.2}},\"type\":\"bar\"}],\"carpet\":[{\"aaxis\":{\"endlinecolor\":\"rgb(51,51,51)\",\"gridcolor\":\"white\",\"linecolor\":\"white\",\"minorgridcolor\":\"white\",\"startlinecolor\":\"rgb(51,51,51)\"},\"baxis\":{\"endlinecolor\":\"rgb(51,51,51)\",\"gridcolor\":\"white\",\"linecolor\":\"white\",\"minorgridcolor\":\"white\",\"startlinecolor\":\"rgb(51,51,51)\"},\"type\":\"carpet\"}],\"choropleth\":[{\"colorbar\":{\"outlinewidth\":0,\"tickcolor\":\"rgb(237,237,237)\",\"ticklen\":6,\"ticks\":\"inside\"},\"type\":\"choropleth\"}],\"contourcarpet\":[{\"colorbar\":{\"outlinewidth\":0,\"tickcolor\":\"rgb(237,237,237)\",\"ticklen\":6,\"ticks\":\"inside\"},\"type\":\"contourcarpet\"}],\"contour\":[{\"colorbar\":{\"outlinewidth\":0,\"tickcolor\":\"rgb(237,237,237)\",\"ticklen\":6,\"ticks\":\"inside\"},\"colorscale\":[[0,\"rgb(20,44,66)\"],[1,\"rgb(90,179,244)\"]],\"type\":\"contour\"}],\"heatmapgl\":[{\"colorbar\":{\"outlinewidth\":0,\"tickcolor\":\"rgb(237,237,237)\",\"ticklen\":6,\"ticks\":\"inside\"},\"colorscale\":[[0,\"rgb(20,44,66)\"],[1,\"rgb(90,179,244)\"]],\"type\":\"heatmapgl\"}],\"heatmap\":[{\"colorbar\":{\"outlinewidth\":0,\"tickcolor\":\"rgb(237,237,237)\",\"ticklen\":6,\"ticks\":\"inside\"},\"colorscale\":[[0,\"rgb(20,44,66)\"],[1,\"rgb(90,179,244)\"]],\"type\":\"heatmap\"}],\"histogram2dcontour\":[{\"colorbar\":{\"outlinewidth\":0,\"tickcolor\":\"rgb(237,237,237)\",\"ticklen\":6,\"ticks\":\"inside\"},\"colorscale\":[[0,\"rgb(20,44,66)\"],[1,\"rgb(90,179,244)\"]],\"type\":\"histogram2dcontour\"}],\"histogram2d\":[{\"colorbar\":{\"outlinewidth\":0,\"tickcolor\":\"rgb(237,237,237)\",\"ticklen\":6,\"ticks\":\"inside\"},\"colorscale\":[[0,\"rgb(20,44,66)\"],[1,\"rgb(90,179,244)\"]],\"type\":\"histogram2d\"}],\"histogram\":[{\"marker\":{\"pattern\":{\"fillmode\":\"overlay\",\"size\":10,\"solidity\":0.2}},\"type\":\"histogram\"}],\"mesh3d\":[{\"colorbar\":{\"outlinewidth\":0,\"tickcolor\":\"rgb(237,237,237)\",\"ticklen\":6,\"ticks\":\"inside\"},\"type\":\"mesh3d\"}],\"parcoords\":[{\"line\":{\"colorbar\":{\"outlinewidth\":0,\"tickcolor\":\"rgb(237,237,237)\",\"ticklen\":6,\"ticks\":\"inside\"}},\"type\":\"parcoords\"}],\"pie\":[{\"automargin\":true,\"type\":\"pie\"}],\"scatter3d\":[{\"line\":{\"colorbar\":{\"outlinewidth\":0,\"tickcolor\":\"rgb(237,237,237)\",\"ticklen\":6,\"ticks\":\"inside\"}},\"marker\":{\"colorbar\":{\"outlinewidth\":0,\"tickcolor\":\"rgb(237,237,237)\",\"ticklen\":6,\"ticks\":\"inside\"}},\"type\":\"scatter3d\"}],\"scattercarpet\":[{\"marker\":{\"colorbar\":{\"outlinewidth\":0,\"tickcolor\":\"rgb(237,237,237)\",\"ticklen\":6,\"ticks\":\"inside\"}},\"type\":\"scattercarpet\"}],\"scattergeo\":[{\"marker\":{\"colorbar\":{\"outlinewidth\":0,\"tickcolor\":\"rgb(237,237,237)\",\"ticklen\":6,\"ticks\":\"inside\"}},\"type\":\"scattergeo\"}],\"scattergl\":[{\"marker\":{\"colorbar\":{\"outlinewidth\":0,\"tickcolor\":\"rgb(237,237,237)\",\"ticklen\":6,\"ticks\":\"inside\"}},\"type\":\"scattergl\"}],\"scattermapbox\":[{\"marker\":{\"colorbar\":{\"outlinewidth\":0,\"tickcolor\":\"rgb(237,237,237)\",\"ticklen\":6,\"ticks\":\"inside\"}},\"type\":\"scattermapbox\"}],\"scatterpolargl\":[{\"marker\":{\"colorbar\":{\"outlinewidth\":0,\"tickcolor\":\"rgb(237,237,237)\",\"ticklen\":6,\"ticks\":\"inside\"}},\"type\":\"scatterpolargl\"}],\"scatterpolar\":[{\"marker\":{\"colorbar\":{\"outlinewidth\":0,\"tickcolor\":\"rgb(237,237,237)\",\"ticklen\":6,\"ticks\":\"inside\"}},\"type\":\"scatterpolar\"}],\"scatter\":[{\"marker\":{\"colorbar\":{\"outlinewidth\":0,\"tickcolor\":\"rgb(237,237,237)\",\"ticklen\":6,\"ticks\":\"inside\"}},\"type\":\"scatter\"}],\"scatterternary\":[{\"marker\":{\"colorbar\":{\"outlinewidth\":0,\"tickcolor\":\"rgb(237,237,237)\",\"ticklen\":6,\"ticks\":\"inside\"}},\"type\":\"scatterternary\"}],\"surface\":[{\"colorbar\":{\"outlinewidth\":0,\"tickcolor\":\"rgb(237,237,237)\",\"ticklen\":6,\"ticks\":\"inside\"},\"colorscale\":[[0,\"rgb(20,44,66)\"],[1,\"rgb(90,179,244)\"]],\"type\":\"surface\"}],\"table\":[{\"cells\":{\"fill\":{\"color\":\"rgb(237,237,237)\"},\"line\":{\"color\":\"white\"}},\"header\":{\"fill\":{\"color\":\"rgb(217,217,217)\"},\"line\":{\"color\":\"white\"}},\"type\":\"table\"}]},\"layout\":{\"annotationdefaults\":{\"arrowhead\":0,\"arrowwidth\":1},\"autotypenumbers\":\"strict\",\"coloraxis\":{\"colorbar\":{\"outlinewidth\":0,\"tickcolor\":\"rgb(237,237,237)\",\"ticklen\":6,\"ticks\":\"inside\"}},\"colorscale\":{\"sequential\":[[0,\"rgb(20,44,66)\"],[1,\"rgb(90,179,244)\"]],\"sequentialminus\":[[0,\"rgb(20,44,66)\"],[1,\"rgb(90,179,244)\"]]},\"colorway\":[\"#F8766D\",\"#A3A500\",\"#00BF7D\",\"#00B0F6\",\"#E76BF3\"],\"font\":{\"color\":\"rgb(51,51,51)\"},\"geo\":{\"bgcolor\":\"white\",\"lakecolor\":\"white\",\"landcolor\":\"rgb(237,237,237)\",\"showlakes\":true,\"showland\":true,\"subunitcolor\":\"white\"},\"hoverlabel\":{\"align\":\"left\"},\"hovermode\":\"closest\",\"paper_bgcolor\":\"white\",\"plot_bgcolor\":\"rgb(237,237,237)\",\"polar\":{\"angularaxis\":{\"gridcolor\":\"white\",\"linecolor\":\"white\",\"showgrid\":true,\"tickcolor\":\"rgb(51,51,51)\",\"ticks\":\"outside\"},\"bgcolor\":\"rgb(237,237,237)\",\"radialaxis\":{\"gridcolor\":\"white\",\"linecolor\":\"white\",\"showgrid\":true,\"tickcolor\":\"rgb(51,51,51)\",\"ticks\":\"outside\"}},\"scene\":{\"xaxis\":{\"backgroundcolor\":\"rgb(237,237,237)\",\"gridcolor\":\"white\",\"gridwidth\":2,\"linecolor\":\"white\",\"showbackground\":true,\"showgrid\":true,\"tickcolor\":\"rgb(51,51,51)\",\"ticks\":\"outside\",\"zerolinecolor\":\"white\"},\"yaxis\":{\"backgroundcolor\":\"rgb(237,237,237)\",\"gridcolor\":\"white\",\"gridwidth\":2,\"linecolor\":\"white\",\"showbackground\":true,\"showgrid\":true,\"tickcolor\":\"rgb(51,51,51)\",\"ticks\":\"outside\",\"zerolinecolor\":\"white\"},\"zaxis\":{\"backgroundcolor\":\"rgb(237,237,237)\",\"gridcolor\":\"white\",\"gridwidth\":2,\"linecolor\":\"white\",\"showbackground\":true,\"showgrid\":true,\"tickcolor\":\"rgb(51,51,51)\",\"ticks\":\"outside\",\"zerolinecolor\":\"white\"}},\"shapedefaults\":{\"fillcolor\":\"black\",\"line\":{\"width\":0},\"opacity\":0.3},\"ternary\":{\"aaxis\":{\"gridcolor\":\"white\",\"linecolor\":\"white\",\"showgrid\":true,\"tickcolor\":\"rgb(51,51,51)\",\"ticks\":\"outside\"},\"baxis\":{\"gridcolor\":\"white\",\"linecolor\":\"white\",\"showgrid\":true,\"tickcolor\":\"rgb(51,51,51)\",\"ticks\":\"outside\"},\"bgcolor\":\"rgb(237,237,237)\",\"caxis\":{\"gridcolor\":\"white\",\"linecolor\":\"white\",\"showgrid\":true,\"tickcolor\":\"rgb(51,51,51)\",\"ticks\":\"outside\"}},\"xaxis\":{\"automargin\":true,\"gridcolor\":\"white\",\"linecolor\":\"white\",\"showgrid\":true,\"tickcolor\":\"rgb(51,51,51)\",\"ticks\":\"outside\",\"title\":{\"standoff\":15},\"zerolinecolor\":\"white\"},\"yaxis\":{\"automargin\":true,\"gridcolor\":\"white\",\"linecolor\":\"white\",\"showgrid\":true,\"tickcolor\":\"rgb(51,51,51)\",\"ticks\":\"outside\",\"title\":{\"standoff\":15},\"zerolinecolor\":\"white\"}}},\"xaxis\":{\"constrain\":\"domain\",\"range\":[-0.5,10.5],\"tickmode\":\"array\",\"ticktext\":[\"person\",\"car\",\"chair\",\"book\",\"bottle\",\"cup\",\"dining table\",\"traffic light\",\"bowl\",\"handbag\",\"(none)\"],\"tickvals\":[0,1,2,3,4,5,6,7,8,9,10]},\"yaxis\":{\"constrain\":\"domain\",\"range\":[-0.5,10.5],\"scaleanchor\":\"x\",\"scaleratio\":1,\"tickmode\":\"array\",\"ticktext\":[\"(none)\",\"handbag\",\"bowl\",\"traffic light\",\"dining table\",\"cup\",\"bottle\",\"book\",\"chair\",\"car\",\"person\"],\"tickvals\":[0,1,2,3,4,5,6,7,8,9,10]},\"margin\":{\"r\":0,\"t\":30,\"l\":0,\"b\":0},\"title\":{}},                        {\"responsive\": true}                    ).then(function(){\n",
              "                            \n",
              "var gd = document.getElementById('a24a17a5-7de6-4c68-9d29-56741523fcaf');\n",
              "var x = new MutationObserver(function (mutations, observer) {{\n",
              "        var display = window.getComputedStyle(gd).display;\n",
              "        if (!display || display === 'none') {{\n",
              "            console.log([gd, 'removed!']);\n",
              "            Plotly.purge(gd);\n",
              "            observer.disconnect();\n",
              "        }}\n",
              "}});\n",
              "\n",
              "// Listen for the removal of the full notebook cells\n",
              "var notebookContainer = gd.closest('#notebook-container');\n",
              "if (notebookContainer) {{\n",
              "    x.observe(notebookContainer, {childList: true});\n",
              "}}\n",
              "\n",
              "// Listen for the clearing of the current output cell\n",
              "var outputEl = gd.closest('.output');\n",
              "if (outputEl) {{\n",
              "    x.observe(outputEl, {childList: true});\n",
              "}}\n",
              "\n",
              "                        })                };                            </script>        </div>\n",
              "</body>\n",
              "</html>"
            ]
          },
          "metadata": {}
        }
      ]
    },
    {
      "cell_type": "markdown",
      "source": [
        "# Printing a classification report for all 80 classes"
      ],
      "metadata": {
        "id": "CFsdxXm_6Bfd"
      }
    },
    {
      "cell_type": "code",
      "source": [
        "counts = dataset.count_values(\"ground_truth.detections.label\")\n",
        "classes_80 = sorted(counts, key=counts.get, reverse=True)[:80]\n",
        "\n",
        "results.print_report(classes=classes_80)"
      ],
      "metadata": {
        "id": "hQZDBxF0v7pj",
        "colab": {
          "base_uri": "https://localhost:8080/"
        },
        "outputId": "91c32f09-8ddb-4ac9-d257-38f095924c23"
      },
      "execution_count": null,
      "outputs": [
        {
          "output_type": "stream",
          "name": "stdout",
          "text": [
            "                precision    recall  f1-score   support\n",
            "\n",
            "        person       0.07      0.88      0.12     13902\n",
            "           car       0.03      0.63      0.06      1438\n",
            "         chair       0.02      0.67      0.03      1214\n",
            "          book       0.07      0.86      0.14      2513\n",
            "        bottle       0.02      0.50      0.04       650\n",
            "           cup       0.03      0.50      0.06       593\n",
            "  dining table       0.01      0.77      0.03       329\n",
            " traffic light       0.01      0.48      0.01       429\n",
            "          bowl       0.02      0.47      0.05       312\n",
            "       handbag       0.01      0.29      0.01       255\n",
            "          bird       0.01      0.77      0.02       439\n",
            "          boat       0.03      0.68      0.05       295\n",
            "         truck       0.03      0.54      0.06       212\n",
            "         bench       0.00      0.37      0.01       225\n",
            "      umbrella       0.04      0.72      0.07       389\n",
            "           cow       0.07      0.82      0.13       451\n",
            "        banana       0.07      0.81      0.12       556\n",
            "        carrot       0.05      0.83      0.09       569\n",
            "    motorcycle       0.06      0.69      0.12       271\n",
            "      backpack       0.01      0.29      0.01       185\n",
            "         sheep       0.03      0.84      0.06       187\n",
            "    wine glass       0.03      0.31      0.05       153\n",
            "  potted plant       0.01      0.56      0.01       177\n",
            "         donut       0.13      0.80      0.23       381\n",
            "          kite       0.11      0.92      0.20       833\n",
            "         knife       0.01      0.28      0.02       192\n",
            "      broccoli       0.06      0.84      0.12       400\n",
            "       bicycle       0.02      0.40      0.04       174\n",
            "          cake       0.04      0.67      0.08       204\n",
            "      suitcase       0.03      0.55      0.06       133\n",
            "            tv       0.02      0.78      0.04       143\n",
            "        orange       0.08      0.78      0.15       288\n",
            "           bus       0.09      0.74      0.16       175\n",
            "         pizza       0.03      0.71      0.06       158\n",
            "        remote       0.01      0.34      0.02       154\n",
            "          vase       0.01      0.38      0.02       104\n",
            "         horse       0.02      0.85      0.04       107\n",
            "     surfboard       0.01      0.65      0.02       123\n",
            "         zebra       0.03      0.84      0.06       112\n",
            "         clock       0.01      0.60      0.01       134\n",
            "   sports ball       0.01      0.51      0.02       226\n",
            "    cell phone       0.01      0.38      0.01       130\n",
            "         couch       0.03      0.88      0.06       121\n",
            "      elephant       0.05      0.92      0.09       153\n",
            "           tie       0.01      0.69      0.03       207\n",
            "         spoon       0.01      0.27      0.01       146\n",
            "          skis       0.01      0.50      0.02       137\n",
            "         apple       0.04      0.67      0.08       299\n",
            "       giraffe       0.03      0.88      0.05       121\n",
            "        laptop       0.05      0.70      0.09       143\n",
            "          sink       0.01      0.62      0.01       105\n",
            " tennis racket       0.01      0.58      0.02       115\n",
            "           dog       0.03      0.76      0.05       113\n",
            "          fork       0.01      0.45      0.02       133\n",
            "           cat       0.02      0.95      0.05       100\n",
            "    teddy bear       0.02      0.69      0.04        95\n",
            "         train       0.03      0.93      0.05        98\n",
            "        toilet       0.02      0.83      0.03        93\n",
            "    skateboard       0.01      0.69      0.02        89\n",
            "      sandwich       0.03      0.71      0.05        79\n",
            "           bed       0.02      0.88      0.05        78\n",
            "      keyboard       0.03      0.72      0.05        92\n",
            "baseball glove       0.01      0.42      0.02        71\n",
            "  baseball bat       0.01      0.41      0.02        70\n",
            "      airplane       0.02      0.87      0.04        77\n",
            "          oven       0.02      0.84      0.03        77\n",
            "       hot dog       0.03      0.40      0.05        58\n",
            "  refrigerator       0.01      0.82      0.02        49\n",
            "       frisbee       0.01      0.51      0.02        63\n",
            "         mouse       0.01      0.67      0.02        58\n",
            "  fire hydrant       0.03      0.70      0.06        44\n",
            "     stop sign       0.01      0.59      0.02        37\n",
            "          bear       0.03      0.79      0.06        39\n",
            "     snowboard       0.01      0.59      0.03        29\n",
            " parking meter       0.04      0.64      0.07        39\n",
            "    toothbrush       0.00      0.33      0.01        30\n",
            "     microwave       0.03      0.57      0.05        28\n",
            "      scissors       0.01      0.45      0.02        20\n",
            "    hair drier       0.00      0.00      0.00         9\n",
            "       toaster       0.00      0.00      0.00         7\n",
            "\n",
            "     micro avg       0.03      0.76      0.06     33237\n",
            "     macro avg       0.03      0.63      0.05     33237\n",
            "  weighted avg       0.05      0.76      0.10     33237\n",
            "\n"
          ]
        }
      ]
    },
    {
      "cell_type": "markdown",
      "source": [
        "# Confusion matrix for all the 80 classes"
      ],
      "metadata": {
        "id": "70dMSTb06D1x"
      }
    },
    {
      "cell_type": "code",
      "source": [
        "plot = results.plot_confusion_matrix(classes=classes_80)\n",
        "plot.show()\n",
        "\n",
        "# Connect to session\n",
        "session.plots.attach(plot)"
      ],
      "metadata": {
        "id": "O5EPeUZsv9Lt",
        "colab": {
          "base_uri": "https://localhost:8080/",
          "height": 666
        },
        "outputId": "02728182-8bb7-41d1-9b1e-caa7576b5578"
      },
      "execution_count": null,
      "outputs": [
        {
          "output_type": "stream",
          "name": "stderr",
          "text": [
            "/usr/local/lib/python3.8/dist-packages/fiftyone/core/plots/plotly.py:1782: UserWarning:\n",
            "\n",
            "Interactive plots are currently only supported in Jupyter notebooks. Support outside of notebooks and in Google Colab will be included in an upcoming release. In the meantime, you can still use this plot, but note that (i) selecting data will not trigger callbacks, and (ii) you must manually call `plot.show()` to launch a new plot that reflects the current state of an attached session.\n",
            "\n",
            "See https://voxel51.com/docs/fiftyone/user_guide/plots.html#working-in-notebooks for more information.\n",
            "\n"
          ]
        },
        {
          "output_type": "display_data",
          "data": {
            "text/html": [
              "<html>\n",
              "<head><meta charset=\"utf-8\" /></head>\n",
              "<body>\n",
              "    <div>            <script src=\"https://cdnjs.cloudflare.com/ajax/libs/mathjax/2.7.5/MathJax.js?config=TeX-AMS-MML_SVG\"></script><script type=\"text/javascript\">if (window.MathJax) {MathJax.Hub.Config({SVG: {font: \"STIX-Web\"}});}</script>                <script type=\"text/javascript\">window.PlotlyConfig = {MathJaxConfig: 'local'};</script>\n",
              "        <script src=\"https://cdn.plot.ly/plotly-2.8.3.min.js\"></script>                <div id=\"71f6f625-1304-4c65-8764-3c5933e25252\" class=\"plotly-graph-div\" style=\"height:525px; width:100%;\"></div>            <script type=\"text/javascript\">                                    window.PLOTLYENV=window.PLOTLYENV || {};                                    if (document.getElementById(\"71f6f625-1304-4c65-8764-3c5933e25252\")) {                    Plotly.newPlot(                        \"71f6f625-1304-4c65-8764-3c5933e25252\",                        [{\"mode\":\"markers\",\"opacity\":0.1,\"x\":[0,1,2,3,4,5,6,7,8,9,10,11,12,13,14,15,16,17,18,19,20,21,22,23,24,25,26,27,28,29,30,31,32,33,34,35,36,37,38,39,40,41,42,43,44,45,46,47,48,49,50,51,52,53,54,55,56,57,58,59,60,61,62,63,64,65,66,67,68,69,70,71,72,73,74,75,76,77,78,79,80,0,1,2,3,4,5,6,7,8,9,10,11,12,13,14,15,16,17,18,19,20,21,22,23,24,25,26,27,28,29,30,31,32,33,34,35,36,37,38,39,40,41,42,43,44,45,46,47,48,49,50,51,52,53,54,55,56,57,58,59,60,61,62,63,64,65,66,67,68,69,70,71,72,73,74,75,76,77,78,79,80,0,1,2,3,4,5,6,7,8,9,10,11,12,13,14,15,16,17,18,19,20,21,22,23,24,25,26,27,28,29,30,31,32,33,34,35,36,37,38,39,40,41,42,43,44,45,46,47,48,49,50,51,52,53,54,55,56,57,58,59,60,61,62,63,64,65,66,67,68,69,70,71,72,73,74,75,76,77,78,79,80,0,1,2,3,4,5,6,7,8,9,10,11,12,13,14,15,16,17,18,19,20,21,22,23,24,25,26,27,28,29,30,31,32,33,34,35,36,37,38,39,40,41,42,43,44,45,46,47,48,49,50,51,52,53,54,55,56,57,58,59,60,61,62,63,64,65,66,67,68,69,70,71,72,73,74,75,76,77,78,79,80,0,1,2,3,4,5,6,7,8,9,10,11,12,13,14,15,16,17,18,19,20,21,22,23,24,25,26,27,28,29,30,31,32,33,34,35,36,37,38,39,40,41,42,43,44,45,46,47,48,49,50,51,52,53,54,55,56,57,58,59,60,61,62,63,64,65,66,67,68,69,70,71,72,73,74,75,76,77,78,79,80,0,1,2,3,4,5,6,7,8,9,10,11,12,13,14,15,16,17,18,19,20,21,22,23,24,25,26,27,28,29,30,31,32,33,34,35,36,37,38,39,40,41,42,43,44,45,46,47,48,49,50,51,52,53,54,55,56,57,58,59,60,61,62,63,64,65,66,67,68,69,70,71,72,73,74,75,76,77,78,79,80,0,1,2,3,4,5,6,7,8,9,10,11,12,13,14,15,16,17,18,19,20,21,22,23,24,25,26,27,28,29,30,31,32,33,34,35,36,37,38,39,40,41,42,43,44,45,46,47,48,49,50,51,52,53,54,55,56,57,58,59,60,61,62,63,64,65,66,67,68,69,70,71,72,73,74,75,76,77,78,79,80,0,1,2,3,4,5,6,7,8,9,10,11,12,13,14,15,16,17,18,19,20,21,22,23,24,25,26,27,28,29,30,31,32,33,34,35,36,37,38,39,40,41,42,43,44,45,46,47,48,49,50,51,52,53,54,55,56,57,58,59,60,61,62,63,64,65,66,67,68,69,70,71,72,73,74,75,76,77,78,79,80,0,1,2,3,4,5,6,7,8,9,10,11,12,13,14,15,16,17,18,19,20,21,22,23,24,25,26,27,28,29,30,31,32,33,34,35,36,37,38,39,40,41,42,43,44,45,46,47,48,49,50,51,52,53,54,55,56,57,58,59,60,61,62,63,64,65,66,67,68,69,70,71,72,73,74,75,76,77,78,79,80,0,1,2,3,4,5,6,7,8,9,10,11,12,13,14,15,16,17,18,19,20,21,22,23,24,25,26,27,28,29,30,31,32,33,34,35,36,37,38,39,40,41,42,43,44,45,46,47,48,49,50,51,52,53,54,55,56,57,58,59,60,61,62,63,64,65,66,67,68,69,70,71,72,73,74,75,76,77,78,79,80,0,1,2,3,4,5,6,7,8,9,10,11,12,13,14,15,16,17,18,19,20,21,22,23,24,25,26,27,28,29,30,31,32,33,34,35,36,37,38,39,40,41,42,43,44,45,46,47,48,49,50,51,52,53,54,55,56,57,58,59,60,61,62,63,64,65,66,67,68,69,70,71,72,73,74,75,76,77,78,79,80,0,1,2,3,4,5,6,7,8,9,10,11,12,13,14,15,16,17,18,19,20,21,22,23,24,25,26,27,28,29,30,31,32,33,34,35,36,37,38,39,40,41,42,43,44,45,46,47,48,49,50,51,52,53,54,55,56,57,58,59,60,61,62,63,64,65,66,67,68,69,70,71,72,73,74,75,76,77,78,79,80,0,1,2,3,4,5,6,7,8,9,10,11,12,13,14,15,16,17,18,19,20,21,22,23,24,25,26,27,28,29,30,31,32,33,34,35,36,37,38,39,40,41,42,43,44,45,46,47,48,49,50,51,52,53,54,55,56,57,58,59,60,61,62,63,64,65,66,67,68,69,70,71,72,73,74,75,76,77,78,79,80,0,1,2,3,4,5,6,7,8,9,10,11,12,13,14,15,16,17,18,19,20,21,22,23,24,25,26,27,28,29,30,31,32,33,34,35,36,37,38,39,40,41,42,43,44,45,46,47,48,49,50,51,52,53,54,55,56,57,58,59,60,61,62,63,64,65,66,67,68,69,70,71,72,73,74,75,76,77,78,79,80,0,1,2,3,4,5,6,7,8,9,10,11,12,13,14,15,16,17,18,19,20,21,22,23,24,25,26,27,28,29,30,31,32,33,34,35,36,37,38,39,40,41,42,43,44,45,46,47,48,49,50,51,52,53,54,55,56,57,58,59,60,61,62,63,64,65,66,67,68,69,70,71,72,73,74,75,76,77,78,79,80,0,1,2,3,4,5,6,7,8,9,10,11,12,13,14,15,16,17,18,19,20,21,22,23,24,25,26,27,28,29,30,31,32,33,34,35,36,37,38,39,40,41,42,43,44,45,46,47,48,49,50,51,52,53,54,55,56,57,58,59,60,61,62,63,64,65,66,67,68,69,70,71,72,73,74,75,76,77,78,79,80,0,1,2,3,4,5,6,7,8,9,10,11,12,13,14,15,16,17,18,19,20,21,22,23,24,25,26,27,28,29,30,31,32,33,34,35,36,37,38,39,40,41,42,43,44,45,46,47,48,49,50,51,52,53,54,55,56,57,58,59,60,61,62,63,64,65,66,67,68,69,70,71,72,73,74,75,76,77,78,79,80,0,1,2,3,4,5,6,7,8,9,10,11,12,13,14,15,16,17,18,19,20,21,22,23,24,25,26,27,28,29,30,31,32,33,34,35,36,37,38,39,40,41,42,43,44,45,46,47,48,49,50,51,52,53,54,55,56,57,58,59,60,61,62,63,64,65,66,67,68,69,70,71,72,73,74,75,76,77,78,79,80,0,1,2,3,4,5,6,7,8,9,10,11,12,13,14,15,16,17,18,19,20,21,22,23,24,25,26,27,28,29,30,31,32,33,34,35,36,37,38,39,40,41,42,43,44,45,46,47,48,49,50,51,52,53,54,55,56,57,58,59,60,61,62,63,64,65,66,67,68,69,70,71,72,73,74,75,76,77,78,79,80,0,1,2,3,4,5,6,7,8,9,10,11,12,13,14,15,16,17,18,19,20,21,22,23,24,25,26,27,28,29,30,31,32,33,34,35,36,37,38,39,40,41,42,43,44,45,46,47,48,49,50,51,52,53,54,55,56,57,58,59,60,61,62,63,64,65,66,67,68,69,70,71,72,73,74,75,76,77,78,79,80,0,1,2,3,4,5,6,7,8,9,10,11,12,13,14,15,16,17,18,19,20,21,22,23,24,25,26,27,28,29,30,31,32,33,34,35,36,37,38,39,40,41,42,43,44,45,46,47,48,49,50,51,52,53,54,55,56,57,58,59,60,61,62,63,64,65,66,67,68,69,70,71,72,73,74,75,76,77,78,79,80,0,1,2,3,4,5,6,7,8,9,10,11,12,13,14,15,16,17,18,19,20,21,22,23,24,25,26,27,28,29,30,31,32,33,34,35,36,37,38,39,40,41,42,43,44,45,46,47,48,49,50,51,52,53,54,55,56,57,58,59,60,61,62,63,64,65,66,67,68,69,70,71,72,73,74,75,76,77,78,79,80,0,1,2,3,4,5,6,7,8,9,10,11,12,13,14,15,16,17,18,19,20,21,22,23,24,25,26,27,28,29,30,31,32,33,34,35,36,37,38,39,40,41,42,43,44,45,46,47,48,49,50,51,52,53,54,55,56,57,58,59,60,61,62,63,64,65,66,67,68,69,70,71,72,73,74,75,76,77,78,79,80,0,1,2,3,4,5,6,7,8,9,10,11,12,13,14,15,16,17,18,19,20,21,22,23,24,25,26,27,28,29,30,31,32,33,34,35,36,37,38,39,40,41,42,43,44,45,46,47,48,49,50,51,52,53,54,55,56,57,58,59,60,61,62,63,64,65,66,67,68,69,70,71,72,73,74,75,76,77,78,79,80,0,1,2,3,4,5,6,7,8,9,10,11,12,13,14,15,16,17,18,19,20,21,22,23,24,25,26,27,28,29,30,31,32,33,34,35,36,37,38,39,40,41,42,43,44,45,46,47,48,49,50,51,52,53,54,55,56,57,58,59,60,61,62,63,64,65,66,67,68,69,70,71,72,73,74,75,76,77,78,79,80,0,1,2,3,4,5,6,7,8,9,10,11,12,13,14,15,16,17,18,19,20,21,22,23,24,25,26,27,28,29,30,31,32,33,34,35,36,37,38,39,40,41,42,43,44,45,46,47,48,49,50,51,52,53,54,55,56,57,58,59,60,61,62,63,64,65,66,67,68,69,70,71,72,73,74,75,76,77,78,79,80,0,1,2,3,4,5,6,7,8,9,10,11,12,13,14,15,16,17,18,19,20,21,22,23,24,25,26,27,28,29,30,31,32,33,34,35,36,37,38,39,40,41,42,43,44,45,46,47,48,49,50,51,52,53,54,55,56,57,58,59,60,61,62,63,64,65,66,67,68,69,70,71,72,73,74,75,76,77,78,79,80,0,1,2,3,4,5,6,7,8,9,10,11,12,13,14,15,16,17,18,19,20,21,22,23,24,25,26,27,28,29,30,31,32,33,34,35,36,37,38,39,40,41,42,43,44,45,46,47,48,49,50,51,52,53,54,55,56,57,58,59,60,61,62,63,64,65,66,67,68,69,70,71,72,73,74,75,76,77,78,79,80,0,1,2,3,4,5,6,7,8,9,10,11,12,13,14,15,16,17,18,19,20,21,22,23,24,25,26,27,28,29,30,31,32,33,34,35,36,37,38,39,40,41,42,43,44,45,46,47,48,49,50,51,52,53,54,55,56,57,58,59,60,61,62,63,64,65,66,67,68,69,70,71,72,73,74,75,76,77,78,79,80,0,1,2,3,4,5,6,7,8,9,10,11,12,13,14,15,16,17,18,19,20,21,22,23,24,25,26,27,28,29,30,31,32,33,34,35,36,37,38,39,40,41,42,43,44,45,46,47,48,49,50,51,52,53,54,55,56,57,58,59,60,61,62,63,64,65,66,67,68,69,70,71,72,73,74,75,76,77,78,79,80,0,1,2,3,4,5,6,7,8,9,10,11,12,13,14,15,16,17,18,19,20,21,22,23,24,25,26,27,28,29,30,31,32,33,34,35,36,37,38,39,40,41,42,43,44,45,46,47,48,49,50,51,52,53,54,55,56,57,58,59,60,61,62,63,64,65,66,67,68,69,70,71,72,73,74,75,76,77,78,79,80,0,1,2,3,4,5,6,7,8,9,10,11,12,13,14,15,16,17,18,19,20,21,22,23,24,25,26,27,28,29,30,31,32,33,34,35,36,37,38,39,40,41,42,43,44,45,46,47,48,49,50,51,52,53,54,55,56,57,58,59,60,61,62,63,64,65,66,67,68,69,70,71,72,73,74,75,76,77,78,79,80,0,1,2,3,4,5,6,7,8,9,10,11,12,13,14,15,16,17,18,19,20,21,22,23,24,25,26,27,28,29,30,31,32,33,34,35,36,37,38,39,40,41,42,43,44,45,46,47,48,49,50,51,52,53,54,55,56,57,58,59,60,61,62,63,64,65,66,67,68,69,70,71,72,73,74,75,76,77,78,79,80,0,1,2,3,4,5,6,7,8,9,10,11,12,13,14,15,16,17,18,19,20,21,22,23,24,25,26,27,28,29,30,31,32,33,34,35,36,37,38,39,40,41,42,43,44,45,46,47,48,49,50,51,52,53,54,55,56,57,58,59,60,61,62,63,64,65,66,67,68,69,70,71,72,73,74,75,76,77,78,79,80,0,1,2,3,4,5,6,7,8,9,10,11,12,13,14,15,16,17,18,19,20,21,22,23,24,25,26,27,28,29,30,31,32,33,34,35,36,37,38,39,40,41,42,43,44,45,46,47,48,49,50,51,52,53,54,55,56,57,58,59,60,61,62,63,64,65,66,67,68,69,70,71,72,73,74,75,76,77,78,79,80,0,1,2,3,4,5,6,7,8,9,10,11,12,13,14,15,16,17,18,19,20,21,22,23,24,25,26,27,28,29,30,31,32,33,34,35,36,37,38,39,40,41,42,43,44,45,46,47,48,49,50,51,52,53,54,55,56,57,58,59,60,61,62,63,64,65,66,67,68,69,70,71,72,73,74,75,76,77,78,79,80,0,1,2,3,4,5,6,7,8,9,10,11,12,13,14,15,16,17,18,19,20,21,22,23,24,25,26,27,28,29,30,31,32,33,34,35,36,37,38,39,40,41,42,43,44,45,46,47,48,49,50,51,52,53,54,55,56,57,58,59,60,61,62,63,64,65,66,67,68,69,70,71,72,73,74,75,76,77,78,79,80,0,1,2,3,4,5,6,7,8,9,10,11,12,13,14,15,16,17,18,19,20,21,22,23,24,25,26,27,28,29,30,31,32,33,34,35,36,37,38,39,40,41,42,43,44,45,46,47,48,49,50,51,52,53,54,55,56,57,58,59,60,61,62,63,64,65,66,67,68,69,70,71,72,73,74,75,76,77,78,79,80,0,1,2,3,4,5,6,7,8,9,10,11,12,13,14,15,16,17,18,19,20,21,22,23,24,25,26,27,28,29,30,31,32,33,34,35,36,37,38,39,40,41,42,43,44,45,46,47,48,49,50,51,52,53,54,55,56,57,58,59,60,61,62,63,64,65,66,67,68,69,70,71,72,73,74,75,76,77,78,79,80,0,1,2,3,4,5,6,7,8,9,10,11,12,13,14,15,16,17,18,19,20,21,22,23,24,25,26,27,28,29,30,31,32,33,34,35,36,37,38,39,40,41,42,43,44,45,46,47,48,49,50,51,52,53,54,55,56,57,58,59,60,61,62,63,64,65,66,67,68,69,70,71,72,73,74,75,76,77,78,79,80,0,1,2,3,4,5,6,7,8,9,10,11,12,13,14,15,16,17,18,19,20,21,22,23,24,25,26,27,28,29,30,31,32,33,34,35,36,37,38,39,40,41,42,43,44,45,46,47,48,49,50,51,52,53,54,55,56,57,58,59,60,61,62,63,64,65,66,67,68,69,70,71,72,73,74,75,76,77,78,79,80,0,1,2,3,4,5,6,7,8,9,10,11,12,13,14,15,16,17,18,19,20,21,22,23,24,25,26,27,28,29,30,31,32,33,34,35,36,37,38,39,40,41,42,43,44,45,46,47,48,49,50,51,52,53,54,55,56,57,58,59,60,61,62,63,64,65,66,67,68,69,70,71,72,73,74,75,76,77,78,79,80,0,1,2,3,4,5,6,7,8,9,10,11,12,13,14,15,16,17,18,19,20,21,22,23,24,25,26,27,28,29,30,31,32,33,34,35,36,37,38,39,40,41,42,43,44,45,46,47,48,49,50,51,52,53,54,55,56,57,58,59,60,61,62,63,64,65,66,67,68,69,70,71,72,73,74,75,76,77,78,79,80,0,1,2,3,4,5,6,7,8,9,10,11,12,13,14,15,16,17,18,19,20,21,22,23,24,25,26,27,28,29,30,31,32,33,34,35,36,37,38,39,40,41,42,43,44,45,46,47,48,49,50,51,52,53,54,55,56,57,58,59,60,61,62,63,64,65,66,67,68,69,70,71,72,73,74,75,76,77,78,79,80,0,1,2,3,4,5,6,7,8,9,10,11,12,13,14,15,16,17,18,19,20,21,22,23,24,25,26,27,28,29,30,31,32,33,34,35,36,37,38,39,40,41,42,43,44,45,46,47,48,49,50,51,52,53,54,55,56,57,58,59,60,61,62,63,64,65,66,67,68,69,70,71,72,73,74,75,76,77,78,79,80,0,1,2,3,4,5,6,7,8,9,10,11,12,13,14,15,16,17,18,19,20,21,22,23,24,25,26,27,28,29,30,31,32,33,34,35,36,37,38,39,40,41,42,43,44,45,46,47,48,49,50,51,52,53,54,55,56,57,58,59,60,61,62,63,64,65,66,67,68,69,70,71,72,73,74,75,76,77,78,79,80,0,1,2,3,4,5,6,7,8,9,10,11,12,13,14,15,16,17,18,19,20,21,22,23,24,25,26,27,28,29,30,31,32,33,34,35,36,37,38,39,40,41,42,43,44,45,46,47,48,49,50,51,52,53,54,55,56,57,58,59,60,61,62,63,64,65,66,67,68,69,70,71,72,73,74,75,76,77,78,79,80,0,1,2,3,4,5,6,7,8,9,10,11,12,13,14,15,16,17,18,19,20,21,22,23,24,25,26,27,28,29,30,31,32,33,34,35,36,37,38,39,40,41,42,43,44,45,46,47,48,49,50,51,52,53,54,55,56,57,58,59,60,61,62,63,64,65,66,67,68,69,70,71,72,73,74,75,76,77,78,79,80,0,1,2,3,4,5,6,7,8,9,10,11,12,13,14,15,16,17,18,19,20,21,22,23,24,25,26,27,28,29,30,31,32,33,34,35,36,37,38,39,40,41,42,43,44,45,46,47,48,49,50,51,52,53,54,55,56,57,58,59,60,61,62,63,64,65,66,67,68,69,70,71,72,73,74,75,76,77,78,79,80,0,1,2,3,4,5,6,7,8,9,10,11,12,13,14,15,16,17,18,19,20,21,22,23,24,25,26,27,28,29,30,31,32,33,34,35,36,37,38,39,40,41,42,43,44,45,46,47,48,49,50,51,52,53,54,55,56,57,58,59,60,61,62,63,64,65,66,67,68,69,70,71,72,73,74,75,76,77,78,79,80,0,1,2,3,4,5,6,7,8,9,10,11,12,13,14,15,16,17,18,19,20,21,22,23,24,25,26,27,28,29,30,31,32,33,34,35,36,37,38,39,40,41,42,43,44,45,46,47,48,49,50,51,52,53,54,55,56,57,58,59,60,61,62,63,64,65,66,67,68,69,70,71,72,73,74,75,76,77,78,79,80,0,1,2,3,4,5,6,7,8,9,10,11,12,13,14,15,16,17,18,19,20,21,22,23,24,25,26,27,28,29,30,31,32,33,34,35,36,37,38,39,40,41,42,43,44,45,46,47,48,49,50,51,52,53,54,55,56,57,58,59,60,61,62,63,64,65,66,67,68,69,70,71,72,73,74,75,76,77,78,79,80,0,1,2,3,4,5,6,7,8,9,10,11,12,13,14,15,16,17,18,19,20,21,22,23,24,25,26,27,28,29,30,31,32,33,34,35,36,37,38,39,40,41,42,43,44,45,46,47,48,49,50,51,52,53,54,55,56,57,58,59,60,61,62,63,64,65,66,67,68,69,70,71,72,73,74,75,76,77,78,79,80,0,1,2,3,4,5,6,7,8,9,10,11,12,13,14,15,16,17,18,19,20,21,22,23,24,25,26,27,28,29,30,31,32,33,34,35,36,37,38,39,40,41,42,43,44,45,46,47,48,49,50,51,52,53,54,55,56,57,58,59,60,61,62,63,64,65,66,67,68,69,70,71,72,73,74,75,76,77,78,79,80,0,1,2,3,4,5,6,7,8,9,10,11,12,13,14,15,16,17,18,19,20,21,22,23,24,25,26,27,28,29,30,31,32,33,34,35,36,37,38,39,40,41,42,43,44,45,46,47,48,49,50,51,52,53,54,55,56,57,58,59,60,61,62,63,64,65,66,67,68,69,70,71,72,73,74,75,76,77,78,79,80,0,1,2,3,4,5,6,7,8,9,10,11,12,13,14,15,16,17,18,19,20,21,22,23,24,25,26,27,28,29,30,31,32,33,34,35,36,37,38,39,40,41,42,43,44,45,46,47,48,49,50,51,52,53,54,55,56,57,58,59,60,61,62,63,64,65,66,67,68,69,70,71,72,73,74,75,76,77,78,79,80,0,1,2,3,4,5,6,7,8,9,10,11,12,13,14,15,16,17,18,19,20,21,22,23,24,25,26,27,28,29,30,31,32,33,34,35,36,37,38,39,40,41,42,43,44,45,46,47,48,49,50,51,52,53,54,55,56,57,58,59,60,61,62,63,64,65,66,67,68,69,70,71,72,73,74,75,76,77,78,79,80,0,1,2,3,4,5,6,7,8,9,10,11,12,13,14,15,16,17,18,19,20,21,22,23,24,25,26,27,28,29,30,31,32,33,34,35,36,37,38,39,40,41,42,43,44,45,46,47,48,49,50,51,52,53,54,55,56,57,58,59,60,61,62,63,64,65,66,67,68,69,70,71,72,73,74,75,76,77,78,79,80,0,1,2,3,4,5,6,7,8,9,10,11,12,13,14,15,16,17,18,19,20,21,22,23,24,25,26,27,28,29,30,31,32,33,34,35,36,37,38,39,40,41,42,43,44,45,46,47,48,49,50,51,52,53,54,55,56,57,58,59,60,61,62,63,64,65,66,67,68,69,70,71,72,73,74,75,76,77,78,79,80,0,1,2,3,4,5,6,7,8,9,10,11,12,13,14,15,16,17,18,19,20,21,22,23,24,25,26,27,28,29,30,31,32,33,34,35,36,37,38,39,40,41,42,43,44,45,46,47,48,49,50,51,52,53,54,55,56,57,58,59,60,61,62,63,64,65,66,67,68,69,70,71,72,73,74,75,76,77,78,79,80,0,1,2,3,4,5,6,7,8,9,10,11,12,13,14,15,16,17,18,19,20,21,22,23,24,25,26,27,28,29,30,31,32,33,34,35,36,37,38,39,40,41,42,43,44,45,46,47,48,49,50,51,52,53,54,55,56,57,58,59,60,61,62,63,64,65,66,67,68,69,70,71,72,73,74,75,76,77,78,79,80,0,1,2,3,4,5,6,7,8,9,10,11,12,13,14,15,16,17,18,19,20,21,22,23,24,25,26,27,28,29,30,31,32,33,34,35,36,37,38,39,40,41,42,43,44,45,46,47,48,49,50,51,52,53,54,55,56,57,58,59,60,61,62,63,64,65,66,67,68,69,70,71,72,73,74,75,76,77,78,79,80,0,1,2,3,4,5,6,7,8,9,10,11,12,13,14,15,16,17,18,19,20,21,22,23,24,25,26,27,28,29,30,31,32,33,34,35,36,37,38,39,40,41,42,43,44,45,46,47,48,49,50,51,52,53,54,55,56,57,58,59,60,61,62,63,64,65,66,67,68,69,70,71,72,73,74,75,76,77,78,79,80,0,1,2,3,4,5,6,7,8,9,10,11,12,13,14,15,16,17,18,19,20,21,22,23,24,25,26,27,28,29,30,31,32,33,34,35,36,37,38,39,40,41,42,43,44,45,46,47,48,49,50,51,52,53,54,55,56,57,58,59,60,61,62,63,64,65,66,67,68,69,70,71,72,73,74,75,76,77,78,79,80,0,1,2,3,4,5,6,7,8,9,10,11,12,13,14,15,16,17,18,19,20,21,22,23,24,25,26,27,28,29,30,31,32,33,34,35,36,37,38,39,40,41,42,43,44,45,46,47,48,49,50,51,52,53,54,55,56,57,58,59,60,61,62,63,64,65,66,67,68,69,70,71,72,73,74,75,76,77,78,79,80,0,1,2,3,4,5,6,7,8,9,10,11,12,13,14,15,16,17,18,19,20,21,22,23,24,25,26,27,28,29,30,31,32,33,34,35,36,37,38,39,40,41,42,43,44,45,46,47,48,49,50,51,52,53,54,55,56,57,58,59,60,61,62,63,64,65,66,67,68,69,70,71,72,73,74,75,76,77,78,79,80,0,1,2,3,4,5,6,7,8,9,10,11,12,13,14,15,16,17,18,19,20,21,22,23,24,25,26,27,28,29,30,31,32,33,34,35,36,37,38,39,40,41,42,43,44,45,46,47,48,49,50,51,52,53,54,55,56,57,58,59,60,61,62,63,64,65,66,67,68,69,70,71,72,73,74,75,76,77,78,79,80,0,1,2,3,4,5,6,7,8,9,10,11,12,13,14,15,16,17,18,19,20,21,22,23,24,25,26,27,28,29,30,31,32,33,34,35,36,37,38,39,40,41,42,43,44,45,46,47,48,49,50,51,52,53,54,55,56,57,58,59,60,61,62,63,64,65,66,67,68,69,70,71,72,73,74,75,76,77,78,79,80,0,1,2,3,4,5,6,7,8,9,10,11,12,13,14,15,16,17,18,19,20,21,22,23,24,25,26,27,28,29,30,31,32,33,34,35,36,37,38,39,40,41,42,43,44,45,46,47,48,49,50,51,52,53,54,55,56,57,58,59,60,61,62,63,64,65,66,67,68,69,70,71,72,73,74,75,76,77,78,79,80,0,1,2,3,4,5,6,7,8,9,10,11,12,13,14,15,16,17,18,19,20,21,22,23,24,25,26,27,28,29,30,31,32,33,34,35,36,37,38,39,40,41,42,43,44,45,46,47,48,49,50,51,52,53,54,55,56,57,58,59,60,61,62,63,64,65,66,67,68,69,70,71,72,73,74,75,76,77,78,79,80,0,1,2,3,4,5,6,7,8,9,10,11,12,13,14,15,16,17,18,19,20,21,22,23,24,25,26,27,28,29,30,31,32,33,34,35,36,37,38,39,40,41,42,43,44,45,46,47,48,49,50,51,52,53,54,55,56,57,58,59,60,61,62,63,64,65,66,67,68,69,70,71,72,73,74,75,76,77,78,79,80,0,1,2,3,4,5,6,7,8,9,10,11,12,13,14,15,16,17,18,19,20,21,22,23,24,25,26,27,28,29,30,31,32,33,34,35,36,37,38,39,40,41,42,43,44,45,46,47,48,49,50,51,52,53,54,55,56,57,58,59,60,61,62,63,64,65,66,67,68,69,70,71,72,73,74,75,76,77,78,79,80,0,1,2,3,4,5,6,7,8,9,10,11,12,13,14,15,16,17,18,19,20,21,22,23,24,25,26,27,28,29,30,31,32,33,34,35,36,37,38,39,40,41,42,43,44,45,46,47,48,49,50,51,52,53,54,55,56,57,58,59,60,61,62,63,64,65,66,67,68,69,70,71,72,73,74,75,76,77,78,79,80,0,1,2,3,4,5,6,7,8,9,10,11,12,13,14,15,16,17,18,19,20,21,22,23,24,25,26,27,28,29,30,31,32,33,34,35,36,37,38,39,40,41,42,43,44,45,46,47,48,49,50,51,52,53,54,55,56,57,58,59,60,61,62,63,64,65,66,67,68,69,70,71,72,73,74,75,76,77,78,79,80,0,1,2,3,4,5,6,7,8,9,10,11,12,13,14,15,16,17,18,19,20,21,22,23,24,25,26,27,28,29,30,31,32,33,34,35,36,37,38,39,40,41,42,43,44,45,46,47,48,49,50,51,52,53,54,55,56,57,58,59,60,61,62,63,64,65,66,67,68,69,70,71,72,73,74,75,76,77,78,79,80,0,1,2,3,4,5,6,7,8,9,10,11,12,13,14,15,16,17,18,19,20,21,22,23,24,25,26,27,28,29,30,31,32,33,34,35,36,37,38,39,40,41,42,43,44,45,46,47,48,49,50,51,52,53,54,55,56,57,58,59,60,61,62,63,64,65,66,67,68,69,70,71,72,73,74,75,76,77,78,79,80,0,1,2,3,4,5,6,7,8,9,10,11,12,13,14,15,16,17,18,19,20,21,22,23,24,25,26,27,28,29,30,31,32,33,34,35,36,37,38,39,40,41,42,43,44,45,46,47,48,49,50,51,52,53,54,55,56,57,58,59,60,61,62,63,64,65,66,67,68,69,70,71,72,73,74,75,76,77,78,79,80,0,1,2,3,4,5,6,7,8,9,10,11,12,13,14,15,16,17,18,19,20,21,22,23,24,25,26,27,28,29,30,31,32,33,34,35,36,37,38,39,40,41,42,43,44,45,46,47,48,49,50,51,52,53,54,55,56,57,58,59,60,61,62,63,64,65,66,67,68,69,70,71,72,73,74,75,76,77,78,79,80,0,1,2,3,4,5,6,7,8,9,10,11,12,13,14,15,16,17,18,19,20,21,22,23,24,25,26,27,28,29,30,31,32,33,34,35,36,37,38,39,40,41,42,43,44,45,46,47,48,49,50,51,52,53,54,55,56,57,58,59,60,61,62,63,64,65,66,67,68,69,70,71,72,73,74,75,76,77,78,79,80,0,1,2,3,4,5,6,7,8,9,10,11,12,13,14,15,16,17,18,19,20,21,22,23,24,25,26,27,28,29,30,31,32,33,34,35,36,37,38,39,40,41,42,43,44,45,46,47,48,49,50,51,52,53,54,55,56,57,58,59,60,61,62,63,64,65,66,67,68,69,70,71,72,73,74,75,76,77,78,79,80,0,1,2,3,4,5,6,7,8,9,10,11,12,13,14,15,16,17,18,19,20,21,22,23,24,25,26,27,28,29,30,31,32,33,34,35,36,37,38,39,40,41,42,43,44,45,46,47,48,49,50,51,52,53,54,55,56,57,58,59,60,61,62,63,64,65,66,67,68,69,70,71,72,73,74,75,76,77,78,79,80],\"y\":[0,0,0,0,0,0,0,0,0,0,0,0,0,0,0,0,0,0,0,0,0,0,0,0,0,0,0,0,0,0,0,0,0,0,0,0,0,0,0,0,0,0,0,0,0,0,0,0,0,0,0,0,0,0,0,0,0,0,0,0,0,0,0,0,0,0,0,0,0,0,0,0,0,0,0,0,0,0,0,0,0,1,1,1,1,1,1,1,1,1,1,1,1,1,1,1,1,1,1,1,1,1,1,1,1,1,1,1,1,1,1,1,1,1,1,1,1,1,1,1,1,1,1,1,1,1,1,1,1,1,1,1,1,1,1,1,1,1,1,1,1,1,1,1,1,1,1,1,1,1,1,1,1,1,1,1,1,1,1,1,1,1,2,2,2,2,2,2,2,2,2,2,2,2,2,2,2,2,2,2,2,2,2,2,2,2,2,2,2,2,2,2,2,2,2,2,2,2,2,2,2,2,2,2,2,2,2,2,2,2,2,2,2,2,2,2,2,2,2,2,2,2,2,2,2,2,2,2,2,2,2,2,2,2,2,2,2,2,2,2,2,2,2,3,3,3,3,3,3,3,3,3,3,3,3,3,3,3,3,3,3,3,3,3,3,3,3,3,3,3,3,3,3,3,3,3,3,3,3,3,3,3,3,3,3,3,3,3,3,3,3,3,3,3,3,3,3,3,3,3,3,3,3,3,3,3,3,3,3,3,3,3,3,3,3,3,3,3,3,3,3,3,3,3,4,4,4,4,4,4,4,4,4,4,4,4,4,4,4,4,4,4,4,4,4,4,4,4,4,4,4,4,4,4,4,4,4,4,4,4,4,4,4,4,4,4,4,4,4,4,4,4,4,4,4,4,4,4,4,4,4,4,4,4,4,4,4,4,4,4,4,4,4,4,4,4,4,4,4,4,4,4,4,4,4,5,5,5,5,5,5,5,5,5,5,5,5,5,5,5,5,5,5,5,5,5,5,5,5,5,5,5,5,5,5,5,5,5,5,5,5,5,5,5,5,5,5,5,5,5,5,5,5,5,5,5,5,5,5,5,5,5,5,5,5,5,5,5,5,5,5,5,5,5,5,5,5,5,5,5,5,5,5,5,5,5,6,6,6,6,6,6,6,6,6,6,6,6,6,6,6,6,6,6,6,6,6,6,6,6,6,6,6,6,6,6,6,6,6,6,6,6,6,6,6,6,6,6,6,6,6,6,6,6,6,6,6,6,6,6,6,6,6,6,6,6,6,6,6,6,6,6,6,6,6,6,6,6,6,6,6,6,6,6,6,6,6,7,7,7,7,7,7,7,7,7,7,7,7,7,7,7,7,7,7,7,7,7,7,7,7,7,7,7,7,7,7,7,7,7,7,7,7,7,7,7,7,7,7,7,7,7,7,7,7,7,7,7,7,7,7,7,7,7,7,7,7,7,7,7,7,7,7,7,7,7,7,7,7,7,7,7,7,7,7,7,7,7,8,8,8,8,8,8,8,8,8,8,8,8,8,8,8,8,8,8,8,8,8,8,8,8,8,8,8,8,8,8,8,8,8,8,8,8,8,8,8,8,8,8,8,8,8,8,8,8,8,8,8,8,8,8,8,8,8,8,8,8,8,8,8,8,8,8,8,8,8,8,8,8,8,8,8,8,8,8,8,8,8,9,9,9,9,9,9,9,9,9,9,9,9,9,9,9,9,9,9,9,9,9,9,9,9,9,9,9,9,9,9,9,9,9,9,9,9,9,9,9,9,9,9,9,9,9,9,9,9,9,9,9,9,9,9,9,9,9,9,9,9,9,9,9,9,9,9,9,9,9,9,9,9,9,9,9,9,9,9,9,9,9,10,10,10,10,10,10,10,10,10,10,10,10,10,10,10,10,10,10,10,10,10,10,10,10,10,10,10,10,10,10,10,10,10,10,10,10,10,10,10,10,10,10,10,10,10,10,10,10,10,10,10,10,10,10,10,10,10,10,10,10,10,10,10,10,10,10,10,10,10,10,10,10,10,10,10,10,10,10,10,10,10,11,11,11,11,11,11,11,11,11,11,11,11,11,11,11,11,11,11,11,11,11,11,11,11,11,11,11,11,11,11,11,11,11,11,11,11,11,11,11,11,11,11,11,11,11,11,11,11,11,11,11,11,11,11,11,11,11,11,11,11,11,11,11,11,11,11,11,11,11,11,11,11,11,11,11,11,11,11,11,11,11,12,12,12,12,12,12,12,12,12,12,12,12,12,12,12,12,12,12,12,12,12,12,12,12,12,12,12,12,12,12,12,12,12,12,12,12,12,12,12,12,12,12,12,12,12,12,12,12,12,12,12,12,12,12,12,12,12,12,12,12,12,12,12,12,12,12,12,12,12,12,12,12,12,12,12,12,12,12,12,12,12,13,13,13,13,13,13,13,13,13,13,13,13,13,13,13,13,13,13,13,13,13,13,13,13,13,13,13,13,13,13,13,13,13,13,13,13,13,13,13,13,13,13,13,13,13,13,13,13,13,13,13,13,13,13,13,13,13,13,13,13,13,13,13,13,13,13,13,13,13,13,13,13,13,13,13,13,13,13,13,13,13,14,14,14,14,14,14,14,14,14,14,14,14,14,14,14,14,14,14,14,14,14,14,14,14,14,14,14,14,14,14,14,14,14,14,14,14,14,14,14,14,14,14,14,14,14,14,14,14,14,14,14,14,14,14,14,14,14,14,14,14,14,14,14,14,14,14,14,14,14,14,14,14,14,14,14,14,14,14,14,14,14,15,15,15,15,15,15,15,15,15,15,15,15,15,15,15,15,15,15,15,15,15,15,15,15,15,15,15,15,15,15,15,15,15,15,15,15,15,15,15,15,15,15,15,15,15,15,15,15,15,15,15,15,15,15,15,15,15,15,15,15,15,15,15,15,15,15,15,15,15,15,15,15,15,15,15,15,15,15,15,15,15,16,16,16,16,16,16,16,16,16,16,16,16,16,16,16,16,16,16,16,16,16,16,16,16,16,16,16,16,16,16,16,16,16,16,16,16,16,16,16,16,16,16,16,16,16,16,16,16,16,16,16,16,16,16,16,16,16,16,16,16,16,16,16,16,16,16,16,16,16,16,16,16,16,16,16,16,16,16,16,16,16,17,17,17,17,17,17,17,17,17,17,17,17,17,17,17,17,17,17,17,17,17,17,17,17,17,17,17,17,17,17,17,17,17,17,17,17,17,17,17,17,17,17,17,17,17,17,17,17,17,17,17,17,17,17,17,17,17,17,17,17,17,17,17,17,17,17,17,17,17,17,17,17,17,17,17,17,17,17,17,17,17,18,18,18,18,18,18,18,18,18,18,18,18,18,18,18,18,18,18,18,18,18,18,18,18,18,18,18,18,18,18,18,18,18,18,18,18,18,18,18,18,18,18,18,18,18,18,18,18,18,18,18,18,18,18,18,18,18,18,18,18,18,18,18,18,18,18,18,18,18,18,18,18,18,18,18,18,18,18,18,18,18,19,19,19,19,19,19,19,19,19,19,19,19,19,19,19,19,19,19,19,19,19,19,19,19,19,19,19,19,19,19,19,19,19,19,19,19,19,19,19,19,19,19,19,19,19,19,19,19,19,19,19,19,19,19,19,19,19,19,19,19,19,19,19,19,19,19,19,19,19,19,19,19,19,19,19,19,19,19,19,19,19,20,20,20,20,20,20,20,20,20,20,20,20,20,20,20,20,20,20,20,20,20,20,20,20,20,20,20,20,20,20,20,20,20,20,20,20,20,20,20,20,20,20,20,20,20,20,20,20,20,20,20,20,20,20,20,20,20,20,20,20,20,20,20,20,20,20,20,20,20,20,20,20,20,20,20,20,20,20,20,20,20,21,21,21,21,21,21,21,21,21,21,21,21,21,21,21,21,21,21,21,21,21,21,21,21,21,21,21,21,21,21,21,21,21,21,21,21,21,21,21,21,21,21,21,21,21,21,21,21,21,21,21,21,21,21,21,21,21,21,21,21,21,21,21,21,21,21,21,21,21,21,21,21,21,21,21,21,21,21,21,21,21,22,22,22,22,22,22,22,22,22,22,22,22,22,22,22,22,22,22,22,22,22,22,22,22,22,22,22,22,22,22,22,22,22,22,22,22,22,22,22,22,22,22,22,22,22,22,22,22,22,22,22,22,22,22,22,22,22,22,22,22,22,22,22,22,22,22,22,22,22,22,22,22,22,22,22,22,22,22,22,22,22,23,23,23,23,23,23,23,23,23,23,23,23,23,23,23,23,23,23,23,23,23,23,23,23,23,23,23,23,23,23,23,23,23,23,23,23,23,23,23,23,23,23,23,23,23,23,23,23,23,23,23,23,23,23,23,23,23,23,23,23,23,23,23,23,23,23,23,23,23,23,23,23,23,23,23,23,23,23,23,23,23,24,24,24,24,24,24,24,24,24,24,24,24,24,24,24,24,24,24,24,24,24,24,24,24,24,24,24,24,24,24,24,24,24,24,24,24,24,24,24,24,24,24,24,24,24,24,24,24,24,24,24,24,24,24,24,24,24,24,24,24,24,24,24,24,24,24,24,24,24,24,24,24,24,24,24,24,24,24,24,24,24,25,25,25,25,25,25,25,25,25,25,25,25,25,25,25,25,25,25,25,25,25,25,25,25,25,25,25,25,25,25,25,25,25,25,25,25,25,25,25,25,25,25,25,25,25,25,25,25,25,25,25,25,25,25,25,25,25,25,25,25,25,25,25,25,25,25,25,25,25,25,25,25,25,25,25,25,25,25,25,25,25,26,26,26,26,26,26,26,26,26,26,26,26,26,26,26,26,26,26,26,26,26,26,26,26,26,26,26,26,26,26,26,26,26,26,26,26,26,26,26,26,26,26,26,26,26,26,26,26,26,26,26,26,26,26,26,26,26,26,26,26,26,26,26,26,26,26,26,26,26,26,26,26,26,26,26,26,26,26,26,26,26,27,27,27,27,27,27,27,27,27,27,27,27,27,27,27,27,27,27,27,27,27,27,27,27,27,27,27,27,27,27,27,27,27,27,27,27,27,27,27,27,27,27,27,27,27,27,27,27,27,27,27,27,27,27,27,27,27,27,27,27,27,27,27,27,27,27,27,27,27,27,27,27,27,27,27,27,27,27,27,27,27,28,28,28,28,28,28,28,28,28,28,28,28,28,28,28,28,28,28,28,28,28,28,28,28,28,28,28,28,28,28,28,28,28,28,28,28,28,28,28,28,28,28,28,28,28,28,28,28,28,28,28,28,28,28,28,28,28,28,28,28,28,28,28,28,28,28,28,28,28,28,28,28,28,28,28,28,28,28,28,28,28,29,29,29,29,29,29,29,29,29,29,29,29,29,29,29,29,29,29,29,29,29,29,29,29,29,29,29,29,29,29,29,29,29,29,29,29,29,29,29,29,29,29,29,29,29,29,29,29,29,29,29,29,29,29,29,29,29,29,29,29,29,29,29,29,29,29,29,29,29,29,29,29,29,29,29,29,29,29,29,29,29,30,30,30,30,30,30,30,30,30,30,30,30,30,30,30,30,30,30,30,30,30,30,30,30,30,30,30,30,30,30,30,30,30,30,30,30,30,30,30,30,30,30,30,30,30,30,30,30,30,30,30,30,30,30,30,30,30,30,30,30,30,30,30,30,30,30,30,30,30,30,30,30,30,30,30,30,30,30,30,30,30,31,31,31,31,31,31,31,31,31,31,31,31,31,31,31,31,31,31,31,31,31,31,31,31,31,31,31,31,31,31,31,31,31,31,31,31,31,31,31,31,31,31,31,31,31,31,31,31,31,31,31,31,31,31,31,31,31,31,31,31,31,31,31,31,31,31,31,31,31,31,31,31,31,31,31,31,31,31,31,31,31,32,32,32,32,32,32,32,32,32,32,32,32,32,32,32,32,32,32,32,32,32,32,32,32,32,32,32,32,32,32,32,32,32,32,32,32,32,32,32,32,32,32,32,32,32,32,32,32,32,32,32,32,32,32,32,32,32,32,32,32,32,32,32,32,32,32,32,32,32,32,32,32,32,32,32,32,32,32,32,32,32,33,33,33,33,33,33,33,33,33,33,33,33,33,33,33,33,33,33,33,33,33,33,33,33,33,33,33,33,33,33,33,33,33,33,33,33,33,33,33,33,33,33,33,33,33,33,33,33,33,33,33,33,33,33,33,33,33,33,33,33,33,33,33,33,33,33,33,33,33,33,33,33,33,33,33,33,33,33,33,33,33,34,34,34,34,34,34,34,34,34,34,34,34,34,34,34,34,34,34,34,34,34,34,34,34,34,34,34,34,34,34,34,34,34,34,34,34,34,34,34,34,34,34,34,34,34,34,34,34,34,34,34,34,34,34,34,34,34,34,34,34,34,34,34,34,34,34,34,34,34,34,34,34,34,34,34,34,34,34,34,34,34,35,35,35,35,35,35,35,35,35,35,35,35,35,35,35,35,35,35,35,35,35,35,35,35,35,35,35,35,35,35,35,35,35,35,35,35,35,35,35,35,35,35,35,35,35,35,35,35,35,35,35,35,35,35,35,35,35,35,35,35,35,35,35,35,35,35,35,35,35,35,35,35,35,35,35,35,35,35,35,35,35,36,36,36,36,36,36,36,36,36,36,36,36,36,36,36,36,36,36,36,36,36,36,36,36,36,36,36,36,36,36,36,36,36,36,36,36,36,36,36,36,36,36,36,36,36,36,36,36,36,36,36,36,36,36,36,36,36,36,36,36,36,36,36,36,36,36,36,36,36,36,36,36,36,36,36,36,36,36,36,36,36,37,37,37,37,37,37,37,37,37,37,37,37,37,37,37,37,37,37,37,37,37,37,37,37,37,37,37,37,37,37,37,37,37,37,37,37,37,37,37,37,37,37,37,37,37,37,37,37,37,37,37,37,37,37,37,37,37,37,37,37,37,37,37,37,37,37,37,37,37,37,37,37,37,37,37,37,37,37,37,37,37,38,38,38,38,38,38,38,38,38,38,38,38,38,38,38,38,38,38,38,38,38,38,38,38,38,38,38,38,38,38,38,38,38,38,38,38,38,38,38,38,38,38,38,38,38,38,38,38,38,38,38,38,38,38,38,38,38,38,38,38,38,38,38,38,38,38,38,38,38,38,38,38,38,38,38,38,38,38,38,38,38,39,39,39,39,39,39,39,39,39,39,39,39,39,39,39,39,39,39,39,39,39,39,39,39,39,39,39,39,39,39,39,39,39,39,39,39,39,39,39,39,39,39,39,39,39,39,39,39,39,39,39,39,39,39,39,39,39,39,39,39,39,39,39,39,39,39,39,39,39,39,39,39,39,39,39,39,39,39,39,39,39,40,40,40,40,40,40,40,40,40,40,40,40,40,40,40,40,40,40,40,40,40,40,40,40,40,40,40,40,40,40,40,40,40,40,40,40,40,40,40,40,40,40,40,40,40,40,40,40,40,40,40,40,40,40,40,40,40,40,40,40,40,40,40,40,40,40,40,40,40,40,40,40,40,40,40,40,40,40,40,40,40,41,41,41,41,41,41,41,41,41,41,41,41,41,41,41,41,41,41,41,41,41,41,41,41,41,41,41,41,41,41,41,41,41,41,41,41,41,41,41,41,41,41,41,41,41,41,41,41,41,41,41,41,41,41,41,41,41,41,41,41,41,41,41,41,41,41,41,41,41,41,41,41,41,41,41,41,41,41,41,41,41,42,42,42,42,42,42,42,42,42,42,42,42,42,42,42,42,42,42,42,42,42,42,42,42,42,42,42,42,42,42,42,42,42,42,42,42,42,42,42,42,42,42,42,42,42,42,42,42,42,42,42,42,42,42,42,42,42,42,42,42,42,42,42,42,42,42,42,42,42,42,42,42,42,42,42,42,42,42,42,42,42,43,43,43,43,43,43,43,43,43,43,43,43,43,43,43,43,43,43,43,43,43,43,43,43,43,43,43,43,43,43,43,43,43,43,43,43,43,43,43,43,43,43,43,43,43,43,43,43,43,43,43,43,43,43,43,43,43,43,43,43,43,43,43,43,43,43,43,43,43,43,43,43,43,43,43,43,43,43,43,43,43,44,44,44,44,44,44,44,44,44,44,44,44,44,44,44,44,44,44,44,44,44,44,44,44,44,44,44,44,44,44,44,44,44,44,44,44,44,44,44,44,44,44,44,44,44,44,44,44,44,44,44,44,44,44,44,44,44,44,44,44,44,44,44,44,44,44,44,44,44,44,44,44,44,44,44,44,44,44,44,44,44,45,45,45,45,45,45,45,45,45,45,45,45,45,45,45,45,45,45,45,45,45,45,45,45,45,45,45,45,45,45,45,45,45,45,45,45,45,45,45,45,45,45,45,45,45,45,45,45,45,45,45,45,45,45,45,45,45,45,45,45,45,45,45,45,45,45,45,45,45,45,45,45,45,45,45,45,45,45,45,45,45,46,46,46,46,46,46,46,46,46,46,46,46,46,46,46,46,46,46,46,46,46,46,46,46,46,46,46,46,46,46,46,46,46,46,46,46,46,46,46,46,46,46,46,46,46,46,46,46,46,46,46,46,46,46,46,46,46,46,46,46,46,46,46,46,46,46,46,46,46,46,46,46,46,46,46,46,46,46,46,46,46,47,47,47,47,47,47,47,47,47,47,47,47,47,47,47,47,47,47,47,47,47,47,47,47,47,47,47,47,47,47,47,47,47,47,47,47,47,47,47,47,47,47,47,47,47,47,47,47,47,47,47,47,47,47,47,47,47,47,47,47,47,47,47,47,47,47,47,47,47,47,47,47,47,47,47,47,47,47,47,47,47,48,48,48,48,48,48,48,48,48,48,48,48,48,48,48,48,48,48,48,48,48,48,48,48,48,48,48,48,48,48,48,48,48,48,48,48,48,48,48,48,48,48,48,48,48,48,48,48,48,48,48,48,48,48,48,48,48,48,48,48,48,48,48,48,48,48,48,48,48,48,48,48,48,48,48,48,48,48,48,48,48,49,49,49,49,49,49,49,49,49,49,49,49,49,49,49,49,49,49,49,49,49,49,49,49,49,49,49,49,49,49,49,49,49,49,49,49,49,49,49,49,49,49,49,49,49,49,49,49,49,49,49,49,49,49,49,49,49,49,49,49,49,49,49,49,49,49,49,49,49,49,49,49,49,49,49,49,49,49,49,49,49,50,50,50,50,50,50,50,50,50,50,50,50,50,50,50,50,50,50,50,50,50,50,50,50,50,50,50,50,50,50,50,50,50,50,50,50,50,50,50,50,50,50,50,50,50,50,50,50,50,50,50,50,50,50,50,50,50,50,50,50,50,50,50,50,50,50,50,50,50,50,50,50,50,50,50,50,50,50,50,50,50,51,51,51,51,51,51,51,51,51,51,51,51,51,51,51,51,51,51,51,51,51,51,51,51,51,51,51,51,51,51,51,51,51,51,51,51,51,51,51,51,51,51,51,51,51,51,51,51,51,51,51,51,51,51,51,51,51,51,51,51,51,51,51,51,51,51,51,51,51,51,51,51,51,51,51,51,51,51,51,51,51,52,52,52,52,52,52,52,52,52,52,52,52,52,52,52,52,52,52,52,52,52,52,52,52,52,52,52,52,52,52,52,52,52,52,52,52,52,52,52,52,52,52,52,52,52,52,52,52,52,52,52,52,52,52,52,52,52,52,52,52,52,52,52,52,52,52,52,52,52,52,52,52,52,52,52,52,52,52,52,52,52,53,53,53,53,53,53,53,53,53,53,53,53,53,53,53,53,53,53,53,53,53,53,53,53,53,53,53,53,53,53,53,53,53,53,53,53,53,53,53,53,53,53,53,53,53,53,53,53,53,53,53,53,53,53,53,53,53,53,53,53,53,53,53,53,53,53,53,53,53,53,53,53,53,53,53,53,53,53,53,53,53,54,54,54,54,54,54,54,54,54,54,54,54,54,54,54,54,54,54,54,54,54,54,54,54,54,54,54,54,54,54,54,54,54,54,54,54,54,54,54,54,54,54,54,54,54,54,54,54,54,54,54,54,54,54,54,54,54,54,54,54,54,54,54,54,54,54,54,54,54,54,54,54,54,54,54,54,54,54,54,54,54,55,55,55,55,55,55,55,55,55,55,55,55,55,55,55,55,55,55,55,55,55,55,55,55,55,55,55,55,55,55,55,55,55,55,55,55,55,55,55,55,55,55,55,55,55,55,55,55,55,55,55,55,55,55,55,55,55,55,55,55,55,55,55,55,55,55,55,55,55,55,55,55,55,55,55,55,55,55,55,55,55,56,56,56,56,56,56,56,56,56,56,56,56,56,56,56,56,56,56,56,56,56,56,56,56,56,56,56,56,56,56,56,56,56,56,56,56,56,56,56,56,56,56,56,56,56,56,56,56,56,56,56,56,56,56,56,56,56,56,56,56,56,56,56,56,56,56,56,56,56,56,56,56,56,56,56,56,56,56,56,56,56,57,57,57,57,57,57,57,57,57,57,57,57,57,57,57,57,57,57,57,57,57,57,57,57,57,57,57,57,57,57,57,57,57,57,57,57,57,57,57,57,57,57,57,57,57,57,57,57,57,57,57,57,57,57,57,57,57,57,57,57,57,57,57,57,57,57,57,57,57,57,57,57,57,57,57,57,57,57,57,57,57,58,58,58,58,58,58,58,58,58,58,58,58,58,58,58,58,58,58,58,58,58,58,58,58,58,58,58,58,58,58,58,58,58,58,58,58,58,58,58,58,58,58,58,58,58,58,58,58,58,58,58,58,58,58,58,58,58,58,58,58,58,58,58,58,58,58,58,58,58,58,58,58,58,58,58,58,58,58,58,58,58,59,59,59,59,59,59,59,59,59,59,59,59,59,59,59,59,59,59,59,59,59,59,59,59,59,59,59,59,59,59,59,59,59,59,59,59,59,59,59,59,59,59,59,59,59,59,59,59,59,59,59,59,59,59,59,59,59,59,59,59,59,59,59,59,59,59,59,59,59,59,59,59,59,59,59,59,59,59,59,59,59,60,60,60,60,60,60,60,60,60,60,60,60,60,60,60,60,60,60,60,60,60,60,60,60,60,60,60,60,60,60,60,60,60,60,60,60,60,60,60,60,60,60,60,60,60,60,60,60,60,60,60,60,60,60,60,60,60,60,60,60,60,60,60,60,60,60,60,60,60,60,60,60,60,60,60,60,60,60,60,60,60,61,61,61,61,61,61,61,61,61,61,61,61,61,61,61,61,61,61,61,61,61,61,61,61,61,61,61,61,61,61,61,61,61,61,61,61,61,61,61,61,61,61,61,61,61,61,61,61,61,61,61,61,61,61,61,61,61,61,61,61,61,61,61,61,61,61,61,61,61,61,61,61,61,61,61,61,61,61,61,61,61,62,62,62,62,62,62,62,62,62,62,62,62,62,62,62,62,62,62,62,62,62,62,62,62,62,62,62,62,62,62,62,62,62,62,62,62,62,62,62,62,62,62,62,62,62,62,62,62,62,62,62,62,62,62,62,62,62,62,62,62,62,62,62,62,62,62,62,62,62,62,62,62,62,62,62,62,62,62,62,62,62,63,63,63,63,63,63,63,63,63,63,63,63,63,63,63,63,63,63,63,63,63,63,63,63,63,63,63,63,63,63,63,63,63,63,63,63,63,63,63,63,63,63,63,63,63,63,63,63,63,63,63,63,63,63,63,63,63,63,63,63,63,63,63,63,63,63,63,63,63,63,63,63,63,63,63,63,63,63,63,63,63,64,64,64,64,64,64,64,64,64,64,64,64,64,64,64,64,64,64,64,64,64,64,64,64,64,64,64,64,64,64,64,64,64,64,64,64,64,64,64,64,64,64,64,64,64,64,64,64,64,64,64,64,64,64,64,64,64,64,64,64,64,64,64,64,64,64,64,64,64,64,64,64,64,64,64,64,64,64,64,64,64,65,65,65,65,65,65,65,65,65,65,65,65,65,65,65,65,65,65,65,65,65,65,65,65,65,65,65,65,65,65,65,65,65,65,65,65,65,65,65,65,65,65,65,65,65,65,65,65,65,65,65,65,65,65,65,65,65,65,65,65,65,65,65,65,65,65,65,65,65,65,65,65,65,65,65,65,65,65,65,65,65,66,66,66,66,66,66,66,66,66,66,66,66,66,66,66,66,66,66,66,66,66,66,66,66,66,66,66,66,66,66,66,66,66,66,66,66,66,66,66,66,66,66,66,66,66,66,66,66,66,66,66,66,66,66,66,66,66,66,66,66,66,66,66,66,66,66,66,66,66,66,66,66,66,66,66,66,66,66,66,66,66,67,67,67,67,67,67,67,67,67,67,67,67,67,67,67,67,67,67,67,67,67,67,67,67,67,67,67,67,67,67,67,67,67,67,67,67,67,67,67,67,67,67,67,67,67,67,67,67,67,67,67,67,67,67,67,67,67,67,67,67,67,67,67,67,67,67,67,67,67,67,67,67,67,67,67,67,67,67,67,67,67,68,68,68,68,68,68,68,68,68,68,68,68,68,68,68,68,68,68,68,68,68,68,68,68,68,68,68,68,68,68,68,68,68,68,68,68,68,68,68,68,68,68,68,68,68,68,68,68,68,68,68,68,68,68,68,68,68,68,68,68,68,68,68,68,68,68,68,68,68,68,68,68,68,68,68,68,68,68,68,68,68,69,69,69,69,69,69,69,69,69,69,69,69,69,69,69,69,69,69,69,69,69,69,69,69,69,69,69,69,69,69,69,69,69,69,69,69,69,69,69,69,69,69,69,69,69,69,69,69,69,69,69,69,69,69,69,69,69,69,69,69,69,69,69,69,69,69,69,69,69,69,69,69,69,69,69,69,69,69,69,69,69,70,70,70,70,70,70,70,70,70,70,70,70,70,70,70,70,70,70,70,70,70,70,70,70,70,70,70,70,70,70,70,70,70,70,70,70,70,70,70,70,70,70,70,70,70,70,70,70,70,70,70,70,70,70,70,70,70,70,70,70,70,70,70,70,70,70,70,70,70,70,70,70,70,70,70,70,70,70,70,70,70,71,71,71,71,71,71,71,71,71,71,71,71,71,71,71,71,71,71,71,71,71,71,71,71,71,71,71,71,71,71,71,71,71,71,71,71,71,71,71,71,71,71,71,71,71,71,71,71,71,71,71,71,71,71,71,71,71,71,71,71,71,71,71,71,71,71,71,71,71,71,71,71,71,71,71,71,71,71,71,71,71,72,72,72,72,72,72,72,72,72,72,72,72,72,72,72,72,72,72,72,72,72,72,72,72,72,72,72,72,72,72,72,72,72,72,72,72,72,72,72,72,72,72,72,72,72,72,72,72,72,72,72,72,72,72,72,72,72,72,72,72,72,72,72,72,72,72,72,72,72,72,72,72,72,72,72,72,72,72,72,72,72,73,73,73,73,73,73,73,73,73,73,73,73,73,73,73,73,73,73,73,73,73,73,73,73,73,73,73,73,73,73,73,73,73,73,73,73,73,73,73,73,73,73,73,73,73,73,73,73,73,73,73,73,73,73,73,73,73,73,73,73,73,73,73,73,73,73,73,73,73,73,73,73,73,73,73,73,73,73,73,73,73,74,74,74,74,74,74,74,74,74,74,74,74,74,74,74,74,74,74,74,74,74,74,74,74,74,74,74,74,74,74,74,74,74,74,74,74,74,74,74,74,74,74,74,74,74,74,74,74,74,74,74,74,74,74,74,74,74,74,74,74,74,74,74,74,74,74,74,74,74,74,74,74,74,74,74,74,74,74,74,74,74,75,75,75,75,75,75,75,75,75,75,75,75,75,75,75,75,75,75,75,75,75,75,75,75,75,75,75,75,75,75,75,75,75,75,75,75,75,75,75,75,75,75,75,75,75,75,75,75,75,75,75,75,75,75,75,75,75,75,75,75,75,75,75,75,75,75,75,75,75,75,75,75,75,75,75,75,75,75,75,75,75,76,76,76,76,76,76,76,76,76,76,76,76,76,76,76,76,76,76,76,76,76,76,76,76,76,76,76,76,76,76,76,76,76,76,76,76,76,76,76,76,76,76,76,76,76,76,76,76,76,76,76,76,76,76,76,76,76,76,76,76,76,76,76,76,76,76,76,76,76,76,76,76,76,76,76,76,76,76,76,76,76,77,77,77,77,77,77,77,77,77,77,77,77,77,77,77,77,77,77,77,77,77,77,77,77,77,77,77,77,77,77,77,77,77,77,77,77,77,77,77,77,77,77,77,77,77,77,77,77,77,77,77,77,77,77,77,77,77,77,77,77,77,77,77,77,77,77,77,77,77,77,77,77,77,77,77,77,77,77,77,77,77,78,78,78,78,78,78,78,78,78,78,78,78,78,78,78,78,78,78,78,78,78,78,78,78,78,78,78,78,78,78,78,78,78,78,78,78,78,78,78,78,78,78,78,78,78,78,78,78,78,78,78,78,78,78,78,78,78,78,78,78,78,78,78,78,78,78,78,78,78,78,78,78,78,78,78,78,78,78,78,78,78,79,79,79,79,79,79,79,79,79,79,79,79,79,79,79,79,79,79,79,79,79,79,79,79,79,79,79,79,79,79,79,79,79,79,79,79,79,79,79,79,79,79,79,79,79,79,79,79,79,79,79,79,79,79,79,79,79,79,79,79,79,79,79,79,79,79,79,79,79,79,79,79,79,79,79,79,79,79,79,79,79,80,80,80,80,80,80,80,80,80,80,80,80,80,80,80,80,80,80,80,80,80,80,80,80,80,80,80,80,80,80,80,80,80,80,80,80,80,80,80,80,80,80,80,80,80,80,80,80,80,80,80,80,80,80,80,80,80,80,80,80,80,80,80,80,80,80,80,80,80,80,80,80,80,80,80,80,80,80,80,80,80],\"type\":\"scatter\",\"uid\":\"477b1747-fe85-48ef-937c-951e2c2659d3\"},{\"colorscale\":[[0.0,\"rgb(255,245,235)\"],[0.125,\"rgb(254,230,206)\"],[0.25,\"rgb(253,208,162)\"],[0.375,\"rgb(253,174,107)\"],[0.5,\"rgb(253,141,60)\"],[0.625,\"rgb(241,105,19)\"],[0.75,\"rgb(217,72,1)\"],[0.875,\"rgb(166,54,3)\"],[1.0,\"rgb(127,39,4)\"]],\"hoverinfo\":\"skip\",\"showscale\":false,\"z\":[[169982,30043,50161,26785,15554,9661,18935,31984,5964,12623,39663,7537,3728,19522,7446,4921,6453,8917,2748,7230,5250,1763,16927,1978,6162,6670,4843,3266,3072,2219,5129,2513,1325,3223,6463,3570,4031,6761,2717,13207,12217,7496,3388,2716,9542,5419,7731,4713,3978,2014,9038,5952,3141,4611,3907,3091,3369,4535,5110,1905,2887,2491,3537,3346,3503,3698,782,3377,2513,3048,923,2532,939,1246,661,2072,538,964,76,14,0],[0,0,0,0,0,0,0,0,0,0,0,0,0,0,0,0,0,0,0,0,0,0,0,0,0,0,0,0,0,0,0,0,0,0,0,0,0,0,0,0,0,0,0,0,0,0,0,0,0,0,0,0,0,0,0,0,0,0,0,0,0,0,0,0,0,0,0,0,0,0,0,0,0,0,0,0,0,0,0,0,7],[0,0,0,0,0,0,0,0,0,0,0,0,0,0,0,0,0,0,0,0,0,0,0,0,0,0,0,0,0,0,0,0,0,0,0,0,0,0,0,0,0,0,0,0,0,0,0,0,0,0,0,0,0,0,0,0,0,0,0,0,0,0,0,0,0,0,0,0,0,0,0,0,0,0,0,0,0,0,0,0,9],[0,0,0,0,0,0,0,0,0,0,0,0,0,0,0,0,0,0,0,0,0,0,0,0,0,0,0,0,0,0,0,0,0,0,0,0,0,0,0,0,0,0,0,0,0,0,0,0,0,0,0,0,0,0,0,0,0,0,0,0,0,0,0,0,0,0,0,0,0,0,0,0,0,0,0,0,0,9,0,0,11],[0,0,0,0,0,0,0,0,0,0,0,0,0,0,0,0,0,0,0,0,0,0,0,0,0,0,0,0,0,0,0,0,0,0,0,0,0,0,0,0,0,0,0,0,0,0,0,0,0,0,0,0,0,0,0,0,0,0,0,0,0,0,0,0,0,0,0,0,0,0,0,0,0,0,0,0,16,0,0,0,12],[0,0,0,0,0,0,0,0,0,0,0,0,0,0,0,0,0,0,0,0,0,0,0,0,0,0,0,0,0,0,0,0,0,0,0,0,0,0,0,0,0,0,0,0,0,0,0,0,0,0,0,0,0,0,0,0,0,0,0,0,0,0,0,0,0,0,0,0,0,0,0,0,0,0,0,10,0,0,0,0,20],[0,0,0,0,0,0,0,0,0,0,0,0,0,0,0,0,0,0,0,0,0,0,0,0,0,0,0,0,0,0,0,0,0,0,0,0,0,0,0,0,0,0,0,0,0,0,0,0,0,0,0,0,0,0,0,0,0,0,0,0,0,0,0,0,0,0,0,0,0,0,0,0,0,0,25,0,0,0,0,0,14],[0,0,0,0,0,0,0,0,0,0,0,0,0,0,0,0,0,0,0,0,0,0,0,0,0,0,0,0,0,0,0,0,0,0,0,0,0,0,0,0,0,0,0,0,0,0,0,0,0,0,0,0,0,0,0,0,0,0,0,0,0,0,0,0,0,0,0,0,0,0,0,0,0,17,0,0,0,0,0,0,12],[0,0,0,0,0,0,0,0,0,0,0,0,0,0,0,0,0,0,0,0,0,0,0,0,0,0,0,0,0,0,0,0,0,0,0,0,0,0,0,0,0,0,0,0,0,0,0,0,0,0,0,0,0,0,0,0,0,0,0,0,0,0,0,0,0,0,0,0,0,0,0,0,31,0,0,0,0,0,0,0,8],[0,0,0,0,0,0,0,0,0,0,0,0,0,0,0,0,0,0,0,0,0,0,0,0,0,0,0,0,0,0,0,0,0,0,0,0,0,0,0,0,0,0,0,0,0,0,0,0,0,0,0,0,0,0,0,0,0,0,0,0,0,0,0,0,0,0,0,0,0,0,0,22,0,0,0,0,0,0,0,0,15],[0,0,0,0,0,0,0,0,0,0,0,0,0,0,0,0,0,0,0,0,0,0,0,0,0,0,0,0,0,0,0,0,0,0,0,0,0,0,0,0,0,0,0,0,0,0,0,0,0,0,0,0,0,0,0,0,0,0,0,0,0,0,0,0,0,0,0,0,0,0,31,0,0,0,0,0,0,0,0,0,13],[0,0,0,0,0,0,0,0,0,0,0,0,0,0,0,0,0,0,0,0,0,0,0,0,0,0,0,0,0,0,0,0,0,0,0,0,0,0,0,0,0,0,0,0,0,0,0,0,0,0,0,0,0,0,0,0,0,0,0,0,0,0,0,0,0,0,0,0,0,39,0,0,0,0,0,0,0,0,0,0,19],[0,0,0,0,0,0,0,0,0,0,0,0,0,0,0,0,0,0,0,0,0,0,0,0,0,0,0,0,0,0,0,0,0,0,0,0,0,0,0,0,0,0,0,0,0,0,0,0,0,0,0,0,0,0,0,0,0,0,0,0,0,0,0,0,0,0,0,0,32,0,0,0,0,0,0,0,0,0,0,0,31],[0,0,0,0,0,0,0,0,0,0,0,0,0,0,0,0,0,0,0,0,0,0,0,0,0,0,0,0,0,0,0,0,0,0,0,0,0,0,0,0,0,0,0,0,0,0,0,0,0,0,0,0,0,0,0,0,0,0,0,0,0,0,0,0,0,0,0,40,0,0,0,0,0,0,0,0,0,0,0,0,9],[0,0,0,0,0,0,0,0,0,0,0,0,0,0,0,0,0,0,0,0,0,0,0,0,0,0,0,0,0,0,0,0,0,0,0,0,0,0,0,0,0,0,0,0,0,0,0,0,0,0,0,0,0,0,0,0,0,0,0,0,0,0,0,0,0,0,23,0,0,0,0,0,0,0,0,0,0,0,0,0,35],[0,0,0,0,0,0,0,0,0,0,0,0,0,0,0,0,0,0,0,0,0,0,0,0,0,0,0,0,0,0,0,0,0,0,0,0,0,0,0,0,0,0,0,0,0,0,0,0,0,0,0,0,0,0,0,0,0,0,0,0,0,0,0,0,0,65,0,0,0,0,0,0,0,0,0,0,0,0,0,0,12],[0,0,0,0,0,0,0,0,0,0,0,0,0,0,0,0,0,0,0,0,0,0,0,0,0,0,0,0,0,0,0,0,0,0,0,0,0,0,0,0,0,0,0,0,0,0,0,0,0,0,0,0,0,0,0,0,0,0,0,0,0,0,0,0,67,0,0,0,0,0,0,0,0,0,0,0,0,0,0,0,10],[0,0,0,0,0,0,0,0,0,0,0,0,0,0,0,0,0,0,0,0,0,0,0,0,0,0,0,0,0,0,0,0,0,0,0,0,0,0,0,0,0,0,0,0,0,0,0,0,0,0,0,0,0,0,0,0,0,0,0,0,0,0,0,29,0,0,0,0,0,0,0,0,0,0,0,0,0,0,0,0,41],[0,0,0,0,0,0,0,0,0,0,0,0,0,0,0,0,0,0,0,0,0,0,0,0,0,0,0,0,0,0,0,0,0,0,0,0,0,0,0,0,0,0,0,0,0,0,0,0,0,0,0,0,0,0,0,0,0,0,0,0,0,0,30,0,0,0,0,0,0,0,0,0,0,0,0,0,0,0,0,0,41],[0,0,0,0,0,0,0,0,0,0,0,0,0,0,0,0,0,0,0,0,0,0,0,0,0,0,0,0,0,0,0,0,0,0,0,0,0,0,0,0,0,0,0,0,0,0,0,0,0,0,0,0,0,0,0,0,0,0,0,0,0,66,0,0,0,0,0,0,0,0,0,0,0,0,0,0,0,0,0,0,26],[0,0,0,0,0,0,0,0,0,0,0,0,0,0,0,0,0,0,0,0,0,0,0,0,0,0,0,0,0,0,0,0,0,0,0,0,0,0,0,0,0,0,0,0,0,0,0,0,0,0,0,0,0,0,0,0,0,0,0,0,69,0,0,0,0,0,0,0,0,0,0,0,0,0,0,0,0,0,0,0,9],[0,0,0,0,0,0,0,0,0,0,0,0,0,0,0,0,0,0,0,0,0,0,0,0,0,0,0,0,0,0,0,0,0,0,0,0,0,0,0,0,0,0,0,0,0,0,0,0,0,0,0,0,0,0,0,0,0,0,0,56,0,0,0,0,0,0,0,0,0,0,0,0,0,0,0,0,0,0,0,0,23],[0,0,0,0,0,0,0,0,0,0,0,0,0,0,0,0,0,0,0,0,0,0,0,0,0,0,0,0,0,0,0,0,0,0,0,0,0,0,0,0,0,0,0,0,0,0,0,0,0,0,0,0,0,0,0,0,0,0,61,0,0,0,0,0,0,0,0,0,0,0,0,0,0,0,0,0,0,0,0,0,28],[0,0,0,0,0,0,0,0,0,0,0,0,0,0,0,0,0,0,0,0,0,0,0,0,0,0,0,0,0,0,0,0,0,0,0,0,0,0,0,0,0,0,0,0,0,0,0,0,0,0,0,0,0,0,0,0,0,77,0,0,0,0,0,0,0,0,0,0,0,0,0,0,0,0,0,0,0,0,0,0,16],[0,0,0,0,0,0,0,0,0,0,0,0,0,0,0,0,0,0,0,0,0,0,0,0,0,0,0,0,0,0,0,0,0,0,0,0,0,0,0,0,0,0,0,0,0,0,0,0,0,0,0,0,0,0,0,0,91,0,0,0,0,0,0,0,0,0,0,0,0,0,0,0,0,0,0,0,0,0,0,0,7],[0,0,0,0,0,0,0,0,0,0,0,0,0,0,0,0,0,0,0,0,0,0,0,0,0,0,0,0,0,0,0,0,0,0,0,0,0,0,0,0,0,0,0,0,0,0,0,0,0,0,0,0,0,0,0,66,0,0,0,0,0,0,0,0,0,0,0,0,0,0,0,0,0,0,0,0,0,0,0,0,29],[0,0,0,0,0,0,0,0,0,0,0,0,0,0,0,0,0,0,0,0,0,0,0,0,0,0,0,0,0,0,0,0,0,0,0,0,0,0,0,0,0,0,0,0,0,0,0,0,0,0,0,0,0,0,95,0,0,0,0,0,0,0,0,0,0,0,0,0,0,0,0,0,0,0,0,0,0,0,0,0,5],[0,0,0,0,0,0,0,0,0,0,0,0,0,0,0,0,0,0,0,0,0,0,0,0,0,0,0,0,0,0,0,0,0,0,0,0,0,0,0,0,0,0,0,0,0,0,0,0,0,0,0,0,0,60,0,0,0,0,0,0,0,0,0,0,0,0,0,0,0,0,0,0,0,0,0,0,0,0,0,0,73],[0,0,0,0,0,0,0,0,0,0,0,0,0,0,0,0,0,0,0,0,0,0,0,0,0,0,0,0,0,0,0,0,0,0,0,0,0,0,0,0,0,0,0,0,0,0,0,0,0,0,0,0,86,0,0,0,0,0,0,0,0,0,0,0,0,0,0,0,0,0,0,0,0,0,0,0,0,0,0,0,27],[0,0,0,0,0,0,0,0,0,0,0,0,0,0,0,0,0,0,0,0,0,0,0,0,0,0,0,0,0,0,0,0,0,0,0,0,0,0,0,0,0,0,0,0,0,0,0,0,0,0,0,67,0,0,0,0,0,0,0,0,0,0,0,0,0,0,0,0,0,0,0,0,0,0,0,0,0,0,0,0,48],[0,0,0,0,0,0,0,0,0,0,0,0,0,0,0,0,0,0,0,0,0,0,0,0,0,0,0,0,0,0,0,0,0,0,0,0,0,0,0,0,0,0,0,0,0,0,0,0,0,0,65,0,0,0,0,0,0,0,0,0,0,0,0,0,0,0,0,0,0,0,0,0,0,0,0,0,0,0,0,0,40],[0,0,0,0,0,0,0,0,0,0,0,0,0,0,0,0,0,0,0,0,0,0,0,0,0,0,0,0,0,0,0,0,0,0,0,0,0,0,0,0,0,0,0,0,0,0,0,0,0,100,0,0,0,0,0,0,0,0,0,0,0,0,0,0,0,0,0,0,0,0,0,0,0,0,0,0,0,0,0,0,43],[0,0,0,0,0,0,0,0,0,0,0,0,0,0,0,0,0,0,0,0,0,0,0,0,0,0,0,0,0,0,0,0,0,0,0,0,0,0,0,0,0,0,0,0,0,0,0,0,106,0,0,0,0,0,0,0,0,0,0,0,0,0,0,0,0,0,0,0,0,0,0,0,0,0,0,0,0,0,0,0,15],[0,0,0,0,0,0,0,0,0,0,0,0,0,0,0,0,0,0,0,0,0,0,0,0,0,0,0,0,0,0,0,0,0,0,0,0,0,0,0,0,0,0,0,0,0,0,0,201,0,0,0,0,0,0,0,0,0,0,0,0,0,0,0,0,0,0,0,0,0,0,0,0,0,0,0,0,0,0,0,0,98],[0,0,0,0,0,0,0,0,0,0,0,0,0,0,0,0,0,0,0,0,0,0,0,0,0,0,0,0,0,0,0,0,0,0,0,0,0,0,0,0,0,0,0,0,0,0,69,0,0,0,0,0,0,0,0,0,0,0,0,0,0,0,0,0,0,0,0,0,0,0,0,0,0,0,0,0,0,0,0,0,68],[0,0,0,0,0,0,0,0,0,0,0,0,0,0,0,0,0,0,0,0,0,0,0,0,0,0,0,0,0,0,0,0,0,0,0,0,0,0,0,0,0,0,0,0,0,40,0,0,0,0,0,0,0,0,0,0,0,0,0,0,0,0,0,0,0,0,0,0,0,0,0,0,0,0,0,0,0,0,0,0,106],[0,0,0,0,0,0,0,0,0,0,0,0,0,0,0,0,0,0,0,0,0,0,0,0,0,0,0,0,0,0,0,0,0,0,0,0,0,0,0,0,0,0,0,0,142,0,0,0,0,0,0,0,0,0,0,0,0,0,0,0,0,0,0,0,0,0,0,0,0,0,0,0,0,0,0,0,0,0,0,0,65],[0,0,0,0,0,0,0,0,0,0,0,0,0,0,0,0,0,0,0,0,0,0,0,0,0,0,0,0,0,0,0,0,0,0,0,0,0,0,0,0,0,0,0,141,0,0,0,0,0,0,0,0,0,0,0,0,0,0,0,0,0,0,0,0,0,0,0,0,0,0,0,0,0,0,0,0,0,0,0,0,12],[0,0,0,0,0,0,0,0,0,0,0,0,0,0,0,0,0,0,0,0,0,0,0,0,0,0,0,0,0,0,0,0,0,0,0,0,0,0,0,0,0,0,107,0,0,0,0,0,0,0,0,0,0,0,0,0,0,0,0,0,0,0,0,0,0,0,0,0,0,0,0,0,0,0,0,0,0,0,0,0,14],[0,0,0,0,0,0,0,0,0,0,0,0,0,0,0,0,0,0,0,0,0,0,0,0,0,0,0,0,0,0,0,0,0,0,0,0,0,0,0,0,0,50,0,0,0,0,0,0,0,0,0,0,0,0,0,0,0,0,0,0,0,0,0,0,0,0,0,0,0,0,0,0,0,0,0,0,0,0,0,0,80],[0,0,0,0,0,0,0,0,0,0,0,0,0,0,0,0,0,0,0,0,0,0,0,0,0,0,0,0,0,0,0,0,0,0,0,0,0,0,0,0,115,0,0,0,0,0,0,0,0,0,0,0,0,0,0,0,0,0,0,0,0,0,0,0,0,0,0,0,0,0,0,0,0,0,0,0,0,0,0,0,111],[0,0,0,0,0,0,0,0,0,0,0,0,0,0,0,0,0,0,0,0,0,0,0,0,0,0,0,0,0,0,0,0,0,0,0,0,0,0,0,81,0,0,0,0,0,0,0,0,0,0,0,0,0,0,0,0,0,0,0,0,0,0,0,0,0,0,0,0,0,0,0,0,0,0,0,0,0,0,0,0,53],[0,0,0,0,0,0,0,0,0,0,0,0,0,0,0,0,0,0,0,0,0,0,0,0,0,0,0,0,0,0,0,0,0,0,0,0,0,0,94,0,0,0,0,0,0,0,0,0,0,0,0,0,0,0,0,0,0,0,0,0,0,0,0,0,0,0,0,0,0,0,0,0,0,0,0,0,0,0,0,0,18],[0,0,0,0,0,0,0,0,0,0,0,0,0,0,0,0,0,0,0,0,0,0,0,0,0,0,0,0,0,0,0,0,0,0,0,0,0,80,0,0,0,0,0,0,0,0,0,0,0,0,0,0,0,0,0,0,0,0,0,0,0,0,0,0,0,0,0,0,0,0,0,0,0,0,0,0,0,0,0,0,43],[0,0,0,0,0,0,0,0,0,0,0,0,0,0,0,0,0,0,0,0,0,0,0,0,0,0,0,0,0,0,0,0,0,0,0,0,91,0,0,0,0,0,0,0,0,0,0,0,0,0,0,0,0,0,0,0,0,0,0,0,0,0,0,0,0,0,0,0,0,0,0,0,0,0,0,0,0,0,0,0,16],[0,0,0,0,0,0,0,0,0,0,0,0,0,0,0,0,0,0,0,0,0,0,0,0,0,0,0,0,0,0,0,0,0,0,0,40,0,0,0,0,0,0,0,0,0,0,0,0,0,0,0,0,0,0,0,0,0,0,0,0,0,0,0,0,0,0,0,0,0,0,0,0,0,0,0,0,0,0,0,0,64],[0,0,0,0,0,0,0,0,0,0,0,0,0,0,0,0,0,0,0,0,0,0,0,0,0,0,0,0,0,0,0,0,0,0,53,0,0,0,0,0,0,0,0,0,0,0,0,0,0,0,0,0,0,0,0,0,0,0,0,0,0,0,0,0,0,0,0,0,0,0,0,0,0,0,0,0,0,0,0,0,101],[0,0,0,0,0,0,0,0,0,0,0,0,0,0,0,0,0,0,0,0,0,0,0,0,0,0,0,0,0,0,0,0,0,112,0,0,0,0,0,0,0,0,0,0,0,0,0,0,0,0,0,0,0,0,0,0,0,0,0,0,0,0,0,0,0,0,0,0,0,0,0,0,0,0,0,0,0,0,0,0,46],[0,0,0,0,0,0,0,0,0,0,0,0,0,0,0,0,0,0,0,0,0,0,0,0,0,0,0,0,0,0,0,0,129,0,0,0,0,0,0,0,0,0,0,0,0,0,0,0,0,0,0,0,0,0,0,0,0,0,0,0,0,0,0,0,0,0,0,0,0,0,0,0,0,0,0,0,0,0,0,0,46],[0,0,0,0,0,0,0,0,0,0,0,0,0,0,0,0,0,0,0,0,0,0,0,0,0,0,0,0,0,0,0,224,0,0,0,0,0,0,0,0,0,0,0,0,0,0,0,0,0,0,0,0,0,0,0,0,0,0,0,0,0,0,0,0,0,0,0,0,0,0,0,0,0,0,0,0,0,0,0,0,64],[0,0,0,0,0,0,0,0,0,0,0,0,0,0,0,0,0,0,0,0,0,0,0,0,0,0,0,0,0,0,111,0,0,0,0,0,0,0,0,0,0,0,0,0,0,0,0,0,0,0,0,0,0,0,0,0,0,0,0,0,0,0,0,0,0,0,0,0,0,0,0,0,0,0,0,0,0,0,0,0,32],[0,0,0,0,0,0,0,0,0,0,0,0,0,0,0,0,0,0,0,0,0,0,0,0,0,0,0,0,0,73,0,0,0,0,0,0,0,0,0,0,0,0,0,0,0,0,0,0,0,0,0,0,0,0,0,0,0,0,0,0,0,0,0,0,0,0,0,0,0,0,0,0,0,0,0,0,0,0,0,0,60],[0,0,0,0,0,0,0,0,0,0,0,0,0,0,0,0,0,0,0,0,0,0,0,0,0,0,0,0,136,0,0,0,0,0,0,0,0,0,0,0,0,0,0,0,0,0,0,0,0,0,0,0,0,0,0,0,0,0,0,0,0,0,0,0,0,0,0,0,0,0,0,0,0,0,0,0,0,0,0,0,68],[0,0,0,0,0,0,0,0,0,0,0,0,0,0,0,0,0,0,0,0,0,0,0,0,0,0,0,69,0,0,0,0,0,0,0,0,0,0,0,0,0,0,0,0,0,0,0,0,0,0,0,0,0,0,0,0,0,0,0,0,0,0,0,0,0,0,0,0,0,0,0,0,0,0,0,0,0,0,0,0,105],[0,0,0,0,0,0,0,0,0,0,0,0,0,0,0,0,0,0,0,0,0,0,0,0,0,0,336,0,0,0,0,0,0,0,0,0,0,0,0,0,0,0,0,0,0,0,0,0,0,0,0,0,0,0,0,0,0,0,0,0,0,0,0,0,0,0,0,0,0,0,0,0,0,0,0,0,0,0,0,0,64],[0,0,0,0,0,0,0,0,0,0,0,0,0,0,0,0,0,0,0,0,0,0,0,0,0,54,0,0,0,0,0,0,0,0,0,0,0,0,0,0,0,0,0,0,0,0,0,0,0,0,0,0,0,0,0,0,0,0,0,0,0,0,0,0,0,0,0,0,0,0,0,0,0,0,0,0,0,0,0,0,138],[0,0,0,0,0,0,0,0,0,0,0,0,0,0,0,0,0,0,0,0,0,0,0,0,768,0,0,0,0,0,0,0,0,0,0,0,0,0,0,0,0,0,0,0,0,0,0,0,0,0,0,0,0,0,0,0,0,0,0,0,0,0,0,0,0,0,0,0,0,0,0,0,0,0,0,0,0,0,0,0,65],[0,0,0,0,0,0,0,0,0,0,0,0,0,0,0,0,0,0,0,0,0,0,0,304,0,0,0,0,0,0,0,0,0,0,0,0,0,0,0,0,0,0,0,0,0,0,0,0,0,0,0,0,0,0,0,0,0,0,0,0,0,0,0,0,0,0,0,0,0,0,0,0,0,0,0,0,0,0,0,0,77],[0,0,0,0,0,0,0,0,0,0,0,0,0,0,0,0,0,0,0,0,0,0,100,0,0,0,0,0,0,0,0,0,0,0,0,0,0,0,0,0,0,0,0,0,0,0,0,0,0,0,0,0,0,0,0,0,0,0,0,0,0,0,0,0,0,0,0,0,0,0,0,0,0,0,0,0,0,0,0,0,77],[0,0,0,0,0,0,0,0,0,0,0,0,0,0,0,0,0,0,0,0,0,47,0,0,0,0,0,0,0,0,0,0,0,0,0,0,0,0,0,0,0,0,0,0,0,0,0,0,0,0,0,0,0,0,0,0,0,0,0,0,0,0,0,0,0,0,0,0,0,0,0,0,0,0,0,0,0,0,0,0,106],[0,0,0,0,0,0,0,0,0,0,0,0,0,0,0,0,0,0,0,0,158,0,0,0,0,0,0,0,0,0,0,0,0,0,0,0,0,0,0,0,0,0,0,0,0,0,0,0,0,0,0,0,0,0,0,0,0,0,0,0,0,0,0,0,0,0,0,0,0,0,0,0,0,0,0,0,0,0,0,0,29],[0,0,0,0,0,0,0,0,0,0,0,0,0,0,0,0,0,0,0,53,0,0,0,0,0,0,0,0,0,0,0,0,0,0,0,0,0,0,0,0,0,0,0,0,0,0,0,0,0,0,0,0,0,0,0,0,0,0,0,0,0,0,0,0,0,0,0,0,0,0,0,0,0,0,0,0,0,0,0,0,132],[0,0,0,0,0,0,0,0,0,0,0,0,0,0,0,0,0,0,187,0,0,0,0,0,0,0,0,0,0,0,0,0,0,0,0,0,0,0,0,0,0,0,0,0,0,0,0,0,0,0,0,0,0,0,0,0,0,0,0,0,0,0,0,0,0,0,0,0,0,0,0,0,0,0,0,0,0,0,0,0,84],[0,0,0,0,0,0,0,0,0,0,0,0,0,0,0,0,0,471,0,0,0,0,0,0,0,0,0,0,0,0,0,0,0,0,0,0,0,0,0,0,0,0,0,0,0,0,0,0,0,0,0,0,0,0,0,0,0,0,0,0,0,0,0,0,0,0,0,0,0,0,0,0,0,0,0,0,0,0,0,0,98],[0,0,0,0,0,0,0,0,0,0,0,0,0,0,0,0,453,0,0,0,0,0,0,0,0,0,0,0,0,0,0,0,0,0,0,0,0,0,0,0,0,0,0,0,0,0,0,0,0,0,0,0,0,0,0,0,0,0,0,0,0,0,0,0,0,0,0,0,0,0,0,0,0,0,0,0,0,0,0,0,103],[0,0,0,0,0,0,0,0,0,0,0,0,0,0,0,372,0,0,0,0,0,0,0,0,0,0,0,0,0,0,0,0,0,0,0,0,0,0,0,0,0,0,0,0,0,0,0,0,0,0,0,0,0,0,0,0,0,0,0,0,0,0,0,0,0,0,0,0,0,0,0,0,0,0,0,0,0,0,0,0,79],[0,0,0,0,0,0,0,0,0,0,0,0,0,0,280,0,0,0,0,0,0,0,0,0,0,0,0,0,0,0,0,0,0,0,0,0,0,0,0,0,0,0,0,0,0,0,0,0,0,0,0,0,0,0,0,0,0,0,0,0,0,0,0,0,0,0,0,0,0,0,0,0,0,0,0,0,0,0,0,0,109],[0,0,0,0,0,0,0,0,0,0,0,0,0,84,0,0,0,0,0,0,0,0,0,0,0,0,0,0,0,0,0,0,0,0,0,0,0,0,0,0,0,0,0,0,0,0,0,0,0,0,0,0,0,0,0,0,0,0,0,0,0,0,0,0,0,0,0,0,0,0,0,0,0,0,0,0,0,0,0,0,141],[0,0,0,0,0,0,0,0,0,0,0,0,115,0,0,0,0,0,0,0,0,0,0,0,0,0,0,0,0,0,0,0,0,0,0,0,0,0,0,0,0,0,0,0,0,0,0,0,0,0,0,0,0,0,0,0,0,0,0,0,0,0,0,0,0,0,0,0,0,0,0,0,0,0,0,0,0,0,0,0,97],[0,0,0,0,0,0,0,0,0,0,0,201,0,0,0,0,0,0,0,0,0,0,0,0,0,0,0,0,0,0,0,0,0,0,0,0,0,0,0,0,0,0,0,0,0,0,0,0,0,0,0,0,0,0,0,0,0,0,0,0,0,0,0,0,0,0,0,0,0,0,0,0,0,0,0,0,0,0,0,0,94],[0,0,0,0,0,0,0,0,0,0,336,0,0,0,0,0,0,0,0,0,0,0,0,0,0,0,0,0,0,0,0,0,0,0,0,0,0,0,0,0,0,0,0,0,0,0,0,0,0,0,0,0,0,0,0,0,0,0,0,0,0,0,0,0,0,0,0,0,0,0,0,0,0,0,0,0,0,0,0,0,103],[0,0,0,0,0,0,0,0,0,75,0,0,0,0,0,0,0,0,0,0,0,0,0,0,0,0,0,0,0,0,0,0,0,0,0,0,0,0,0,0,0,0,0,0,0,0,0,0,0,0,0,0,0,0,0,0,0,0,0,0,0,0,0,0,0,0,0,0,0,0,0,0,0,0,0,0,0,0,0,0,180],[0,0,0,0,0,0,0,0,148,0,0,0,0,0,0,0,0,0,0,0,0,0,0,0,0,0,0,0,0,0,0,0,0,0,0,0,0,0,0,0,0,0,0,0,0,0,0,0,0,0,0,0,0,0,0,0,0,0,0,0,0,0,0,0,0,0,0,0,0,0,0,0,0,0,0,0,0,0,0,0,164],[0,0,0,0,0,0,0,206,0,0,0,0,0,0,0,0,0,0,0,0,0,0,0,0,0,0,0,0,0,0,0,0,0,0,0,0,0,0,0,0,0,0,0,0,0,0,0,0,0,0,0,0,0,0,0,0,0,0,0,0,0,0,0,0,0,0,0,0,0,0,0,0,0,0,0,0,0,0,0,0,223],[0,0,0,0,0,0,253,0,0,0,0,0,0,0,0,0,0,0,0,0,0,0,0,0,0,0,0,0,0,0,0,0,0,0,0,0,0,0,0,0,0,0,0,0,0,0,0,0,0,0,0,0,0,0,0,0,0,0,0,0,0,0,0,0,0,0,0,0,0,0,0,0,0,0,0,0,0,0,0,0,76],[0,0,0,0,0,297,0,0,0,0,0,0,0,0,0,0,0,0,0,0,0,0,0,0,0,0,0,0,0,0,0,0,0,0,0,0,0,0,0,0,0,0,0,0,0,0,0,0,0,0,0,0,0,0,0,0,0,0,0,0,0,0,0,0,0,0,0,0,0,0,0,0,0,0,0,0,0,0,0,0,296],[0,0,0,0,328,0,0,0,0,0,0,0,0,0,0,0,0,0,0,0,0,0,0,0,0,0,0,0,0,0,0,0,0,0,0,0,0,0,0,0,0,0,0,0,0,0,0,0,0,0,0,0,0,0,0,0,0,0,0,0,0,0,0,0,0,0,0,0,0,0,0,0,0,0,0,0,0,0,0,0,322],[0,0,0,2161,0,0,0,0,0,0,0,0,0,0,0,0,0,0,0,0,0,0,0,0,0,0,0,0,0,0,0,0,0,0,0,0,0,0,0,0,0,0,0,0,0,0,0,0,0,0,0,0,0,0,0,0,0,0,0,0,0,0,0,0,0,0,0,0,0,0,0,0,0,0,0,0,0,0,0,0,352],[0,0,811,0,0,0,0,0,0,0,0,0,0,0,0,0,0,0,0,0,0,0,0,0,0,0,0,0,0,0,0,0,0,0,0,0,0,0,0,0,0,0,0,0,0,0,0,0,0,0,0,0,0,0,0,0,0,0,0,0,0,0,0,0,0,0,0,0,0,0,0,0,0,0,0,0,0,0,0,0,403],[0,904,0,0,0,0,0,0,0,0,0,0,0,0,0,0,0,0,0,0,0,0,0,0,0,0,0,0,0,0,0,0,0,0,0,0,0,0,0,0,0,0,0,0,0,0,0,0,0,0,0,0,0,0,0,0,0,0,0,0,0,0,0,0,0,0,0,0,0,0,0,0,0,0,0,0,0,0,0,0,534],[12177,0,0,0,0,0,0,0,0,0,0,0,0,0,0,0,0,0,0,0,0,0,0,0,0,0,0,0,0,0,0,0,0,0,0,0,0,0,0,0,0,0,0,0,0,0,0,0,0,0,0,0,0,0,0,0,0,0,0,0,0,0,0,0,0,0,0,0,0,0,0,0,0,0,0,0,0,0,0,0,1725]],\"zmax\":169982,\"zmin\":0,\"type\":\"heatmap\",\"uid\":\"b5e6ce21-1a45-4a92-b434-7a7c1b260e1b\"},{\"colorbar\":{\"len\":1,\"lenmode\":\"fraction\"},\"colorscale\":[[0.0,\"rgb(255,245,235)\"],[0.125,\"rgb(254,230,206)\"],[0.25,\"rgb(253,208,162)\"],[0.375,\"rgb(253,174,107)\"],[0.5,\"rgb(253,141,60)\"],[0.625,\"rgb(241,105,19)\"],[0.75,\"rgb(217,72,1)\"],[0.875,\"rgb(166,54,3)\"],[1.0,\"rgb(127,39,4)\"]],\"hovertemplate\":\"<b>count: %{z}</b><br>truth: %{y}<br>predicted: %{x}<extra></extra>\",\"opacity\":0.25,\"z\":[[169982,30043,50161,26785,15554,9661,18935,31984,5964,12623,39663,7537,3728,19522,7446,4921,6453,8917,2748,7230,5250,1763,16927,1978,6162,6670,4843,3266,3072,2219,5129,2513,1325,3223,6463,3570,4031,6761,2717,13207,12217,7496,3388,2716,9542,5419,7731,4713,3978,2014,9038,5952,3141,4611,3907,3091,3369,4535,5110,1905,2887,2491,3537,3346,3503,3698,782,3377,2513,3048,923,2532,939,1246,661,2072,538,964,76,14,0],[0,0,0,0,0,0,0,0,0,0,0,0,0,0,0,0,0,0,0,0,0,0,0,0,0,0,0,0,0,0,0,0,0,0,0,0,0,0,0,0,0,0,0,0,0,0,0,0,0,0,0,0,0,0,0,0,0,0,0,0,0,0,0,0,0,0,0,0,0,0,0,0,0,0,0,0,0,0,0,0,7],[0,0,0,0,0,0,0,0,0,0,0,0,0,0,0,0,0,0,0,0,0,0,0,0,0,0,0,0,0,0,0,0,0,0,0,0,0,0,0,0,0,0,0,0,0,0,0,0,0,0,0,0,0,0,0,0,0,0,0,0,0,0,0,0,0,0,0,0,0,0,0,0,0,0,0,0,0,0,0,0,9],[0,0,0,0,0,0,0,0,0,0,0,0,0,0,0,0,0,0,0,0,0,0,0,0,0,0,0,0,0,0,0,0,0,0,0,0,0,0,0,0,0,0,0,0,0,0,0,0,0,0,0,0,0,0,0,0,0,0,0,0,0,0,0,0,0,0,0,0,0,0,0,0,0,0,0,0,0,9,0,0,11],[0,0,0,0,0,0,0,0,0,0,0,0,0,0,0,0,0,0,0,0,0,0,0,0,0,0,0,0,0,0,0,0,0,0,0,0,0,0,0,0,0,0,0,0,0,0,0,0,0,0,0,0,0,0,0,0,0,0,0,0,0,0,0,0,0,0,0,0,0,0,0,0,0,0,0,0,16,0,0,0,12],[0,0,0,0,0,0,0,0,0,0,0,0,0,0,0,0,0,0,0,0,0,0,0,0,0,0,0,0,0,0,0,0,0,0,0,0,0,0,0,0,0,0,0,0,0,0,0,0,0,0,0,0,0,0,0,0,0,0,0,0,0,0,0,0,0,0,0,0,0,0,0,0,0,0,0,10,0,0,0,0,20],[0,0,0,0,0,0,0,0,0,0,0,0,0,0,0,0,0,0,0,0,0,0,0,0,0,0,0,0,0,0,0,0,0,0,0,0,0,0,0,0,0,0,0,0,0,0,0,0,0,0,0,0,0,0,0,0,0,0,0,0,0,0,0,0,0,0,0,0,0,0,0,0,0,0,25,0,0,0,0,0,14],[0,0,0,0,0,0,0,0,0,0,0,0,0,0,0,0,0,0,0,0,0,0,0,0,0,0,0,0,0,0,0,0,0,0,0,0,0,0,0,0,0,0,0,0,0,0,0,0,0,0,0,0,0,0,0,0,0,0,0,0,0,0,0,0,0,0,0,0,0,0,0,0,0,17,0,0,0,0,0,0,12],[0,0,0,0,0,0,0,0,0,0,0,0,0,0,0,0,0,0,0,0,0,0,0,0,0,0,0,0,0,0,0,0,0,0,0,0,0,0,0,0,0,0,0,0,0,0,0,0,0,0,0,0,0,0,0,0,0,0,0,0,0,0,0,0,0,0,0,0,0,0,0,0,31,0,0,0,0,0,0,0,8],[0,0,0,0,0,0,0,0,0,0,0,0,0,0,0,0,0,0,0,0,0,0,0,0,0,0,0,0,0,0,0,0,0,0,0,0,0,0,0,0,0,0,0,0,0,0,0,0,0,0,0,0,0,0,0,0,0,0,0,0,0,0,0,0,0,0,0,0,0,0,0,22,0,0,0,0,0,0,0,0,15],[0,0,0,0,0,0,0,0,0,0,0,0,0,0,0,0,0,0,0,0,0,0,0,0,0,0,0,0,0,0,0,0,0,0,0,0,0,0,0,0,0,0,0,0,0,0,0,0,0,0,0,0,0,0,0,0,0,0,0,0,0,0,0,0,0,0,0,0,0,0,31,0,0,0,0,0,0,0,0,0,13],[0,0,0,0,0,0,0,0,0,0,0,0,0,0,0,0,0,0,0,0,0,0,0,0,0,0,0,0,0,0,0,0,0,0,0,0,0,0,0,0,0,0,0,0,0,0,0,0,0,0,0,0,0,0,0,0,0,0,0,0,0,0,0,0,0,0,0,0,0,39,0,0,0,0,0,0,0,0,0,0,19],[0,0,0,0,0,0,0,0,0,0,0,0,0,0,0,0,0,0,0,0,0,0,0,0,0,0,0,0,0,0,0,0,0,0,0,0,0,0,0,0,0,0,0,0,0,0,0,0,0,0,0,0,0,0,0,0,0,0,0,0,0,0,0,0,0,0,0,0,32,0,0,0,0,0,0,0,0,0,0,0,31],[0,0,0,0,0,0,0,0,0,0,0,0,0,0,0,0,0,0,0,0,0,0,0,0,0,0,0,0,0,0,0,0,0,0,0,0,0,0,0,0,0,0,0,0,0,0,0,0,0,0,0,0,0,0,0,0,0,0,0,0,0,0,0,0,0,0,0,40,0,0,0,0,0,0,0,0,0,0,0,0,9],[0,0,0,0,0,0,0,0,0,0,0,0,0,0,0,0,0,0,0,0,0,0,0,0,0,0,0,0,0,0,0,0,0,0,0,0,0,0,0,0,0,0,0,0,0,0,0,0,0,0,0,0,0,0,0,0,0,0,0,0,0,0,0,0,0,0,23,0,0,0,0,0,0,0,0,0,0,0,0,0,35],[0,0,0,0,0,0,0,0,0,0,0,0,0,0,0,0,0,0,0,0,0,0,0,0,0,0,0,0,0,0,0,0,0,0,0,0,0,0,0,0,0,0,0,0,0,0,0,0,0,0,0,0,0,0,0,0,0,0,0,0,0,0,0,0,0,65,0,0,0,0,0,0,0,0,0,0,0,0,0,0,12],[0,0,0,0,0,0,0,0,0,0,0,0,0,0,0,0,0,0,0,0,0,0,0,0,0,0,0,0,0,0,0,0,0,0,0,0,0,0,0,0,0,0,0,0,0,0,0,0,0,0,0,0,0,0,0,0,0,0,0,0,0,0,0,0,67,0,0,0,0,0,0,0,0,0,0,0,0,0,0,0,10],[0,0,0,0,0,0,0,0,0,0,0,0,0,0,0,0,0,0,0,0,0,0,0,0,0,0,0,0,0,0,0,0,0,0,0,0,0,0,0,0,0,0,0,0,0,0,0,0,0,0,0,0,0,0,0,0,0,0,0,0,0,0,0,29,0,0,0,0,0,0,0,0,0,0,0,0,0,0,0,0,41],[0,0,0,0,0,0,0,0,0,0,0,0,0,0,0,0,0,0,0,0,0,0,0,0,0,0,0,0,0,0,0,0,0,0,0,0,0,0,0,0,0,0,0,0,0,0,0,0,0,0,0,0,0,0,0,0,0,0,0,0,0,0,30,0,0,0,0,0,0,0,0,0,0,0,0,0,0,0,0,0,41],[0,0,0,0,0,0,0,0,0,0,0,0,0,0,0,0,0,0,0,0,0,0,0,0,0,0,0,0,0,0,0,0,0,0,0,0,0,0,0,0,0,0,0,0,0,0,0,0,0,0,0,0,0,0,0,0,0,0,0,0,0,66,0,0,0,0,0,0,0,0,0,0,0,0,0,0,0,0,0,0,26],[0,0,0,0,0,0,0,0,0,0,0,0,0,0,0,0,0,0,0,0,0,0,0,0,0,0,0,0,0,0,0,0,0,0,0,0,0,0,0,0,0,0,0,0,0,0,0,0,0,0,0,0,0,0,0,0,0,0,0,0,69,0,0,0,0,0,0,0,0,0,0,0,0,0,0,0,0,0,0,0,9],[0,0,0,0,0,0,0,0,0,0,0,0,0,0,0,0,0,0,0,0,0,0,0,0,0,0,0,0,0,0,0,0,0,0,0,0,0,0,0,0,0,0,0,0,0,0,0,0,0,0,0,0,0,0,0,0,0,0,0,56,0,0,0,0,0,0,0,0,0,0,0,0,0,0,0,0,0,0,0,0,23],[0,0,0,0,0,0,0,0,0,0,0,0,0,0,0,0,0,0,0,0,0,0,0,0,0,0,0,0,0,0,0,0,0,0,0,0,0,0,0,0,0,0,0,0,0,0,0,0,0,0,0,0,0,0,0,0,0,0,61,0,0,0,0,0,0,0,0,0,0,0,0,0,0,0,0,0,0,0,0,0,28],[0,0,0,0,0,0,0,0,0,0,0,0,0,0,0,0,0,0,0,0,0,0,0,0,0,0,0,0,0,0,0,0,0,0,0,0,0,0,0,0,0,0,0,0,0,0,0,0,0,0,0,0,0,0,0,0,0,77,0,0,0,0,0,0,0,0,0,0,0,0,0,0,0,0,0,0,0,0,0,0,16],[0,0,0,0,0,0,0,0,0,0,0,0,0,0,0,0,0,0,0,0,0,0,0,0,0,0,0,0,0,0,0,0,0,0,0,0,0,0,0,0,0,0,0,0,0,0,0,0,0,0,0,0,0,0,0,0,91,0,0,0,0,0,0,0,0,0,0,0,0,0,0,0,0,0,0,0,0,0,0,0,7],[0,0,0,0,0,0,0,0,0,0,0,0,0,0,0,0,0,0,0,0,0,0,0,0,0,0,0,0,0,0,0,0,0,0,0,0,0,0,0,0,0,0,0,0,0,0,0,0,0,0,0,0,0,0,0,66,0,0,0,0,0,0,0,0,0,0,0,0,0,0,0,0,0,0,0,0,0,0,0,0,29],[0,0,0,0,0,0,0,0,0,0,0,0,0,0,0,0,0,0,0,0,0,0,0,0,0,0,0,0,0,0,0,0,0,0,0,0,0,0,0,0,0,0,0,0,0,0,0,0,0,0,0,0,0,0,95,0,0,0,0,0,0,0,0,0,0,0,0,0,0,0,0,0,0,0,0,0,0,0,0,0,5],[0,0,0,0,0,0,0,0,0,0,0,0,0,0,0,0,0,0,0,0,0,0,0,0,0,0,0,0,0,0,0,0,0,0,0,0,0,0,0,0,0,0,0,0,0,0,0,0,0,0,0,0,0,60,0,0,0,0,0,0,0,0,0,0,0,0,0,0,0,0,0,0,0,0,0,0,0,0,0,0,73],[0,0,0,0,0,0,0,0,0,0,0,0,0,0,0,0,0,0,0,0,0,0,0,0,0,0,0,0,0,0,0,0,0,0,0,0,0,0,0,0,0,0,0,0,0,0,0,0,0,0,0,0,86,0,0,0,0,0,0,0,0,0,0,0,0,0,0,0,0,0,0,0,0,0,0,0,0,0,0,0,27],[0,0,0,0,0,0,0,0,0,0,0,0,0,0,0,0,0,0,0,0,0,0,0,0,0,0,0,0,0,0,0,0,0,0,0,0,0,0,0,0,0,0,0,0,0,0,0,0,0,0,0,67,0,0,0,0,0,0,0,0,0,0,0,0,0,0,0,0,0,0,0,0,0,0,0,0,0,0,0,0,48],[0,0,0,0,0,0,0,0,0,0,0,0,0,0,0,0,0,0,0,0,0,0,0,0,0,0,0,0,0,0,0,0,0,0,0,0,0,0,0,0,0,0,0,0,0,0,0,0,0,0,65,0,0,0,0,0,0,0,0,0,0,0,0,0,0,0,0,0,0,0,0,0,0,0,0,0,0,0,0,0,40],[0,0,0,0,0,0,0,0,0,0,0,0,0,0,0,0,0,0,0,0,0,0,0,0,0,0,0,0,0,0,0,0,0,0,0,0,0,0,0,0,0,0,0,0,0,0,0,0,0,100,0,0,0,0,0,0,0,0,0,0,0,0,0,0,0,0,0,0,0,0,0,0,0,0,0,0,0,0,0,0,43],[0,0,0,0,0,0,0,0,0,0,0,0,0,0,0,0,0,0,0,0,0,0,0,0,0,0,0,0,0,0,0,0,0,0,0,0,0,0,0,0,0,0,0,0,0,0,0,0,106,0,0,0,0,0,0,0,0,0,0,0,0,0,0,0,0,0,0,0,0,0,0,0,0,0,0,0,0,0,0,0,15],[0,0,0,0,0,0,0,0,0,0,0,0,0,0,0,0,0,0,0,0,0,0,0,0,0,0,0,0,0,0,0,0,0,0,0,0,0,0,0,0,0,0,0,0,0,0,0,201,0,0,0,0,0,0,0,0,0,0,0,0,0,0,0,0,0,0,0,0,0,0,0,0,0,0,0,0,0,0,0,0,98],[0,0,0,0,0,0,0,0,0,0,0,0,0,0,0,0,0,0,0,0,0,0,0,0,0,0,0,0,0,0,0,0,0,0,0,0,0,0,0,0,0,0,0,0,0,0,69,0,0,0,0,0,0,0,0,0,0,0,0,0,0,0,0,0,0,0,0,0,0,0,0,0,0,0,0,0,0,0,0,0,68],[0,0,0,0,0,0,0,0,0,0,0,0,0,0,0,0,0,0,0,0,0,0,0,0,0,0,0,0,0,0,0,0,0,0,0,0,0,0,0,0,0,0,0,0,0,40,0,0,0,0,0,0,0,0,0,0,0,0,0,0,0,0,0,0,0,0,0,0,0,0,0,0,0,0,0,0,0,0,0,0,106],[0,0,0,0,0,0,0,0,0,0,0,0,0,0,0,0,0,0,0,0,0,0,0,0,0,0,0,0,0,0,0,0,0,0,0,0,0,0,0,0,0,0,0,0,142,0,0,0,0,0,0,0,0,0,0,0,0,0,0,0,0,0,0,0,0,0,0,0,0,0,0,0,0,0,0,0,0,0,0,0,65],[0,0,0,0,0,0,0,0,0,0,0,0,0,0,0,0,0,0,0,0,0,0,0,0,0,0,0,0,0,0,0,0,0,0,0,0,0,0,0,0,0,0,0,141,0,0,0,0,0,0,0,0,0,0,0,0,0,0,0,0,0,0,0,0,0,0,0,0,0,0,0,0,0,0,0,0,0,0,0,0,12],[0,0,0,0,0,0,0,0,0,0,0,0,0,0,0,0,0,0,0,0,0,0,0,0,0,0,0,0,0,0,0,0,0,0,0,0,0,0,0,0,0,0,107,0,0,0,0,0,0,0,0,0,0,0,0,0,0,0,0,0,0,0,0,0,0,0,0,0,0,0,0,0,0,0,0,0,0,0,0,0,14],[0,0,0,0,0,0,0,0,0,0,0,0,0,0,0,0,0,0,0,0,0,0,0,0,0,0,0,0,0,0,0,0,0,0,0,0,0,0,0,0,0,50,0,0,0,0,0,0,0,0,0,0,0,0,0,0,0,0,0,0,0,0,0,0,0,0,0,0,0,0,0,0,0,0,0,0,0,0,0,0,80],[0,0,0,0,0,0,0,0,0,0,0,0,0,0,0,0,0,0,0,0,0,0,0,0,0,0,0,0,0,0,0,0,0,0,0,0,0,0,0,0,115,0,0,0,0,0,0,0,0,0,0,0,0,0,0,0,0,0,0,0,0,0,0,0,0,0,0,0,0,0,0,0,0,0,0,0,0,0,0,0,111],[0,0,0,0,0,0,0,0,0,0,0,0,0,0,0,0,0,0,0,0,0,0,0,0,0,0,0,0,0,0,0,0,0,0,0,0,0,0,0,81,0,0,0,0,0,0,0,0,0,0,0,0,0,0,0,0,0,0,0,0,0,0,0,0,0,0,0,0,0,0,0,0,0,0,0,0,0,0,0,0,53],[0,0,0,0,0,0,0,0,0,0,0,0,0,0,0,0,0,0,0,0,0,0,0,0,0,0,0,0,0,0,0,0,0,0,0,0,0,0,94,0,0,0,0,0,0,0,0,0,0,0,0,0,0,0,0,0,0,0,0,0,0,0,0,0,0,0,0,0,0,0,0,0,0,0,0,0,0,0,0,0,18],[0,0,0,0,0,0,0,0,0,0,0,0,0,0,0,0,0,0,0,0,0,0,0,0,0,0,0,0,0,0,0,0,0,0,0,0,0,80,0,0,0,0,0,0,0,0,0,0,0,0,0,0,0,0,0,0,0,0,0,0,0,0,0,0,0,0,0,0,0,0,0,0,0,0,0,0,0,0,0,0,43],[0,0,0,0,0,0,0,0,0,0,0,0,0,0,0,0,0,0,0,0,0,0,0,0,0,0,0,0,0,0,0,0,0,0,0,0,91,0,0,0,0,0,0,0,0,0,0,0,0,0,0,0,0,0,0,0,0,0,0,0,0,0,0,0,0,0,0,0,0,0,0,0,0,0,0,0,0,0,0,0,16],[0,0,0,0,0,0,0,0,0,0,0,0,0,0,0,0,0,0,0,0,0,0,0,0,0,0,0,0,0,0,0,0,0,0,0,40,0,0,0,0,0,0,0,0,0,0,0,0,0,0,0,0,0,0,0,0,0,0,0,0,0,0,0,0,0,0,0,0,0,0,0,0,0,0,0,0,0,0,0,0,64],[0,0,0,0,0,0,0,0,0,0,0,0,0,0,0,0,0,0,0,0,0,0,0,0,0,0,0,0,0,0,0,0,0,0,53,0,0,0,0,0,0,0,0,0,0,0,0,0,0,0,0,0,0,0,0,0,0,0,0,0,0,0,0,0,0,0,0,0,0,0,0,0,0,0,0,0,0,0,0,0,101],[0,0,0,0,0,0,0,0,0,0,0,0,0,0,0,0,0,0,0,0,0,0,0,0,0,0,0,0,0,0,0,0,0,112,0,0,0,0,0,0,0,0,0,0,0,0,0,0,0,0,0,0,0,0,0,0,0,0,0,0,0,0,0,0,0,0,0,0,0,0,0,0,0,0,0,0,0,0,0,0,46],[0,0,0,0,0,0,0,0,0,0,0,0,0,0,0,0,0,0,0,0,0,0,0,0,0,0,0,0,0,0,0,0,129,0,0,0,0,0,0,0,0,0,0,0,0,0,0,0,0,0,0,0,0,0,0,0,0,0,0,0,0,0,0,0,0,0,0,0,0,0,0,0,0,0,0,0,0,0,0,0,46],[0,0,0,0,0,0,0,0,0,0,0,0,0,0,0,0,0,0,0,0,0,0,0,0,0,0,0,0,0,0,0,224,0,0,0,0,0,0,0,0,0,0,0,0,0,0,0,0,0,0,0,0,0,0,0,0,0,0,0,0,0,0,0,0,0,0,0,0,0,0,0,0,0,0,0,0,0,0,0,0,64],[0,0,0,0,0,0,0,0,0,0,0,0,0,0,0,0,0,0,0,0,0,0,0,0,0,0,0,0,0,0,111,0,0,0,0,0,0,0,0,0,0,0,0,0,0,0,0,0,0,0,0,0,0,0,0,0,0,0,0,0,0,0,0,0,0,0,0,0,0,0,0,0,0,0,0,0,0,0,0,0,32],[0,0,0,0,0,0,0,0,0,0,0,0,0,0,0,0,0,0,0,0,0,0,0,0,0,0,0,0,0,73,0,0,0,0,0,0,0,0,0,0,0,0,0,0,0,0,0,0,0,0,0,0,0,0,0,0,0,0,0,0,0,0,0,0,0,0,0,0,0,0,0,0,0,0,0,0,0,0,0,0,60],[0,0,0,0,0,0,0,0,0,0,0,0,0,0,0,0,0,0,0,0,0,0,0,0,0,0,0,0,136,0,0,0,0,0,0,0,0,0,0,0,0,0,0,0,0,0,0,0,0,0,0,0,0,0,0,0,0,0,0,0,0,0,0,0,0,0,0,0,0,0,0,0,0,0,0,0,0,0,0,0,68],[0,0,0,0,0,0,0,0,0,0,0,0,0,0,0,0,0,0,0,0,0,0,0,0,0,0,0,69,0,0,0,0,0,0,0,0,0,0,0,0,0,0,0,0,0,0,0,0,0,0,0,0,0,0,0,0,0,0,0,0,0,0,0,0,0,0,0,0,0,0,0,0,0,0,0,0,0,0,0,0,105],[0,0,0,0,0,0,0,0,0,0,0,0,0,0,0,0,0,0,0,0,0,0,0,0,0,0,336,0,0,0,0,0,0,0,0,0,0,0,0,0,0,0,0,0,0,0,0,0,0,0,0,0,0,0,0,0,0,0,0,0,0,0,0,0,0,0,0,0,0,0,0,0,0,0,0,0,0,0,0,0,64],[0,0,0,0,0,0,0,0,0,0,0,0,0,0,0,0,0,0,0,0,0,0,0,0,0,54,0,0,0,0,0,0,0,0,0,0,0,0,0,0,0,0,0,0,0,0,0,0,0,0,0,0,0,0,0,0,0,0,0,0,0,0,0,0,0,0,0,0,0,0,0,0,0,0,0,0,0,0,0,0,138],[0,0,0,0,0,0,0,0,0,0,0,0,0,0,0,0,0,0,0,0,0,0,0,0,768,0,0,0,0,0,0,0,0,0,0,0,0,0,0,0,0,0,0,0,0,0,0,0,0,0,0,0,0,0,0,0,0,0,0,0,0,0,0,0,0,0,0,0,0,0,0,0,0,0,0,0,0,0,0,0,65],[0,0,0,0,0,0,0,0,0,0,0,0,0,0,0,0,0,0,0,0,0,0,0,304,0,0,0,0,0,0,0,0,0,0,0,0,0,0,0,0,0,0,0,0,0,0,0,0,0,0,0,0,0,0,0,0,0,0,0,0,0,0,0,0,0,0,0,0,0,0,0,0,0,0,0,0,0,0,0,0,77],[0,0,0,0,0,0,0,0,0,0,0,0,0,0,0,0,0,0,0,0,0,0,100,0,0,0,0,0,0,0,0,0,0,0,0,0,0,0,0,0,0,0,0,0,0,0,0,0,0,0,0,0,0,0,0,0,0,0,0,0,0,0,0,0,0,0,0,0,0,0,0,0,0,0,0,0,0,0,0,0,77],[0,0,0,0,0,0,0,0,0,0,0,0,0,0,0,0,0,0,0,0,0,47,0,0,0,0,0,0,0,0,0,0,0,0,0,0,0,0,0,0,0,0,0,0,0,0,0,0,0,0,0,0,0,0,0,0,0,0,0,0,0,0,0,0,0,0,0,0,0,0,0,0,0,0,0,0,0,0,0,0,106],[0,0,0,0,0,0,0,0,0,0,0,0,0,0,0,0,0,0,0,0,158,0,0,0,0,0,0,0,0,0,0,0,0,0,0,0,0,0,0,0,0,0,0,0,0,0,0,0,0,0,0,0,0,0,0,0,0,0,0,0,0,0,0,0,0,0,0,0,0,0,0,0,0,0,0,0,0,0,0,0,29],[0,0,0,0,0,0,0,0,0,0,0,0,0,0,0,0,0,0,0,53,0,0,0,0,0,0,0,0,0,0,0,0,0,0,0,0,0,0,0,0,0,0,0,0,0,0,0,0,0,0,0,0,0,0,0,0,0,0,0,0,0,0,0,0,0,0,0,0,0,0,0,0,0,0,0,0,0,0,0,0,132],[0,0,0,0,0,0,0,0,0,0,0,0,0,0,0,0,0,0,187,0,0,0,0,0,0,0,0,0,0,0,0,0,0,0,0,0,0,0,0,0,0,0,0,0,0,0,0,0,0,0,0,0,0,0,0,0,0,0,0,0,0,0,0,0,0,0,0,0,0,0,0,0,0,0,0,0,0,0,0,0,84],[0,0,0,0,0,0,0,0,0,0,0,0,0,0,0,0,0,471,0,0,0,0,0,0,0,0,0,0,0,0,0,0,0,0,0,0,0,0,0,0,0,0,0,0,0,0,0,0,0,0,0,0,0,0,0,0,0,0,0,0,0,0,0,0,0,0,0,0,0,0,0,0,0,0,0,0,0,0,0,0,98],[0,0,0,0,0,0,0,0,0,0,0,0,0,0,0,0,453,0,0,0,0,0,0,0,0,0,0,0,0,0,0,0,0,0,0,0,0,0,0,0,0,0,0,0,0,0,0,0,0,0,0,0,0,0,0,0,0,0,0,0,0,0,0,0,0,0,0,0,0,0,0,0,0,0,0,0,0,0,0,0,103],[0,0,0,0,0,0,0,0,0,0,0,0,0,0,0,372,0,0,0,0,0,0,0,0,0,0,0,0,0,0,0,0,0,0,0,0,0,0,0,0,0,0,0,0,0,0,0,0,0,0,0,0,0,0,0,0,0,0,0,0,0,0,0,0,0,0,0,0,0,0,0,0,0,0,0,0,0,0,0,0,79],[0,0,0,0,0,0,0,0,0,0,0,0,0,0,280,0,0,0,0,0,0,0,0,0,0,0,0,0,0,0,0,0,0,0,0,0,0,0,0,0,0,0,0,0,0,0,0,0,0,0,0,0,0,0,0,0,0,0,0,0,0,0,0,0,0,0,0,0,0,0,0,0,0,0,0,0,0,0,0,0,109],[0,0,0,0,0,0,0,0,0,0,0,0,0,84,0,0,0,0,0,0,0,0,0,0,0,0,0,0,0,0,0,0,0,0,0,0,0,0,0,0,0,0,0,0,0,0,0,0,0,0,0,0,0,0,0,0,0,0,0,0,0,0,0,0,0,0,0,0,0,0,0,0,0,0,0,0,0,0,0,0,141],[0,0,0,0,0,0,0,0,0,0,0,0,115,0,0,0,0,0,0,0,0,0,0,0,0,0,0,0,0,0,0,0,0,0,0,0,0,0,0,0,0,0,0,0,0,0,0,0,0,0,0,0,0,0,0,0,0,0,0,0,0,0,0,0,0,0,0,0,0,0,0,0,0,0,0,0,0,0,0,0,97],[0,0,0,0,0,0,0,0,0,0,0,201,0,0,0,0,0,0,0,0,0,0,0,0,0,0,0,0,0,0,0,0,0,0,0,0,0,0,0,0,0,0,0,0,0,0,0,0,0,0,0,0,0,0,0,0,0,0,0,0,0,0,0,0,0,0,0,0,0,0,0,0,0,0,0,0,0,0,0,0,94],[0,0,0,0,0,0,0,0,0,0,336,0,0,0,0,0,0,0,0,0,0,0,0,0,0,0,0,0,0,0,0,0,0,0,0,0,0,0,0,0,0,0,0,0,0,0,0,0,0,0,0,0,0,0,0,0,0,0,0,0,0,0,0,0,0,0,0,0,0,0,0,0,0,0,0,0,0,0,0,0,103],[0,0,0,0,0,0,0,0,0,75,0,0,0,0,0,0,0,0,0,0,0,0,0,0,0,0,0,0,0,0,0,0,0,0,0,0,0,0,0,0,0,0,0,0,0,0,0,0,0,0,0,0,0,0,0,0,0,0,0,0,0,0,0,0,0,0,0,0,0,0,0,0,0,0,0,0,0,0,0,0,180],[0,0,0,0,0,0,0,0,148,0,0,0,0,0,0,0,0,0,0,0,0,0,0,0,0,0,0,0,0,0,0,0,0,0,0,0,0,0,0,0,0,0,0,0,0,0,0,0,0,0,0,0,0,0,0,0,0,0,0,0,0,0,0,0,0,0,0,0,0,0,0,0,0,0,0,0,0,0,0,0,164],[0,0,0,0,0,0,0,206,0,0,0,0,0,0,0,0,0,0,0,0,0,0,0,0,0,0,0,0,0,0,0,0,0,0,0,0,0,0,0,0,0,0,0,0,0,0,0,0,0,0,0,0,0,0,0,0,0,0,0,0,0,0,0,0,0,0,0,0,0,0,0,0,0,0,0,0,0,0,0,0,223],[0,0,0,0,0,0,253,0,0,0,0,0,0,0,0,0,0,0,0,0,0,0,0,0,0,0,0,0,0,0,0,0,0,0,0,0,0,0,0,0,0,0,0,0,0,0,0,0,0,0,0,0,0,0,0,0,0,0,0,0,0,0,0,0,0,0,0,0,0,0,0,0,0,0,0,0,0,0,0,0,76],[0,0,0,0,0,297,0,0,0,0,0,0,0,0,0,0,0,0,0,0,0,0,0,0,0,0,0,0,0,0,0,0,0,0,0,0,0,0,0,0,0,0,0,0,0,0,0,0,0,0,0,0,0,0,0,0,0,0,0,0,0,0,0,0,0,0,0,0,0,0,0,0,0,0,0,0,0,0,0,0,296],[0,0,0,0,328,0,0,0,0,0,0,0,0,0,0,0,0,0,0,0,0,0,0,0,0,0,0,0,0,0,0,0,0,0,0,0,0,0,0,0,0,0,0,0,0,0,0,0,0,0,0,0,0,0,0,0,0,0,0,0,0,0,0,0,0,0,0,0,0,0,0,0,0,0,0,0,0,0,0,0,322],[0,0,0,2161,0,0,0,0,0,0,0,0,0,0,0,0,0,0,0,0,0,0,0,0,0,0,0,0,0,0,0,0,0,0,0,0,0,0,0,0,0,0,0,0,0,0,0,0,0,0,0,0,0,0,0,0,0,0,0,0,0,0,0,0,0,0,0,0,0,0,0,0,0,0,0,0,0,0,0,0,352],[0,0,811,0,0,0,0,0,0,0,0,0,0,0,0,0,0,0,0,0,0,0,0,0,0,0,0,0,0,0,0,0,0,0,0,0,0,0,0,0,0,0,0,0,0,0,0,0,0,0,0,0,0,0,0,0,0,0,0,0,0,0,0,0,0,0,0,0,0,0,0,0,0,0,0,0,0,0,0,0,403],[0,904,0,0,0,0,0,0,0,0,0,0,0,0,0,0,0,0,0,0,0,0,0,0,0,0,0,0,0,0,0,0,0,0,0,0,0,0,0,0,0,0,0,0,0,0,0,0,0,0,0,0,0,0,0,0,0,0,0,0,0,0,0,0,0,0,0,0,0,0,0,0,0,0,0,0,0,0,0,0,534],[12177,0,0,0,0,0,0,0,0,0,0,0,0,0,0,0,0,0,0,0,0,0,0,0,0,0,0,0,0,0,0,0,0,0,0,0,0,0,0,0,0,0,0,0,0,0,0,0,0,0,0,0,0,0,0,0,0,0,0,0,0,0,0,0,0,0,0,0,0,0,0,0,0,0,0,0,0,0,0,0,1725]],\"zmax\":169982,\"zmin\":0,\"type\":\"heatmap\",\"uid\":\"37d7c89e-ad88-4f56-8707-d69a284a6271\"}],                        {\"clickmode\":\"event\",\"template\":{\"data\":{\"barpolar\":[{\"marker\":{\"line\":{\"color\":\"rgb(237,237,237)\",\"width\":0.5},\"pattern\":{\"fillmode\":\"overlay\",\"size\":10,\"solidity\":0.2}},\"type\":\"barpolar\"}],\"bar\":[{\"error_x\":{\"color\":\"rgb(51,51,51)\"},\"error_y\":{\"color\":\"rgb(51,51,51)\"},\"marker\":{\"line\":{\"color\":\"rgb(237,237,237)\",\"width\":0.5},\"pattern\":{\"fillmode\":\"overlay\",\"size\":10,\"solidity\":0.2}},\"type\":\"bar\"}],\"carpet\":[{\"aaxis\":{\"endlinecolor\":\"rgb(51,51,51)\",\"gridcolor\":\"white\",\"linecolor\":\"white\",\"minorgridcolor\":\"white\",\"startlinecolor\":\"rgb(51,51,51)\"},\"baxis\":{\"endlinecolor\":\"rgb(51,51,51)\",\"gridcolor\":\"white\",\"linecolor\":\"white\",\"minorgridcolor\":\"white\",\"startlinecolor\":\"rgb(51,51,51)\"},\"type\":\"carpet\"}],\"choropleth\":[{\"colorbar\":{\"outlinewidth\":0,\"tickcolor\":\"rgb(237,237,237)\",\"ticklen\":6,\"ticks\":\"inside\"},\"type\":\"choropleth\"}],\"contourcarpet\":[{\"colorbar\":{\"outlinewidth\":0,\"tickcolor\":\"rgb(237,237,237)\",\"ticklen\":6,\"ticks\":\"inside\"},\"type\":\"contourcarpet\"}],\"contour\":[{\"colorbar\":{\"outlinewidth\":0,\"tickcolor\":\"rgb(237,237,237)\",\"ticklen\":6,\"ticks\":\"inside\"},\"colorscale\":[[0,\"rgb(20,44,66)\"],[1,\"rgb(90,179,244)\"]],\"type\":\"contour\"}],\"heatmapgl\":[{\"colorbar\":{\"outlinewidth\":0,\"tickcolor\":\"rgb(237,237,237)\",\"ticklen\":6,\"ticks\":\"inside\"},\"colorscale\":[[0,\"rgb(20,44,66)\"],[1,\"rgb(90,179,244)\"]],\"type\":\"heatmapgl\"}],\"heatmap\":[{\"colorbar\":{\"outlinewidth\":0,\"tickcolor\":\"rgb(237,237,237)\",\"ticklen\":6,\"ticks\":\"inside\"},\"colorscale\":[[0,\"rgb(20,44,66)\"],[1,\"rgb(90,179,244)\"]],\"type\":\"heatmap\"}],\"histogram2dcontour\":[{\"colorbar\":{\"outlinewidth\":0,\"tickcolor\":\"rgb(237,237,237)\",\"ticklen\":6,\"ticks\":\"inside\"},\"colorscale\":[[0,\"rgb(20,44,66)\"],[1,\"rgb(90,179,244)\"]],\"type\":\"histogram2dcontour\"}],\"histogram2d\":[{\"colorbar\":{\"outlinewidth\":0,\"tickcolor\":\"rgb(237,237,237)\",\"ticklen\":6,\"ticks\":\"inside\"},\"colorscale\":[[0,\"rgb(20,44,66)\"],[1,\"rgb(90,179,244)\"]],\"type\":\"histogram2d\"}],\"histogram\":[{\"marker\":{\"pattern\":{\"fillmode\":\"overlay\",\"size\":10,\"solidity\":0.2}},\"type\":\"histogram\"}],\"mesh3d\":[{\"colorbar\":{\"outlinewidth\":0,\"tickcolor\":\"rgb(237,237,237)\",\"ticklen\":6,\"ticks\":\"inside\"},\"type\":\"mesh3d\"}],\"parcoords\":[{\"line\":{\"colorbar\":{\"outlinewidth\":0,\"tickcolor\":\"rgb(237,237,237)\",\"ticklen\":6,\"ticks\":\"inside\"}},\"type\":\"parcoords\"}],\"pie\":[{\"automargin\":true,\"type\":\"pie\"}],\"scatter3d\":[{\"line\":{\"colorbar\":{\"outlinewidth\":0,\"tickcolor\":\"rgb(237,237,237)\",\"ticklen\":6,\"ticks\":\"inside\"}},\"marker\":{\"colorbar\":{\"outlinewidth\":0,\"tickcolor\":\"rgb(237,237,237)\",\"ticklen\":6,\"ticks\":\"inside\"}},\"type\":\"scatter3d\"}],\"scattercarpet\":[{\"marker\":{\"colorbar\":{\"outlinewidth\":0,\"tickcolor\":\"rgb(237,237,237)\",\"ticklen\":6,\"ticks\":\"inside\"}},\"type\":\"scattercarpet\"}],\"scattergeo\":[{\"marker\":{\"colorbar\":{\"outlinewidth\":0,\"tickcolor\":\"rgb(237,237,237)\",\"ticklen\":6,\"ticks\":\"inside\"}},\"type\":\"scattergeo\"}],\"scattergl\":[{\"marker\":{\"colorbar\":{\"outlinewidth\":0,\"tickcolor\":\"rgb(237,237,237)\",\"ticklen\":6,\"ticks\":\"inside\"}},\"type\":\"scattergl\"}],\"scattermapbox\":[{\"marker\":{\"colorbar\":{\"outlinewidth\":0,\"tickcolor\":\"rgb(237,237,237)\",\"ticklen\":6,\"ticks\":\"inside\"}},\"type\":\"scattermapbox\"}],\"scatterpolargl\":[{\"marker\":{\"colorbar\":{\"outlinewidth\":0,\"tickcolor\":\"rgb(237,237,237)\",\"ticklen\":6,\"ticks\":\"inside\"}},\"type\":\"scatterpolargl\"}],\"scatterpolar\":[{\"marker\":{\"colorbar\":{\"outlinewidth\":0,\"tickcolor\":\"rgb(237,237,237)\",\"ticklen\":6,\"ticks\":\"inside\"}},\"type\":\"scatterpolar\"}],\"scatter\":[{\"marker\":{\"colorbar\":{\"outlinewidth\":0,\"tickcolor\":\"rgb(237,237,237)\",\"ticklen\":6,\"ticks\":\"inside\"}},\"type\":\"scatter\"}],\"scatterternary\":[{\"marker\":{\"colorbar\":{\"outlinewidth\":0,\"tickcolor\":\"rgb(237,237,237)\",\"ticklen\":6,\"ticks\":\"inside\"}},\"type\":\"scatterternary\"}],\"surface\":[{\"colorbar\":{\"outlinewidth\":0,\"tickcolor\":\"rgb(237,237,237)\",\"ticklen\":6,\"ticks\":\"inside\"},\"colorscale\":[[0,\"rgb(20,44,66)\"],[1,\"rgb(90,179,244)\"]],\"type\":\"surface\"}],\"table\":[{\"cells\":{\"fill\":{\"color\":\"rgb(237,237,237)\"},\"line\":{\"color\":\"white\"}},\"header\":{\"fill\":{\"color\":\"rgb(217,217,217)\"},\"line\":{\"color\":\"white\"}},\"type\":\"table\"}]},\"layout\":{\"annotationdefaults\":{\"arrowhead\":0,\"arrowwidth\":1},\"autotypenumbers\":\"strict\",\"coloraxis\":{\"colorbar\":{\"outlinewidth\":0,\"tickcolor\":\"rgb(237,237,237)\",\"ticklen\":6,\"ticks\":\"inside\"}},\"colorscale\":{\"sequential\":[[0,\"rgb(20,44,66)\"],[1,\"rgb(90,179,244)\"]],\"sequentialminus\":[[0,\"rgb(20,44,66)\"],[1,\"rgb(90,179,244)\"]]},\"colorway\":[\"#F8766D\",\"#A3A500\",\"#00BF7D\",\"#00B0F6\",\"#E76BF3\"],\"font\":{\"color\":\"rgb(51,51,51)\"},\"geo\":{\"bgcolor\":\"white\",\"lakecolor\":\"white\",\"landcolor\":\"rgb(237,237,237)\",\"showlakes\":true,\"showland\":true,\"subunitcolor\":\"white\"},\"hoverlabel\":{\"align\":\"left\"},\"hovermode\":\"closest\",\"paper_bgcolor\":\"white\",\"plot_bgcolor\":\"rgb(237,237,237)\",\"polar\":{\"angularaxis\":{\"gridcolor\":\"white\",\"linecolor\":\"white\",\"showgrid\":true,\"tickcolor\":\"rgb(51,51,51)\",\"ticks\":\"outside\"},\"bgcolor\":\"rgb(237,237,237)\",\"radialaxis\":{\"gridcolor\":\"white\",\"linecolor\":\"white\",\"showgrid\":true,\"tickcolor\":\"rgb(51,51,51)\",\"ticks\":\"outside\"}},\"scene\":{\"xaxis\":{\"backgroundcolor\":\"rgb(237,237,237)\",\"gridcolor\":\"white\",\"gridwidth\":2,\"linecolor\":\"white\",\"showbackground\":true,\"showgrid\":true,\"tickcolor\":\"rgb(51,51,51)\",\"ticks\":\"outside\",\"zerolinecolor\":\"white\"},\"yaxis\":{\"backgroundcolor\":\"rgb(237,237,237)\",\"gridcolor\":\"white\",\"gridwidth\":2,\"linecolor\":\"white\",\"showbackground\":true,\"showgrid\":true,\"tickcolor\":\"rgb(51,51,51)\",\"ticks\":\"outside\",\"zerolinecolor\":\"white\"},\"zaxis\":{\"backgroundcolor\":\"rgb(237,237,237)\",\"gridcolor\":\"white\",\"gridwidth\":2,\"linecolor\":\"white\",\"showbackground\":true,\"showgrid\":true,\"tickcolor\":\"rgb(51,51,51)\",\"ticks\":\"outside\",\"zerolinecolor\":\"white\"}},\"shapedefaults\":{\"fillcolor\":\"black\",\"line\":{\"width\":0},\"opacity\":0.3},\"ternary\":{\"aaxis\":{\"gridcolor\":\"white\",\"linecolor\":\"white\",\"showgrid\":true,\"tickcolor\":\"rgb(51,51,51)\",\"ticks\":\"outside\"},\"baxis\":{\"gridcolor\":\"white\",\"linecolor\":\"white\",\"showgrid\":true,\"tickcolor\":\"rgb(51,51,51)\",\"ticks\":\"outside\"},\"bgcolor\":\"rgb(237,237,237)\",\"caxis\":{\"gridcolor\":\"white\",\"linecolor\":\"white\",\"showgrid\":true,\"tickcolor\":\"rgb(51,51,51)\",\"ticks\":\"outside\"}},\"xaxis\":{\"automargin\":true,\"gridcolor\":\"white\",\"linecolor\":\"white\",\"showgrid\":true,\"tickcolor\":\"rgb(51,51,51)\",\"ticks\":\"outside\",\"title\":{\"standoff\":15},\"zerolinecolor\":\"white\"},\"yaxis\":{\"automargin\":true,\"gridcolor\":\"white\",\"linecolor\":\"white\",\"showgrid\":true,\"tickcolor\":\"rgb(51,51,51)\",\"ticks\":\"outside\",\"title\":{\"standoff\":15},\"zerolinecolor\":\"white\"}}},\"xaxis\":{\"constrain\":\"domain\",\"range\":[-0.5,80.5],\"tickmode\":\"array\",\"ticktext\":[\"person\",\"car\",\"chair\",\"book\",\"bottle\",\"cup\",\"dining table\",\"traffic light\",\"bowl\",\"handbag\",\"bird\",\"boat\",\"truck\",\"bench\",\"umbrella\",\"cow\",\"banana\",\"carrot\",\"motorcycle\",\"backpack\",\"sheep\",\"wine glass\",\"potted plant\",\"donut\",\"kite\",\"knife\",\"broccoli\",\"bicycle\",\"cake\",\"suitcase\",\"tv\",\"orange\",\"bus\",\"pizza\",\"remote\",\"vase\",\"horse\",\"surfboard\",\"zebra\",\"clock\",\"sports ball\",\"cell phone\",\"couch\",\"elephant\",\"tie\",\"spoon\",\"skis\",\"apple\",\"giraffe\",\"laptop\",\"sink\",\"tennis racket\",\"dog\",\"fork\",\"cat\",\"teddy bear\",\"train\",\"toilet\",\"skateboard\",\"sandwich\",\"bed\",\"keyboard\",\"baseball glove\",\"baseball bat\",\"airplane\",\"oven\",\"hot dog\",\"refrigerator\",\"frisbee\",\"mouse\",\"fire hydrant\",\"stop sign\",\"bear\",\"snowboard\",\"parking meter\",\"toothbrush\",\"microwave\",\"scissors\",\"hair drier\",\"toaster\",\"(none)\"],\"tickvals\":[0,1,2,3,4,5,6,7,8,9,10,11,12,13,14,15,16,17,18,19,20,21,22,23,24,25,26,27,28,29,30,31,32,33,34,35,36,37,38,39,40,41,42,43,44,45,46,47,48,49,50,51,52,53,54,55,56,57,58,59,60,61,62,63,64,65,66,67,68,69,70,71,72,73,74,75,76,77,78,79,80]},\"yaxis\":{\"constrain\":\"domain\",\"range\":[-0.5,80.5],\"scaleanchor\":\"x\",\"scaleratio\":1,\"tickmode\":\"array\",\"ticktext\":[\"(none)\",\"toaster\",\"hair drier\",\"scissors\",\"microwave\",\"toothbrush\",\"parking meter\",\"snowboard\",\"bear\",\"stop sign\",\"fire hydrant\",\"mouse\",\"frisbee\",\"refrigerator\",\"hot dog\",\"oven\",\"airplane\",\"baseball bat\",\"baseball glove\",\"keyboard\",\"bed\",\"sandwich\",\"skateboard\",\"toilet\",\"train\",\"teddy bear\",\"cat\",\"fork\",\"dog\",\"tennis racket\",\"sink\",\"laptop\",\"giraffe\",\"apple\",\"skis\",\"spoon\",\"tie\",\"elephant\",\"couch\",\"cell phone\",\"sports ball\",\"clock\",\"zebra\",\"surfboard\",\"horse\",\"vase\",\"remote\",\"pizza\",\"bus\",\"orange\",\"tv\",\"suitcase\",\"cake\",\"bicycle\",\"broccoli\",\"knife\",\"kite\",\"donut\",\"potted plant\",\"wine glass\",\"sheep\",\"backpack\",\"motorcycle\",\"carrot\",\"banana\",\"cow\",\"umbrella\",\"bench\",\"truck\",\"boat\",\"bird\",\"handbag\",\"bowl\",\"traffic light\",\"dining table\",\"cup\",\"bottle\",\"book\",\"chair\",\"car\",\"person\"],\"tickvals\":[0,1,2,3,4,5,6,7,8,9,10,11,12,13,14,15,16,17,18,19,20,21,22,23,24,25,26,27,28,29,30,31,32,33,34,35,36,37,38,39,40,41,42,43,44,45,46,47,48,49,50,51,52,53,54,55,56,57,58,59,60,61,62,63,64,65,66,67,68,69,70,71,72,73,74,75,76,77,78,79,80]},\"margin\":{\"r\":0,\"t\":30,\"l\":0,\"b\":0},\"title\":{}},                        {\"responsive\": true}                    ).then(function(){\n",
              "                            \n",
              "var gd = document.getElementById('71f6f625-1304-4c65-8764-3c5933e25252');\n",
              "var x = new MutationObserver(function (mutations, observer) {{\n",
              "        var display = window.getComputedStyle(gd).display;\n",
              "        if (!display || display === 'none') {{\n",
              "            console.log([gd, 'removed!']);\n",
              "            Plotly.purge(gd);\n",
              "            observer.disconnect();\n",
              "        }}\n",
              "}});\n",
              "\n",
              "// Listen for the removal of the full notebook cells\n",
              "var notebookContainer = gd.closest('#notebook-container');\n",
              "if (notebookContainer) {{\n",
              "    x.observe(notebookContainer, {childList: true});\n",
              "}}\n",
              "\n",
              "// Listen for the clearing of the current output cell\n",
              "var outputEl = gd.closest('.output');\n",
              "if (outputEl) {{\n",
              "    x.observe(outputEl, {childList: true});\n",
              "}}\n",
              "\n",
              "                        })                };                            </script>        </div>\n",
              "</body>\n",
              "</html>"
            ]
          },
          "metadata": {}
        }
      ]
    },
    {
      "cell_type": "markdown",
      "source": [
        "# Success cases"
      ],
      "metadata": {
        "id": "fesYM1WF6GFb"
      }
    },
    {
      "cell_type": "code",
      "source": [
        "# Only contains detections with confidence >= 0.75\n",
        "success_view = predictions_view.filter_labels(\"ssd\", F(\"confidence\") > 0.75, only_matches=False)"
      ],
      "metadata": {
        "id": "jnouhZNIv_Sg"
      },
      "execution_count": null,
      "outputs": []
    },
    {
      "cell_type": "code",
      "source": [
        "# Print some information about the view\n",
        "print(success_view)"
      ],
      "metadata": {
        "id": "51tPI-6IwCXL",
        "colab": {
          "base_uri": "https://localhost:8080/"
        },
        "outputId": "d58f455d-f518-4d08-f586-cc24f41be8b4"
      },
      "execution_count": null,
      "outputs": [
        {
          "output_type": "stream",
          "name": "stdout",
          "text": [
            "Dataset:     coco-2017-validation\n",
            "Media type:  image\n",
            "Num samples: 2500\n",
            "Sample fields:\n",
            "    id:           fiftyone.core.fields.ObjectIdField\n",
            "    filepath:     fiftyone.core.fields.StringField\n",
            "    tags:         fiftyone.core.fields.ListField(fiftyone.core.fields.StringField)\n",
            "    metadata:     fiftyone.core.fields.EmbeddedDocumentField(fiftyone.core.metadata.ImageMetadata)\n",
            "    ground_truth: fiftyone.core.fields.EmbeddedDocumentField(fiftyone.core.labels.Detections)\n",
            "    ssd:          fiftyone.core.fields.EmbeddedDocumentField(fiftyone.core.labels.Detections)\n",
            "    eval_tp:      fiftyone.core.fields.IntField\n",
            "    eval_fp:      fiftyone.core.fields.IntField\n",
            "    eval_fn:      fiftyone.core.fields.IntField\n",
            "View stages:\n",
            "    1. Take(size=2500, seed=51)\n",
            "    2. FilterLabels(field='ssd', filter={'$gt': ['$$this.confidence', 0.75]}, only_matches=False, trajectories=False)\n"
          ]
        }
      ]
    },
    {
      "cell_type": "code",
      "source": [
        "session.view = success_view"
      ],
      "metadata": {
        "id": "8lwjlwCewD00",
        "colab": {
          "base_uri": "https://localhost:8080/",
          "height": 17
        },
        "outputId": "1924a363-0ffe-43dc-a973-4191756c447a"
      },
      "execution_count": null,
      "outputs": [
        {
          "output_type": "display_data",
          "data": {
            "text/plain": [
              "<IPython.core.display.HTML object>"
            ],
            "text/html": [
              "\n",
              "<style>\n",
              "\n",
              "@import url(\"https://fonts.googleapis.com/css2?family=Palanquin&display=swap\");\n",
              "\n",
              "#focontainer-93c01a68-18c6-45ea-a875-c12b9a2253fa {\n",
              "  position: relative;\n",
              "  height: px;\n",
              "  display: block !important;\n",
              "}\n",
              "#foactivate-93c01a68-18c6-45ea-a875-c12b9a2253fa {\n",
              "  font-weight: bold;\n",
              "  cursor: pointer;\n",
              "  font-size: 24px;\n",
              "  border-radius: 3px;\n",
              "  text-align: center;\n",
              "  padding: 0.5em;\n",
              "  color: rgb(255, 255, 255);\n",
              "  font-family: \"Palanquin\", sans-serif;\n",
              "  position: absolute;\n",
              "  left: 50%;\n",
              "  top: 50%;\n",
              "  width: 160px;\n",
              "  margin-left: -80px;\n",
              "  margin-top: -23px;\n",
              "  background: hsla(210,11%,15%, 0.8);\n",
              "  border: none;\n",
              "}\n",
              "#foactivate-93c01a68-18c6-45ea-a875-c12b9a2253fa:focus {\n",
              "  outline: none;\n",
              "}\n",
              "#fooverlay-93c01a68-18c6-45ea-a875-c12b9a2253fa {\n",
              "  width: 100%;\n",
              "  height: 100%;\n",
              "  background: hsla(208, 7%, 46%, 0.7);\n",
              "  position: absolute;\n",
              "  top: 0;\n",
              "  left: 0;\n",
              "  display: none;\n",
              "  cursor: pointer;\n",
              "}\n",
              "</style>\n",
              "<div id=\"focontainer-93c01a68-18c6-45ea-a875-c12b9a2253fa\" style=\"display: none;\">\n",
              "   <div id=\"fooverlay-93c01a68-18c6-45ea-a875-c12b9a2253fa\">\n",
              "      <button id=\"foactivate-93c01a68-18c6-45ea-a875-c12b9a2253fa\" >Activate</button>\n",
              "   </div>\n",
              "</div>"
            ]
          },
          "metadata": {}
        }
      ]
    },
    {
      "cell_type": "code",
      "source": [
        "session.freeze()  # screenshot the active App for sharing"
      ],
      "metadata": {
        "id": "Ekqr_mfpwFbf"
      },
      "execution_count": null,
      "outputs": []
    },
    {
      "cell_type": "markdown",
      "source": [
        "# Failure cases"
      ],
      "metadata": {
        "id": "ZDEEePH26IeX"
      }
    },
    {
      "cell_type": "code",
      "source": [
        "# Only contains detections with confidence <= 0.3\n",
        "failure_view = predictions_view.filter_labels(\"ssd\", F(\"confidence\") <= 0.3, only_matches=False)"
      ],
      "metadata": {
        "id": "RMtzj0NJwHA3"
      },
      "execution_count": null,
      "outputs": []
    },
    {
      "cell_type": "code",
      "source": [
        "# Print some information about the view\n",
        "print(failure_view)"
      ],
      "metadata": {
        "id": "7SHxLYyfwJU8",
        "colab": {
          "base_uri": "https://localhost:8080/"
        },
        "outputId": "c9f83d87-0249-4532-e0b1-6ec19f195ce6"
      },
      "execution_count": null,
      "outputs": [
        {
          "output_type": "stream",
          "name": "stdout",
          "text": [
            "Dataset:     coco-2017-validation\n",
            "Media type:  image\n",
            "Num samples: 2500\n",
            "Sample fields:\n",
            "    id:           fiftyone.core.fields.ObjectIdField\n",
            "    filepath:     fiftyone.core.fields.StringField\n",
            "    tags:         fiftyone.core.fields.ListField(fiftyone.core.fields.StringField)\n",
            "    metadata:     fiftyone.core.fields.EmbeddedDocumentField(fiftyone.core.metadata.ImageMetadata)\n",
            "    ground_truth: fiftyone.core.fields.EmbeddedDocumentField(fiftyone.core.labels.Detections)\n",
            "    ssd:          fiftyone.core.fields.EmbeddedDocumentField(fiftyone.core.labels.Detections)\n",
            "    eval_tp:      fiftyone.core.fields.IntField\n",
            "    eval_fp:      fiftyone.core.fields.IntField\n",
            "    eval_fn:      fiftyone.core.fields.IntField\n",
            "View stages:\n",
            "    1. Take(size=2500, seed=51)\n",
            "    2. FilterLabels(field='ssd', filter={'$lte': ['$$this.confidence', 0.3]}, only_matches=False, trajectories=False)\n"
          ]
        }
      ]
    },
    {
      "cell_type": "code",
      "source": [
        "session.view = failure_view"
      ],
      "metadata": {
        "id": "T4qWZFrtwNYp",
        "colab": {
          "base_uri": "https://localhost:8080/",
          "height": 17
        },
        "outputId": "a5205898-ea9f-41bd-e757-4edb68a05782"
      },
      "execution_count": null,
      "outputs": [
        {
          "output_type": "display_data",
          "data": {
            "text/plain": [
              "<IPython.core.display.HTML object>"
            ],
            "text/html": [
              "\n",
              "<style>\n",
              "\n",
              "@import url(\"https://fonts.googleapis.com/css2?family=Palanquin&display=swap\");\n",
              "\n",
              "#focontainer-7a71ca54-6f43-4313-a08a-d4153510b3f8 {\n",
              "  position: relative;\n",
              "  height: px;\n",
              "  display: block !important;\n",
              "}\n",
              "#foactivate-7a71ca54-6f43-4313-a08a-d4153510b3f8 {\n",
              "  font-weight: bold;\n",
              "  cursor: pointer;\n",
              "  font-size: 24px;\n",
              "  border-radius: 3px;\n",
              "  text-align: center;\n",
              "  padding: 0.5em;\n",
              "  color: rgb(255, 255, 255);\n",
              "  font-family: \"Palanquin\", sans-serif;\n",
              "  position: absolute;\n",
              "  left: 50%;\n",
              "  top: 50%;\n",
              "  width: 160px;\n",
              "  margin-left: -80px;\n",
              "  margin-top: -23px;\n",
              "  background: hsla(210,11%,15%, 0.8);\n",
              "  border: none;\n",
              "}\n",
              "#foactivate-7a71ca54-6f43-4313-a08a-d4153510b3f8:focus {\n",
              "  outline: none;\n",
              "}\n",
              "#fooverlay-7a71ca54-6f43-4313-a08a-d4153510b3f8 {\n",
              "  width: 100%;\n",
              "  height: 100%;\n",
              "  background: hsla(208, 7%, 46%, 0.7);\n",
              "  position: absolute;\n",
              "  top: 0;\n",
              "  left: 0;\n",
              "  display: none;\n",
              "  cursor: pointer;\n",
              "}\n",
              "</style>\n",
              "<div id=\"focontainer-7a71ca54-6f43-4313-a08a-d4153510b3f8\" style=\"display: none;\">\n",
              "   <div id=\"fooverlay-7a71ca54-6f43-4313-a08a-d4153510b3f8\">\n",
              "      <button id=\"foactivate-7a71ca54-6f43-4313-a08a-d4153510b3f8\" >Activate</button>\n",
              "   </div>\n",
              "</div>"
            ]
          },
          "metadata": {}
        }
      ]
    },
    {
      "cell_type": "code",
      "source": [
        "session.freeze()  # screenshot the active App for sharing"
      ],
      "metadata": {
        "id": "cd-oGbgFwOxt"
      },
      "execution_count": null,
      "outputs": []
    },
    {
      "cell_type": "markdown",
      "source": [
        "# Working with another dataset to test generalisation"
      ],
      "metadata": {
        "id": "GXKGPARU6Ln3"
      }
    },
    {
      "cell_type": "markdown",
      "source": [
        "# Loading VOC 2012 dataset, validation split"
      ],
      "metadata": {
        "id": "Sz2DUkox6OD6"
      }
    },
    {
      "cell_type": "code",
      "source": [
        "dataset_voc2012 = foz.load_zoo_dataset(\"voc-2012\", split=\"validation\")"
      ],
      "metadata": {
        "id": "F8tkSHnbwQid",
        "colab": {
          "base_uri": "https://localhost:8080/",
          "height": 292,
          "referenced_widgets": [
            "a33a832d29c54ffb997a280cbd3dc773",
            "a00b8fe0de7f44d0ad8a19f6e8be1fb4",
            "951554bd0a6e4feebda0f240b52fad7d",
            "db368cd349ca48118ec1275e0b277e4e",
            "0b6aa448f8e7416592b7c4000dd6675e",
            "26e11804e23c44e4adc7041abeaecefe",
            "81fcb34871194e4881cfc4bc14b671dc",
            "130de4c71b224e438f921dd30de48f35",
            "dd9ba32090224679861a641b9d5c76a9",
            "9a66451b5e7a48a4b1b2effb8a1dcd6a",
            "9b679c51b6404cff8a0b624e32bec217"
          ]
        },
        "outputId": "e2cd3520-e664-4616-ff61-cc4d753087db"
      },
      "execution_count": null,
      "outputs": [
        {
          "output_type": "stream",
          "name": "stdout",
          "text": [
            "Downloading split 'validation' to '/root/fiftyone/voc-2012/validation'\n"
          ]
        },
        {
          "output_type": "stream",
          "name": "stderr",
          "text": [
            "INFO:fiftyone.zoo.datasets:Downloading split 'validation' to '/root/fiftyone/voc-2012/validation'\n"
          ]
        },
        {
          "output_type": "stream",
          "name": "stdout",
          "text": [
            "Downloading http://host.robots.ox.ac.uk/pascal/VOC/voc2012/VOCtrainval_11-May-2012.tar to /root/fiftyone/voc-2012/tmp-download/VOCtrainval_11-May-2012.tar\n"
          ]
        },
        {
          "output_type": "display_data",
          "data": {
            "text/plain": [
              "  0%|          | 0/1999639040 [00:00<?, ?it/s]"
            ],
            "application/vnd.jupyter.widget-view+json": {
              "version_major": 2,
              "version_minor": 0,
              "model_id": "a33a832d29c54ffb997a280cbd3dc773"
            }
          },
          "metadata": {}
        },
        {
          "output_type": "stream",
          "name": "stdout",
          "text": [
            "Extracting /root/fiftyone/voc-2012/tmp-download/VOCtrainval_11-May-2012.tar to /root/fiftyone/voc-2012/tmp-download\n",
            " 100% |███████████████| 5823/5823 [1.1m elapsed, 0s remaining, 87.7 samples/s]      \n"
          ]
        },
        {
          "output_type": "stream",
          "name": "stderr",
          "text": [
            "INFO:eta.core.utils: 100% |███████████████| 5823/5823 [1.1m elapsed, 0s remaining, 87.7 samples/s]      \n"
          ]
        },
        {
          "output_type": "stream",
          "name": "stdout",
          "text": [
            "Dataset info written to '/root/fiftyone/voc-2012/info.json'\n"
          ]
        },
        {
          "output_type": "stream",
          "name": "stderr",
          "text": [
            "INFO:fiftyone.zoo.datasets:Dataset info written to '/root/fiftyone/voc-2012/info.json'\n"
          ]
        },
        {
          "output_type": "stream",
          "name": "stdout",
          "text": [
            "Loading 'voc-2012' split 'validation'\n"
          ]
        },
        {
          "output_type": "stream",
          "name": "stderr",
          "text": [
            "INFO:fiftyone.zoo.datasets:Loading 'voc-2012' split 'validation'\n"
          ]
        },
        {
          "output_type": "stream",
          "name": "stdout",
          "text": [
            " 100% |███████████████| 5823/5823 [15.3s elapsed, 0s remaining, 311.7 samples/s]      \n"
          ]
        },
        {
          "output_type": "stream",
          "name": "stderr",
          "text": [
            "INFO:eta.core.utils: 100% |███████████████| 5823/5823 [15.3s elapsed, 0s remaining, 311.7 samples/s]      \n"
          ]
        },
        {
          "output_type": "stream",
          "name": "stdout",
          "text": [
            "Dataset 'voc-2012-validation' created\n"
          ]
        },
        {
          "output_type": "stream",
          "name": "stderr",
          "text": [
            "INFO:fiftyone.zoo.datasets:Dataset 'voc-2012-validation' created\n"
          ]
        }
      ]
    },
    {
      "cell_type": "code",
      "source": [
        "# Choose a random subset of 100 samples to add predictions to\n",
        "predictions_view_voc2012 = dataset_voc2012.take(1000, seed=51)"
      ],
      "metadata": {
        "id": "ClHN629l0Z9Z"
      },
      "execution_count": null,
      "outputs": []
    },
    {
      "cell_type": "code",
      "source": [
        "# Get class list\n",
        "classes = dataset.default_classes\n",
        "\n",
        "# Add predictions to samples\n",
        "with fo.ProgressBar() as pb:\n",
        "    for sample in pb(predictions_view_voc2012):\n",
        "        # Load image\n",
        "        image = Image.open(sample.filepath)\n",
        "        image = func.to_tensor(image)\n",
        "        c, h, w = image.shape\n",
        "\n",
        "        # Perform inference\n",
        "        preds = model([image])[0]\n",
        "        labels = preds[\"labels\"].cpu().detach().numpy()\n",
        "        scores = preds[\"scores\"].cpu().detach().numpy()\n",
        "        boxes = preds[\"boxes\"].cpu().detach().numpy()\n",
        "\n",
        "        # Convert detections to FiftyOne format\n",
        "        detections = []\n",
        "        for label, score, box in zip(labels, scores, boxes):\n",
        "            # Convert to [top-left-x, top-left-y, width, height]\n",
        "            # in relative coordinates in [0, 1] x [0, 1]\n",
        "            x1, y1, x2, y2 = box\n",
        "            rel_box = [x1 / w, y1 / h, (x2 - x1) / w, (y2 - y1) / h]\n",
        "\n",
        "            detections.append(\n",
        "                fo.Detection(\n",
        "                    label=classes[label],\n",
        "                    bounding_box=rel_box,\n",
        "                    confidence=score\n",
        "                )\n",
        "            )\n",
        "\n",
        "        # Save predictions to dataset\n",
        "        sample[\"ssd\"] = fo.Detections(detections=detections)\n",
        "        sample.save()\n",
        "\n",
        "print(\"Finished adding predictions\")"
      ],
      "metadata": {
        "id": "poPYyPhc0bro",
        "colab": {
          "base_uri": "https://localhost:8080/"
        },
        "outputId": "e019afab-4333-4d6a-9259-9256777a52f3"
      },
      "execution_count": null,
      "outputs": [
        {
          "output_type": "stream",
          "name": "stdout",
          "text": [
            " 100% |███████████████| 1000/1000 [3.5m elapsed, 0s remaining, 4.7 samples/s]      \n"
          ]
        },
        {
          "output_type": "stream",
          "name": "stderr",
          "text": [
            "INFO:eta.core.utils: 100% |███████████████| 1000/1000 [3.5m elapsed, 0s remaining, 4.7 samples/s]      \n"
          ]
        },
        {
          "output_type": "stream",
          "name": "stdout",
          "text": [
            "Finished adding predictions\n"
          ]
        }
      ]
    },
    {
      "cell_type": "code",
      "source": [
        "results_voc2012 = predictions_view_voc2012.evaluate_detections(\n",
        "    \"ssd\",\n",
        "    gt_field=\"ground_truth\",\n",
        "    eval_key=\"eval\",\n",
        "    compute_mAP=True,\n",
        ")"
      ],
      "metadata": {
        "id": "ZThWadMe0elF",
        "colab": {
          "base_uri": "https://localhost:8080/"
        },
        "outputId": "daefb47b-52f5-4306-b266-44e5df459f3c"
      },
      "execution_count": null,
      "outputs": [
        {
          "output_type": "stream",
          "name": "stdout",
          "text": [
            "Evaluating detections...\n"
          ]
        },
        {
          "output_type": "stream",
          "name": "stderr",
          "text": [
            "INFO:fiftyone.utils.eval.detection:Evaluating detections...\n"
          ]
        },
        {
          "output_type": "stream",
          "name": "stdout",
          "text": [
            " 100% |███████████████| 1000/1000 [1.4h elapsed, 0s remaining, 0.2 samples/s]     \n"
          ]
        },
        {
          "output_type": "stream",
          "name": "stderr",
          "text": [
            "INFO:eta.core.utils: 100% |███████████████| 1000/1000 [1.4h elapsed, 0s remaining, 0.2 samples/s]     \n"
          ]
        },
        {
          "output_type": "stream",
          "name": "stdout",
          "text": [
            "Performing IoU sweep...\n"
          ]
        },
        {
          "output_type": "stream",
          "name": "stderr",
          "text": [
            "INFO:fiftyone.utils.eval.coco:Performing IoU sweep...\n"
          ]
        },
        {
          "output_type": "stream",
          "name": "stdout",
          "text": [
            " 100% |███████████████| 1000/1000 [5.1m elapsed, 0s remaining, 3.7 samples/s]       \n"
          ]
        },
        {
          "output_type": "stream",
          "name": "stderr",
          "text": [
            "INFO:eta.core.utils: 100% |███████████████| 1000/1000 [5.1m elapsed, 0s remaining, 3.7 samples/s]       \n"
          ]
        }
      ]
    },
    {
      "cell_type": "markdown",
      "source": [
        "# IoU visible on images"
      ],
      "metadata": {
        "id": "7WeCyrho6Qk7"
      }
    },
    {
      "cell_type": "code",
      "source": [
        "eval_patches = predictions_view_voc2012.to_evaluation_patches(\"eval\")\n",
        "print(eval_patches)\n",
        "\n",
        "print(eval_patches.count_values(\"type\"))\n",
        "\n",
        "session.view = eval_patches"
      ],
      "metadata": {
        "id": "xTt5sF7q0hBg",
        "colab": {
          "base_uri": "https://localhost:8080/",
          "height": 1000
        },
        "outputId": "f314e496-1c23-4f4a-a5fb-791995bd258c"
      },
      "execution_count": null,
      "outputs": [
        {
          "output_type": "stream",
          "name": "stdout",
          "text": [
            "Dataset:     voc-2012-validation\n",
            "Media type:  image\n",
            "Num patches: 300654\n",
            "Patch fields:\n",
            "    id:           fiftyone.core.fields.ObjectIdField\n",
            "    sample_id:    fiftyone.core.fields.ObjectIdField\n",
            "    filepath:     fiftyone.core.fields.StringField\n",
            "    tags:         fiftyone.core.fields.ListField(fiftyone.core.fields.StringField)\n",
            "    metadata:     fiftyone.core.fields.EmbeddedDocumentField(fiftyone.core.metadata.ImageMetadata)\n",
            "    ground_truth: fiftyone.core.fields.EmbeddedDocumentField(fiftyone.core.labels.Detections)\n",
            "    ssd:          fiftyone.core.fields.EmbeddedDocumentField(fiftyone.core.labels.Detections)\n",
            "    crowd:        fiftyone.core.fields.BooleanField\n",
            "    type:         fiftyone.core.fields.StringField\n",
            "    iou:          fiftyone.core.fields.FloatField\n",
            "View stages:\n",
            "    1. Take(size=1000, seed=51)\n",
            "    2. ToEvaluationPatches(eval_key='eval', config=None)\n",
            "{'fp': 298037, 'fn': 654, 'tp': 1963}\n"
          ]
        },
        {
          "output_type": "display_data",
          "data": {
            "text/plain": [
              "<IPython.core.display.HTML object>"
            ],
            "text/html": [
              "\n",
              "<style>\n",
              "\n",
              "@import url(\"https://fonts.googleapis.com/css2?family=Palanquin&display=swap\");\n",
              "\n",
              "#focontainer-c35a16e9-044f-4b30-9870-31460e2aab2c {\n",
              "  position: relative;\n",
              "  height: px;\n",
              "  display: block !important;\n",
              "}\n",
              "#foactivate-c35a16e9-044f-4b30-9870-31460e2aab2c {\n",
              "  font-weight: bold;\n",
              "  cursor: pointer;\n",
              "  font-size: 24px;\n",
              "  border-radius: 3px;\n",
              "  text-align: center;\n",
              "  padding: 0.5em;\n",
              "  color: rgb(255, 255, 255);\n",
              "  font-family: \"Palanquin\", sans-serif;\n",
              "  position: absolute;\n",
              "  left: 50%;\n",
              "  top: 50%;\n",
              "  width: 160px;\n",
              "  margin-left: -80px;\n",
              "  margin-top: -23px;\n",
              "  background: hsla(210,11%,15%, 0.8);\n",
              "  border: none;\n",
              "}\n",
              "#foactivate-c35a16e9-044f-4b30-9870-31460e2aab2c:focus {\n",
              "  outline: none;\n",
              "}\n",
              "#fooverlay-c35a16e9-044f-4b30-9870-31460e2aab2c {\n",
              "  width: 100%;\n",
              "  height: 100%;\n",
              "  background: hsla(208, 7%, 46%, 0.7);\n",
              "  position: absolute;\n",
              "  top: 0;\n",
              "  left: 0;\n",
              "  display: none;\n",
              "  cursor: pointer;\n",
              "}\n",
              "</style>\n",
              "<div id=\"focontainer-c35a16e9-044f-4b30-9870-31460e2aab2c\" style=\"display: none;\">\n",
              "   <div id=\"fooverlay-c35a16e9-044f-4b30-9870-31460e2aab2c\">\n",
              "      <button id=\"foactivate-c35a16e9-044f-4b30-9870-31460e2aab2c\" >Activate</button>\n",
              "   </div>\n",
              "</div>"
            ]
          },
          "metadata": {}
        }
      ]
    },
    {
      "cell_type": "code",
      "source": [
        "session.freeze()  # screenshot the active App for sharing"
      ],
      "metadata": {
        "id": "sHpnOgau0iXX"
      },
      "execution_count": null,
      "outputs": []
    },
    {
      "cell_type": "markdown",
      "source": [
        "# mAP of this model on VOC 2012"
      ],
      "metadata": {
        "id": "NAKTeqkb6TzP"
      }
    },
    {
      "cell_type": "code",
      "source": [
        "print(results_voc2012.mAP())"
      ],
      "metadata": {
        "id": "2uMqTAk10kc_",
        "colab": {
          "base_uri": "https://localhost:8080/"
        },
        "outputId": "a8bc0757-517a-472f-df08-c8809b4d2c12"
      },
      "execution_count": null,
      "outputs": [
        {
          "output_type": "stream",
          "name": "stdout",
          "text": [
            "0.3177410338420653\n"
          ]
        }
      ]
    },
    {
      "cell_type": "markdown",
      "source": [
        "# Getting the 5 most common classes "
      ],
      "metadata": {
        "id": "-EmGNBYJ6WV_"
      }
    },
    {
      "cell_type": "code",
      "source": [
        "# Get the 5 most common classes in the dataset\n",
        "counts = dataset_voc2012.count_values(\"ground_truth.detections.label\")\n",
        "classes_top5 = sorted(counts, key=counts.get, reverse=True)[:5]\n",
        "\n",
        "# Print a classification report for the top-10 classes\n",
        "results_voc2012.print_report(classes=classes_top5)"
      ],
      "metadata": {
        "id": "89-qhJzN0mEY",
        "colab": {
          "base_uri": "https://localhost:8080/"
        },
        "outputId": "ad963f72-730a-4445-d684-60c4f996a97e"
      },
      "execution_count": null,
      "outputs": [
        {
          "output_type": "stream",
          "name": "stdout",
          "text": [
            "              precision    recall  f1-score   support\n",
            "\n",
            "      person       0.01      0.89      0.02       921\n",
            "       chair       0.01      0.85      0.02       209\n",
            "         car       0.01      0.81      0.03       237\n",
            "         dog       0.03      0.96      0.06       139\n",
            "      bottle       0.01      0.61      0.02        80\n",
            "\n",
            "   micro avg       0.01      0.86      0.02      1586\n",
            "   macro avg       0.01      0.82      0.03      1586\n",
            "weighted avg       0.01      0.86      0.02      1586\n",
            "\n"
          ]
        }
      ]
    },
    {
      "cell_type": "markdown",
      "source": [
        "# Precision vs. recall of th 5 most common classes"
      ],
      "metadata": {
        "id": "m-QzrE9C6Zv-"
      }
    },
    {
      "cell_type": "code",
      "source": [
        "plot = results_voc2012.plot_pr_curves(classes=classes_top5)\n",
        "plot.show()"
      ],
      "metadata": {
        "id": "blhqB86I0nk3",
        "colab": {
          "base_uri": "https://localhost:8080/",
          "height": 542
        },
        "outputId": "7e429525-772f-446a-d521-4482b01a2d3d"
      },
      "execution_count": null,
      "outputs": [
        {
          "output_type": "display_data",
          "data": {
            "text/html": [
              "<html>\n",
              "<head><meta charset=\"utf-8\" /></head>\n",
              "<body>\n",
              "    <div>            <script src=\"https://cdnjs.cloudflare.com/ajax/libs/mathjax/2.7.5/MathJax.js?config=TeX-AMS-MML_SVG\"></script><script type=\"text/javascript\">if (window.MathJax) {MathJax.Hub.Config({SVG: {font: \"STIX-Web\"}});}</script>                <script type=\"text/javascript\">window.PlotlyConfig = {MathJaxConfig: 'local'};</script>\n",
              "        <script src=\"https://cdn.plot.ly/plotly-2.8.3.min.js\"></script>                <div id=\"ec43966d-a2ab-4cce-9d3a-69679d6f1d3e\" class=\"plotly-graph-div\" style=\"height:525px; width:100%;\"></div>            <script type=\"text/javascript\">                                    window.PLOTLYENV=window.PLOTLYENV || {};                                    if (document.getElementById(\"ec43966d-a2ab-4cce-9d3a-69679d6f1d3e\")) {                    Plotly.newPlot(                        \"ec43966d-a2ab-4cce-9d3a-69679d6f1d3e\",                        [{\"customdata\":[0.9974563717842102,0.9956253945827485,0.9950362205505371,0.9938613772392273,0.9934146761894226,0.9920305848121643,0.990405386686325,0.98939950466156,0.9880092442035675,0.987195086479187,0.9857486844062805,0.9799819171428681,0.9796155154705047,0.9482442140579224,0.9430428922176362,0.93705113530159,0.9169487357139587,0.9051779702305793,0.8827559232711792,0.8820538341999054,0.8815724134445191,0.8802900075912475,0.8793600022792816,0.8781745433807373,0.8753173589706421,0.8736011922359467,0.8712815463542938,0.864605712890625,0.8632460355758667,0.8520513892173767,0.8481843888759613,0.8374491810798645,0.8322022914886474,0.8274668276309967,0.8136704802513123,0.8068684041500092,0.7844373345375061,0.7694743558764457,0.7666111543774605,0.742357437312603,0.7394630733877421,0.7357452046126127,0.7248881941661238,0.7179762752493843,0.7090222895145416,0.7012828588485718,0.6976572632789612,0.687826144695282,0.6826723158359528,0.6692529201507569,0.6634080290794373,0.6543066799640656,0.6209173202514648,0.6036292240023613,0.5760914355516433,0.5651293143630027,0.5563571874052287,0.5360266122967005,0.5243457859382034,0.49784457087516787,0.4879449188709259,0.47748807072639465,0.4474825650453568,0.43265650868415834,0.4255103826522827,0.39411062449216844,0.3788365378975868,0.3433309458196163,0.33068542182445526,0.3193770185112953,0.2939798068255186,0.27013400085270406,0.23508814182132481,0.22422073350753635,0.19699990451335908,0.18179177939891816,0.16256778240203856,0.13528644256293773,0.1205350834876299,0.11394114159047604,0.09051438448950648,0.08129311145748944,0.06995855458080769,0.05501739047467709,0.046917543187737464,0.03516015522181988,0.03325236961245537,0.029009550251066683,0.024875451531261205,0.022754530026577412,0.018645581603050233,0.014061035774648189,0.011741087026894092,0.00816168701276183,0.0067196298157796265,0.0018992937868461013,0.000269881053827703,0.0,0.0,0.0,0.0],\"hovertemplate\":\"<b>class: %{text}</b><br>recall: %{x:.3f}<br>precision: %{y:.3f}<br>threshold: %{customdata:.3f}<extra></extra>\",\"line\":{\"color\":\"#3366CC\"},\"mode\":\"lines\",\"name\":\"dog (AP = 0.591)\",\"text\":[\"dog\",\"dog\",\"dog\",\"dog\",\"dog\",\"dog\",\"dog\",\"dog\",\"dog\",\"dog\",\"dog\",\"dog\",\"dog\",\"dog\",\"dog\",\"dog\",\"dog\",\"dog\",\"dog\",\"dog\",\"dog\",\"dog\",\"dog\",\"dog\",\"dog\",\"dog\",\"dog\",\"dog\",\"dog\",\"dog\",\"dog\",\"dog\",\"dog\",\"dog\",\"dog\",\"dog\",\"dog\",\"dog\",\"dog\",\"dog\",\"dog\",\"dog\",\"dog\",\"dog\",\"dog\",\"dog\",\"dog\",\"dog\",\"dog\",\"dog\",\"dog\",\"dog\",\"dog\",\"dog\",\"dog\",\"dog\",\"dog\",\"dog\",\"dog\",\"dog\",\"dog\",\"dog\",\"dog\",\"dog\",\"dog\",\"dog\",\"dog\",\"dog\",\"dog\",\"dog\",\"dog\",\"dog\",\"dog\",\"dog\",\"dog\",\"dog\",\"dog\",\"dog\",\"dog\",\"dog\",\"dog\",\"dog\",\"dog\",\"dog\",\"dog\",\"dog\",\"dog\",\"dog\",\"dog\",\"dog\",\"dog\",\"dog\",\"dog\",\"dog\",\"dog\",\"dog\",\"dog\",\"dog\",\"dog\",\"dog\",\"dog\"],\"x\":[0.0,0.01,0.02,0.03,0.04,0.05,0.06,0.07,0.08,0.09,0.1,0.11,0.12,0.13,0.14,0.15,0.16,0.17,0.18,0.19,0.2,0.21,0.22,0.23,0.24,0.25,0.26,0.27,0.28,0.29,0.3,0.31,0.32,0.33,0.34,0.35000000000000003,0.36,0.37,0.38,0.39,0.4,0.41000000000000003,0.42,0.43,0.44,0.45,0.46,0.47000000000000003,0.48,0.49,0.5,0.51,0.52,0.53,0.54,0.55,0.56,0.5700000000000001,0.58,0.59,0.6,0.61,0.62,0.63,0.64,0.65,0.66,0.67,0.68,0.6900000000000001,0.7000000000000001,0.71,0.72,0.73,0.74,0.75,0.76,0.77,0.78,0.79,0.8,0.81,0.8200000000000001,0.8300000000000001,0.84,0.85,0.86,0.87,0.88,0.89,0.9,0.91,0.92,0.93,0.9400000000000001,0.9500000000000001,0.96,0.97,0.98,0.99,1.0],\"y\":[0.9359999999999999,0.9359999999999999,0.9269090909090908,0.9269090909090908,0.9269090909090908,0.9269090909090908,0.9269090909090908,0.9216783216783216,0.9093406593406594,0.904107142857143,0.9014939024390245,0.8872689784268661,0.8872689784268661,0.8805271237902748,0.8805271237902748,0.8803386360419785,0.8792953208787406,0.8771844475731048,0.862983264141152,0.862814345222233,0.862814345222233,0.862814345222233,0.8612204436283315,0.8597820446289569,0.855646307619413,0.853733264141152,0.8515445848958689,0.836334082199022,0.836334082199022,0.8266872122150734,0.823443104854897,0.8218461709679599,0.8212724687379238,0.818462352318815,0.794276299668554,0.7926669042792542,0.7851165494481432,0.7663064355617684,0.7558799858205224,0.7289939510373407,0.7231368812724487,0.7166108263053499,0.7051868376959634,0.6996783375028377,0.6955263157894738,0.6928197779292099,0.6922974607402261,0.690152006544038,0.6900604314524629,0.6857361099377658,0.6822788499871223,0.678616335303324,0.6667021447310885,0.6572934522157785,0.6336283675447556,0.6254848390942549,0.6195834668906091,0.6061363899575787,0.5994539723364718,0.5898874734500629,0.5873173059546399,0.5864442429139273,0.579440340361393,0.5752494472679243,0.5736525587489993,0.5612705729335664,0.5553184923897106,0.5257710723406188,0.521933180901945,0.5157643673979685,0.4978358417762669,0.48250712756495345,0.461828923279526,0.45511106545200786,0.4208343393584788,0.4105231211152861,0.3974806130330174,0.3603525333982434,0.3355102677978969,0.32940015035848436,0.2910889662144268,0.27746903888006924,0.2521177787630486,0.2216565253410589,0.20192731846177486,0.16443124628494635,0.15697040898344092,0.13648670718518932,0.11711465526519908,0.10793918518003034,0.08272150618572265,0.056654302415142174,0.04438710839490449,0.029370519165222403,0.026320929841283626,0.009205174764812465,0.0032627221816411006,0.0,0.0,0.0,0.0],\"type\":\"scatter\"},{\"customdata\":[0.9998236298561096,0.9980105996131897,0.9962855875492096,0.9937961399555206,0.9904531300067901,0.9732714831829071,0.8937458693981171,0.8926998138427734,0.891294002532959,0.8900019764900208,0.8883447468280792,0.8862820386886596,0.8841623425483703,0.8813358187675476,0.8785333395004272,0.8742523491382599,0.8701228678226471,0.8610957741737366,0.8402974128723144,0.8146343410015107,0.7801025100052357,0.7685464382171631,0.7659900903701782,0.7615059971809387,0.7572361588478088,0.7515940845012665,0.7429367184638977,0.7304552972316742,0.7164461314678192,0.6951147168874741,0.674205231666565,0.6550391837954521,0.6382626093924045,0.6147852063179016,0.599183052778244,0.585440170764923,0.569478091597557,0.5540091276168824,0.5360327661037445,0.5156881585717201,0.4965560719370842,0.4754665866494179,0.45949522331357,0.4365598365664482,0.4091775506734848,0.39038571417331697,0.36542837619781493,0.34483138769865035,0.32440863698720934,0.30712355077266695,0.28716737776994705,0.2645971134305,0.24557156413793563,0.2239590346813202,0.20079929269850255,0.18325604349374772,0.16737146824598312,0.15461332947015763,0.14313353598117828,0.13184507340192794,0.11901837959885597,0.10948744937777519,0.09914744645357132,0.09050466567277908,0.08141082376241685,0.07141825929284096,0.06744085997343063,0.06069429814815521,0.05662873014807701,0.05229668691754341,0.0483317106962204,0.0449450172483921,0.04164270758628845,0.038244293071329594,0.0338777557015419,0.031815937161445616,0.02974975258111954,0.02761784940958023,0.02504810839891434,0.022831082344055176,0.020206975191831587,0.015249146521091462,0.01348300613462925,0.011990146338939666,0.009341927617788315,0.005085156112909317,0.0040197793394327165,0.002885334566235542,0.0,0.0,0.0,0.0,0.0,0.0,0.0,0.0,0.0,0.0,0.0,0.0,0.0],\"hovertemplate\":\"<b>class: %{text}</b><br>recall: %{x:.3f}<br>precision: %{y:.3f}<br>threshold: %{customdata:.3f}<extra></extra>\",\"line\":{\"color\":\"#DC3912\"},\"mode\":\"lines\",\"name\":\"person (AP = 0.417)\",\"text\":[\"person\",\"person\",\"person\",\"person\",\"person\",\"person\",\"person\",\"person\",\"person\",\"person\",\"person\",\"person\",\"person\",\"person\",\"person\",\"person\",\"person\",\"person\",\"person\",\"person\",\"person\",\"person\",\"person\",\"person\",\"person\",\"person\",\"person\",\"person\",\"person\",\"person\",\"person\",\"person\",\"person\",\"person\",\"person\",\"person\",\"person\",\"person\",\"person\",\"person\",\"person\",\"person\",\"person\",\"person\",\"person\",\"person\",\"person\",\"person\",\"person\",\"person\",\"person\",\"person\",\"person\",\"person\",\"person\",\"person\",\"person\",\"person\",\"person\",\"person\",\"person\",\"person\",\"person\",\"person\",\"person\",\"person\",\"person\",\"person\",\"person\",\"person\",\"person\",\"person\",\"person\",\"person\",\"person\",\"person\",\"person\",\"person\",\"person\",\"person\",\"person\",\"person\",\"person\",\"person\",\"person\",\"person\",\"person\",\"person\",\"person\",\"person\",\"person\",\"person\",\"person\",\"person\",\"person\",\"person\",\"person\",\"person\",\"person\",\"person\",\"person\"],\"x\":[0.0,0.01,0.02,0.03,0.04,0.05,0.06,0.07,0.08,0.09,0.1,0.11,0.12,0.13,0.14,0.15,0.16,0.17,0.18,0.19,0.2,0.21,0.22,0.23,0.24,0.25,0.26,0.27,0.28,0.29,0.3,0.31,0.32,0.33,0.34,0.35000000000000003,0.36,0.37,0.38,0.39,0.4,0.41000000000000003,0.42,0.43,0.44,0.45,0.46,0.47000000000000003,0.48,0.49,0.5,0.51,0.52,0.53,0.54,0.55,0.56,0.5700000000000001,0.58,0.59,0.6,0.61,0.62,0.63,0.64,0.65,0.66,0.67,0.68,0.6900000000000001,0.7000000000000001,0.71,0.72,0.73,0.74,0.75,0.76,0.77,0.78,0.79,0.8,0.81,0.8200000000000001,0.8300000000000001,0.84,0.85,0.86,0.87,0.88,0.89,0.9,0.91,0.92,0.93,0.9400000000000001,0.9500000000000001,0.96,0.97,0.98,0.99,1.0],\"y\":[1.0,0.9122807017543859,0.8738095238095237,0.8546199144116391,0.8519430532822353,0.8471968615340337,0.8331239761270721,0.8286961016909127,0.8247947089968836,0.8177422577422577,0.8160792713009141,0.8107678851321094,0.804664888307145,0.8001867466473069,0.7965381105188782,0.7897960918171882,0.7883706198611893,0.7796794593221439,0.7716600812675136,0.7601253794816963,0.7307456946307753,0.7223031324663847,0.7181644290740234,0.7127279443619379,0.7105998161846948,0.7047641049416813,0.6993309174553,0.6946442279737565,0.6888942154942905,0.6827862774763397,0.6728595179869918,0.6617802724951151,0.638511763142537,0.6208793590509283,0.6129321409768418,0.6085292274916909,0.6038894117749524,0.5975310130643445,0.5903432454828612,0.5819585518138933,0.5703485131839909,0.5574140815382002,0.5476097551927518,0.5282479197745898,0.5146562538611495,0.5097043749559657,0.49945726218337894,0.4908080897198081,0.479429900901079,0.47267197256834576,0.4549163600919638,0.4393153593816609,0.4251780468613277,0.4067481442478603,0.3851543252519095,0.37524111580192676,0.3600948409534112,0.3490883927787796,0.33519692058450495,0.3169408989854726,0.3021848727207126,0.2847910153992687,0.26553750220529254,0.252101395505096,0.23843808146080187,0.22071375247333277,0.2114615794996796,0.191822394996525,0.177240133109429,0.15830564504048977,0.1420134654250219,0.12785530321977703,0.11452183375405744,0.1038109127940025,0.09199142866122338,0.07878095015134642,0.06809562817907211,0.0563548140634853,0.04543558437365146,0.0361591321109003,0.029338402932242408,0.020760580963935925,0.015506377161024626,0.01241780356207361,0.008930073371880278,0.00438483507868063,0.0032967489814583854,0.0024253787764236248,0.0,0.0,0.0,0.0,0.0,0.0,0.0,0.0,0.0,0.0,0.0,0.0,0.0],\"type\":\"scatter\"},{\"customdata\":[0.9991349577903748,0.9946346819400788,0.9910268664360047,0.9803329110145569,0.9780611991882324,0.9687466979026794,0.9385228335857392,0.915017619729042,0.8897147886455059,0.8770039916038513,0.8745966374874115,0.8681774020195008,0.8639055073261261,0.8610690236091614,0.8548925638198852,0.8502241969108582,0.8379030764102936,0.825857013463974,0.8129757523536683,0.7971438229084015,0.7817749589681625,0.7705064505338669,0.7463842064142228,0.7207394614815712,0.707324706763029,0.6814675867557526,0.6717173755168915,0.6593308091163635,0.631391316652298,0.6119944095611572,0.5896206766366958,0.5746862441301346,0.5567912697792053,0.5308535367250442,0.49556841850280764,0.4771352395415306,0.4490278549492359,0.43792079798877237,0.4072979003190994,0.3787650287151337,0.35137987732887266,0.30275501757860185,0.27233017757534983,0.26143932715058327,0.23301010951399803,0.2071911759674549,0.17969488948583603,0.1554126925766468,0.1318117618560791,0.1064380683004856,0.09406918957829476,0.08502407222986222,0.07456963248550892,0.06884200014173984,0.06235794201493263,0.0580141082406044,0.0546576552093029,0.04982257895171642,0.04557524397969246,0.04389539398252964,0.03800810053944588,0.03662346601486206,0.035274811834096906,0.031276384741067885,0.0299209788441658,0.027668355032801628,0.026066630333662032,0.020643011108040808,0.018883535265922548,0.017966168746352196,0.01753365807235241,0.01600821651518345,0.01494360100477934,0.011589644849300385,0.01017666608095169,0.009110673516988754,0.007879073172807694,0.0074710831046104435,0.006699541956186295,0.0031490378081798554,0.0024270292371511458,0.0,0.0,0.0,0.0,0.0,0.0,0.0,0.0,0.0,0.0,0.0,0.0,0.0,0.0,0.0,0.0,0.0,0.0,0.0,0.0],\"hovertemplate\":\"<b>class: %{text}</b><br>recall: %{x:.3f}<br>precision: %{y:.3f}<br>threshold: %{customdata:.3f}<extra></extra>\",\"line\":{\"color\":\"#FF9900\"},\"mode\":\"lines\",\"name\":\"car (AP = 0.377)\",\"text\":[\"car\",\"car\",\"car\",\"car\",\"car\",\"car\",\"car\",\"car\",\"car\",\"car\",\"car\",\"car\",\"car\",\"car\",\"car\",\"car\",\"car\",\"car\",\"car\",\"car\",\"car\",\"car\",\"car\",\"car\",\"car\",\"car\",\"car\",\"car\",\"car\",\"car\",\"car\",\"car\",\"car\",\"car\",\"car\",\"car\",\"car\",\"car\",\"car\",\"car\",\"car\",\"car\",\"car\",\"car\",\"car\",\"car\",\"car\",\"car\",\"car\",\"car\",\"car\",\"car\",\"car\",\"car\",\"car\",\"car\",\"car\",\"car\",\"car\",\"car\",\"car\",\"car\",\"car\",\"car\",\"car\",\"car\",\"car\",\"car\",\"car\",\"car\",\"car\",\"car\",\"car\",\"car\",\"car\",\"car\",\"car\",\"car\",\"car\",\"car\",\"car\",\"car\",\"car\",\"car\",\"car\",\"car\",\"car\",\"car\",\"car\",\"car\",\"car\",\"car\",\"car\",\"car\",\"car\",\"car\",\"car\",\"car\",\"car\",\"car\",\"car\"],\"x\":[0.0,0.01,0.02,0.03,0.04,0.05,0.06,0.07,0.08,0.09,0.1,0.11,0.12,0.13,0.14,0.15,0.16,0.17,0.18,0.19,0.2,0.21,0.22,0.23,0.24,0.25,0.26,0.27,0.28,0.29,0.3,0.31,0.32,0.33,0.34,0.35000000000000003,0.36,0.37,0.38,0.39,0.4,0.41000000000000003,0.42,0.43,0.44,0.45,0.46,0.47000000000000003,0.48,0.49,0.5,0.51,0.52,0.53,0.54,0.55,0.56,0.5700000000000001,0.58,0.59,0.6,0.61,0.62,0.63,0.64,0.65,0.66,0.67,0.68,0.6900000000000001,0.7000000000000001,0.71,0.72,0.73,0.74,0.75,0.76,0.77,0.78,0.79,0.8,0.81,0.8200000000000001,0.8300000000000001,0.84,0.85,0.86,0.87,0.88,0.89,0.9,0.91,0.92,0.93,0.9400000000000001,0.9500000000000001,0.96,0.97,0.98,0.99,1.0],\"y\":[0.856135531135531,0.856135531135531,0.856135531135531,0.8535714285714284,0.8535714285714284,0.8535714285714284,0.8504182754182754,0.8487928737928737,0.8386211124016002,0.8232600732600733,0.8204413472706156,0.8156746031746032,0.8084175433739388,0.8076907991878922,0.7993070272580676,0.7991360870871274,0.7949537473233923,0.7913886639676113,0.787133595603632,0.7849214825004298,0.7830599585724097,0.7770227822683311,0.7715521701791724,0.7538828257935808,0.7371425276868896,0.7286839949799168,0.7278054420083405,0.7239843809724711,0.7201868535201869,0.7176227509560843,0.7140156822533872,0.710342558675892,0.7037556924372844,0.6980967580589639,0.675837045837046,0.6517999396794463,0.6288906176335767,0.6231707863210422,0.6106895667718495,0.5995392957993764,0.586259712630174,0.5484608860626905,0.5292598641601148,0.5183859562708724,0.4893692931377013,0.45713418057352584,0.4303461467828612,0.3995976994266218,0.3615990911345895,0.32069050629415874,0.2914345345578325,0.2681919634866644,0.24030319048180285,0.21837377046639256,0.20357165373393799,0.1854051579419327,0.16903174833977128,0.15005865937811244,0.1295294408660282,0.12091879551044493,0.10636967284192153,0.09923354479064848,0.09266489750743426,0.07769910686001899,0.07329173312734957,0.06359345176951131,0.05626939301878493,0.04405732907379907,0.03774756142168175,0.03549572882001763,0.03424033666266117,0.02887136692160421,0.02637171065482305,0.021492018141878694,0.016415291115444132,0.012850438909902192,0.00992271084879747,0.009108927280699642,0.007658266853618157,0.0035424910495571887,0.0026588301147495103,0.0,0.0,0.0,0.0,0.0,0.0,0.0,0.0,0.0,0.0,0.0,0.0,0.0,0.0,0.0,0.0,0.0,0.0,0.0,0.0],\"type\":\"scatter\"},{\"customdata\":[0.9961723685264587,0.9829707741737366,0.9611727476119996,0.9211982756853103,0.878801229968667,0.8691533863544464,0.865107262134552,0.8587557673454285,0.8495909690856933,0.8289369404315948,0.8217899978160859,0.808526086807251,0.7803374946117401,0.7511142045259476,0.7202364087104798,0.6794270619750022,0.6466721758246422,0.6253568828105927,0.6073281586170196,0.585576593875885,0.5643798381090164,0.5494738489389419,0.526658907532692,0.49496981501579285,0.4660353347659111,0.44634026736021043,0.4318980220705271,0.4076648086309433,0.3822891443967819,0.3716049611568451,0.3559234768152237,0.3409624308347702,0.3265972286462784,0.30710401982069013,0.2855877265334129,0.2692916341125965,0.2595063127577305,0.24232420325279236,0.22563378214836122,0.21037821471691132,0.19809603914618493,0.1750798389315605,0.16292193233966829,0.15302674472332,0.1446561709046364,0.12921865284442902,0.12209151983261109,0.11447571292519569,0.10534826591610909,0.09733574949204922,0.09049420841038228,0.0815943345427513,0.07677745372056961,0.07219501435756684,0.06892222836613655,0.06551415920257568,0.06079468205571174,0.05726766213774681,0.0547659732401371,0.05174067057669163,0.04867417924106121,0.04268515855073929,0.041712939739227295,0.03955627456307411,0.037464766204357146,0.03541228026151657,0.033713359385728836,0.03071441315114498,0.026727380976080895,0.023780564218759535,0.021915946900844575,0.021246989816427232,0.020774856582283972,0.019771479442715643,0.018785644695162772,0.017331040278077126,0.013103659451007842,0.012323573976755143,0.011295585706830025,0.01016828827559948,0.009730754047632217,0.007781276851892472,0.004449169710278511,0.004080608859658242,0.003878115490078926,0.0,0.0,0.0,0.0,0.0,0.0,0.0,0.0,0.0,0.0,0.0,0.0,0.0,0.0,0.0,0.0],\"hovertemplate\":\"<b>class: %{text}</b><br>recall: %{x:.3f}<br>precision: %{y:.3f}<br>threshold: %{customdata:.3f}<extra></extra>\",\"line\":{\"color\":\"#109618\"},\"mode\":\"lines\",\"name\":\"chair (AP = 0.276)\",\"text\":[\"chair\",\"chair\",\"chair\",\"chair\",\"chair\",\"chair\",\"chair\",\"chair\",\"chair\",\"chair\",\"chair\",\"chair\",\"chair\",\"chair\",\"chair\",\"chair\",\"chair\",\"chair\",\"chair\",\"chair\",\"chair\",\"chair\",\"chair\",\"chair\",\"chair\",\"chair\",\"chair\",\"chair\",\"chair\",\"chair\",\"chair\",\"chair\",\"chair\",\"chair\",\"chair\",\"chair\",\"chair\",\"chair\",\"chair\",\"chair\",\"chair\",\"chair\",\"chair\",\"chair\",\"chair\",\"chair\",\"chair\",\"chair\",\"chair\",\"chair\",\"chair\",\"chair\",\"chair\",\"chair\",\"chair\",\"chair\",\"chair\",\"chair\",\"chair\",\"chair\",\"chair\",\"chair\",\"chair\",\"chair\",\"chair\",\"chair\",\"chair\",\"chair\",\"chair\",\"chair\",\"chair\",\"chair\",\"chair\",\"chair\",\"chair\",\"chair\",\"chair\",\"chair\",\"chair\",\"chair\",\"chair\",\"chair\",\"chair\",\"chair\",\"chair\",\"chair\",\"chair\",\"chair\",\"chair\",\"chair\",\"chair\",\"chair\",\"chair\",\"chair\",\"chair\",\"chair\",\"chair\",\"chair\",\"chair\",\"chair\",\"chair\"],\"x\":[0.0,0.01,0.02,0.03,0.04,0.05,0.06,0.07,0.08,0.09,0.1,0.11,0.12,0.13,0.14,0.15,0.16,0.17,0.18,0.19,0.2,0.21,0.22,0.23,0.24,0.25,0.26,0.27,0.28,0.29,0.3,0.31,0.32,0.33,0.34,0.35000000000000003,0.36,0.37,0.38,0.39,0.4,0.41000000000000003,0.42,0.43,0.44,0.45,0.46,0.47000000000000003,0.48,0.49,0.5,0.51,0.52,0.53,0.54,0.55,0.56,0.5700000000000001,0.58,0.59,0.6,0.61,0.62,0.63,0.64,0.65,0.66,0.67,0.68,0.6900000000000001,0.7000000000000001,0.71,0.72,0.73,0.74,0.75,0.76,0.77,0.78,0.79,0.8,0.81,0.8200000000000001,0.8300000000000001,0.84,0.85,0.86,0.87,0.88,0.89,0.9,0.91,0.92,0.93,0.9400000000000001,0.9500000000000001,0.96,0.97,0.98,0.99,1.0],\"y\":[0.95,0.8652747252747253,0.8555878084179971,0.8516656571774682,0.8400422874938217,0.8380219780219781,0.8280672268907562,0.8207843137254901,0.8123376623376624,0.778276621825009,0.7725527161011033,0.7619411358173918,0.7440027308414405,0.7210206519883939,0.6932194126745354,0.6598447823077407,0.6398879343199376,0.6227986144290492,0.609710057446126,0.593670719972006,0.5766038885643611,0.5696005599254659,0.5559337611823018,0.530773247547074,0.5071304708284401,0.4964207061250934,0.49489046147479854,0.4831218577174459,0.47225537625972863,0.46833659858234605,0.45825332143257363,0.4496065420204336,0.43576201471232173,0.41797282642803807,0.39302364927931555,0.3730156281147386,0.3644778006662923,0.3460526494611268,0.3265917720149285,0.3080924552178741,0.29329184960718874,0.26896432488367616,0.25032484918339926,0.23746341065643026,0.2257396362464985,0.2052431304522336,0.19234789255395626,0.1820203070650108,0.17067827852429296,0.15394978182384667,0.14368308037625827,0.1329308692308753,0.12376761861030061,0.11180408272915858,0.10487906795452942,0.09450729671822469,0.08129708678336617,0.07287550258551781,0.06665715060725848,0.058469402575698916,0.05104106814387046,0.044950740599995376,0.04228522552590662,0.037335335315719656,0.03306687021460643,0.029662656436294,0.026373773640216702,0.02127592330785638,0.017350546998027593,0.015555252509895623,0.013229283352372103,0.012527075860616896,0.012104980009308788,0.011022820629827323,0.010332790417534468,0.009618410126877423,0.007374726554496026,0.006579675734852951,0.005816379909767118,0.005024060970498355,0.00479166101654944,0.0036483351163272048,0.002127396413110699,0.0019369920961816763,0.0018559527575661712,0.0,0.0,0.0,0.0,0.0,0.0,0.0,0.0,0.0,0.0,0.0,0.0,0.0,0.0,0.0,0.0],\"type\":\"scatter\"},{\"customdata\":[0.9897393584251404,0.9652440071105957,0.9483981907367707,0.8925248414278031,0.6572497665882111,0.6572497665882111,0.5323341935873032,0.49953876435756683,0.4547297812998295,0.3733004596084356,0.3733004596084356,0.34528036415576935,0.30610048174858095,0.2680806517601013,0.23855936378240586,0.23855936378240586,0.2097416765987873,0.19481464996933937,0.18486026488244534,0.1738127786666155,0.1738127786666155,0.16032643392682075,0.14206550195813178,0.1268903587013483,0.1132248256355524,0.1132248256355524,0.0953639917075634,0.08603176176548004,0.08395518250763416,0.08162392564117908,0.08162392564117908,0.07599733956158161,0.06140818670392036,0.048241551220417025,0.046605386212468146,0.04443594627082348,0.04443594627082348,0.04075964353978634,0.03824909031391144,0.03453470803797245,0.03453470803797245,0.03193847052752972,0.02659909725189209,0.02621010094881058,0.024286625534296037,0.024286625534296037,0.02274293005466461,0.020490391179919243,0.015539886057376861,0.01434696391224861,0.01434696391224861,0.012892166897654534,0.009024015814065933,0.008177543058991432,0.007021518982946872,0.007021518982946872,0.006577927060425282,0.005895613506436348,0.0025254571810364723,0.0024861296638846397,0.0024861296638846397,0.0023076724261045455,0.0,0.0,0.0,0.0,0.0,0.0,0.0,0.0,0.0,0.0,0.0,0.0,0.0,0.0,0.0,0.0,0.0,0.0,0.0,0.0,0.0,0.0,0.0,0.0,0.0,0.0,0.0,0.0,0.0,0.0,0.0,0.0,0.0,0.0,0.0,0.0,0.0,0.0,0.0],\"hovertemplate\":\"<b>class: %{text}</b><br>recall: %{x:.3f}<br>precision: %{y:.3f}<br>threshold: %{customdata:.3f}<extra></extra>\",\"line\":{\"color\":\"#990099\"},\"mode\":\"lines\",\"name\":\"bottle (AP = 0.151)\",\"text\":[\"bottle\",\"bottle\",\"bottle\",\"bottle\",\"bottle\",\"bottle\",\"bottle\",\"bottle\",\"bottle\",\"bottle\",\"bottle\",\"bottle\",\"bottle\",\"bottle\",\"bottle\",\"bottle\",\"bottle\",\"bottle\",\"bottle\",\"bottle\",\"bottle\",\"bottle\",\"bottle\",\"bottle\",\"bottle\",\"bottle\",\"bottle\",\"bottle\",\"bottle\",\"bottle\",\"bottle\",\"bottle\",\"bottle\",\"bottle\",\"bottle\",\"bottle\",\"bottle\",\"bottle\",\"bottle\",\"bottle\",\"bottle\",\"bottle\",\"bottle\",\"bottle\",\"bottle\",\"bottle\",\"bottle\",\"bottle\",\"bottle\",\"bottle\",\"bottle\",\"bottle\",\"bottle\",\"bottle\",\"bottle\",\"bottle\",\"bottle\",\"bottle\",\"bottle\",\"bottle\",\"bottle\",\"bottle\",\"bottle\",\"bottle\",\"bottle\",\"bottle\",\"bottle\",\"bottle\",\"bottle\",\"bottle\",\"bottle\",\"bottle\",\"bottle\",\"bottle\",\"bottle\",\"bottle\",\"bottle\",\"bottle\",\"bottle\",\"bottle\",\"bottle\",\"bottle\",\"bottle\",\"bottle\",\"bottle\",\"bottle\",\"bottle\",\"bottle\",\"bottle\",\"bottle\",\"bottle\",\"bottle\",\"bottle\",\"bottle\",\"bottle\",\"bottle\",\"bottle\",\"bottle\",\"bottle\",\"bottle\",\"bottle\"],\"x\":[0.0,0.01,0.02,0.03,0.04,0.05,0.06,0.07,0.08,0.09,0.1,0.11,0.12,0.13,0.14,0.15,0.16,0.17,0.18,0.19,0.2,0.21,0.22,0.23,0.24,0.25,0.26,0.27,0.28,0.29,0.3,0.31,0.32,0.33,0.34,0.35000000000000003,0.36,0.37,0.38,0.39,0.4,0.41000000000000003,0.42,0.43,0.44,0.45,0.46,0.47000000000000003,0.48,0.49,0.5,0.51,0.52,0.53,0.54,0.55,0.56,0.5700000000000001,0.58,0.59,0.6,0.61,0.62,0.63,0.64,0.65,0.66,0.67,0.68,0.6900000000000001,0.7000000000000001,0.71,0.72,0.73,0.74,0.75,0.76,0.77,0.78,0.79,0.8,0.81,0.8200000000000001,0.8300000000000001,0.84,0.85,0.86,0.87,0.88,0.89,0.9,0.91,0.92,0.93,0.9400000000000001,0.9500000000000001,0.96,0.97,0.98,0.99,1.0],\"y\":[0.8888888888888887,0.8888888888888887,0.8888888888888887,0.8630434782608696,0.6355555555555557,0.6355555555555557,0.6128502415458937,0.6012806026365348,0.5689290935672514,0.5343696027633851,0.5343696027633851,0.5325490196078431,0.5124467178175618,0.47983966161715524,0.44638940321891474,0.44638940321891474,0.39564628520587064,0.37708039618722045,0.3657147173401561,0.3474302996077075,0.3474302996077075,0.33420821249645877,0.3041054321689496,0.2698082908687523,0.2369676166425015,0.2369676166425015,0.20424108376259387,0.1754432917008645,0.1726842698278877,0.17184700755247212,0.17184700755247212,0.16221327201437216,0.13599376114081996,0.08294438987350813,0.07706855641689261,0.0711681192308393,0.0711681192308393,0.06007573761339059,0.05244020742391594,0.0416839713387538,0.0416839713387538,0.035659798357210816,0.030675178149908118,0.030528217490815513,0.02521831103841099,0.02521831103841099,0.022167773439239702,0.017092971695304156,0.012553069587065696,0.010676796553917381,0.010676796553917381,0.008851938266401533,0.006415141426229787,0.005655402383465163,0.0049054177484898044,0.0049054177484898044,0.004529213213382857,0.004075839110234758,0.0017473607571896616,0.0017473607571896616,0.0017473607571896616,0.0016404419149648477,0.0,0.0,0.0,0.0,0.0,0.0,0.0,0.0,0.0,0.0,0.0,0.0,0.0,0.0,0.0,0.0,0.0,0.0,0.0,0.0,0.0,0.0,0.0,0.0,0.0,0.0,0.0,0.0,0.0,0.0,0.0,0.0,0.0,0.0,0.0,0.0,0.0,0.0,0.0],\"type\":\"scatter\"}],                        {\"template\":{\"data\":{\"barpolar\":[{\"marker\":{\"line\":{\"color\":\"rgb(237,237,237)\",\"width\":0.5},\"pattern\":{\"fillmode\":\"overlay\",\"size\":10,\"solidity\":0.2}},\"type\":\"barpolar\"}],\"bar\":[{\"error_x\":{\"color\":\"rgb(51,51,51)\"},\"error_y\":{\"color\":\"rgb(51,51,51)\"},\"marker\":{\"line\":{\"color\":\"rgb(237,237,237)\",\"width\":0.5},\"pattern\":{\"fillmode\":\"overlay\",\"size\":10,\"solidity\":0.2}},\"type\":\"bar\"}],\"carpet\":[{\"aaxis\":{\"endlinecolor\":\"rgb(51,51,51)\",\"gridcolor\":\"white\",\"linecolor\":\"white\",\"minorgridcolor\":\"white\",\"startlinecolor\":\"rgb(51,51,51)\"},\"baxis\":{\"endlinecolor\":\"rgb(51,51,51)\",\"gridcolor\":\"white\",\"linecolor\":\"white\",\"minorgridcolor\":\"white\",\"startlinecolor\":\"rgb(51,51,51)\"},\"type\":\"carpet\"}],\"choropleth\":[{\"colorbar\":{\"outlinewidth\":0,\"tickcolor\":\"rgb(237,237,237)\",\"ticklen\":6,\"ticks\":\"inside\"},\"type\":\"choropleth\"}],\"contourcarpet\":[{\"colorbar\":{\"outlinewidth\":0,\"tickcolor\":\"rgb(237,237,237)\",\"ticklen\":6,\"ticks\":\"inside\"},\"type\":\"contourcarpet\"}],\"contour\":[{\"colorbar\":{\"outlinewidth\":0,\"tickcolor\":\"rgb(237,237,237)\",\"ticklen\":6,\"ticks\":\"inside\"},\"colorscale\":[[0,\"rgb(20,44,66)\"],[1,\"rgb(90,179,244)\"]],\"type\":\"contour\"}],\"heatmapgl\":[{\"colorbar\":{\"outlinewidth\":0,\"tickcolor\":\"rgb(237,237,237)\",\"ticklen\":6,\"ticks\":\"inside\"},\"colorscale\":[[0,\"rgb(20,44,66)\"],[1,\"rgb(90,179,244)\"]],\"type\":\"heatmapgl\"}],\"heatmap\":[{\"colorbar\":{\"outlinewidth\":0,\"tickcolor\":\"rgb(237,237,237)\",\"ticklen\":6,\"ticks\":\"inside\"},\"colorscale\":[[0,\"rgb(20,44,66)\"],[1,\"rgb(90,179,244)\"]],\"type\":\"heatmap\"}],\"histogram2dcontour\":[{\"colorbar\":{\"outlinewidth\":0,\"tickcolor\":\"rgb(237,237,237)\",\"ticklen\":6,\"ticks\":\"inside\"},\"colorscale\":[[0,\"rgb(20,44,66)\"],[1,\"rgb(90,179,244)\"]],\"type\":\"histogram2dcontour\"}],\"histogram2d\":[{\"colorbar\":{\"outlinewidth\":0,\"tickcolor\":\"rgb(237,237,237)\",\"ticklen\":6,\"ticks\":\"inside\"},\"colorscale\":[[0,\"rgb(20,44,66)\"],[1,\"rgb(90,179,244)\"]],\"type\":\"histogram2d\"}],\"histogram\":[{\"marker\":{\"pattern\":{\"fillmode\":\"overlay\",\"size\":10,\"solidity\":0.2}},\"type\":\"histogram\"}],\"mesh3d\":[{\"colorbar\":{\"outlinewidth\":0,\"tickcolor\":\"rgb(237,237,237)\",\"ticklen\":6,\"ticks\":\"inside\"},\"type\":\"mesh3d\"}],\"parcoords\":[{\"line\":{\"colorbar\":{\"outlinewidth\":0,\"tickcolor\":\"rgb(237,237,237)\",\"ticklen\":6,\"ticks\":\"inside\"}},\"type\":\"parcoords\"}],\"pie\":[{\"automargin\":true,\"type\":\"pie\"}],\"scatter3d\":[{\"line\":{\"colorbar\":{\"outlinewidth\":0,\"tickcolor\":\"rgb(237,237,237)\",\"ticklen\":6,\"ticks\":\"inside\"}},\"marker\":{\"colorbar\":{\"outlinewidth\":0,\"tickcolor\":\"rgb(237,237,237)\",\"ticklen\":6,\"ticks\":\"inside\"}},\"type\":\"scatter3d\"}],\"scattercarpet\":[{\"marker\":{\"colorbar\":{\"outlinewidth\":0,\"tickcolor\":\"rgb(237,237,237)\",\"ticklen\":6,\"ticks\":\"inside\"}},\"type\":\"scattercarpet\"}],\"scattergeo\":[{\"marker\":{\"colorbar\":{\"outlinewidth\":0,\"tickcolor\":\"rgb(237,237,237)\",\"ticklen\":6,\"ticks\":\"inside\"}},\"type\":\"scattergeo\"}],\"scattergl\":[{\"marker\":{\"colorbar\":{\"outlinewidth\":0,\"tickcolor\":\"rgb(237,237,237)\",\"ticklen\":6,\"ticks\":\"inside\"}},\"type\":\"scattergl\"}],\"scattermapbox\":[{\"marker\":{\"colorbar\":{\"outlinewidth\":0,\"tickcolor\":\"rgb(237,237,237)\",\"ticklen\":6,\"ticks\":\"inside\"}},\"type\":\"scattermapbox\"}],\"scatterpolargl\":[{\"marker\":{\"colorbar\":{\"outlinewidth\":0,\"tickcolor\":\"rgb(237,237,237)\",\"ticklen\":6,\"ticks\":\"inside\"}},\"type\":\"scatterpolargl\"}],\"scatterpolar\":[{\"marker\":{\"colorbar\":{\"outlinewidth\":0,\"tickcolor\":\"rgb(237,237,237)\",\"ticklen\":6,\"ticks\":\"inside\"}},\"type\":\"scatterpolar\"}],\"scatter\":[{\"marker\":{\"colorbar\":{\"outlinewidth\":0,\"tickcolor\":\"rgb(237,237,237)\",\"ticklen\":6,\"ticks\":\"inside\"}},\"type\":\"scatter\"}],\"scatterternary\":[{\"marker\":{\"colorbar\":{\"outlinewidth\":0,\"tickcolor\":\"rgb(237,237,237)\",\"ticklen\":6,\"ticks\":\"inside\"}},\"type\":\"scatterternary\"}],\"surface\":[{\"colorbar\":{\"outlinewidth\":0,\"tickcolor\":\"rgb(237,237,237)\",\"ticklen\":6,\"ticks\":\"inside\"},\"colorscale\":[[0,\"rgb(20,44,66)\"],[1,\"rgb(90,179,244)\"]],\"type\":\"surface\"}],\"table\":[{\"cells\":{\"fill\":{\"color\":\"rgb(237,237,237)\"},\"line\":{\"color\":\"white\"}},\"header\":{\"fill\":{\"color\":\"rgb(217,217,217)\"},\"line\":{\"color\":\"white\"}},\"type\":\"table\"}]},\"layout\":{\"annotationdefaults\":{\"arrowhead\":0,\"arrowwidth\":1},\"autotypenumbers\":\"strict\",\"coloraxis\":{\"colorbar\":{\"outlinewidth\":0,\"tickcolor\":\"rgb(237,237,237)\",\"ticklen\":6,\"ticks\":\"inside\"}},\"colorscale\":{\"sequential\":[[0,\"rgb(20,44,66)\"],[1,\"rgb(90,179,244)\"]],\"sequentialminus\":[[0,\"rgb(20,44,66)\"],[1,\"rgb(90,179,244)\"]]},\"colorway\":[\"#F8766D\",\"#A3A500\",\"#00BF7D\",\"#00B0F6\",\"#E76BF3\"],\"font\":{\"color\":\"rgb(51,51,51)\"},\"geo\":{\"bgcolor\":\"white\",\"lakecolor\":\"white\",\"landcolor\":\"rgb(237,237,237)\",\"showlakes\":true,\"showland\":true,\"subunitcolor\":\"white\"},\"hoverlabel\":{\"align\":\"left\"},\"hovermode\":\"closest\",\"paper_bgcolor\":\"white\",\"plot_bgcolor\":\"rgb(237,237,237)\",\"polar\":{\"angularaxis\":{\"gridcolor\":\"white\",\"linecolor\":\"white\",\"showgrid\":true,\"tickcolor\":\"rgb(51,51,51)\",\"ticks\":\"outside\"},\"bgcolor\":\"rgb(237,237,237)\",\"radialaxis\":{\"gridcolor\":\"white\",\"linecolor\":\"white\",\"showgrid\":true,\"tickcolor\":\"rgb(51,51,51)\",\"ticks\":\"outside\"}},\"scene\":{\"xaxis\":{\"backgroundcolor\":\"rgb(237,237,237)\",\"gridcolor\":\"white\",\"gridwidth\":2,\"linecolor\":\"white\",\"showbackground\":true,\"showgrid\":true,\"tickcolor\":\"rgb(51,51,51)\",\"ticks\":\"outside\",\"zerolinecolor\":\"white\"},\"yaxis\":{\"backgroundcolor\":\"rgb(237,237,237)\",\"gridcolor\":\"white\",\"gridwidth\":2,\"linecolor\":\"white\",\"showbackground\":true,\"showgrid\":true,\"tickcolor\":\"rgb(51,51,51)\",\"ticks\":\"outside\",\"zerolinecolor\":\"white\"},\"zaxis\":{\"backgroundcolor\":\"rgb(237,237,237)\",\"gridcolor\":\"white\",\"gridwidth\":2,\"linecolor\":\"white\",\"showbackground\":true,\"showgrid\":true,\"tickcolor\":\"rgb(51,51,51)\",\"ticks\":\"outside\",\"zerolinecolor\":\"white\"}},\"shapedefaults\":{\"fillcolor\":\"black\",\"line\":{\"width\":0},\"opacity\":0.3},\"ternary\":{\"aaxis\":{\"gridcolor\":\"white\",\"linecolor\":\"white\",\"showgrid\":true,\"tickcolor\":\"rgb(51,51,51)\",\"ticks\":\"outside\"},\"baxis\":{\"gridcolor\":\"white\",\"linecolor\":\"white\",\"showgrid\":true,\"tickcolor\":\"rgb(51,51,51)\",\"ticks\":\"outside\"},\"bgcolor\":\"rgb(237,237,237)\",\"caxis\":{\"gridcolor\":\"white\",\"linecolor\":\"white\",\"showgrid\":true,\"tickcolor\":\"rgb(51,51,51)\",\"ticks\":\"outside\"}},\"xaxis\":{\"automargin\":true,\"gridcolor\":\"white\",\"linecolor\":\"white\",\"showgrid\":true,\"tickcolor\":\"rgb(51,51,51)\",\"ticks\":\"outside\",\"title\":{\"standoff\":15},\"zerolinecolor\":\"white\"},\"yaxis\":{\"automargin\":true,\"gridcolor\":\"white\",\"linecolor\":\"white\",\"showgrid\":true,\"tickcolor\":\"rgb(51,51,51)\",\"ticks\":\"outside\",\"title\":{\"standoff\":15},\"zerolinecolor\":\"white\"}}},\"shapes\":[{\"line\":{\"dash\":\"dash\"},\"type\":\"line\",\"x0\":0,\"x1\":1,\"y0\":1,\"y1\":0}],\"xaxis\":{\"range\":[0,1],\"constrain\":\"domain\",\"title\":{\"text\":\"Recall\"}},\"yaxis\":{\"range\":[0,1],\"constrain\":\"domain\",\"scaleanchor\":\"x\",\"scaleratio\":1,\"title\":{\"text\":\"Precision\"}},\"title\":{},\"margin\":{\"r\":0,\"t\":30,\"l\":0,\"b\":0}},                        {\"responsive\": true}                    ).then(function(){\n",
              "                            \n",
              "var gd = document.getElementById('ec43966d-a2ab-4cce-9d3a-69679d6f1d3e');\n",
              "var x = new MutationObserver(function (mutations, observer) {{\n",
              "        var display = window.getComputedStyle(gd).display;\n",
              "        if (!display || display === 'none') {{\n",
              "            console.log([gd, 'removed!']);\n",
              "            Plotly.purge(gd);\n",
              "            observer.disconnect();\n",
              "        }}\n",
              "}});\n",
              "\n",
              "// Listen for the removal of the full notebook cells\n",
              "var notebookContainer = gd.closest('#notebook-container');\n",
              "if (notebookContainer) {{\n",
              "    x.observe(notebookContainer, {childList: true});\n",
              "}}\n",
              "\n",
              "// Listen for the clearing of the current output cell\n",
              "var outputEl = gd.closest('.output');\n",
              "if (outputEl) {{\n",
              "    x.observe(outputEl, {childList: true});\n",
              "}}\n",
              "\n",
              "                        })                };                            </script>        </div>\n",
              "</body>\n",
              "</html>"
            ]
          },
          "metadata": {}
        }
      ]
    },
    {
      "cell_type": "markdown",
      "source": [
        "# Confusion matrix for the 5 most common classes"
      ],
      "metadata": {
        "id": "VhwG4Xa96cFY"
      }
    },
    {
      "cell_type": "code",
      "source": [
        "plot = results_voc2012.plot_confusion_matrix(classes=classes_top5)\n",
        "plot.show()\n",
        "\n",
        "# Connect to session\n",
        "session.plots.attach(plot)"
      ],
      "metadata": {
        "id": "GElYRpq20o9R",
        "colab": {
          "base_uri": "https://localhost:8080/",
          "height": 666
        },
        "outputId": "46d44453-8cb3-4744-a87e-59981f50ade2"
      },
      "execution_count": null,
      "outputs": [
        {
          "output_type": "stream",
          "name": "stderr",
          "text": [
            "/usr/local/lib/python3.8/dist-packages/fiftyone/core/plots/plotly.py:1782: UserWarning:\n",
            "\n",
            "Interactive plots are currently only supported in Jupyter notebooks. Support outside of notebooks and in Google Colab will be included in an upcoming release. In the meantime, you can still use this plot, but note that (i) selecting data will not trigger callbacks, and (ii) you must manually call `plot.show()` to launch a new plot that reflects the current state of an attached session.\n",
            "\n",
            "See https://voxel51.com/docs/fiftyone/user_guide/plots.html#working-in-notebooks for more information.\n",
            "\n"
          ]
        },
        {
          "output_type": "display_data",
          "data": {
            "text/html": [
              "<html>\n",
              "<head><meta charset=\"utf-8\" /></head>\n",
              "<body>\n",
              "    <div>            <script src=\"https://cdnjs.cloudflare.com/ajax/libs/mathjax/2.7.5/MathJax.js?config=TeX-AMS-MML_SVG\"></script><script type=\"text/javascript\">if (window.MathJax) {MathJax.Hub.Config({SVG: {font: \"STIX-Web\"}});}</script>                <script type=\"text/javascript\">window.PlotlyConfig = {MathJaxConfig: 'local'};</script>\n",
              "        <script src=\"https://cdn.plot.ly/plotly-2.8.3.min.js\"></script>                <div id=\"fb397e1a-e1fd-4323-98ce-44da021ace79\" class=\"plotly-graph-div\" style=\"height:525px; width:100%;\"></div>            <script type=\"text/javascript\">                                    window.PLOTLYENV=window.PLOTLYENV || {};                                    if (document.getElementById(\"fb397e1a-e1fd-4323-98ce-44da021ace79\")) {                    Plotly.newPlot(                        \"fb397e1a-e1fd-4323-98ce-44da021ace79\",                        [{\"mode\":\"markers\",\"opacity\":0.1,\"x\":[0,1,2,3,4,5,0,1,2,3,4,5,0,1,2,3,4,5,0,1,2,3,4,5,0,1,2,3,4,5,0,1,2,3,4,5],\"y\":[0,0,0,0,0,0,1,1,1,1,1,1,2,2,2,2,2,2,3,3,3,3,3,3,4,4,4,4,4,4,5,5,5,5,5,5],\"type\":\"scatter\",\"uid\":\"c74dd847-2a57-4b8e-a456-e14a9954c908\"},{\"colorscale\":[[0.0,\"rgb(255,245,235)\"],[0.125,\"rgb(254,230,206)\"],[0.25,\"rgb(253,208,162)\"],[0.375,\"rgb(253,174,107)\"],[0.5,\"rgb(253,141,60)\"],[0.625,\"rgb(241,105,19)\"],[0.75,\"rgb(217,72,1)\"],[0.875,\"rgb(166,54,3)\"],[1.0,\"rgb(127,39,4)\"]],\"hoverinfo\":\"skip\",\"showscale\":false,\"z\":[[83990,23128,13238,4035,5222,0],[0,0,0,0,49,31],[0,0,0,134,0,5],[0,0,191,0,0,46],[0,177,0,0,0,32],[816,0,0,0,0,105]],\"zmax\":83990,\"zmin\":0,\"type\":\"heatmap\",\"uid\":\"48392e5b-1311-4d40-b3d9-3cbb1a3964b4\"},{\"colorbar\":{\"len\":1,\"lenmode\":\"fraction\"},\"colorscale\":[[0.0,\"rgb(255,245,235)\"],[0.125,\"rgb(254,230,206)\"],[0.25,\"rgb(253,208,162)\"],[0.375,\"rgb(253,174,107)\"],[0.5,\"rgb(253,141,60)\"],[0.625,\"rgb(241,105,19)\"],[0.75,\"rgb(217,72,1)\"],[0.875,\"rgb(166,54,3)\"],[1.0,\"rgb(127,39,4)\"]],\"hovertemplate\":\"<b>count: %{z}</b><br>truth: %{y}<br>predicted: %{x}<extra></extra>\",\"opacity\":0.25,\"z\":[[83990,23128,13238,4035,5222,0],[0,0,0,0,49,31],[0,0,0,134,0,5],[0,0,191,0,0,46],[0,177,0,0,0,32],[816,0,0,0,0,105]],\"zmax\":83990,\"zmin\":0,\"type\":\"heatmap\",\"uid\":\"fb61e6ca-7ccf-421c-9c95-fdc02fb50a6d\"}],                        {\"clickmode\":\"event\",\"template\":{\"data\":{\"barpolar\":[{\"marker\":{\"line\":{\"color\":\"rgb(237,237,237)\",\"width\":0.5},\"pattern\":{\"fillmode\":\"overlay\",\"size\":10,\"solidity\":0.2}},\"type\":\"barpolar\"}],\"bar\":[{\"error_x\":{\"color\":\"rgb(51,51,51)\"},\"error_y\":{\"color\":\"rgb(51,51,51)\"},\"marker\":{\"line\":{\"color\":\"rgb(237,237,237)\",\"width\":0.5},\"pattern\":{\"fillmode\":\"overlay\",\"size\":10,\"solidity\":0.2}},\"type\":\"bar\"}],\"carpet\":[{\"aaxis\":{\"endlinecolor\":\"rgb(51,51,51)\",\"gridcolor\":\"white\",\"linecolor\":\"white\",\"minorgridcolor\":\"white\",\"startlinecolor\":\"rgb(51,51,51)\"},\"baxis\":{\"endlinecolor\":\"rgb(51,51,51)\",\"gridcolor\":\"white\",\"linecolor\":\"white\",\"minorgridcolor\":\"white\",\"startlinecolor\":\"rgb(51,51,51)\"},\"type\":\"carpet\"}],\"choropleth\":[{\"colorbar\":{\"outlinewidth\":0,\"tickcolor\":\"rgb(237,237,237)\",\"ticklen\":6,\"ticks\":\"inside\"},\"type\":\"choropleth\"}],\"contourcarpet\":[{\"colorbar\":{\"outlinewidth\":0,\"tickcolor\":\"rgb(237,237,237)\",\"ticklen\":6,\"ticks\":\"inside\"},\"type\":\"contourcarpet\"}],\"contour\":[{\"colorbar\":{\"outlinewidth\":0,\"tickcolor\":\"rgb(237,237,237)\",\"ticklen\":6,\"ticks\":\"inside\"},\"colorscale\":[[0,\"rgb(20,44,66)\"],[1,\"rgb(90,179,244)\"]],\"type\":\"contour\"}],\"heatmapgl\":[{\"colorbar\":{\"outlinewidth\":0,\"tickcolor\":\"rgb(237,237,237)\",\"ticklen\":6,\"ticks\":\"inside\"},\"colorscale\":[[0,\"rgb(20,44,66)\"],[1,\"rgb(90,179,244)\"]],\"type\":\"heatmapgl\"}],\"heatmap\":[{\"colorbar\":{\"outlinewidth\":0,\"tickcolor\":\"rgb(237,237,237)\",\"ticklen\":6,\"ticks\":\"inside\"},\"colorscale\":[[0,\"rgb(20,44,66)\"],[1,\"rgb(90,179,244)\"]],\"type\":\"heatmap\"}],\"histogram2dcontour\":[{\"colorbar\":{\"outlinewidth\":0,\"tickcolor\":\"rgb(237,237,237)\",\"ticklen\":6,\"ticks\":\"inside\"},\"colorscale\":[[0,\"rgb(20,44,66)\"],[1,\"rgb(90,179,244)\"]],\"type\":\"histogram2dcontour\"}],\"histogram2d\":[{\"colorbar\":{\"outlinewidth\":0,\"tickcolor\":\"rgb(237,237,237)\",\"ticklen\":6,\"ticks\":\"inside\"},\"colorscale\":[[0,\"rgb(20,44,66)\"],[1,\"rgb(90,179,244)\"]],\"type\":\"histogram2d\"}],\"histogram\":[{\"marker\":{\"pattern\":{\"fillmode\":\"overlay\",\"size\":10,\"solidity\":0.2}},\"type\":\"histogram\"}],\"mesh3d\":[{\"colorbar\":{\"outlinewidth\":0,\"tickcolor\":\"rgb(237,237,237)\",\"ticklen\":6,\"ticks\":\"inside\"},\"type\":\"mesh3d\"}],\"parcoords\":[{\"line\":{\"colorbar\":{\"outlinewidth\":0,\"tickcolor\":\"rgb(237,237,237)\",\"ticklen\":6,\"ticks\":\"inside\"}},\"type\":\"parcoords\"}],\"pie\":[{\"automargin\":true,\"type\":\"pie\"}],\"scatter3d\":[{\"line\":{\"colorbar\":{\"outlinewidth\":0,\"tickcolor\":\"rgb(237,237,237)\",\"ticklen\":6,\"ticks\":\"inside\"}},\"marker\":{\"colorbar\":{\"outlinewidth\":0,\"tickcolor\":\"rgb(237,237,237)\",\"ticklen\":6,\"ticks\":\"inside\"}},\"type\":\"scatter3d\"}],\"scattercarpet\":[{\"marker\":{\"colorbar\":{\"outlinewidth\":0,\"tickcolor\":\"rgb(237,237,237)\",\"ticklen\":6,\"ticks\":\"inside\"}},\"type\":\"scattercarpet\"}],\"scattergeo\":[{\"marker\":{\"colorbar\":{\"outlinewidth\":0,\"tickcolor\":\"rgb(237,237,237)\",\"ticklen\":6,\"ticks\":\"inside\"}},\"type\":\"scattergeo\"}],\"scattergl\":[{\"marker\":{\"colorbar\":{\"outlinewidth\":0,\"tickcolor\":\"rgb(237,237,237)\",\"ticklen\":6,\"ticks\":\"inside\"}},\"type\":\"scattergl\"}],\"scattermapbox\":[{\"marker\":{\"colorbar\":{\"outlinewidth\":0,\"tickcolor\":\"rgb(237,237,237)\",\"ticklen\":6,\"ticks\":\"inside\"}},\"type\":\"scattermapbox\"}],\"scatterpolargl\":[{\"marker\":{\"colorbar\":{\"outlinewidth\":0,\"tickcolor\":\"rgb(237,237,237)\",\"ticklen\":6,\"ticks\":\"inside\"}},\"type\":\"scatterpolargl\"}],\"scatterpolar\":[{\"marker\":{\"colorbar\":{\"outlinewidth\":0,\"tickcolor\":\"rgb(237,237,237)\",\"ticklen\":6,\"ticks\":\"inside\"}},\"type\":\"scatterpolar\"}],\"scatter\":[{\"marker\":{\"colorbar\":{\"outlinewidth\":0,\"tickcolor\":\"rgb(237,237,237)\",\"ticklen\":6,\"ticks\":\"inside\"}},\"type\":\"scatter\"}],\"scatterternary\":[{\"marker\":{\"colorbar\":{\"outlinewidth\":0,\"tickcolor\":\"rgb(237,237,237)\",\"ticklen\":6,\"ticks\":\"inside\"}},\"type\":\"scatterternary\"}],\"surface\":[{\"colorbar\":{\"outlinewidth\":0,\"tickcolor\":\"rgb(237,237,237)\",\"ticklen\":6,\"ticks\":\"inside\"},\"colorscale\":[[0,\"rgb(20,44,66)\"],[1,\"rgb(90,179,244)\"]],\"type\":\"surface\"}],\"table\":[{\"cells\":{\"fill\":{\"color\":\"rgb(237,237,237)\"},\"line\":{\"color\":\"white\"}},\"header\":{\"fill\":{\"color\":\"rgb(217,217,217)\"},\"line\":{\"color\":\"white\"}},\"type\":\"table\"}]},\"layout\":{\"annotationdefaults\":{\"arrowhead\":0,\"arrowwidth\":1},\"autotypenumbers\":\"strict\",\"coloraxis\":{\"colorbar\":{\"outlinewidth\":0,\"tickcolor\":\"rgb(237,237,237)\",\"ticklen\":6,\"ticks\":\"inside\"}},\"colorscale\":{\"sequential\":[[0,\"rgb(20,44,66)\"],[1,\"rgb(90,179,244)\"]],\"sequentialminus\":[[0,\"rgb(20,44,66)\"],[1,\"rgb(90,179,244)\"]]},\"colorway\":[\"#F8766D\",\"#A3A500\",\"#00BF7D\",\"#00B0F6\",\"#E76BF3\"],\"font\":{\"color\":\"rgb(51,51,51)\"},\"geo\":{\"bgcolor\":\"white\",\"lakecolor\":\"white\",\"landcolor\":\"rgb(237,237,237)\",\"showlakes\":true,\"showland\":true,\"subunitcolor\":\"white\"},\"hoverlabel\":{\"align\":\"left\"},\"hovermode\":\"closest\",\"paper_bgcolor\":\"white\",\"plot_bgcolor\":\"rgb(237,237,237)\",\"polar\":{\"angularaxis\":{\"gridcolor\":\"white\",\"linecolor\":\"white\",\"showgrid\":true,\"tickcolor\":\"rgb(51,51,51)\",\"ticks\":\"outside\"},\"bgcolor\":\"rgb(237,237,237)\",\"radialaxis\":{\"gridcolor\":\"white\",\"linecolor\":\"white\",\"showgrid\":true,\"tickcolor\":\"rgb(51,51,51)\",\"ticks\":\"outside\"}},\"scene\":{\"xaxis\":{\"backgroundcolor\":\"rgb(237,237,237)\",\"gridcolor\":\"white\",\"gridwidth\":2,\"linecolor\":\"white\",\"showbackground\":true,\"showgrid\":true,\"tickcolor\":\"rgb(51,51,51)\",\"ticks\":\"outside\",\"zerolinecolor\":\"white\"},\"yaxis\":{\"backgroundcolor\":\"rgb(237,237,237)\",\"gridcolor\":\"white\",\"gridwidth\":2,\"linecolor\":\"white\",\"showbackground\":true,\"showgrid\":true,\"tickcolor\":\"rgb(51,51,51)\",\"ticks\":\"outside\",\"zerolinecolor\":\"white\"},\"zaxis\":{\"backgroundcolor\":\"rgb(237,237,237)\",\"gridcolor\":\"white\",\"gridwidth\":2,\"linecolor\":\"white\",\"showbackground\":true,\"showgrid\":true,\"tickcolor\":\"rgb(51,51,51)\",\"ticks\":\"outside\",\"zerolinecolor\":\"white\"}},\"shapedefaults\":{\"fillcolor\":\"black\",\"line\":{\"width\":0},\"opacity\":0.3},\"ternary\":{\"aaxis\":{\"gridcolor\":\"white\",\"linecolor\":\"white\",\"showgrid\":true,\"tickcolor\":\"rgb(51,51,51)\",\"ticks\":\"outside\"},\"baxis\":{\"gridcolor\":\"white\",\"linecolor\":\"white\",\"showgrid\":true,\"tickcolor\":\"rgb(51,51,51)\",\"ticks\":\"outside\"},\"bgcolor\":\"rgb(237,237,237)\",\"caxis\":{\"gridcolor\":\"white\",\"linecolor\":\"white\",\"showgrid\":true,\"tickcolor\":\"rgb(51,51,51)\",\"ticks\":\"outside\"}},\"xaxis\":{\"automargin\":true,\"gridcolor\":\"white\",\"linecolor\":\"white\",\"showgrid\":true,\"tickcolor\":\"rgb(51,51,51)\",\"ticks\":\"outside\",\"title\":{\"standoff\":15},\"zerolinecolor\":\"white\"},\"yaxis\":{\"automargin\":true,\"gridcolor\":\"white\",\"linecolor\":\"white\",\"showgrid\":true,\"tickcolor\":\"rgb(51,51,51)\",\"ticks\":\"outside\",\"title\":{\"standoff\":15},\"zerolinecolor\":\"white\"}}},\"xaxis\":{\"constrain\":\"domain\",\"range\":[-0.5,5.5],\"tickmode\":\"array\",\"ticktext\":[\"person\",\"chair\",\"car\",\"dog\",\"bottle\",\"(none)\"],\"tickvals\":[0,1,2,3,4,5]},\"yaxis\":{\"constrain\":\"domain\",\"range\":[-0.5,5.5],\"scaleanchor\":\"x\",\"scaleratio\":1,\"tickmode\":\"array\",\"ticktext\":[\"(none)\",\"bottle\",\"dog\",\"car\",\"chair\",\"person\"],\"tickvals\":[0,1,2,3,4,5]},\"margin\":{\"r\":0,\"t\":30,\"l\":0,\"b\":0},\"title\":{}},                        {\"responsive\": true}                    ).then(function(){\n",
              "                            \n",
              "var gd = document.getElementById('fb397e1a-e1fd-4323-98ce-44da021ace79');\n",
              "var x = new MutationObserver(function (mutations, observer) {{\n",
              "        var display = window.getComputedStyle(gd).display;\n",
              "        if (!display || display === 'none') {{\n",
              "            console.log([gd, 'removed!']);\n",
              "            Plotly.purge(gd);\n",
              "            observer.disconnect();\n",
              "        }}\n",
              "}});\n",
              "\n",
              "// Listen for the removal of the full notebook cells\n",
              "var notebookContainer = gd.closest('#notebook-container');\n",
              "if (notebookContainer) {{\n",
              "    x.observe(notebookContainer, {childList: true});\n",
              "}}\n",
              "\n",
              "// Listen for the clearing of the current output cell\n",
              "var outputEl = gd.closest('.output');\n",
              "if (outputEl) {{\n",
              "    x.observe(outputEl, {childList: true});\n",
              "}}\n",
              "\n",
              "                        })                };                            </script>        </div>\n",
              "</body>\n",
              "</html>"
            ]
          },
          "metadata": {}
        }
      ]
    },
    {
      "cell_type": "markdown",
      "source": [
        "# Printing a classification report for all 20 classes"
      ],
      "metadata": {
        "id": "cGfmjZuE6fcH"
      }
    },
    {
      "cell_type": "code",
      "source": [
        "counts = dataset_voc2012.count_values(\"ground_truth.detections.label\")\n",
        "classes_20 = sorted(counts, key=counts.get, reverse=True)[:20]\n",
        "\n",
        "results_voc2012.print_report(classes=classes_20)"
      ],
      "metadata": {
        "id": "HJrdYopB0qk7",
        "colab": {
          "base_uri": "https://localhost:8080/"
        },
        "outputId": "c9cb97e7-4ab9-4255-8f32-b632db8bfb4b"
      },
      "execution_count": null,
      "outputs": [
        {
          "output_type": "stream",
          "name": "stdout",
          "text": [
            "              precision    recall  f1-score   support\n",
            "\n",
            "      person       0.01      0.89      0.02       921\n",
            "       chair       0.01      0.85      0.02       209\n",
            "         car       0.01      0.81      0.03       237\n",
            "         dog       0.03      0.96      0.06       139\n",
            "      bottle       0.01      0.61      0.02        80\n",
            "        bird       0.00      0.91      0.01        91\n",
            "         cat       0.02      0.97      0.04       114\n",
            " pottedplant       0.00      0.00      0.00        69\n",
            "        boat       0.01      0.84      0.02        77\n",
            "       sheep       0.01      0.89      0.03        73\n",
            "   aeroplane       0.00      0.00      0.00        80\n",
            "   tvmonitor       0.00      0.00      0.00        59\n",
            "        sofa       0.00      0.00      0.00        49\n",
            "     bicycle       0.02      0.98      0.03        54\n",
            "   motorbike       0.00      0.00      0.00        65\n",
            " diningtable       0.00      0.00      0.00        61\n",
            "       horse       0.02      0.90      0.04        69\n",
            "         cow       0.02      0.89      0.04        71\n",
            "       train       0.03      0.93      0.05        46\n",
            "         bus       0.05      0.96      0.10        53\n",
            "\n",
            "   micro avg       0.01      0.75      0.02      2617\n",
            "   macro avg       0.01      0.62      0.03      2617\n",
            "weighted avg       0.01      0.75      0.02      2617\n",
            "\n"
          ]
        }
      ]
    },
    {
      "cell_type": "markdown",
      "source": [
        "# Confusion matrix for all the 20 classes"
      ],
      "metadata": {
        "id": "cCNp_2YA6iB9"
      }
    },
    {
      "cell_type": "code",
      "source": [
        "plot = results_voc2012.plot_confusion_matrix(classes=classes_20)\n",
        "plot.show()\n",
        "\n",
        "# Connect to session\n",
        "session.plots.attach(plot)"
      ],
      "metadata": {
        "id": "r67bYZlw0sCR",
        "colab": {
          "base_uri": "https://localhost:8080/",
          "height": 666
        },
        "outputId": "73399656-3689-498c-d324-d7f8a84b5874"
      },
      "execution_count": null,
      "outputs": [
        {
          "output_type": "stream",
          "name": "stderr",
          "text": [
            "/usr/local/lib/python3.8/dist-packages/fiftyone/core/plots/plotly.py:1782: UserWarning:\n",
            "\n",
            "Interactive plots are currently only supported in Jupyter notebooks. Support outside of notebooks and in Google Colab will be included in an upcoming release. In the meantime, you can still use this plot, but note that (i) selecting data will not trigger callbacks, and (ii) you must manually call `plot.show()` to launch a new plot that reflects the current state of an attached session.\n",
            "\n",
            "See https://voxel51.com/docs/fiftyone/user_guide/plots.html#working-in-notebooks for more information.\n",
            "\n"
          ]
        },
        {
          "output_type": "display_data",
          "data": {
            "text/html": [
              "<html>\n",
              "<head><meta charset=\"utf-8\" /></head>\n",
              "<body>\n",
              "    <div>            <script src=\"https://cdnjs.cloudflare.com/ajax/libs/mathjax/2.7.5/MathJax.js?config=TeX-AMS-MML_SVG\"></script><script type=\"text/javascript\">if (window.MathJax) {MathJax.Hub.Config({SVG: {font: \"STIX-Web\"}});}</script>                <script type=\"text/javascript\">window.PlotlyConfig = {MathJaxConfig: 'local'};</script>\n",
              "        <script src=\"https://cdn.plot.ly/plotly-2.8.3.min.js\"></script>                <div id=\"0082424a-88fe-4240-a5c4-e953287aca38\" class=\"plotly-graph-div\" style=\"height:525px; width:100%;\"></div>            <script type=\"text/javascript\">                                    window.PLOTLYENV=window.PLOTLYENV || {};                                    if (document.getElementById(\"0082424a-88fe-4240-a5c4-e953287aca38\")) {                    Plotly.newPlot(                        \"0082424a-88fe-4240-a5c4-e953287aca38\",                        [{\"mode\":\"markers\",\"opacity\":0.1,\"x\":[0,1,2,3,4,5,6,7,8,9,10,11,12,13,14,15,16,17,18,19,20,0,1,2,3,4,5,6,7,8,9,10,11,12,13,14,15,16,17,18,19,20,0,1,2,3,4,5,6,7,8,9,10,11,12,13,14,15,16,17,18,19,20,0,1,2,3,4,5,6,7,8,9,10,11,12,13,14,15,16,17,18,19,20,0,1,2,3,4,5,6,7,8,9,10,11,12,13,14,15,16,17,18,19,20,0,1,2,3,4,5,6,7,8,9,10,11,12,13,14,15,16,17,18,19,20,0,1,2,3,4,5,6,7,8,9,10,11,12,13,14,15,16,17,18,19,20,0,1,2,3,4,5,6,7,8,9,10,11,12,13,14,15,16,17,18,19,20,0,1,2,3,4,5,6,7,8,9,10,11,12,13,14,15,16,17,18,19,20,0,1,2,3,4,5,6,7,8,9,10,11,12,13,14,15,16,17,18,19,20,0,1,2,3,4,5,6,7,8,9,10,11,12,13,14,15,16,17,18,19,20,0,1,2,3,4,5,6,7,8,9,10,11,12,13,14,15,16,17,18,19,20,0,1,2,3,4,5,6,7,8,9,10,11,12,13,14,15,16,17,18,19,20,0,1,2,3,4,5,6,7,8,9,10,11,12,13,14,15,16,17,18,19,20,0,1,2,3,4,5,6,7,8,9,10,11,12,13,14,15,16,17,18,19,20,0,1,2,3,4,5,6,7,8,9,10,11,12,13,14,15,16,17,18,19,20,0,1,2,3,4,5,6,7,8,9,10,11,12,13,14,15,16,17,18,19,20,0,1,2,3,4,5,6,7,8,9,10,11,12,13,14,15,16,17,18,19,20,0,1,2,3,4,5,6,7,8,9,10,11,12,13,14,15,16,17,18,19,20,0,1,2,3,4,5,6,7,8,9,10,11,12,13,14,15,16,17,18,19,20,0,1,2,3,4,5,6,7,8,9,10,11,12,13,14,15,16,17,18,19,20],\"y\":[0,0,0,0,0,0,0,0,0,0,0,0,0,0,0,0,0,0,0,0,0,1,1,1,1,1,1,1,1,1,1,1,1,1,1,1,1,1,1,1,1,1,2,2,2,2,2,2,2,2,2,2,2,2,2,2,2,2,2,2,2,2,2,3,3,3,3,3,3,3,3,3,3,3,3,3,3,3,3,3,3,3,3,3,4,4,4,4,4,4,4,4,4,4,4,4,4,4,4,4,4,4,4,4,4,5,5,5,5,5,5,5,5,5,5,5,5,5,5,5,5,5,5,5,5,5,6,6,6,6,6,6,6,6,6,6,6,6,6,6,6,6,6,6,6,6,6,7,7,7,7,7,7,7,7,7,7,7,7,7,7,7,7,7,7,7,7,7,8,8,8,8,8,8,8,8,8,8,8,8,8,8,8,8,8,8,8,8,8,9,9,9,9,9,9,9,9,9,9,9,9,9,9,9,9,9,9,9,9,9,10,10,10,10,10,10,10,10,10,10,10,10,10,10,10,10,10,10,10,10,10,11,11,11,11,11,11,11,11,11,11,11,11,11,11,11,11,11,11,11,11,11,12,12,12,12,12,12,12,12,12,12,12,12,12,12,12,12,12,12,12,12,12,13,13,13,13,13,13,13,13,13,13,13,13,13,13,13,13,13,13,13,13,13,14,14,14,14,14,14,14,14,14,14,14,14,14,14,14,14,14,14,14,14,14,15,15,15,15,15,15,15,15,15,15,15,15,15,15,15,15,15,15,15,15,15,16,16,16,16,16,16,16,16,16,16,16,16,16,16,16,16,16,16,16,16,16,17,17,17,17,17,17,17,17,17,17,17,17,17,17,17,17,17,17,17,17,17,18,18,18,18,18,18,18,18,18,18,18,18,18,18,18,18,18,18,18,18,18,19,19,19,19,19,19,19,19,19,19,19,19,19,19,19,19,19,19,19,19,19,20,20,20,20,20,20,20,20,20,20,20,20,20,20,20,20,20,20,20,20,20],\"type\":\"scatter\",\"uid\":\"a838595a-215e-4e01-ba16-06fc902c7e6d\"},{\"colorscale\":[[0.0,\"rgb(255,245,235)\"],[0.125,\"rgb(254,230,206)\"],[0.25,\"rgb(253,208,162)\"],[0.375,\"rgb(253,174,107)\"],[0.5,\"rgb(253,141,60)\"],[0.625,\"rgb(241,105,19)\"],[0.75,\"rgb(217,72,1)\"],[0.875,\"rgb(166,54,3)\"],[1.0,\"rgb(127,39,4)\"]],\"hoverinfo\":\"skip\",\"showscale\":false,\"z\":[[83990,23128,13238,4035,5222,23385,5228,0,5870,4429,0,0,0,3044,0,0,3357,3100,1575,912,0],[0,0,0,0,0,0,0,0,0,0,0,0,0,0,0,0,0,0,0,51,2],[0,0,0,0,0,0,0,0,0,0,0,0,0,0,0,0,0,0,43,0,3],[0,0,0,0,0,0,0,0,0,0,0,0,0,0,0,0,0,63,0,0,8],[0,0,0,0,0,0,0,0,0,0,0,0,0,0,0,0,62,0,0,0,7],[0,0,0,0,0,0,0,0,0,0,0,0,0,0,0,0,0,0,0,0,61],[0,0,0,0,0,0,0,0,0,0,0,0,0,0,0,0,0,0,0,0,65],[0,0,0,0,0,0,0,0,0,0,0,0,0,53,0,0,0,0,0,0,1],[0,0,0,0,0,0,0,0,0,0,0,0,0,0,0,0,0,0,0,0,49],[0,0,0,0,0,0,0,0,0,0,0,0,0,0,0,0,0,0,0,0,59],[0,0,0,0,0,0,0,0,0,0,0,0,0,0,0,0,0,0,0,0,80],[0,0,0,0,0,0,0,0,0,65,0,0,0,0,0,0,0,0,0,0,8],[0,0,0,0,0,0,0,0,65,0,0,0,0,0,0,0,0,0,0,0,12],[0,0,0,0,0,0,0,0,0,0,0,0,0,0,0,0,0,0,0,0,69],[0,0,0,0,0,0,111,0,0,0,0,0,0,0,0,0,0,0,0,0,3],[0,0,0,0,0,83,0,0,0,0,0,0,0,0,0,0,0,0,0,0,8],[0,0,0,0,49,0,0,0,0,0,0,0,0,0,0,0,0,0,0,0,31],[0,0,0,134,0,0,0,0,0,0,0,0,0,0,0,0,0,0,0,0,5],[0,0,191,0,0,0,0,0,0,0,0,0,0,0,0,0,0,0,0,0,46],[0,177,0,0,0,0,0,0,0,0,0,0,0,0,0,0,0,0,0,0,32],[816,0,0,0,0,0,0,0,0,0,0,0,0,0,0,0,0,0,0,0,105]],\"zmax\":83990,\"zmin\":0,\"type\":\"heatmap\",\"uid\":\"4f29c808-a2d0-48f0-a249-4da823cc35a0\"},{\"colorbar\":{\"len\":1,\"lenmode\":\"fraction\"},\"colorscale\":[[0.0,\"rgb(255,245,235)\"],[0.125,\"rgb(254,230,206)\"],[0.25,\"rgb(253,208,162)\"],[0.375,\"rgb(253,174,107)\"],[0.5,\"rgb(253,141,60)\"],[0.625,\"rgb(241,105,19)\"],[0.75,\"rgb(217,72,1)\"],[0.875,\"rgb(166,54,3)\"],[1.0,\"rgb(127,39,4)\"]],\"hovertemplate\":\"<b>count: %{z}</b><br>truth: %{y}<br>predicted: %{x}<extra></extra>\",\"opacity\":0.25,\"z\":[[83990,23128,13238,4035,5222,23385,5228,0,5870,4429,0,0,0,3044,0,0,3357,3100,1575,912,0],[0,0,0,0,0,0,0,0,0,0,0,0,0,0,0,0,0,0,0,51,2],[0,0,0,0,0,0,0,0,0,0,0,0,0,0,0,0,0,0,43,0,3],[0,0,0,0,0,0,0,0,0,0,0,0,0,0,0,0,0,63,0,0,8],[0,0,0,0,0,0,0,0,0,0,0,0,0,0,0,0,62,0,0,0,7],[0,0,0,0,0,0,0,0,0,0,0,0,0,0,0,0,0,0,0,0,61],[0,0,0,0,0,0,0,0,0,0,0,0,0,0,0,0,0,0,0,0,65],[0,0,0,0,0,0,0,0,0,0,0,0,0,53,0,0,0,0,0,0,1],[0,0,0,0,0,0,0,0,0,0,0,0,0,0,0,0,0,0,0,0,49],[0,0,0,0,0,0,0,0,0,0,0,0,0,0,0,0,0,0,0,0,59],[0,0,0,0,0,0,0,0,0,0,0,0,0,0,0,0,0,0,0,0,80],[0,0,0,0,0,0,0,0,0,65,0,0,0,0,0,0,0,0,0,0,8],[0,0,0,0,0,0,0,0,65,0,0,0,0,0,0,0,0,0,0,0,12],[0,0,0,0,0,0,0,0,0,0,0,0,0,0,0,0,0,0,0,0,69],[0,0,0,0,0,0,111,0,0,0,0,0,0,0,0,0,0,0,0,0,3],[0,0,0,0,0,83,0,0,0,0,0,0,0,0,0,0,0,0,0,0,8],[0,0,0,0,49,0,0,0,0,0,0,0,0,0,0,0,0,0,0,0,31],[0,0,0,134,0,0,0,0,0,0,0,0,0,0,0,0,0,0,0,0,5],[0,0,191,0,0,0,0,0,0,0,0,0,0,0,0,0,0,0,0,0,46],[0,177,0,0,0,0,0,0,0,0,0,0,0,0,0,0,0,0,0,0,32],[816,0,0,0,0,0,0,0,0,0,0,0,0,0,0,0,0,0,0,0,105]],\"zmax\":83990,\"zmin\":0,\"type\":\"heatmap\",\"uid\":\"5828b359-dd18-497c-88fe-a7174d524c2d\"}],                        {\"clickmode\":\"event\",\"template\":{\"data\":{\"barpolar\":[{\"marker\":{\"line\":{\"color\":\"rgb(237,237,237)\",\"width\":0.5},\"pattern\":{\"fillmode\":\"overlay\",\"size\":10,\"solidity\":0.2}},\"type\":\"barpolar\"}],\"bar\":[{\"error_x\":{\"color\":\"rgb(51,51,51)\"},\"error_y\":{\"color\":\"rgb(51,51,51)\"},\"marker\":{\"line\":{\"color\":\"rgb(237,237,237)\",\"width\":0.5},\"pattern\":{\"fillmode\":\"overlay\",\"size\":10,\"solidity\":0.2}},\"type\":\"bar\"}],\"carpet\":[{\"aaxis\":{\"endlinecolor\":\"rgb(51,51,51)\",\"gridcolor\":\"white\",\"linecolor\":\"white\",\"minorgridcolor\":\"white\",\"startlinecolor\":\"rgb(51,51,51)\"},\"baxis\":{\"endlinecolor\":\"rgb(51,51,51)\",\"gridcolor\":\"white\",\"linecolor\":\"white\",\"minorgridcolor\":\"white\",\"startlinecolor\":\"rgb(51,51,51)\"},\"type\":\"carpet\"}],\"choropleth\":[{\"colorbar\":{\"outlinewidth\":0,\"tickcolor\":\"rgb(237,237,237)\",\"ticklen\":6,\"ticks\":\"inside\"},\"type\":\"choropleth\"}],\"contourcarpet\":[{\"colorbar\":{\"outlinewidth\":0,\"tickcolor\":\"rgb(237,237,237)\",\"ticklen\":6,\"ticks\":\"inside\"},\"type\":\"contourcarpet\"}],\"contour\":[{\"colorbar\":{\"outlinewidth\":0,\"tickcolor\":\"rgb(237,237,237)\",\"ticklen\":6,\"ticks\":\"inside\"},\"colorscale\":[[0,\"rgb(20,44,66)\"],[1,\"rgb(90,179,244)\"]],\"type\":\"contour\"}],\"heatmapgl\":[{\"colorbar\":{\"outlinewidth\":0,\"tickcolor\":\"rgb(237,237,237)\",\"ticklen\":6,\"ticks\":\"inside\"},\"colorscale\":[[0,\"rgb(20,44,66)\"],[1,\"rgb(90,179,244)\"]],\"type\":\"heatmapgl\"}],\"heatmap\":[{\"colorbar\":{\"outlinewidth\":0,\"tickcolor\":\"rgb(237,237,237)\",\"ticklen\":6,\"ticks\":\"inside\"},\"colorscale\":[[0,\"rgb(20,44,66)\"],[1,\"rgb(90,179,244)\"]],\"type\":\"heatmap\"}],\"histogram2dcontour\":[{\"colorbar\":{\"outlinewidth\":0,\"tickcolor\":\"rgb(237,237,237)\",\"ticklen\":6,\"ticks\":\"inside\"},\"colorscale\":[[0,\"rgb(20,44,66)\"],[1,\"rgb(90,179,244)\"]],\"type\":\"histogram2dcontour\"}],\"histogram2d\":[{\"colorbar\":{\"outlinewidth\":0,\"tickcolor\":\"rgb(237,237,237)\",\"ticklen\":6,\"ticks\":\"inside\"},\"colorscale\":[[0,\"rgb(20,44,66)\"],[1,\"rgb(90,179,244)\"]],\"type\":\"histogram2d\"}],\"histogram\":[{\"marker\":{\"pattern\":{\"fillmode\":\"overlay\",\"size\":10,\"solidity\":0.2}},\"type\":\"histogram\"}],\"mesh3d\":[{\"colorbar\":{\"outlinewidth\":0,\"tickcolor\":\"rgb(237,237,237)\",\"ticklen\":6,\"ticks\":\"inside\"},\"type\":\"mesh3d\"}],\"parcoords\":[{\"line\":{\"colorbar\":{\"outlinewidth\":0,\"tickcolor\":\"rgb(237,237,237)\",\"ticklen\":6,\"ticks\":\"inside\"}},\"type\":\"parcoords\"}],\"pie\":[{\"automargin\":true,\"type\":\"pie\"}],\"scatter3d\":[{\"line\":{\"colorbar\":{\"outlinewidth\":0,\"tickcolor\":\"rgb(237,237,237)\",\"ticklen\":6,\"ticks\":\"inside\"}},\"marker\":{\"colorbar\":{\"outlinewidth\":0,\"tickcolor\":\"rgb(237,237,237)\",\"ticklen\":6,\"ticks\":\"inside\"}},\"type\":\"scatter3d\"}],\"scattercarpet\":[{\"marker\":{\"colorbar\":{\"outlinewidth\":0,\"tickcolor\":\"rgb(237,237,237)\",\"ticklen\":6,\"ticks\":\"inside\"}},\"type\":\"scattercarpet\"}],\"scattergeo\":[{\"marker\":{\"colorbar\":{\"outlinewidth\":0,\"tickcolor\":\"rgb(237,237,237)\",\"ticklen\":6,\"ticks\":\"inside\"}},\"type\":\"scattergeo\"}],\"scattergl\":[{\"marker\":{\"colorbar\":{\"outlinewidth\":0,\"tickcolor\":\"rgb(237,237,237)\",\"ticklen\":6,\"ticks\":\"inside\"}},\"type\":\"scattergl\"}],\"scattermapbox\":[{\"marker\":{\"colorbar\":{\"outlinewidth\":0,\"tickcolor\":\"rgb(237,237,237)\",\"ticklen\":6,\"ticks\":\"inside\"}},\"type\":\"scattermapbox\"}],\"scatterpolargl\":[{\"marker\":{\"colorbar\":{\"outlinewidth\":0,\"tickcolor\":\"rgb(237,237,237)\",\"ticklen\":6,\"ticks\":\"inside\"}},\"type\":\"scatterpolargl\"}],\"scatterpolar\":[{\"marker\":{\"colorbar\":{\"outlinewidth\":0,\"tickcolor\":\"rgb(237,237,237)\",\"ticklen\":6,\"ticks\":\"inside\"}},\"type\":\"scatterpolar\"}],\"scatter\":[{\"marker\":{\"colorbar\":{\"outlinewidth\":0,\"tickcolor\":\"rgb(237,237,237)\",\"ticklen\":6,\"ticks\":\"inside\"}},\"type\":\"scatter\"}],\"scatterternary\":[{\"marker\":{\"colorbar\":{\"outlinewidth\":0,\"tickcolor\":\"rgb(237,237,237)\",\"ticklen\":6,\"ticks\":\"inside\"}},\"type\":\"scatterternary\"}],\"surface\":[{\"colorbar\":{\"outlinewidth\":0,\"tickcolor\":\"rgb(237,237,237)\",\"ticklen\":6,\"ticks\":\"inside\"},\"colorscale\":[[0,\"rgb(20,44,66)\"],[1,\"rgb(90,179,244)\"]],\"type\":\"surface\"}],\"table\":[{\"cells\":{\"fill\":{\"color\":\"rgb(237,237,237)\"},\"line\":{\"color\":\"white\"}},\"header\":{\"fill\":{\"color\":\"rgb(217,217,217)\"},\"line\":{\"color\":\"white\"}},\"type\":\"table\"}]},\"layout\":{\"annotationdefaults\":{\"arrowhead\":0,\"arrowwidth\":1},\"autotypenumbers\":\"strict\",\"coloraxis\":{\"colorbar\":{\"outlinewidth\":0,\"tickcolor\":\"rgb(237,237,237)\",\"ticklen\":6,\"ticks\":\"inside\"}},\"colorscale\":{\"sequential\":[[0,\"rgb(20,44,66)\"],[1,\"rgb(90,179,244)\"]],\"sequentialminus\":[[0,\"rgb(20,44,66)\"],[1,\"rgb(90,179,244)\"]]},\"colorway\":[\"#F8766D\",\"#A3A500\",\"#00BF7D\",\"#00B0F6\",\"#E76BF3\"],\"font\":{\"color\":\"rgb(51,51,51)\"},\"geo\":{\"bgcolor\":\"white\",\"lakecolor\":\"white\",\"landcolor\":\"rgb(237,237,237)\",\"showlakes\":true,\"showland\":true,\"subunitcolor\":\"white\"},\"hoverlabel\":{\"align\":\"left\"},\"hovermode\":\"closest\",\"paper_bgcolor\":\"white\",\"plot_bgcolor\":\"rgb(237,237,237)\",\"polar\":{\"angularaxis\":{\"gridcolor\":\"white\",\"linecolor\":\"white\",\"showgrid\":true,\"tickcolor\":\"rgb(51,51,51)\",\"ticks\":\"outside\"},\"bgcolor\":\"rgb(237,237,237)\",\"radialaxis\":{\"gridcolor\":\"white\",\"linecolor\":\"white\",\"showgrid\":true,\"tickcolor\":\"rgb(51,51,51)\",\"ticks\":\"outside\"}},\"scene\":{\"xaxis\":{\"backgroundcolor\":\"rgb(237,237,237)\",\"gridcolor\":\"white\",\"gridwidth\":2,\"linecolor\":\"white\",\"showbackground\":true,\"showgrid\":true,\"tickcolor\":\"rgb(51,51,51)\",\"ticks\":\"outside\",\"zerolinecolor\":\"white\"},\"yaxis\":{\"backgroundcolor\":\"rgb(237,237,237)\",\"gridcolor\":\"white\",\"gridwidth\":2,\"linecolor\":\"white\",\"showbackground\":true,\"showgrid\":true,\"tickcolor\":\"rgb(51,51,51)\",\"ticks\":\"outside\",\"zerolinecolor\":\"white\"},\"zaxis\":{\"backgroundcolor\":\"rgb(237,237,237)\",\"gridcolor\":\"white\",\"gridwidth\":2,\"linecolor\":\"white\",\"showbackground\":true,\"showgrid\":true,\"tickcolor\":\"rgb(51,51,51)\",\"ticks\":\"outside\",\"zerolinecolor\":\"white\"}},\"shapedefaults\":{\"fillcolor\":\"black\",\"line\":{\"width\":0},\"opacity\":0.3},\"ternary\":{\"aaxis\":{\"gridcolor\":\"white\",\"linecolor\":\"white\",\"showgrid\":true,\"tickcolor\":\"rgb(51,51,51)\",\"ticks\":\"outside\"},\"baxis\":{\"gridcolor\":\"white\",\"linecolor\":\"white\",\"showgrid\":true,\"tickcolor\":\"rgb(51,51,51)\",\"ticks\":\"outside\"},\"bgcolor\":\"rgb(237,237,237)\",\"caxis\":{\"gridcolor\":\"white\",\"linecolor\":\"white\",\"showgrid\":true,\"tickcolor\":\"rgb(51,51,51)\",\"ticks\":\"outside\"}},\"xaxis\":{\"automargin\":true,\"gridcolor\":\"white\",\"linecolor\":\"white\",\"showgrid\":true,\"tickcolor\":\"rgb(51,51,51)\",\"ticks\":\"outside\",\"title\":{\"standoff\":15},\"zerolinecolor\":\"white\"},\"yaxis\":{\"automargin\":true,\"gridcolor\":\"white\",\"linecolor\":\"white\",\"showgrid\":true,\"tickcolor\":\"rgb(51,51,51)\",\"ticks\":\"outside\",\"title\":{\"standoff\":15},\"zerolinecolor\":\"white\"}}},\"xaxis\":{\"constrain\":\"domain\",\"range\":[-0.5,20.5],\"tickmode\":\"array\",\"ticktext\":[\"person\",\"chair\",\"car\",\"dog\",\"bottle\",\"bird\",\"cat\",\"pottedplant\",\"boat\",\"sheep\",\"aeroplane\",\"tvmonitor\",\"sofa\",\"bicycle\",\"motorbike\",\"diningtable\",\"horse\",\"cow\",\"train\",\"bus\",\"(none)\"],\"tickvals\":[0,1,2,3,4,5,6,7,8,9,10,11,12,13,14,15,16,17,18,19,20]},\"yaxis\":{\"constrain\":\"domain\",\"range\":[-0.5,20.5],\"scaleanchor\":\"x\",\"scaleratio\":1,\"tickmode\":\"array\",\"ticktext\":[\"(none)\",\"bus\",\"train\",\"cow\",\"horse\",\"diningtable\",\"motorbike\",\"bicycle\",\"sofa\",\"tvmonitor\",\"aeroplane\",\"sheep\",\"boat\",\"pottedplant\",\"cat\",\"bird\",\"bottle\",\"dog\",\"car\",\"chair\",\"person\"],\"tickvals\":[0,1,2,3,4,5,6,7,8,9,10,11,12,13,14,15,16,17,18,19,20]},\"margin\":{\"r\":0,\"t\":30,\"l\":0,\"b\":0},\"title\":{}},                        {\"responsive\": true}                    ).then(function(){\n",
              "                            \n",
              "var gd = document.getElementById('0082424a-88fe-4240-a5c4-e953287aca38');\n",
              "var x = new MutationObserver(function (mutations, observer) {{\n",
              "        var display = window.getComputedStyle(gd).display;\n",
              "        if (!display || display === 'none') {{\n",
              "            console.log([gd, 'removed!']);\n",
              "            Plotly.purge(gd);\n",
              "            observer.disconnect();\n",
              "        }}\n",
              "}});\n",
              "\n",
              "// Listen for the removal of the full notebook cells\n",
              "var notebookContainer = gd.closest('#notebook-container');\n",
              "if (notebookContainer) {{\n",
              "    x.observe(notebookContainer, {childList: true});\n",
              "}}\n",
              "\n",
              "// Listen for the clearing of the current output cell\n",
              "var outputEl = gd.closest('.output');\n",
              "if (outputEl) {{\n",
              "    x.observe(outputEl, {childList: true});\n",
              "}}\n",
              "\n",
              "                        })                };                            </script>        </div>\n",
              "</body>\n",
              "</html>"
            ]
          },
          "metadata": {}
        }
      ]
    },
    {
      "cell_type": "markdown",
      "source": [
        "# Success cases"
      ],
      "metadata": {
        "id": "94tbVrDd6kiU"
      }
    },
    {
      "cell_type": "code",
      "source": [
        "# Only contains detections with confidence >= 0.75\n",
        "success_view_voc2012 = predictions_view_voc2012.filter_labels(\"ssd\", F(\"confidence\") > 0.75, only_matches=False)"
      ],
      "metadata": {
        "id": "5o7LGNt10tWQ"
      },
      "execution_count": null,
      "outputs": []
    },
    {
      "cell_type": "code",
      "source": [
        "# Print some information about the view\n",
        "print(success_view_voc2012)"
      ],
      "metadata": {
        "id": "FuV9EUFp0ur7"
      },
      "execution_count": null,
      "outputs": []
    },
    {
      "cell_type": "code",
      "source": [
        "session.view = success_view_voc2012"
      ],
      "metadata": {
        "id": "Hk1FKRcR0xU6"
      },
      "execution_count": null,
      "outputs": []
    },
    {
      "cell_type": "code",
      "source": [
        "session.freeze()  # screenshot the active App for sharing"
      ],
      "metadata": {
        "id": "kAJ2nHaT0yma"
      },
      "execution_count": null,
      "outputs": []
    },
    {
      "cell_type": "markdown",
      "source": [
        "# Failure cases"
      ],
      "metadata": {
        "id": "TdCZUSDv6nQ6"
      }
    },
    {
      "cell_type": "code",
      "source": [
        "# Only contains detections with confidence <= 0.3\n",
        "failure_view_voc2012 = predictions_view_voc2012.filter_labels(\"ssd\", F(\"confidence\") <= 0.3, only_matches=False)"
      ],
      "metadata": {
        "id": "PelS3ueW0z4C"
      },
      "execution_count": null,
      "outputs": []
    },
    {
      "cell_type": "code",
      "source": [
        "# Print some information about the view\n",
        "print(failure_view_voc2012)"
      ],
      "metadata": {
        "id": "KvH1a0v902Fs"
      },
      "execution_count": null,
      "outputs": []
    },
    {
      "cell_type": "code",
      "source": [
        "session.view = failure_view_voc2012"
      ],
      "metadata": {
        "id": "JNuuDxp-03bW"
      },
      "execution_count": null,
      "outputs": []
    },
    {
      "cell_type": "code",
      "source": [
        "session.freeze()  # screenshot the active App for sharing"
      ],
      "metadata": {
        "id": "izJCn2X304wc"
      },
      "execution_count": null,
      "outputs": []
    },
    {
      "cell_type": "code",
      "source": [],
      "metadata": {
        "id": "6WH0dJnL06E2"
      },
      "execution_count": null,
      "outputs": []
    }
  ]
}